{
  "nbformat": 4,
  "nbformat_minor": 0,
  "metadata": {
    "colab": {
      "name": "Practice_Case_study_NYC_BUS_case_study_updated.ipynb",
      "provenance": [],
      "collapsed_sections": [
        "Mf3yzxb1F4a_",
        "Kqmr1wF5F4bD",
        "aeZQoF5SF4bM"
      ]
    },
    "kernelspec": {
      "display_name": "Python 3",
      "language": "python",
      "name": "python3"
    },
    "language_info": {
      "codemirror_mode": {
        "name": "ipython",
        "version": 3
      },
      "file_extension": ".py",
      "mimetype": "text/x-python",
      "name": "python",
      "nbconvert_exporter": "python",
      "pygments_lexer": "ipython3",
      "version": "3.8.8"
    },
    "toc": {
      "base_numbering": 1,
      "nav_menu": {},
      "number_sections": true,
      "sideBar": true,
      "skip_h1_title": false,
      "title_cell": "Table of Contents",
      "title_sidebar": "Contents",
      "toc_cell": false,
      "toc_position": {},
      "toc_section_display": true,
      "toc_window_display": false
    },
    "varInspector": {
      "cols": {
        "lenName": 16,
        "lenType": 16,
        "lenVar": 40
      },
      "kernels_config": {
        "python": {
          "delete_cmd_postfix": "",
          "delete_cmd_prefix": "del ",
          "library": "var_list.py",
          "varRefreshCmd": "print(var_dic_list())"
        },
        "r": {
          "delete_cmd_postfix": ") ",
          "delete_cmd_prefix": "rm(",
          "library": "var_list.r",
          "varRefreshCmd": "cat(var_dic_list()) "
        }
      },
      "types_to_exclude": [
        "module",
        "function",
        "builtin_function_or_method",
        "instance",
        "_Feature"
      ],
      "window_display": false
    }
  },
  "cells": [
    {
      "cell_type": "markdown",
      "metadata": {
        "id": "fOe2N74aF4az"
      },
      "source": [
        "## Practice Project Predictive Analytics: New York City Bus Ride Duration Prediction\n",
        "-----------------\n",
        "## **Objective**\n",
        "-----------------\n",
        "\n",
        "- To Build a predictive model, for predicting the duration for the bus ride. \n",
        "- Use Automated feature engineering to create new features\n",
        "\n",
        "-----------------\n",
        "## **Dataset**\n",
        "-----------------\n",
        "\n",
        "The ``trips`` table has the following fields\n",
        "* ``id`` which uniquely identifies the trip\n",
        "* ``Transport_Service`` is the transport company - in our case study we have data from 4 different transport companies\n",
        "* ``pickup_datetime`` the time stamp for pickup\n",
        "* ``dropoff_datetime`` the time stamp for drop-off\n",
        "* ``passenger_count`` the number of passengers for the trip\n",
        "* ``trip_distance`` total distance of the trip in miles \n",
        "* ``pickup_longitude`` the longitude for pickup\n",
        "* ``pickup_latitude`` the latitude for pickup\n",
        "* ``dropoff_longitude``the longitude of dropoff \n",
        "* ``dropoff_latitude`` the latitude of dropoff\n",
        "* ``payment_type`` a numeric code signifying how the passenger paid for the trip. 1= Credit card 2= Cash 3= Unknown\n",
        "* ``trip_duration`` this is the duration we would like to predict using other fields \n",
        "* ``pickup_neighborhood`` a one or two letter id of the neighborhod where the trip started\n",
        "* ``dropoff_neighborhood`` a one or two letter id of the neighborhod where the trip ended\n",
        "\n",
        "\n",
        "### We will do the following steps:\n",
        "  * Install the dependencies\n",
        "  * Load the data as pandas dataframe\n",
        "  * Perform EDA on the dataset\n",
        "  * Build features with Deep Feature Synthesis using the [featuretools](https://featuretools.com) package. We will start with simple features and incrementally improve the feature definitions and examine the accuracy of the system"
      ]
    },
    {
      "cell_type": "code",
      "metadata": {
        "colab": {
          "base_uri": "https://localhost:8080/"
        },
        "id": "o7_IbLPwF4a2",
        "outputId": "394e2457-e684-478a-eaa7-077233da2c96"
      },
      "source": [
        "# Uncomment the code given below, and run the line of code to install featuretools library\n",
        "\n",
        "!pip install featuretools==0.27.0"
      ],
      "execution_count": 1,
      "outputs": [
        {
          "output_type": "stream",
          "name": "stdout",
          "text": [
            "Requirement already satisfied: featuretools==0.27.0 in /usr/local/lib/python3.7/dist-packages (0.27.0)\n",
            "Requirement already satisfied: distributed>=2.12.0 in /usr/local/lib/python3.7/dist-packages (from featuretools==0.27.0) (2.30.1)\n",
            "Requirement already satisfied: click>=7.0.0 in /usr/local/lib/python3.7/dist-packages (from featuretools==0.27.0) (7.1.2)\n",
            "Requirement already satisfied: pandas<2.0.0,>=1.2.0 in /usr/local/lib/python3.7/dist-packages (from featuretools==0.27.0) (1.3.4)\n",
            "Requirement already satisfied: numpy>=1.16.6 in /usr/local/lib/python3.7/dist-packages (from featuretools==0.27.0) (1.19.5)\n",
            "Requirement already satisfied: scipy>=1.3.2 in /usr/local/lib/python3.7/dist-packages (from featuretools==0.27.0) (1.4.1)\n",
            "Requirement already satisfied: dask[dataframe]>=2.12.0 in /usr/local/lib/python3.7/dist-packages (from featuretools==0.27.0) (2.12.0)\n",
            "Requirement already satisfied: psutil>=5.6.6 in /usr/local/lib/python3.7/dist-packages (from featuretools==0.27.0) (5.8.0)\n",
            "Requirement already satisfied: pyyaml>=5.4 in /usr/local/lib/python3.7/dist-packages (from featuretools==0.27.0) (6.0)\n",
            "Requirement already satisfied: cloudpickle>=0.4.0 in /usr/local/lib/python3.7/dist-packages (from featuretools==0.27.0) (2.0.0)\n",
            "Requirement already satisfied: tqdm>=4.32.0 in /usr/local/lib/python3.7/dist-packages (from featuretools==0.27.0) (4.62.3)\n",
            "Requirement already satisfied: toolz>=0.7.3 in /usr/local/lib/python3.7/dist-packages (from dask[dataframe]>=2.12.0->featuretools==0.27.0) (0.11.2)\n",
            "Requirement already satisfied: partd>=0.3.10 in /usr/local/lib/python3.7/dist-packages (from dask[dataframe]>=2.12.0->featuretools==0.27.0) (1.2.0)\n",
            "Requirement already satisfied: fsspec>=0.6.0 in /usr/local/lib/python3.7/dist-packages (from dask[dataframe]>=2.12.0->featuretools==0.27.0) (2021.11.0)\n",
            "Requirement already satisfied: msgpack>=0.6.0 in /usr/local/lib/python3.7/dist-packages (from distributed>=2.12.0->featuretools==0.27.0) (1.0.2)\n",
            "Requirement already satisfied: setuptools in /usr/local/lib/python3.7/dist-packages (from distributed>=2.12.0->featuretools==0.27.0) (57.4.0)\n",
            "Requirement already satisfied: zict>=0.1.3 in /usr/local/lib/python3.7/dist-packages (from distributed>=2.12.0->featuretools==0.27.0) (2.0.0)\n",
            "Requirement already satisfied: tblib>=1.6.0 in /usr/local/lib/python3.7/dist-packages (from distributed>=2.12.0->featuretools==0.27.0) (1.7.0)\n",
            "Requirement already satisfied: sortedcontainers!=2.0.0,!=2.0.1 in /usr/local/lib/python3.7/dist-packages (from distributed>=2.12.0->featuretools==0.27.0) (2.4.0)\n",
            "Requirement already satisfied: tornado>=5 in /usr/local/lib/python3.7/dist-packages (from distributed>=2.12.0->featuretools==0.27.0) (5.1.1)\n",
            "Requirement already satisfied: python-dateutil>=2.7.3 in /usr/local/lib/python3.7/dist-packages (from pandas<2.0.0,>=1.2.0->featuretools==0.27.0) (2.8.2)\n",
            "Requirement already satisfied: pytz>=2017.3 in /usr/local/lib/python3.7/dist-packages (from pandas<2.0.0,>=1.2.0->featuretools==0.27.0) (2018.9)\n",
            "Requirement already satisfied: locket in /usr/local/lib/python3.7/dist-packages (from partd>=0.3.10->dask[dataframe]>=2.12.0->featuretools==0.27.0) (0.2.1)\n",
            "Requirement already satisfied: six>=1.5 in /usr/local/lib/python3.7/dist-packages (from python-dateutil>=2.7.3->pandas<2.0.0,>=1.2.0->featuretools==0.27.0) (1.15.0)\n",
            "Requirement already satisfied: heapdict in /usr/local/lib/python3.7/dist-packages (from zict>=0.1.3->distributed>=2.12.0->featuretools==0.27.0) (1.0.1)\n"
          ]
        }
      ]
    },
    {
      "cell_type": "markdown",
      "metadata": {
        "id": "6dlJbpJPF4a3"
      },
      "source": [
        "#### Note: If !pip install featuretools doesn't work, please install using the anaconda prompt by typing the following command in anaconda prompt\n",
        "      conda install -c conda-forge featuretools==0.27.0"
      ]
    },
    {
      "cell_type": "markdown",
      "metadata": {
        "id": "4HxZxr_cF4a4"
      },
      "source": [
        "### Importing libraries"
      ]
    },
    {
      "cell_type": "code",
      "metadata": {
        "ExecuteTime": {
          "end_time": "2021-08-13T12:37:02.352935Z",
          "start_time": "2021-08-13T12:37:02.261186Z"
        },
        "colab": {
          "base_uri": "https://localhost:8080/"
        },
        "id": "rj9grLolCakF",
        "outputId": "bd98f682-0cd3-412d-fbb7-5cea070daba3"
      },
      "source": [
        "import pandas as pd\n",
        "import numpy as np\n",
        "import matplotlib.pyplot as plt\n",
        "import seaborn as sns\n",
        "\n",
        "#Feataurestools for feature engineering\n",
        "import featuretools as ft\n",
        "\n",
        "from sklearn.model_selection import train_test_split\n",
        "from sklearn.impute import SimpleImputer\n",
        "\n",
        "# Importing gradient boosting regressor, to make prediction\n",
        "from sklearn.metrics import r2_score\n",
        "from sklearn.linear_model import LinearRegression\n",
        "from sklearn.ensemble import RandomForestRegressor\n",
        "from sklearn.tree import DecisionTreeRegressor\n",
        "\n",
        "#importing primitives\n",
        "from featuretools.primitives import (Minute, Hour, Day, Month,\n",
        "                                     Weekday, IsWeekend, Count, Sum, Mean, Median, Std, Min, Max)\n",
        "\n",
        "print(ft.__version__)\n",
        "%load_ext autoreload\n",
        "%autoreload 2"
      ],
      "execution_count": 2,
      "outputs": [
        {
          "output_type": "stream",
          "name": "stdout",
          "text": [
            "0.27.0\n"
          ]
        }
      ]
    },
    {
      "cell_type": "code",
      "metadata": {
        "id": "qfSleNSWF4a5"
      },
      "source": [
        "def preview(df, n=5):\n",
        "    \"\"\"return n rows that have fewest number of nulls\"\"\"\n",
        "    order = df.isnull().sum(axis=1).sort_values().head(n).index\n",
        "    return df.loc[order]\n",
        "\n",
        "\n",
        "def feature_importances(model, feature_names, n=10):\n",
        "    importances = model.feature_importances_\n",
        "    zipped = sorted(zip(feature_names, importances), key=lambda x: -x[1])\n",
        "    for i, f in enumerate(zipped[:n]):\n",
        "        print(\"%d: Feature: %s, %.3f\" % (i+1, f[0], f[1]))\n",
        "\n",
        "\n",
        "def get_train_test_fm(feature_matrix, percentage):\n",
        "    nrows = feature_matrix.shape[0]\n",
        "    head = int(nrows * percentage)\n",
        "    tail = nrows-head\n",
        "    X_train = feature_matrix.head(head)\n",
        "    y_train = X_train['trip_duration']\n",
        "    X_train = X_train.drop(['trip_duration'], axis=1)\n",
        "    imp = SimpleImputer()\n",
        "    X_train = imp.fit_transform(X_train)\n",
        "    X_test = feature_matrix.tail(tail)\n",
        "    y_test = X_test['trip_duration']\n",
        "    X_test = X_test.drop(['trip_duration'], axis=1)\n",
        "    X_test = imp.transform(X_test)\n",
        "\n",
        "    return (X_train, y_train, X_test,y_test)\n",
        "\n",
        "def column_string(n):\n",
        "    string = \"\"\n",
        "    while n > 0:\n",
        "        n, remainder = divmod(n - 1, 26)\n",
        "        string = chr(65 + remainder) + string\n",
        "    return string\n",
        "\n",
        "def load_nyc_BUS_data():\n",
        "    trips = pd.read_csv('BUS_SERVICE.csv',\n",
        "                        parse_dates=[\"pickup_datetime\",\"dropoff_datetime\"],\n",
        "                        dtype={'vendor_id':\"category\",'passenger_count':'int64'},\n",
        "                        encoding='utf-8')\n",
        "    trips[\"payment_type\"] = trips[\"payment_type\"].apply(str)\n",
        "    trips = trips.dropna(axis=0, how='any', subset=['trip_duration'])\n",
        "\n",
        "    pickup_neighborhoods = pd.read_csv(\"pickup_neighborhoods.csv\", encoding='utf-8')\n",
        "    dropoff_neighborhoods = pd.read_csv(\"dropoff_neighborhoods.csv\", encoding='utf-8')\n",
        "\n",
        "    return trips, pickup_neighborhoods, dropoff_neighborhoods\n",
        "\n",
        "\n",
        "def compute_features(features, cutoff_time):\n",
        "    # shuffle so we don't see encoded features in the front or backs\n",
        "\n",
        "    np.random.shuffle(features)\n",
        "    feature_matrix = ft.calculate_feature_matrix(features,\n",
        "                                                 cutoff_time=cutoff_time,\n",
        "                                                 approximate='36d',\n",
        "                                                 verbose=True)\n",
        "    print(\"Finishing computing...\")\n",
        "    feature_matrix, features = ft.encode_features(feature_matrix, features,\n",
        "                                                  to_encode=[\"pickup_neighborhood\", \"dropoff_neighborhood\"],\n",
        "                                                  include_unknown=False)\n",
        "    return feature_matrix\n"
      ],
      "execution_count": 3,
      "outputs": []
    },
    {
      "cell_type": "markdown",
      "metadata": {
        "id": "mrf5HKhBF4a5"
      },
      "source": [
        "### Load the Datasets"
      ]
    },
    {
      "cell_type": "code",
      "metadata": {
        "ExecuteTime": {
          "end_time": "2021-07-15T12:40:47.210990Z",
          "start_time": "2021-07-15T12:40:41.965643Z"
        },
        "colab": {
          "base_uri": "https://localhost:8080/",
          "height": 557
        },
        "id": "UjG7KOXvF4a6",
        "scrolled": false,
        "outputId": "c72f7655-48b2-4677-8753-601ec5c77891"
      },
      "source": [
        "trips, pickup_neighborhoods, dropoff_neighborhoods = load_nyc_BUS_data()\n",
        "preview(trips, 10)"
      ],
      "execution_count": 4,
      "outputs": [
        {
          "output_type": "execute_result",
          "data": {
            "text/html": [
              "<div>\n",
              "<style scoped>\n",
              "    .dataframe tbody tr th:only-of-type {\n",
              "        vertical-align: middle;\n",
              "    }\n",
              "\n",
              "    .dataframe tbody tr th {\n",
              "        vertical-align: top;\n",
              "    }\n",
              "\n",
              "    .dataframe thead th {\n",
              "        text-align: right;\n",
              "    }\n",
              "</style>\n",
              "<table border=\"1\" class=\"dataframe\">\n",
              "  <thead>\n",
              "    <tr style=\"text-align: right;\">\n",
              "      <th></th>\n",
              "      <th>id</th>\n",
              "      <th>Transport_service</th>\n",
              "      <th>pickup_datetime</th>\n",
              "      <th>dropoff_datetime</th>\n",
              "      <th>passenger_count</th>\n",
              "      <th>trip_distance</th>\n",
              "      <th>pickup_longitude</th>\n",
              "      <th>pickup_latitude</th>\n",
              "      <th>dropoff_longitude</th>\n",
              "      <th>dropoff_latitude</th>\n",
              "      <th>payment_type</th>\n",
              "      <th>trip_duration</th>\n",
              "      <th>pickup_neighborhood</th>\n",
              "      <th>dropoff_neighborhood</th>\n",
              "    </tr>\n",
              "  </thead>\n",
              "  <tbody>\n",
              "    <tr>\n",
              "      <th>0</th>\n",
              "      <td>0</td>\n",
              "      <td>3</td>\n",
              "      <td>2019-01-01 00:00:00</td>\n",
              "      <td>2019-01-01 00:06:00</td>\n",
              "      <td>1</td>\n",
              "      <td>1.32</td>\n",
              "      <td>-73.961258</td>\n",
              "      <td>40.796200</td>\n",
              "      <td>-73.950050</td>\n",
              "      <td>40.787312</td>\n",
              "      <td>3</td>\n",
              "      <td>387</td>\n",
              "      <td>AH</td>\n",
              "      <td>C</td>\n",
              "    </tr>\n",
              "    <tr>\n",
              "      <th>997</th>\n",
              "      <td>997</td>\n",
              "      <td>4</td>\n",
              "      <td>2019-01-01 02:38:00</td>\n",
              "      <td>2019-01-01 02:52:00</td>\n",
              "      <td>3</td>\n",
              "      <td>5.57</td>\n",
              "      <td>-73.952347</td>\n",
              "      <td>40.824081</td>\n",
              "      <td>-73.996429</td>\n",
              "      <td>40.759918</td>\n",
              "      <td>1</td>\n",
              "      <td>828</td>\n",
              "      <td>AL</td>\n",
              "      <td>P</td>\n",
              "    </tr>\n",
              "    <tr>\n",
              "      <th>996</th>\n",
              "      <td>996</td>\n",
              "      <td>4</td>\n",
              "      <td>2019-01-01 02:38:00</td>\n",
              "      <td>2019-01-01 02:41:00</td>\n",
              "      <td>2</td>\n",
              "      <td>0.20</td>\n",
              "      <td>-73.980171</td>\n",
              "      <td>40.745308</td>\n",
              "      <td>-73.984192</td>\n",
              "      <td>40.745892</td>\n",
              "      <td>2</td>\n",
              "      <td>184</td>\n",
              "      <td>Y</td>\n",
              "      <td>AO</td>\n",
              "    </tr>\n",
              "    <tr>\n",
              "      <th>995</th>\n",
              "      <td>995</td>\n",
              "      <td>3</td>\n",
              "      <td>2019-01-01 02:38:00</td>\n",
              "      <td>2019-01-01 02:52:00</td>\n",
              "      <td>1</td>\n",
              "      <td>2.83</td>\n",
              "      <td>-73.991966</td>\n",
              "      <td>40.759331</td>\n",
              "      <td>-74.004707</td>\n",
              "      <td>40.724442</td>\n",
              "      <td>2</td>\n",
              "      <td>815</td>\n",
              "      <td>P</td>\n",
              "      <td>AB</td>\n",
              "    </tr>\n",
              "    <tr>\n",
              "      <th>994</th>\n",
              "      <td>994</td>\n",
              "      <td>2</td>\n",
              "      <td>2019-01-01 02:38:00</td>\n",
              "      <td>2019-01-01 02:49:00</td>\n",
              "      <td>2</td>\n",
              "      <td>2.48</td>\n",
              "      <td>-73.961441</td>\n",
              "      <td>40.694302</td>\n",
              "      <td>-73.959938</td>\n",
              "      <td>40.662540</td>\n",
              "      <td>1</td>\n",
              "      <td>655</td>\n",
              "      <td>V</td>\n",
              "      <td>AF</td>\n",
              "    </tr>\n",
              "    <tr>\n",
              "      <th>993</th>\n",
              "      <td>993</td>\n",
              "      <td>3</td>\n",
              "      <td>2019-01-01 02:38:00</td>\n",
              "      <td>2019-01-01 02:40:00</td>\n",
              "      <td>4</td>\n",
              "      <td>0.72</td>\n",
              "      <td>-73.974014</td>\n",
              "      <td>40.782967</td>\n",
              "      <td>-73.969894</td>\n",
              "      <td>40.788155</td>\n",
              "      <td>2</td>\n",
              "      <td>162</td>\n",
              "      <td>I</td>\n",
              "      <td>U</td>\n",
              "    </tr>\n",
              "    <tr>\n",
              "      <th>992</th>\n",
              "      <td>992</td>\n",
              "      <td>2</td>\n",
              "      <td>2019-01-01 02:38:00</td>\n",
              "      <td>2019-01-01 03:13:00</td>\n",
              "      <td>3</td>\n",
              "      <td>10.50</td>\n",
              "      <td>-73.956985</td>\n",
              "      <td>40.766346</td>\n",
              "      <td>-73.966179</td>\n",
              "      <td>40.674366</td>\n",
              "      <td>3</td>\n",
              "      <td>2131</td>\n",
              "      <td>K</td>\n",
              "      <td>V</td>\n",
              "    </tr>\n",
              "    <tr>\n",
              "      <th>991</th>\n",
              "      <td>991</td>\n",
              "      <td>4</td>\n",
              "      <td>2019-01-01 02:38:00</td>\n",
              "      <td>2019-01-01 02:52:00</td>\n",
              "      <td>3</td>\n",
              "      <td>6.80</td>\n",
              "      <td>-73.911682</td>\n",
              "      <td>40.775295</td>\n",
              "      <td>-73.903908</td>\n",
              "      <td>40.817696</td>\n",
              "      <td>2</td>\n",
              "      <td>898</td>\n",
              "      <td>W</td>\n",
              "      <td>S</td>\n",
              "    </tr>\n",
              "    <tr>\n",
              "      <th>990</th>\n",
              "      <td>990</td>\n",
              "      <td>1</td>\n",
              "      <td>2019-01-01 02:38:00</td>\n",
              "      <td>2019-01-01 03:22:00</td>\n",
              "      <td>1</td>\n",
              "      <td>13.80</td>\n",
              "      <td>-73.976143</td>\n",
              "      <td>40.775990</td>\n",
              "      <td>-73.940956</td>\n",
              "      <td>40.676426</td>\n",
              "      <td>2</td>\n",
              "      <td>2693</td>\n",
              "      <td>AV</td>\n",
              "      <td>AW</td>\n",
              "    </tr>\n",
              "    <tr>\n",
              "      <th>989</th>\n",
              "      <td>989</td>\n",
              "      <td>2</td>\n",
              "      <td>2019-01-01 02:38:00</td>\n",
              "      <td>2019-01-01 03:08:00</td>\n",
              "      <td>1</td>\n",
              "      <td>9.00</td>\n",
              "      <td>-73.981331</td>\n",
              "      <td>40.780663</td>\n",
              "      <td>-73.848824</td>\n",
              "      <td>40.722755</td>\n",
              "      <td>3</td>\n",
              "      <td>1841</td>\n",
              "      <td>AV</td>\n",
              "      <td>B</td>\n",
              "    </tr>\n",
              "  </tbody>\n",
              "</table>\n",
              "</div>"
            ],
            "text/plain": [
              "      id  Transport_service  ... pickup_neighborhood dropoff_neighborhood\n",
              "0      0                  3  ...                  AH                    C\n",
              "997  997                  4  ...                  AL                    P\n",
              "996  996                  4  ...                   Y                   AO\n",
              "995  995                  3  ...                   P                   AB\n",
              "994  994                  2  ...                   V                   AF\n",
              "993  993                  3  ...                   I                    U\n",
              "992  992                  2  ...                   K                    V\n",
              "991  991                  4  ...                   W                    S\n",
              "990  990                  1  ...                  AV                   AW\n",
              "989  989                  2  ...                  AV                    B\n",
              "\n",
              "[10 rows x 14 columns]"
            ]
          },
          "metadata": {},
          "execution_count": 4
        }
      ]
    },
    {
      "cell_type": "markdown",
      "metadata": {
        "id": "_YBezU14F4a6"
      },
      "source": [
        "### Display fist five rows"
      ]
    },
    {
      "cell_type": "code",
      "metadata": {
        "id": "rHQyRSkVF4a7"
      },
      "source": [
        "trips=trips.dropna()"
      ],
      "execution_count": 5,
      "outputs": []
    },
    {
      "cell_type": "code",
      "metadata": {
        "colab": {
          "base_uri": "https://localhost:8080/",
          "height": 313
        },
        "id": "i_-4FhrGF4a7",
        "outputId": "91f31a9b-6fc4-4afb-afb9-697bec7398b4"
      },
      "source": [
        "trips.head()"
      ],
      "execution_count": 6,
      "outputs": [
        {
          "output_type": "execute_result",
          "data": {
            "text/html": [
              "<div>\n",
              "<style scoped>\n",
              "    .dataframe tbody tr th:only-of-type {\n",
              "        vertical-align: middle;\n",
              "    }\n",
              "\n",
              "    .dataframe tbody tr th {\n",
              "        vertical-align: top;\n",
              "    }\n",
              "\n",
              "    .dataframe thead th {\n",
              "        text-align: right;\n",
              "    }\n",
              "</style>\n",
              "<table border=\"1\" class=\"dataframe\">\n",
              "  <thead>\n",
              "    <tr style=\"text-align: right;\">\n",
              "      <th></th>\n",
              "      <th>id</th>\n",
              "      <th>Transport_service</th>\n",
              "      <th>pickup_datetime</th>\n",
              "      <th>dropoff_datetime</th>\n",
              "      <th>passenger_count</th>\n",
              "      <th>trip_distance</th>\n",
              "      <th>pickup_longitude</th>\n",
              "      <th>pickup_latitude</th>\n",
              "      <th>dropoff_longitude</th>\n",
              "      <th>dropoff_latitude</th>\n",
              "      <th>payment_type</th>\n",
              "      <th>trip_duration</th>\n",
              "      <th>pickup_neighborhood</th>\n",
              "      <th>dropoff_neighborhood</th>\n",
              "    </tr>\n",
              "  </thead>\n",
              "  <tbody>\n",
              "    <tr>\n",
              "      <th>0</th>\n",
              "      <td>0</td>\n",
              "      <td>3</td>\n",
              "      <td>2019-01-01 00:00:00</td>\n",
              "      <td>2019-01-01 00:06:00</td>\n",
              "      <td>1</td>\n",
              "      <td>1.32</td>\n",
              "      <td>-73.961258</td>\n",
              "      <td>40.796200</td>\n",
              "      <td>-73.950050</td>\n",
              "      <td>40.787312</td>\n",
              "      <td>3</td>\n",
              "      <td>387</td>\n",
              "      <td>AH</td>\n",
              "      <td>C</td>\n",
              "    </tr>\n",
              "    <tr>\n",
              "      <th>1</th>\n",
              "      <td>1</td>\n",
              "      <td>1</td>\n",
              "      <td>2019-01-01 00:01:00</td>\n",
              "      <td>2019-01-01 00:27:00</td>\n",
              "      <td>3</td>\n",
              "      <td>13.70</td>\n",
              "      <td>-73.956169</td>\n",
              "      <td>40.707756</td>\n",
              "      <td>-73.939949</td>\n",
              "      <td>40.839558</td>\n",
              "      <td>3</td>\n",
              "      <td>1568</td>\n",
              "      <td>Z</td>\n",
              "      <td>S</td>\n",
              "    </tr>\n",
              "    <tr>\n",
              "      <th>2</th>\n",
              "      <td>2</td>\n",
              "      <td>4</td>\n",
              "      <td>2019-01-01 00:01:00</td>\n",
              "      <td>2019-01-01 00:21:00</td>\n",
              "      <td>1</td>\n",
              "      <td>5.30</td>\n",
              "      <td>-73.993103</td>\n",
              "      <td>40.752632</td>\n",
              "      <td>-73.953903</td>\n",
              "      <td>40.816540</td>\n",
              "      <td>1</td>\n",
              "      <td>1219</td>\n",
              "      <td>D</td>\n",
              "      <td>AL</td>\n",
              "    </tr>\n",
              "    <tr>\n",
              "      <th>3</th>\n",
              "      <td>3</td>\n",
              "      <td>2</td>\n",
              "      <td>2019-01-01 00:01:00</td>\n",
              "      <td>2019-01-01 00:16:00</td>\n",
              "      <td>2</td>\n",
              "      <td>7.19</td>\n",
              "      <td>-73.983009</td>\n",
              "      <td>40.731419</td>\n",
              "      <td>-73.930969</td>\n",
              "      <td>40.808460</td>\n",
              "      <td>2</td>\n",
              "      <td>873</td>\n",
              "      <td>AT</td>\n",
              "      <td>J</td>\n",
              "    </tr>\n",
              "    <tr>\n",
              "      <th>4</th>\n",
              "      <td>4</td>\n",
              "      <td>1</td>\n",
              "      <td>2019-01-01 00:02:00</td>\n",
              "      <td>2019-01-01 00:20:00</td>\n",
              "      <td>2</td>\n",
              "      <td>2.90</td>\n",
              "      <td>-74.004631</td>\n",
              "      <td>40.747234</td>\n",
              "      <td>-73.976395</td>\n",
              "      <td>40.777237</td>\n",
              "      <td>1</td>\n",
              "      <td>1091</td>\n",
              "      <td>AG</td>\n",
              "      <td>AV</td>\n",
              "    </tr>\n",
              "  </tbody>\n",
              "</table>\n",
              "</div>"
            ],
            "text/plain": [
              "   id  Transport_service  ... pickup_neighborhood dropoff_neighborhood\n",
              "0   0                  3  ...                  AH                    C\n",
              "1   1                  1  ...                   Z                    S\n",
              "2   2                  4  ...                   D                   AL\n",
              "3   3                  2  ...                  AT                    J\n",
              "4   4                  1  ...                  AG                   AV\n",
              "\n",
              "[5 rows x 14 columns]"
            ]
          },
          "metadata": {},
          "execution_count": 6
        }
      ]
    },
    {
      "cell_type": "markdown",
      "metadata": {
        "id": "PQDlRecmF4a7"
      },
      "source": [
        "### Display info of the dataset"
      ]
    },
    {
      "cell_type": "code",
      "metadata": {
        "colab": {
          "base_uri": "https://localhost:8080/"
        },
        "id": "gZH_IuLOF4a7",
        "outputId": "a764d00d-ee77-488e-cd63-3536221512f7"
      },
      "source": [
        "#checking the info of the dataset\n",
        "trips.info()"
      ],
      "execution_count": 7,
      "outputs": [
        {
          "output_type": "stream",
          "name": "stdout",
          "text": [
            "<class 'pandas.core.frame.DataFrame'>\n",
            "Int64Index: 1452 entries, 0 to 1499\n",
            "Data columns (total 14 columns):\n",
            " #   Column                Non-Null Count  Dtype         \n",
            "---  ------                --------------  -----         \n",
            " 0   id                    1452 non-null   int64         \n",
            " 1   Transport_service     1452 non-null   int64         \n",
            " 2   pickup_datetime       1452 non-null   datetime64[ns]\n",
            " 3   dropoff_datetime      1452 non-null   datetime64[ns]\n",
            " 4   passenger_count       1452 non-null   int64         \n",
            " 5   trip_distance         1452 non-null   float64       \n",
            " 6   pickup_longitude      1452 non-null   float64       \n",
            " 7   pickup_latitude       1452 non-null   float64       \n",
            " 8   dropoff_longitude     1452 non-null   float64       \n",
            " 9   dropoff_latitude      1452 non-null   float64       \n",
            " 10  payment_type          1452 non-null   object        \n",
            " 11  trip_duration         1452 non-null   int64         \n",
            " 12  pickup_neighborhood   1452 non-null   object        \n",
            " 13  dropoff_neighborhood  1452 non-null   object        \n",
            "dtypes: datetime64[ns](2), float64(5), int64(4), object(3)\n",
            "memory usage: 170.2+ KB\n"
          ]
        }
      ]
    },
    {
      "cell_type": "markdown",
      "metadata": {
        "id": "dZWZNdJ8F4a8"
      },
      "source": [
        "- There are 1452 non null values in the dataset."
      ]
    },
    {
      "cell_type": "markdown",
      "metadata": {
        "id": "v8wxrQJAF4a8"
      },
      "source": [
        "### Check the number of unique values in the dataset."
      ]
    },
    {
      "cell_type": "code",
      "metadata": {
        "colab": {
          "base_uri": "https://localhost:8080/"
        },
        "id": "wdR6mlThF4a8",
        "outputId": "d893d8f3-a726-4135-b056-d537afc38948"
      },
      "source": [
        "# Check the uniques values in each columns\n",
        "trips.nunique()"
      ],
      "execution_count": 8,
      "outputs": [
        {
          "output_type": "execute_result",
          "data": {
            "text/plain": [
              "id                      1452\n",
              "Transport_service          4\n",
              "pickup_datetime          259\n",
              "dropoff_datetime         274\n",
              "passenger_count            4\n",
              "trip_distance            531\n",
              "pickup_longitude        1338\n",
              "pickup_latitude         1418\n",
              "dropoff_longitude       1331\n",
              "dropoff_latitude        1416\n",
              "payment_type               3\n",
              "trip_duration            969\n",
              "pickup_neighborhood       47\n",
              "dropoff_neighborhood      49\n",
              "dtype: int64"
            ]
          },
          "metadata": {},
          "execution_count": 8
        }
      ]
    },
    {
      "cell_type": "markdown",
      "metadata": {
        "id": "VvJbhVJgF4a8"
      },
      "source": [
        "**Write your answers here:_____**\n",
        "- Transport_service has only 4 unique values, implies there are only 4 transport service companies.\n",
        "- Passenger count has 4 unique values and payment type have 3. \n",
        "- There are 49 neighborhood in the dataset, from the dropoff is happening. "
      ]
    },
    {
      "cell_type": "markdown",
      "metadata": {
        "id": "3zePEWGMF4a8"
      },
      "source": [
        "###  1 : Check summary statistics of the dataset"
      ]
    },
    {
      "cell_type": "code",
      "metadata": {
        "colab": {
          "base_uri": "https://localhost:8080/",
          "height": 332
        },
        "id": "oKlJMKhhF4a9",
        "outputId": "db28287f-a5b7-4939-8dea-8d7ca14fae19"
      },
      "source": [
        "#chekcing the descriptive stats of the data\n",
        "trips.describe().T"
      ],
      "execution_count": 9,
      "outputs": [
        {
          "output_type": "execute_result",
          "data": {
            "text/html": [
              "<div>\n",
              "<style scoped>\n",
              "    .dataframe tbody tr th:only-of-type {\n",
              "        vertical-align: middle;\n",
              "    }\n",
              "\n",
              "    .dataframe tbody tr th {\n",
              "        vertical-align: top;\n",
              "    }\n",
              "\n",
              "    .dataframe thead th {\n",
              "        text-align: right;\n",
              "    }\n",
              "</style>\n",
              "<table border=\"1\" class=\"dataframe\">\n",
              "  <thead>\n",
              "    <tr style=\"text-align: right;\">\n",
              "      <th></th>\n",
              "      <th>count</th>\n",
              "      <th>mean</th>\n",
              "      <th>std</th>\n",
              "      <th>min</th>\n",
              "      <th>25%</th>\n",
              "      <th>50%</th>\n",
              "      <th>75%</th>\n",
              "      <th>max</th>\n",
              "    </tr>\n",
              "  </thead>\n",
              "  <tbody>\n",
              "    <tr>\n",
              "      <th>id</th>\n",
              "      <td>1452.0</td>\n",
              "      <td>749.218320</td>\n",
              "      <td>434.555493</td>\n",
              "      <td>0.000000</td>\n",
              "      <td>369.750000</td>\n",
              "      <td>749.500000</td>\n",
              "      <td>1125.250000</td>\n",
              "      <td>1499.000000</td>\n",
              "    </tr>\n",
              "    <tr>\n",
              "      <th>Transport_service</th>\n",
              "      <td>1452.0</td>\n",
              "      <td>2.488292</td>\n",
              "      <td>1.123890</td>\n",
              "      <td>1.000000</td>\n",
              "      <td>1.000000</td>\n",
              "      <td>2.000000</td>\n",
              "      <td>4.000000</td>\n",
              "      <td>4.000000</td>\n",
              "    </tr>\n",
              "    <tr>\n",
              "      <th>passenger_count</th>\n",
              "      <td>1452.0</td>\n",
              "      <td>2.506198</td>\n",
              "      <td>1.111603</td>\n",
              "      <td>1.000000</td>\n",
              "      <td>2.000000</td>\n",
              "      <td>2.000000</td>\n",
              "      <td>4.000000</td>\n",
              "      <td>4.000000</td>\n",
              "    </tr>\n",
              "    <tr>\n",
              "      <th>trip_distance</th>\n",
              "      <td>1452.0</td>\n",
              "      <td>3.173320</td>\n",
              "      <td>2.798477</td>\n",
              "      <td>0.000000</td>\n",
              "      <td>1.300000</td>\n",
              "      <td>2.250000</td>\n",
              "      <td>4.260000</td>\n",
              "      <td>17.990000</td>\n",
              "    </tr>\n",
              "    <tr>\n",
              "      <th>pickup_longitude</th>\n",
              "      <td>1452.0</td>\n",
              "      <td>-73.973295</td>\n",
              "      <td>0.025778</td>\n",
              "      <td>-74.017311</td>\n",
              "      <td>-73.989311</td>\n",
              "      <td>-73.979614</td>\n",
              "      <td>-73.961092</td>\n",
              "      <td>-73.781807</td>\n",
              "    </tr>\n",
              "    <tr>\n",
              "      <th>pickup_latitude</th>\n",
              "      <td>1452.0</td>\n",
              "      <td>40.750311</td>\n",
              "      <td>0.029513</td>\n",
              "      <td>40.638889</td>\n",
              "      <td>40.733079</td>\n",
              "      <td>40.751900</td>\n",
              "      <td>40.768478</td>\n",
              "      <td>40.847500</td>\n",
              "    </tr>\n",
              "    <tr>\n",
              "      <th>dropoff_longitude</th>\n",
              "      <td>1452.0</td>\n",
              "      <td>-73.965157</td>\n",
              "      <td>0.034889</td>\n",
              "      <td>-74.024834</td>\n",
              "      <td>-73.988117</td>\n",
              "      <td>-73.974369</td>\n",
              "      <td>-73.950407</td>\n",
              "      <td>-73.770943</td>\n",
              "    </tr>\n",
              "    <tr>\n",
              "      <th>dropoff_latitude</th>\n",
              "      <td>1452.0</td>\n",
              "      <td>40.750691</td>\n",
              "      <td>0.038322</td>\n",
              "      <td>40.633560</td>\n",
              "      <td>40.729924</td>\n",
              "      <td>40.751728</td>\n",
              "      <td>40.774967</td>\n",
              "      <td>40.848629</td>\n",
              "    </tr>\n",
              "    <tr>\n",
              "      <th>trip_duration</th>\n",
              "      <td>1452.0</td>\n",
              "      <td>828.261019</td>\n",
              "      <td>528.279643</td>\n",
              "      <td>18.000000</td>\n",
              "      <td>428.000000</td>\n",
              "      <td>708.000000</td>\n",
              "      <td>1116.500000</td>\n",
              "      <td>3201.000000</td>\n",
              "    </tr>\n",
              "  </tbody>\n",
              "</table>\n",
              "</div>"
            ],
            "text/plain": [
              "                    count        mean  ...          75%          max\n",
              "id                 1452.0  749.218320  ...  1125.250000  1499.000000\n",
              "Transport_service  1452.0    2.488292  ...     4.000000     4.000000\n",
              "passenger_count    1452.0    2.506198  ...     4.000000     4.000000\n",
              "trip_distance      1452.0    3.173320  ...     4.260000    17.990000\n",
              "pickup_longitude   1452.0  -73.973295  ...   -73.961092   -73.781807\n",
              "pickup_latitude    1452.0   40.750311  ...    40.768478    40.847500\n",
              "dropoff_longitude  1452.0  -73.965157  ...   -73.950407   -73.770943\n",
              "dropoff_latitude   1452.0   40.750691  ...    40.774967    40.848629\n",
              "trip_duration      1452.0  828.261019  ...  1116.500000  3201.000000\n",
              "\n",
              "[9 rows x 8 columns]"
            ]
          },
          "metadata": {},
          "execution_count": 9
        }
      ]
    },
    {
      "cell_type": "markdown",
      "metadata": {
        "id": "VSPfXp6SF4a9"
      },
      "source": [
        "**Write your answers here:_____**\n",
        "- The median and 75% of the passenger count is 2 and  4 respectively. \n",
        "- Average trip distance is 3.17km, with a maximum value of 18km and Minimum for trip distance is 0.\n",
        "- Average trip duration is 829 sec. "
      ]
    },
    {
      "cell_type": "markdown",
      "metadata": {
        "id": "wFohKubJF4a9"
      },
      "source": [
        "#### Checking for the rows for which trip_distance is 0"
      ]
    },
    {
      "cell_type": "code",
      "metadata": {
        "colab": {
          "base_uri": "https://localhost:8080/",
          "height": 264
        },
        "id": "NKBmknLmF4a9",
        "outputId": "85480578-43f6-45a5-c561-758af1848c83"
      },
      "source": [
        "#Chekcing the rows where trip distance is 0\n",
        "trips[trips['trip_distance']==0]"
      ],
      "execution_count": 10,
      "outputs": [
        {
          "output_type": "execute_result",
          "data": {
            "text/html": [
              "<div>\n",
              "<style scoped>\n",
              "    .dataframe tbody tr th:only-of-type {\n",
              "        vertical-align: middle;\n",
              "    }\n",
              "\n",
              "    .dataframe tbody tr th {\n",
              "        vertical-align: top;\n",
              "    }\n",
              "\n",
              "    .dataframe thead th {\n",
              "        text-align: right;\n",
              "    }\n",
              "</style>\n",
              "<table border=\"1\" class=\"dataframe\">\n",
              "  <thead>\n",
              "    <tr style=\"text-align: right;\">\n",
              "      <th></th>\n",
              "      <th>id</th>\n",
              "      <th>Transport_service</th>\n",
              "      <th>pickup_datetime</th>\n",
              "      <th>dropoff_datetime</th>\n",
              "      <th>passenger_count</th>\n",
              "      <th>trip_distance</th>\n",
              "      <th>pickup_longitude</th>\n",
              "      <th>pickup_latitude</th>\n",
              "      <th>dropoff_longitude</th>\n",
              "      <th>dropoff_latitude</th>\n",
              "      <th>payment_type</th>\n",
              "      <th>trip_duration</th>\n",
              "      <th>pickup_neighborhood</th>\n",
              "      <th>dropoff_neighborhood</th>\n",
              "    </tr>\n",
              "  </thead>\n",
              "  <tbody>\n",
              "    <tr>\n",
              "      <th>880</th>\n",
              "      <td>880</td>\n",
              "      <td>2</td>\n",
              "      <td>2019-01-01 02:15:00</td>\n",
              "      <td>2019-01-01 02:16:00</td>\n",
              "      <td>4</td>\n",
              "      <td>0.0</td>\n",
              "      <td>-74.002586</td>\n",
              "      <td>40.750298</td>\n",
              "      <td>-74.002861</td>\n",
              "      <td>40.750446</td>\n",
              "      <td>2</td>\n",
              "      <td>36</td>\n",
              "      <td>AG</td>\n",
              "      <td>AG</td>\n",
              "    </tr>\n",
              "    <tr>\n",
              "      <th>1116</th>\n",
              "      <td>1116</td>\n",
              "      <td>1</td>\n",
              "      <td>2019-01-01 03:01:00</td>\n",
              "      <td>2019-01-01 03:03:00</td>\n",
              "      <td>1</td>\n",
              "      <td>0.0</td>\n",
              "      <td>-73.987831</td>\n",
              "      <td>40.728558</td>\n",
              "      <td>-73.988747</td>\n",
              "      <td>40.727280</td>\n",
              "      <td>3</td>\n",
              "      <td>151</td>\n",
              "      <td>H</td>\n",
              "      <td>H</td>\n",
              "    </tr>\n",
              "    <tr>\n",
              "      <th>1455</th>\n",
              "      <td>1455</td>\n",
              "      <td>1</td>\n",
              "      <td>2019-01-01 04:09:00</td>\n",
              "      <td>2019-01-01 04:10:00</td>\n",
              "      <td>1</td>\n",
              "      <td>0.0</td>\n",
              "      <td>-73.985893</td>\n",
              "      <td>40.763649</td>\n",
              "      <td>-73.985741</td>\n",
              "      <td>40.763672</td>\n",
              "      <td>2</td>\n",
              "      <td>80</td>\n",
              "      <td>AR</td>\n",
              "      <td>AR</td>\n",
              "    </tr>\n",
              "    <tr>\n",
              "      <th>1488</th>\n",
              "      <td>1488</td>\n",
              "      <td>2</td>\n",
              "      <td>2019-01-01 04:16:00</td>\n",
              "      <td>2019-01-01 04:16:00</td>\n",
              "      <td>3</td>\n",
              "      <td>0.0</td>\n",
              "      <td>-74.014198</td>\n",
              "      <td>40.709988</td>\n",
              "      <td>-74.014198</td>\n",
              "      <td>40.709988</td>\n",
              "      <td>2</td>\n",
              "      <td>18</td>\n",
              "      <td>AU</td>\n",
              "      <td>AU</td>\n",
              "    </tr>\n",
              "  </tbody>\n",
              "</table>\n",
              "</div>"
            ],
            "text/plain": [
              "        id  Transport_service  ... pickup_neighborhood dropoff_neighborhood\n",
              "880    880                  2  ...                  AG                   AG\n",
              "1116  1116                  1  ...                   H                    H\n",
              "1455  1455                  1  ...                  AR                   AR\n",
              "1488  1488                  2  ...                  AU                   AU\n",
              "\n",
              "[4 rows x 14 columns]"
            ]
          },
          "metadata": {},
          "execution_count": 10
        }
      ]
    },
    {
      "cell_type": "markdown",
      "metadata": {
        "id": "04iy3xxmF4a9"
      },
      "source": [
        "**Write your answers here:_____**\n",
        "- We can observe that, where trip distance is 0 trip duration is not 0, hence we can replace those values. \n",
        "- There are 4 such rows"
      ]
    },
    {
      "cell_type": "markdown",
      "metadata": {
        "id": "7Zcaj-LQF4a-"
      },
      "source": [
        "#### Replacing the 0 values with median of the trip distance"
      ]
    },
    {
      "cell_type": "code",
      "metadata": {
        "id": "GhdLUSE4F4a-"
      },
      "source": [
        "trips['trip_distance']=trips['trip_distance'].replace(0,trips['trip_distance'].median())"
      ],
      "execution_count": 11,
      "outputs": []
    },
    {
      "cell_type": "code",
      "metadata": {
        "colab": {
          "base_uri": "https://localhost:8080/"
        },
        "id": "m7mtt5bAF4a-",
        "outputId": "f0365716-933f-4fe3-d52a-1959ce81cfba"
      },
      "source": [
        "trips[trips['trip_distance']==0].count()"
      ],
      "execution_count": 12,
      "outputs": [
        {
          "output_type": "execute_result",
          "data": {
            "text/plain": [
              "id                      0\n",
              "Transport_service       0\n",
              "pickup_datetime         0\n",
              "dropoff_datetime        0\n",
              "passenger_count         0\n",
              "trip_distance           0\n",
              "pickup_longitude        0\n",
              "pickup_latitude         0\n",
              "dropoff_longitude       0\n",
              "dropoff_latitude        0\n",
              "payment_type            0\n",
              "trip_duration           0\n",
              "pickup_neighborhood     0\n",
              "dropoff_neighborhood    0\n",
              "dtype: int64"
            ]
          },
          "metadata": {},
          "execution_count": 12
        }
      ]
    },
    {
      "cell_type": "code",
      "metadata": {
        "id": "y16RaDuaF4a-"
      },
      "source": [
        "trips['trip_duration']=trips['trip_duration'].replace(0,trips['trip_duration'].median())"
      ],
      "execution_count": 13,
      "outputs": []
    },
    {
      "cell_type": "code",
      "metadata": {
        "colab": {
          "base_uri": "https://localhost:8080/"
        },
        "id": "PwG4Q7VgF4a-",
        "outputId": "a2ca6d3e-aeb0-4c5d-bbb2-d91ab44cf928"
      },
      "source": [
        "trips[trips['trip_duration']==0].count()"
      ],
      "execution_count": 14,
      "outputs": [
        {
          "output_type": "execute_result",
          "data": {
            "text/plain": [
              "id                      0\n",
              "Transport_service       0\n",
              "pickup_datetime         0\n",
              "dropoff_datetime        0\n",
              "passenger_count         0\n",
              "trip_distance           0\n",
              "pickup_longitude        0\n",
              "pickup_latitude         0\n",
              "dropoff_longitude       0\n",
              "dropoff_latitude        0\n",
              "payment_type            0\n",
              "trip_duration           0\n",
              "pickup_neighborhood     0\n",
              "dropoff_neighborhood    0\n",
              "dtype: int64"
            ]
          },
          "metadata": {},
          "execution_count": 14
        }
      ]
    },
    {
      "cell_type": "markdown",
      "metadata": {
        "id": "Mf3yzxb1F4a_"
      },
      "source": [
        "###  2: Univariate Analysis"
      ]
    },
    {
      "cell_type": "markdown",
      "metadata": {
        "id": "OBv_CnrOF4a_"
      },
      "source": [
        "###  2.1: Build histogram for numerical columns"
      ]
    },
    {
      "cell_type": "code",
      "metadata": {
        "colab": {
          "base_uri": "https://localhost:8080/",
          "height": 716
        },
        "id": "vrQdvZCOF4a_",
        "outputId": "af5f20b4-ed60-4872-bb06-e83c5512ec52"
      },
      "source": [
        "trips.hist(figsize=(12,12))\n",
        "plt.show()"
      ],
      "execution_count": 15,
      "outputs": [
        {
          "output_type": "display_data",
          "data": {
            "image/png": "[encoded data removed]",
            "text/plain": [
              "<Figure size 864x864 with 12 Axes>"
            ]
          },
          "metadata": {
            "needs_background": "light"
          }
        }
      ]
    },
    {
      "cell_type": "markdown",
      "metadata": {
        "id": "_rEJwQ_oF4a_"
      },
      "source": [
        "**Write your answers here:_____**\n",
        "- Pickup latitude,  dropoff latitude are nearly normal distribution, while  pickup longitude,dropoff longitude  are a bit right skewed.\n",
        "- Trip distance seem to have some outlier, which we can investigate through boxplot. \n",
        "- trip duration is also rightly skewed. "
      ]
    },
    {
      "cell_type": "code",
      "metadata": {
        "colab": {
          "base_uri": "https://localhost:8080/",
          "height": 335
        },
        "id": "gPB6nlfSF4a_",
        "outputId": "e0476b0a-6b92-4d6b-afc7-306cec0bdd80"
      },
      "source": [
        "sns.boxplot(trips['trip_distance'])\n",
        "plt.show()"
      ],
      "execution_count": 16,
      "outputs": [
        {
          "output_type": "stream",
          "name": "stderr",
          "text": [
            "/usr/local/lib/python3.7/dist-packages/seaborn/_decorators.py:43: FutureWarning: Pass the following variable as a keyword arg: x. From version 0.12, the only valid positional argument will be `data`, and passing other arguments without an explicit keyword will result in an error or misinterpretation.\n",
            "  FutureWarning\n"
          ]
        },
        {
          "output_type": "display_data",
          "data": {
            "image/png": "[encoded data removed]",
            "text/plain": [
              "<Figure size 432x288 with 1 Axes>"
            ]
          },
          "metadata": {
            "needs_background": "light"
          }
        }
      ]
    },
    {
      "cell_type": "markdown",
      "metadata": {
        "id": "_TzLivciF4a_"
      },
      "source": [
        "- We can see there is an extreme outlier in the dataset, we drop investigate it further"
      ]
    },
    {
      "cell_type": "markdown",
      "metadata": {
        "id": "3f11ckdWF4bA"
      },
      "source": [
        "###  2.2 Plotting countplot for Passenger_count (1 Marks)"
      ]
    },
    {
      "cell_type": "code",
      "metadata": {
        "colab": {
          "base_uri": "https://localhost:8080/",
          "height": 392
        },
        "id": "Xba4Zoh6F4bA",
        "outputId": "7cf7865c-5898-43c1-b4fa-39336fe61fa3"
      },
      "source": [
        "import seaborn as sns\n",
        "plt.figure(figsize=(10,5))\n",
        "sns.countplot(trips.passenger_count)\n",
        "plt.show()"
      ],
      "execution_count": 17,
      "outputs": [
        {
          "output_type": "stream",
          "name": "stderr",
          "text": [
            "/usr/local/lib/python3.7/dist-packages/seaborn/_decorators.py:43: FutureWarning: Pass the following variable as a keyword arg: x. From version 0.12, the only valid positional argument will be `data`, and passing other arguments without an explicit keyword will result in an error or misinterpretation.\n",
            "  FutureWarning\n"
          ]
        },
        {
          "output_type": "display_data",
          "data": {
            "image/png": "[encoded data removed]",
            "text/plain": [
              "<Figure size 720x360 with 1 Axes>"
            ]
          },
          "metadata": {
            "needs_background": "light"
          }
        }
      ]
    },
    {
      "cell_type": "code",
      "metadata": {
        "colab": {
          "base_uri": "https://localhost:8080/"
        },
        "id": "oqaHdmlPF4bA",
        "outputId": "e094f6cb-58c0-41fb-b4a6-f6ba1e8b0f17"
      },
      "source": [
        "trips.passenger_count.value_counts(normalize=True)"
      ],
      "execution_count": 18,
      "outputs": [
        {
          "output_type": "execute_result",
          "data": {
            "text/plain": [
              "2    0.263085\n",
              "4    0.251377\n",
              "3    0.244490\n",
              "1    0.241047\n",
              "Name: passenger_count, dtype: float64"
            ]
          },
          "metadata": {},
          "execution_count": 18
        }
      ]
    },
    {
      "cell_type": "markdown",
      "metadata": {
        "id": "E7JQYcBhF4bA"
      },
      "source": [
        "**Write your answers here:_____**\n",
        "- The distribution of the passenger count is nearly same."
      ]
    },
    {
      "cell_type": "markdown",
      "metadata": {
        "id": "T1JjC55EF4bA"
      },
      "source": [
        "####  2.3 Plotting countplot for pickup_neighborhood and dropoff_neighborhood (2 Marks)"
      ]
    },
    {
      "cell_type": "code",
      "metadata": {
        "colab": {
          "base_uri": "https://localhost:8080/",
          "height": 506
        },
        "id": "vmWX-x9iF4bA",
        "outputId": "1d64cf91-fd0e-45ea-c719-218cf1274fbf"
      },
      "source": [
        "trips.pickup_neighborhood.value_counts().sort_values(ascending=False).plot(kind='bar' ,figsize=(20,8))"
      ],
      "execution_count": 19,
      "outputs": [
        {
          "output_type": "execute_result",
          "data": {
            "text/plain": [
              "<matplotlib.axes._subplots.AxesSubplot at 0x7f7fafbffad0>"
            ]
          },
          "metadata": {},
          "execution_count": 19
        },
        {
          "output_type": "display_data",
          "data": {
            "image/png": "[encoded data removed]",
            "text/plain": [
              "<Figure size 1440x576 with 1 Axes>"
            ]
          },
          "metadata": {
            "needs_background": "light"
          }
        }
      ]
    },
    {
      "cell_type": "code",
      "metadata": {
        "colab": {
          "base_uri": "https://localhost:8080/",
          "height": 506
        },
        "id": "psyg8gmEF4bA",
        "outputId": "bbc525f5-87be-4474-df91-a123a67bcdeb"
      },
      "source": [
        "trips.dropoff_neighborhood.value_counts().sort_values(ascending=False).plot(kind='bar' ,figsize=(20,8))"
      ],
      "execution_count": 20,
      "outputs": [
        {
          "output_type": "execute_result",
          "data": {
            "text/plain": [
              "<matplotlib.axes._subplots.AxesSubplot at 0x7f7fafade590>"
            ]
          },
          "metadata": {},
          "execution_count": 20
        },
        {
          "output_type": "display_data",
          "data": {
            "image/png": "[encoded data removed]",
            "text/plain": [
              "<Figure size 1440x576 with 1 Axes>"
            ]
          },
          "metadata": {
            "needs_background": "light"
          }
        }
      ]
    },
    {
      "cell_type": "markdown",
      "metadata": {
        "id": "PQzSPDFZF4bA"
      },
      "source": [
        "**Write your answers here:_____**\n",
        "- Most of the pickup and dropoff are from area AT,AD,AM implies these are are the most busy in the city. \n",
        "- Areas like T,G are some areas from where very less number of pickups and dropoff are happening. "
      ]
    },
    {
      "cell_type": "markdown",
      "metadata": {
        "id": "NqzWhCDGF4bB"
      },
      "source": [
        "### Bivariate analysis"
      ]
    },
    {
      "cell_type": "markdown",
      "metadata": {
        "id": "FmPCc2UAF4bB"
      },
      "source": [
        "#### Plot a scatter plot for trip distance and trip duration"
      ]
    },
    {
      "cell_type": "code",
      "metadata": {
        "colab": {
          "base_uri": "https://localhost:8080/",
          "height": 352
        },
        "id": "nMUcIKoMF4bB",
        "outputId": "2f5eda84-5c7c-4cb7-df8a-0c6e74ea2ca0"
      },
      "source": [
        "sns.scatterplot(trips['trip_distance'],trips['trip_duration'])"
      ],
      "execution_count": 21,
      "outputs": [
        {
          "output_type": "stream",
          "name": "stderr",
          "text": [
            "/usr/local/lib/python3.7/dist-packages/seaborn/_decorators.py:43: FutureWarning: Pass the following variables as keyword args: x, y. From version 0.12, the only valid positional argument will be `data`, and passing other arguments without an explicit keyword will result in an error or misinterpretation.\n",
            "  FutureWarning\n"
          ]
        },
        {
          "output_type": "execute_result",
          "data": {
            "text/plain": [
              "<matplotlib.axes._subplots.AxesSubplot at 0x7f7faf8e3750>"
            ]
          },
          "metadata": {},
          "execution_count": 21
        },
        {
          "output_type": "display_data",
          "data": {
            "image/png": "[encoded data removed]",
            "text/plain": [
              "<Figure size 432x288 with 1 Axes>"
            ]
          },
          "metadata": {
            "needs_background": "light"
          }
        }
      ]
    },
    {
      "cell_type": "markdown",
      "metadata": {
        "id": "mIeqSFS4F4bC"
      },
      "source": [
        "- There is strong positive correlation between trip_distance and trip_duration."
      ]
    },
    {
      "cell_type": "code",
      "metadata": {
        "colab": {
          "base_uri": "https://localhost:8080/",
          "height": 352
        },
        "id": "O0DpjxyTF4bC",
        "outputId": "5b141729-c08a-41ba-e35e-cc9a2fd63151"
      },
      "source": [
        "sns.countplot(trips['passenger_count'],hue=trips['payment_type'])"
      ],
      "execution_count": 22,
      "outputs": [
        {
          "output_type": "stream",
          "name": "stderr",
          "text": [
            "/usr/local/lib/python3.7/dist-packages/seaborn/_decorators.py:43: FutureWarning: Pass the following variable as a keyword arg: x. From version 0.12, the only valid positional argument will be `data`, and passing other arguments without an explicit keyword will result in an error or misinterpretation.\n",
            "  FutureWarning\n"
          ]
        },
        {
          "output_type": "execute_result",
          "data": {
            "text/plain": [
              "<matplotlib.axes._subplots.AxesSubplot at 0x7f7faf874ad0>"
            ]
          },
          "metadata": {},
          "execution_count": 22
        },
        {
          "output_type": "display_data",
          "data": {
            "image/png": "[encoded data removed]",
            "text/plain": [
              "<Figure size 432x288 with 1 Axes>"
            ]
          },
          "metadata": {
            "needs_background": "light"
          }
        }
      ]
    },
    {
      "cell_type": "markdown",
      "metadata": {
        "id": "0TZUeb85F4bC"
      },
      "source": [
        "- There is no such specific pattern can be observed."
      ]
    },
    {
      "cell_type": "markdown",
      "metadata": {
        "id": "Kqmr1wF5F4bD"
      },
      "source": [
        "### Step 2: Prepare the Data\n",
        "\n",
        "Lets create entities and relationships. The three entities in this data are \n",
        "* trips \n",
        "* pickup_neighborhoods\n",
        "* dropoff_neighborhoods\n",
        "\n",
        "This data has the following relationships\n",
        "* pickup_neighborhoods --> trips (one neighborhood can have multiple trips that start in it. This means pickup_neighborhoods is the ``parent_entity`` and trips is the child entity)\n",
        "* dropoff_neighborhoods --> trips (one neighborhood can have multiple trips that end in it. This means dropoff_neighborhoods is the ``parent_entity`` and trips is the child entity)\n",
        "\n",
        "In <a <href=\"https://www.featuretools.com/\"><featuretools (automated feature engineering software package)/></a>, we specify the list of entities and relationships as follows: \n"
      ]
    },
    {
      "cell_type": "markdown",
      "metadata": {
        "id": "Z31RjCMXF4bD"
      },
      "source": [
        "###  3: Define entities and relationships for the Deep Feature Synthesis"
      ]
    },
    {
      "cell_type": "code",
      "metadata": {
        "ExecuteTime": {
          "end_time": "2021-07-15T12:41:08.351728Z",
          "start_time": "2021-07-15T12:41:08.253155Z"
        },
        "id": "5dVgPuBmF4bD"
      },
      "source": [
        "entities = {\n",
        "        \"trips\": (trips, \"id\", 'pickup_datetime' ),\n",
        "        \"pickup_neighborhoods\": (pickup_neighborhoods, \"neighborhood_id\"),\n",
        "        \"dropoff_neighborhoods\": (dropoff_neighborhoods, \"neighborhood_id\"),\n",
        "        }\n",
        "\n",
        "relationships = [(\"pickup_neighborhoods\", \"neighborhood_id\", \"trips\", \"pickup_neighborhood\"),\n",
        "                 (\"dropoff_neighborhoods\", \"neighborhood_id\", \"trips\", \"dropoff_neighborhood\")]"
      ],
      "execution_count": 23,
      "outputs": []
    },
    {
      "cell_type": "markdown",
      "metadata": {
        "id": "x29sUuiDF4bD"
      },
      "source": [
        "Next, we specify the cutoff time for each instance of the target_entity, in this case ``trips``.This timestamp represents the last time data can be used for calculating features by DFS. In this scenario, that would be the pickup time because we would like to make the duration prediction using data before the trip starts. \n",
        "\n",
        "For the purposes of the case study, we choose to only select trips that started after January 12th, 2016. "
      ]
    },
    {
      "cell_type": "code",
      "metadata": {
        "ExecuteTime": {
          "end_time": "2021-07-15T12:41:53.295477Z",
          "start_time": "2021-07-15T12:41:53.056658Z"
        },
        "colab": {
          "base_uri": "https://localhost:8080/",
          "height": 363
        },
        "id": "Wj4gxc5cF4bD",
        "outputId": "9270093b-c00b-49e6-daa6-c72a33dbb111"
      },
      "source": [
        "cutoff_time = trips[['id', 'pickup_datetime']]\n",
        "preview(cutoff_time, 10)"
      ],
      "execution_count": 24,
      "outputs": [
        {
          "output_type": "execute_result",
          "data": {
            "text/html": [
              "<div>\n",
              "<style scoped>\n",
              "    .dataframe tbody tr th:only-of-type {\n",
              "        vertical-align: middle;\n",
              "    }\n",
              "\n",
              "    .dataframe tbody tr th {\n",
              "        vertical-align: top;\n",
              "    }\n",
              "\n",
              "    .dataframe thead th {\n",
              "        text-align: right;\n",
              "    }\n",
              "</style>\n",
              "<table border=\"1\" class=\"dataframe\">\n",
              "  <thead>\n",
              "    <tr style=\"text-align: right;\">\n",
              "      <th></th>\n",
              "      <th>id</th>\n",
              "      <th>pickup_datetime</th>\n",
              "    </tr>\n",
              "  </thead>\n",
              "  <tbody>\n",
              "    <tr>\n",
              "      <th>0</th>\n",
              "      <td>0</td>\n",
              "      <td>2019-01-01 00:00:00</td>\n",
              "    </tr>\n",
              "    <tr>\n",
              "      <th>1004</th>\n",
              "      <td>1004</td>\n",
              "      <td>2019-01-01 02:39:00</td>\n",
              "    </tr>\n",
              "    <tr>\n",
              "      <th>1003</th>\n",
              "      <td>1003</td>\n",
              "      <td>2019-01-01 02:39:00</td>\n",
              "    </tr>\n",
              "    <tr>\n",
              "      <th>1002</th>\n",
              "      <td>1002</td>\n",
              "      <td>2019-01-01 02:39:00</td>\n",
              "    </tr>\n",
              "    <tr>\n",
              "      <th>1001</th>\n",
              "      <td>1001</td>\n",
              "      <td>2019-01-01 02:39:00</td>\n",
              "    </tr>\n",
              "    <tr>\n",
              "      <th>1000</th>\n",
              "      <td>1000</td>\n",
              "      <td>2019-01-01 02:39:00</td>\n",
              "    </tr>\n",
              "    <tr>\n",
              "      <th>999</th>\n",
              "      <td>999</td>\n",
              "      <td>2019-01-01 02:39:00</td>\n",
              "    </tr>\n",
              "    <tr>\n",
              "      <th>998</th>\n",
              "      <td>998</td>\n",
              "      <td>2019-01-01 02:39:00</td>\n",
              "    </tr>\n",
              "    <tr>\n",
              "      <th>997</th>\n",
              "      <td>997</td>\n",
              "      <td>2019-01-01 02:38:00</td>\n",
              "    </tr>\n",
              "    <tr>\n",
              "      <th>1005</th>\n",
              "      <td>1005</td>\n",
              "      <td>2019-01-01 02:39:00</td>\n",
              "    </tr>\n",
              "  </tbody>\n",
              "</table>\n",
              "</div>"
            ],
            "text/plain": [
              "        id     pickup_datetime\n",
              "0        0 2019-01-01 00:00:00\n",
              "1004  1004 2019-01-01 02:39:00\n",
              "1003  1003 2019-01-01 02:39:00\n",
              "1002  1002 2019-01-01 02:39:00\n",
              "1001  1001 2019-01-01 02:39:00\n",
              "1000  1000 2019-01-01 02:39:00\n",
              "999    999 2019-01-01 02:39:00\n",
              "998    998 2019-01-01 02:39:00\n",
              "997    997 2019-01-01 02:38:00\n",
              "1005  1005 2019-01-01 02:39:00"
            ]
          },
          "metadata": {},
          "execution_count": 24
        }
      ]
    },
    {
      "cell_type": "markdown",
      "metadata": {
        "id": "3yOIEIF2F4bD"
      },
      "source": [
        "### Step 3: Create baseline features using Deep Feature Synthesis\n",
        "\n",
        "Instead of manually creating features, such as \"month of pickup datetime\", we can let DFS come up with them automatically. It does this by \n",
        "* interpreting the variable types of the columns e.g categorical, numeric and others \n",
        "* matching the columns to the primitives that can be applied to their variable types\n",
        "* creating features based on these matches"
      ]
    },
    {
      "cell_type": "markdown",
      "metadata": {
        "id": "E8Xpm3BzF4bD"
      },
      "source": [
        "**Create transform features using transform primitives**\n",
        "\n",
        "As we described in the video, features fall into two major categories, ``transform`` and ``aggregate``. In featureools, we can create transform features by specifying ``transform`` primitives. Below we specify a ``transform`` primitive called ``weekend`` and here is what it does:\n",
        "\n",
        "* It can be applied to any ``datetime`` column in the data. \n",
        "* For each entry in the column, it assess if it is a ``weekend`` and returns a boolean. \n",
        "\n",
        "In this specific data, there are two ``datetime`` columns ``pickup_datetime`` and ``dropoff_datetime``. The tool automatically creates features using the primitive and these two columns as shown below. "
      ]
    },
    {
      "cell_type": "markdown",
      "metadata": {
        "id": "xzI_0jdUF4bD"
      },
      "source": [
        "###  4: Creating a baseline model with only 1 transform primitive\n",
        "\n",
        "**Question: 4.1 Define transform primitive for weekend and define features using dfs?** "
      ]
    },
    {
      "cell_type": "code",
      "metadata": {
        "ExecuteTime": {
          "end_time": "2021-07-15T12:46:18.552030Z",
          "start_time": "2021-07-15T12:46:16.349739Z"
        },
        "id": "vd_u0r3DF4bD"
      },
      "source": [
        "trans_primitives = [IsWeekend]\n",
        "\n",
        "features = ft.dfs(entities=entities,\n",
        "                  relationships=relationships,\n",
        "                  target_entity=\"trips\",\n",
        "                  trans_primitives=trans_primitives,\n",
        "                  agg_primitives=[],\n",
        "                  ignore_variables={\"trips\": [\"pickup_latitude\", \"pickup_longitude\",\n",
        "                                              \"dropoff_latitude\", \"dropoff_longitude\"]},\n",
        "                  features_only=True)"
      ],
      "execution_count": 25,
      "outputs": []
    },
    {
      "cell_type": "markdown",
      "metadata": {
        "id": "pckfuAAIF4bE"
      },
      "source": [
        "*If you're interested about parameters to DFS such as `ignore_variables`, you can learn more about these parameters [here](https://docs.featuretools.com/generated/featuretools.dfs.html#featuretools.dfs)*\n",
        "<p>Here are the features created.</p>"
      ]
    },
    {
      "cell_type": "code",
      "metadata": {
        "ExecuteTime": {
          "end_time": "2021-07-15T12:46:24.799450Z",
          "start_time": "2021-07-15T12:46:24.699552Z"
        },
        "colab": {
          "base_uri": "https://localhost:8080/"
        },
        "id": "r4h-NfkdF4bE",
        "outputId": "ee2a487a-a6ed-4767-f45e-8006fce2392f"
      },
      "source": [
        "print (\"Number of features: %d\" % len(features))\n",
        "features"
      ],
      "execution_count": 26,
      "outputs": [
        {
          "output_type": "stream",
          "name": "stdout",
          "text": [
            "Number of features: 13\n"
          ]
        },
        {
          "output_type": "execute_result",
          "data": {
            "text/plain": [
              "[<Feature: Transport_service>,\n",
              " <Feature: passenger_count>,\n",
              " <Feature: trip_distance>,\n",
              " <Feature: payment_type>,\n",
              " <Feature: trip_duration>,\n",
              " <Feature: pickup_neighborhood>,\n",
              " <Feature: dropoff_neighborhood>,\n",
              " <Feature: IS_WEEKEND(dropoff_datetime)>,\n",
              " <Feature: IS_WEEKEND(pickup_datetime)>,\n",
              " <Feature: pickup_neighborhoods.latitude>,\n",
              " <Feature: pickup_neighborhoods.longitude>,\n",
              " <Feature: dropoff_neighborhoods.latitude>,\n",
              " <Feature: dropoff_neighborhoods.longitude>]"
            ]
          },
          "metadata": {},
          "execution_count": 26
        }
      ]
    },
    {
      "cell_type": "markdown",
      "metadata": {
        "id": "D_Fl2FOUF4bE"
      },
      "source": [
        "\n",
        "Now let's compute the features. "
      ]
    },
    {
      "cell_type": "markdown",
      "metadata": {
        "id": "14cHn-RXF4bE"
      },
      "source": [
        "**Question: 4.2 Compute features and define feature matrix**"
      ]
    },
    {
      "cell_type": "code",
      "metadata": {
        "ExecuteTime": {
          "end_time": "2021-07-15T12:46:56.132642Z",
          "start_time": "2021-07-15T12:46:56.030342Z"
        },
        "id": "8B6uIY5DF4bE"
      },
      "source": [
        "def compute_features(features, cutoff_time):\n",
        "    # shuffle so we don't see encoded features in the front or backs\n",
        "\n",
        "    np.random.shuffle(features)\n",
        "    feature_matrix = ft.calculate_feature_matrix(features,\n",
        "                                                 cutoff_time=cutoff_time,\n",
        "                                                 approximate='36d',\n",
        "                                                 verbose=True,entities=entities, relationships=relationships)\n",
        "    print(\"Finishing computing...\")\n",
        "    feature_matrix, features = ft.encode_features(feature_matrix, features,\n",
        "                                                  to_encode=[\"pickup_neighborhood\", \"dropoff_neighborhood\"],\n",
        "                                                  include_unknown=False)\n",
        "    return feature_matrix"
      ],
      "execution_count": 27,
      "outputs": []
    },
    {
      "cell_type": "code",
      "metadata": {
        "colab": {
          "base_uri": "https://localhost:8080/"
        },
        "id": "npf-uWQkF4bE",
        "outputId": "803bf52d-87be-4390-c4d8-dc223e906d4a"
      },
      "source": [
        "feature_matrix1 = compute_features(features, cutoff_time)"
      ],
      "execution_count": 28,
      "outputs": [
        {
          "output_type": "stream",
          "name": "stdout",
          "text": [
            "Elapsed: 00:00 | Progress: 100%|██████████\n",
            "Finishing computing...\n"
          ]
        }
      ]
    },
    {
      "cell_type": "code",
      "metadata": {
        "ExecuteTime": {
          "end_time": "2021-07-15T12:47:21.290315Z",
          "start_time": "2021-07-15T12:47:20.995105Z"
        },
        "colab": {
          "base_uri": "https://localhost:8080/",
          "height": 275
        },
        "id": "vVu5cgnsF4bE",
        "outputId": "309a8eaa-f6d8-4de3-f31d-8074a6022af0"
      },
      "source": [
        "preview(feature_matrix1, 5)"
      ],
      "execution_count": 29,
      "outputs": [
        {
          "output_type": "execute_result",
          "data": {
            "text/html": [
              "<div>\n",
              "<style scoped>\n",
              "    .dataframe tbody tr th:only-of-type {\n",
              "        vertical-align: middle;\n",
              "    }\n",
              "\n",
              "    .dataframe tbody tr th {\n",
              "        vertical-align: top;\n",
              "    }\n",
              "\n",
              "    .dataframe thead th {\n",
              "        text-align: right;\n",
              "    }\n",
              "</style>\n",
              "<table border=\"1\" class=\"dataframe\">\n",
              "  <thead>\n",
              "    <tr style=\"text-align: right;\">\n",
              "      <th></th>\n",
              "      <th>dropoff_neighborhood = AM</th>\n",
              "      <th>dropoff_neighborhood = Y</th>\n",
              "      <th>dropoff_neighborhood = AT</th>\n",
              "      <th>dropoff_neighborhood = C</th>\n",
              "      <th>dropoff_neighborhood = W</th>\n",
              "      <th>dropoff_neighborhood = AD</th>\n",
              "      <th>dropoff_neighborhood = Z</th>\n",
              "      <th>dropoff_neighborhood = P</th>\n",
              "      <th>dropoff_neighborhood = I</th>\n",
              "      <th>dropoff_neighborhood = N</th>\n",
              "      <th>pickup_neighborhood = AD</th>\n",
              "      <th>pickup_neighborhood = AR</th>\n",
              "      <th>pickup_neighborhood = AT</th>\n",
              "      <th>pickup_neighborhood = AM</th>\n",
              "      <th>pickup_neighborhood = AC</th>\n",
              "      <th>pickup_neighborhood = P</th>\n",
              "      <th>pickup_neighborhood = AO</th>\n",
              "      <th>pickup_neighborhood = N</th>\n",
              "      <th>pickup_neighborhood = I</th>\n",
              "      <th>pickup_neighborhood = R</th>\n",
              "      <th>payment_type</th>\n",
              "      <th>IS_WEEKEND(dropoff_datetime)</th>\n",
              "      <th>dropoff_neighborhoods.latitude</th>\n",
              "      <th>trip_distance</th>\n",
              "      <th>pickup_neighborhoods.latitude</th>\n",
              "      <th>passenger_count</th>\n",
              "      <th>dropoff_neighborhoods.longitude</th>\n",
              "      <th>Transport_service</th>\n",
              "      <th>trip_duration</th>\n",
              "      <th>pickup_neighborhoods.longitude</th>\n",
              "      <th>IS_WEEKEND(pickup_datetime)</th>\n",
              "    </tr>\n",
              "    <tr>\n",
              "      <th>id</th>\n",
              "      <th></th>\n",
              "      <th></th>\n",
              "      <th></th>\n",
              "      <th></th>\n",
              "      <th></th>\n",
              "      <th></th>\n",
              "      <th></th>\n",
              "      <th></th>\n",
              "      <th></th>\n",
              "      <th></th>\n",
              "      <th></th>\n",
              "      <th></th>\n",
              "      <th></th>\n",
              "      <th></th>\n",
              "      <th></th>\n",
              "      <th></th>\n",
              "      <th></th>\n",
              "      <th></th>\n",
              "      <th></th>\n",
              "      <th></th>\n",
              "      <th></th>\n",
              "      <th></th>\n",
              "      <th></th>\n",
              "      <th></th>\n",
              "      <th></th>\n",
              "      <th></th>\n",
              "      <th></th>\n",
              "      <th></th>\n",
              "      <th></th>\n",
              "      <th></th>\n",
              "      <th></th>\n",
              "    </tr>\n",
              "  </thead>\n",
              "  <tbody>\n",
              "    <tr>\n",
              "      <th>0</th>\n",
              "      <td>False</td>\n",
              "      <td>False</td>\n",
              "      <td>False</td>\n",
              "      <td>True</td>\n",
              "      <td>False</td>\n",
              "      <td>False</td>\n",
              "      <td>False</td>\n",
              "      <td>False</td>\n",
              "      <td>False</td>\n",
              "      <td>False</td>\n",
              "      <td>False</td>\n",
              "      <td>False</td>\n",
              "      <td>False</td>\n",
              "      <td>False</td>\n",
              "      <td>False</td>\n",
              "      <td>False</td>\n",
              "      <td>False</td>\n",
              "      <td>False</td>\n",
              "      <td>False</td>\n",
              "      <td>False</td>\n",
              "      <td>3</td>\n",
              "      <td>False</td>\n",
              "      <td>40.783780</td>\n",
              "      <td>1.32</td>\n",
              "      <td>40.804349</td>\n",
              "      <td>1</td>\n",
              "      <td>-73.953145</td>\n",
              "      <td>3</td>\n",
              "      <td>387</td>\n",
              "      <td>-73.961716</td>\n",
              "      <td>False</td>\n",
              "    </tr>\n",
              "    <tr>\n",
              "      <th>1004</th>\n",
              "      <td>False</td>\n",
              "      <td>False</td>\n",
              "      <td>False</td>\n",
              "      <td>False</td>\n",
              "      <td>True</td>\n",
              "      <td>False</td>\n",
              "      <td>False</td>\n",
              "      <td>False</td>\n",
              "      <td>False</td>\n",
              "      <td>False</td>\n",
              "      <td>False</td>\n",
              "      <td>False</td>\n",
              "      <td>False</td>\n",
              "      <td>False</td>\n",
              "      <td>False</td>\n",
              "      <td>False</td>\n",
              "      <td>False</td>\n",
              "      <td>False</td>\n",
              "      <td>False</td>\n",
              "      <td>False</td>\n",
              "      <td>1</td>\n",
              "      <td>False</td>\n",
              "      <td>40.766575</td>\n",
              "      <td>4.00</td>\n",
              "      <td>40.744928</td>\n",
              "      <td>1</td>\n",
              "      <td>-73.919853</td>\n",
              "      <td>4</td>\n",
              "      <td>1215</td>\n",
              "      <td>-73.919159</td>\n",
              "      <td>False</td>\n",
              "    </tr>\n",
              "    <tr>\n",
              "      <th>1003</th>\n",
              "      <td>False</td>\n",
              "      <td>False</td>\n",
              "      <td>False</td>\n",
              "      <td>False</td>\n",
              "      <td>False</td>\n",
              "      <td>False</td>\n",
              "      <td>True</td>\n",
              "      <td>False</td>\n",
              "      <td>False</td>\n",
              "      <td>False</td>\n",
              "      <td>False</td>\n",
              "      <td>False</td>\n",
              "      <td>False</td>\n",
              "      <td>False</td>\n",
              "      <td>False</td>\n",
              "      <td>False</td>\n",
              "      <td>False</td>\n",
              "      <td>False</td>\n",
              "      <td>False</td>\n",
              "      <td>False</td>\n",
              "      <td>1</td>\n",
              "      <td>False</td>\n",
              "      <td>40.715828</td>\n",
              "      <td>0.63</td>\n",
              "      <td>40.715828</td>\n",
              "      <td>4</td>\n",
              "      <td>-73.954298</td>\n",
              "      <td>3</td>\n",
              "      <td>215</td>\n",
              "      <td>-73.954298</td>\n",
              "      <td>False</td>\n",
              "    </tr>\n",
              "    <tr>\n",
              "      <th>1002</th>\n",
              "      <td>True</td>\n",
              "      <td>False</td>\n",
              "      <td>False</td>\n",
              "      <td>False</td>\n",
              "      <td>False</td>\n",
              "      <td>False</td>\n",
              "      <td>False</td>\n",
              "      <td>False</td>\n",
              "      <td>False</td>\n",
              "      <td>False</td>\n",
              "      <td>False</td>\n",
              "      <td>False</td>\n",
              "      <td>True</td>\n",
              "      <td>False</td>\n",
              "      <td>False</td>\n",
              "      <td>False</td>\n",
              "      <td>False</td>\n",
              "      <td>False</td>\n",
              "      <td>False</td>\n",
              "      <td>False</td>\n",
              "      <td>2</td>\n",
              "      <td>False</td>\n",
              "      <td>40.775357</td>\n",
              "      <td>3.20</td>\n",
              "      <td>40.729670</td>\n",
              "      <td>3</td>\n",
              "      <td>-73.949840</td>\n",
              "      <td>2</td>\n",
              "      <td>561</td>\n",
              "      <td>-73.981693</td>\n",
              "      <td>False</td>\n",
              "    </tr>\n",
              "    <tr>\n",
              "      <th>1001</th>\n",
              "      <td>False</td>\n",
              "      <td>False</td>\n",
              "      <td>False</td>\n",
              "      <td>False</td>\n",
              "      <td>False</td>\n",
              "      <td>False</td>\n",
              "      <td>False</td>\n",
              "      <td>False</td>\n",
              "      <td>False</td>\n",
              "      <td>False</td>\n",
              "      <td>False</td>\n",
              "      <td>False</td>\n",
              "      <td>False</td>\n",
              "      <td>False</td>\n",
              "      <td>False</td>\n",
              "      <td>False</td>\n",
              "      <td>False</td>\n",
              "      <td>False</td>\n",
              "      <td>False</td>\n",
              "      <td>False</td>\n",
              "      <td>2</td>\n",
              "      <td>False</td>\n",
              "      <td>40.793597</td>\n",
              "      <td>8.28</td>\n",
              "      <td>40.721435</td>\n",
              "      <td>3</td>\n",
              "      <td>-73.969822</td>\n",
              "      <td>1</td>\n",
              "      <td>1576</td>\n",
              "      <td>-73.998366</td>\n",
              "      <td>False</td>\n",
              "    </tr>\n",
              "  </tbody>\n",
              "</table>\n",
              "</div>"
            ],
            "text/plain": [
              "      dropoff_neighborhood = AM  ...  IS_WEEKEND(pickup_datetime)\n",
              "id                               ...                             \n",
              "0                         False  ...                        False\n",
              "1004                      False  ...                        False\n",
              "1003                      False  ...                        False\n",
              "1002                       True  ...                        False\n",
              "1001                      False  ...                        False\n",
              "\n",
              "[5 rows x 31 columns]"
            ]
          },
          "metadata": {},
          "execution_count": 29
        }
      ]
    },
    {
      "cell_type": "code",
      "metadata": {
        "colab": {
          "base_uri": "https://localhost:8080/"
        },
        "id": "qio54yMXF4bE",
        "outputId": "e31fe6b8-665b-4b67-a104-cd1a083fce69"
      },
      "source": [
        "feature_matrix1.shape"
      ],
      "execution_count": 30,
      "outputs": [
        {
          "output_type": "execute_result",
          "data": {
            "text/plain": [
              "(1452, 31)"
            ]
          },
          "metadata": {},
          "execution_count": 30
        }
      ]
    },
    {
      "cell_type": "markdown",
      "metadata": {
        "id": "NUlLIx5QF4bE"
      },
      "source": [
        "### Build the Model\n",
        "\n",
        "To build a model, we\n",
        "* Separate the data into a portion for ``training`` (75% in this case) and a portion for ``testing`` \n",
        "* Get the log of the trip duration so that a more linear relationship can be found.\n",
        "* Train a model using a ``Linear Regression, Decision Tree and Random Forest model``"
      ]
    },
    {
      "cell_type": "markdown",
      "metadata": {
        "id": "7F3rlIZwF4bE"
      },
      "source": [
        "#### Transforming the duration variable on sqrt and log"
      ]
    },
    {
      "cell_type": "code",
      "metadata": {
        "colab": {
          "base_uri": "https://localhost:8080/",
          "height": 352
        },
        "id": "7H-xfzjDF4bE",
        "outputId": "ac367f09-a652-4a1e-c40b-8a189d01ee21"
      },
      "source": [
        "plt.hist(np.sqrt(trips['trip_duration']))"
      ],
      "execution_count": 31,
      "outputs": [
        {
          "output_type": "execute_result",
          "data": {
            "text/plain": [
              "(array([ 11.,  89., 208., 320., 320., 235., 148.,  86.,  24.,  11.]),\n",
              " array([ 4.24264069,  9.47611468, 14.70958868, 19.94306267, 25.17653667,\n",
              "        30.41001066, 35.64348466, 40.87695865, 46.11043265, 51.34390664,\n",
              "        56.57738064]),\n",
              " <a list of 10 Patch objects>)"
            ]
          },
          "metadata": {},
          "execution_count": 31
        },
        {
          "output_type": "display_data",
          "data": {
            "image/png": "[encoded data removed]",
            "text/plain": [
              "<Figure size 432x288 with 1 Axes>"
            ]
          },
          "metadata": {
            "needs_background": "light"
          }
        }
      ]
    },
    {
      "cell_type": "code",
      "metadata": {
        "colab": {
          "base_uri": "https://localhost:8080/",
          "height": 352
        },
        "id": "Rxj4czFbF4bF",
        "outputId": "4546e2d7-2e43-49d6-992a-9b3f620d54ad"
      },
      "source": [
        "plt.hist(np.log(trips['trip_duration']))"
      ],
      "execution_count": 32,
      "outputs": [
        {
          "output_type": "execute_result",
          "data": {
            "text/plain": [
              "(array([  2.,   3.,   6.,  24.,  86., 193., 369., 416., 290.,  63.]),\n",
              " array([2.89037176, 3.40845644, 3.92654111, 4.44462579, 4.96271047,\n",
              "        5.48079515, 5.99887983, 6.51696451, 7.03504918, 7.55313386,\n",
              "        8.07121854]),\n",
              " <a list of 10 Patch objects>)"
            ]
          },
          "metadata": {},
          "execution_count": 32
        },
        {
          "output_type": "display_data",
          "data": {
            "image/png": "[encoded data removed]",
            "text/plain": [
              "<Figure size 432x288 with 1 Axes>"
            ]
          },
          "metadata": {
            "needs_background": "light"
          }
        }
      ]
    },
    {
      "cell_type": "markdown",
      "metadata": {
        "id": "1FaMTnXvF4bF"
      },
      "source": [
        "- We can clearly see that the sqrt transformation is giving nearly normal distribution, there for we can choose the sqrt transformation on the dependent(trip_duration) variable."
      ]
    },
    {
      "cell_type": "markdown",
      "metadata": {
        "id": "QmECM5u_F4bF"
      },
      "source": [
        "### Splitting the data into train and test"
      ]
    },
    {
      "cell_type": "code",
      "metadata": {
        "ExecuteTime": {
          "end_time": "2021-07-15T12:47:30.919229Z",
          "start_time": "2021-07-15T12:47:24.754592Z"
        },
        "id": "bfuPVjn9F4bF"
      },
      "source": [
        "# separates the whole feature matrix into train data feature matrix, \n",
        "# train data labels, and test data feature matrix \n",
        "X_train, y_train, X_test, y_test = get_train_test_fm(feature_matrix1,.75)\n",
        "y_train = np.sqrt(y_train)\n",
        "y_test = np.sqrt(y_test)"
      ],
      "execution_count": 33,
      "outputs": []
    },
    {
      "cell_type": "markdown",
      "metadata": {
        "id": "J3FtMSR2F4bF"
      },
      "source": [
        "### Defining function for to check the performance of the model. "
      ]
    },
    {
      "cell_type": "code",
      "metadata": {
        "id": "kf5R0U2AF4bF"
      },
      "source": [
        "#RMSE\n",
        "def rmse(predictions, targets):\n",
        "    return np.sqrt(((targets - predictions) ** 2).mean())\n",
        "\n",
        "# MAE\n",
        "def mae(predictions, targets):\n",
        "    return np.mean(np.abs((targets - predictions)))\n",
        "\n",
        "\n",
        "# Model Performance on test and train data\n",
        "def model_pref(model, x_train, x_test, y_train,y_test):\n",
        "\n",
        "    # Insample Prediction\n",
        "    y_pred_train = model.predict(x_train)\n",
        "    y_observed_train = y_train\n",
        "\n",
        "    # Prediction on test data\n",
        "    y_pred_test = model.predict(x_test)\n",
        "    y_observed_test = y_test\n",
        "\n",
        "    print(\n",
        "        pd.DataFrame(\n",
        "            {\n",
        "                \"Data\": [\"Train\", \"Test\"],\n",
        "                'RSquared':\n",
        "                    [r2_score(y_observed_train,y_pred_train),\n",
        "                    r2_score(y_observed_test,y_pred_test )\n",
        "                    ],\n",
        "                \"RMSE\": [\n",
        "                    rmse(y_pred_train, y_observed_train),\n",
        "                    rmse(y_pred_test, y_observed_test),\n",
        "                ],\n",
        "                \"MAE\": [\n",
        "                    mae(y_pred_train, y_observed_train),\n",
        "                    mae(y_pred_test, y_observed_test),\n",
        "                ],\n",
        "            }\n",
        "        )\n",
        "    )"
      ],
      "execution_count": 34,
      "outputs": []
    },
    {
      "cell_type": "markdown",
      "metadata": {
        "id": "HOLVEQ6vF4bF"
      },
      "source": [
        "####  4.1 Build Linear regression using only weekend transform primitive"
      ]
    },
    {
      "cell_type": "code",
      "metadata": {
        "colab": {
          "base_uri": "https://localhost:8080/"
        },
        "id": "Per9TXPXF4bF",
        "outputId": "e46c4418-50ca-4928-aea5-9657907aedfc"
      },
      "source": [
        "#defining the model\n",
        "lr1=LinearRegression()\n",
        "\n",
        "#fitting the model\n",
        "lr1.fit(X_train,y_train)\n"
      ],
      "execution_count": 35,
      "outputs": [
        {
          "output_type": "execute_result",
          "data": {
            "text/plain": [
              "LinearRegression()"
            ]
          },
          "metadata": {},
          "execution_count": 35
        }
      ]
    },
    {
      "cell_type": "markdown",
      "metadata": {
        "id": "NCO30ZRJF4bF"
      },
      "source": [
        "#### Check the performance of the model"
      ]
    },
    {
      "cell_type": "code",
      "metadata": {
        "colab": {
          "base_uri": "https://localhost:8080/"
        },
        "id": "Af_D1AhTF4bF",
        "outputId": "f865b8b0-dd5e-46b8-ddf6-583750689367"
      },
      "source": [
        "model_pref(lr1, X_train, X_test,y_train,y_test)  "
      ],
      "execution_count": 36,
      "outputs": [
        {
          "output_type": "stream",
          "name": "stdout",
          "text": [
            "    Data  RSquared      RMSE       MAE\n",
            "0  Train  0.662819  5.246785  4.052007\n",
            "1   Test  0.583352  5.583601  4.172844\n"
          ]
        }
      ]
    },
    {
      "cell_type": "markdown",
      "metadata": {
        "id": "WrsPKZo0F4bG"
      },
      "source": [
        "**Write your answers here:_____**\n",
        "- Model is giving only 0.58 Rsquared, with RSME of 5.58 and MAE of ~4.17.\n",
        "- Model is slightly overfitting."
      ]
    },
    {
      "cell_type": "markdown",
      "metadata": {
        "id": "pVzSEpJzF4bG"
      },
      "source": [
        "####  4.2 Building decision tree using only weekend transform primitive"
      ]
    },
    {
      "cell_type": "code",
      "metadata": {
        "colab": {
          "base_uri": "https://localhost:8080/"
        },
        "id": "QyuRFuabF4bG",
        "outputId": "9636fcec-0d7c-4220-c68d-e53a18761d10"
      },
      "source": [
        "dt=DecisionTreeRegressor()\n",
        "\n",
        "dt.fit(X_train,y_train)"
      ],
      "execution_count": 37,
      "outputs": [
        {
          "output_type": "execute_result",
          "data": {
            "text/plain": [
              "DecisionTreeRegressor()"
            ]
          },
          "metadata": {},
          "execution_count": 37
        }
      ]
    },
    {
      "cell_type": "markdown",
      "metadata": {
        "id": "xcATIbmjF4bG"
      },
      "source": [
        "#### Check the performance of the model"
      ]
    },
    {
      "cell_type": "code",
      "metadata": {
        "colab": {
          "base_uri": "https://localhost:8080/"
        },
        "id": "wT-WmaLCF4bG",
        "outputId": "e47b65c1-e8f3-445c-d245-9039066928f6"
      },
      "source": [
        "model_pref(dt, X_train, X_test,y_train,y_test)  "
      ],
      "execution_count": 38,
      "outputs": [
        {
          "output_type": "stream",
          "name": "stdout",
          "text": [
            "    Data  RSquared      RMSE      MAE\n",
            "0  Train  1.000000  0.000000  0.00000\n",
            "1   Test  0.494613  6.149525  4.63198\n"
          ]
        }
      ]
    },
    {
      "cell_type": "markdown",
      "metadata": {
        "id": "QFg3ehIFF4bG"
      },
      "source": [
        "**Write your answers here:_____**\n",
        "- The model is overfitting a lot, with train R2 as 1 while test R2 as 0.49\n",
        "- This generally happens in decision tree, one solution for this is to Prune the decision tree, let's try pruning and see if the performance improves. "
      ]
    },
    {
      "cell_type": "markdown",
      "metadata": {
        "id": "yJw8amFqF4bG"
      },
      "source": [
        "####  4.3 Building Pruned decision tree using only weekend transform primitive"
      ]
    },
    {
      "cell_type": "code",
      "metadata": {
        "colab": {
          "base_uri": "https://localhost:8080/"
        },
        "id": "pB4hibI_F4bG",
        "outputId": "da0f790c-831c-468c-a4a7-a30ecbd2f221"
      },
      "source": [
        "dt_pruned=DecisionTreeRegressor(max_depth=3)\n",
        "\n",
        "dt_pruned.fit(X_train,y_train)"
      ],
      "execution_count": 39,
      "outputs": [
        {
          "output_type": "execute_result",
          "data": {
            "text/plain": [
              "DecisionTreeRegressor(max_depth=3)"
            ]
          },
          "metadata": {},
          "execution_count": 39
        }
      ]
    },
    {
      "cell_type": "markdown",
      "metadata": {
        "id": "TKpAPeL3F4bG"
      },
      "source": [
        "#### Check the performance of the model"
      ]
    },
    {
      "cell_type": "code",
      "metadata": {
        "colab": {
          "base_uri": "https://localhost:8080/"
        },
        "id": "IQ6QCbMsF4bG",
        "outputId": "3266a5ae-a95e-45bd-940d-b89373c38784"
      },
      "source": [
        "model_pref(dt_pruned, X_train, X_test,y_train,y_test)  "
      ],
      "execution_count": 40,
      "outputs": [
        {
          "output_type": "stream",
          "name": "stdout",
          "text": [
            "    Data  RSquared      RMSE       MAE\n",
            "0  Train  0.748675  4.529805  3.404459\n",
            "1   Test  0.681276  4.883566  3.780489\n"
          ]
        }
      ]
    },
    {
      "cell_type": "markdown",
      "metadata": {
        "id": "RryiUfhWF4bG"
      },
      "source": [
        "**Write your answers here:_____**\n",
        "- The pruned model is performing better that both baseline decision tree and linear regression, with R2 as ~.68."
      ]
    },
    {
      "cell_type": "markdown",
      "metadata": {
        "id": "TvO7fVGjF4bH"
      },
      "source": [
        "####  4.4 Building Random Forest using only weekend transform primitive"
      ]
    },
    {
      "cell_type": "code",
      "metadata": {
        "id": "lX7llB3DF4bH"
      },
      "source": [
        "rf=RandomForestRegressor(n_estimators=60,max_depth=4)"
      ],
      "execution_count": 41,
      "outputs": []
    },
    {
      "cell_type": "code",
      "metadata": {
        "colab": {
          "base_uri": "https://localhost:8080/"
        },
        "id": "-wKKqYyYF4bH",
        "outputId": "82dab771-8434-41f8-a57c-da2e856adcb1"
      },
      "source": [
        "rf.fit(X_train,y_train)"
      ],
      "execution_count": 42,
      "outputs": [
        {
          "output_type": "execute_result",
          "data": {
            "text/plain": [
              "RandomForestRegressor(max_depth=4, n_estimators=60)"
            ]
          },
          "metadata": {},
          "execution_count": 42
        }
      ]
    },
    {
      "cell_type": "markdown",
      "metadata": {
        "id": "hWJJspmaF4bH"
      },
      "source": [
        "#### Check the performance of the model"
      ]
    },
    {
      "cell_type": "code",
      "metadata": {
        "colab": {
          "base_uri": "https://localhost:8080/"
        },
        "id": "7hxhJVJlF4bH",
        "scrolled": true,
        "outputId": "91d4548a-e138-4339-a1ef-98a8f76fd0a2"
      },
      "source": [
        "model_pref(rf, X_train, X_test,y_train,y_test)"
      ],
      "execution_count": 43,
      "outputs": [
        {
          "output_type": "stream",
          "name": "stdout",
          "text": [
            "    Data  RSquared      RMSE       MAE\n",
            "0  Train  0.812191  3.915797  2.895988\n",
            "1   Test  0.730163  4.493456  3.534070\n"
          ]
        }
      ]
    },
    {
      "cell_type": "markdown",
      "metadata": {
        "id": "640IwF6VF4bH"
      },
      "source": [
        "**Write your answers here:_____**\n",
        "- The score for the model with only 1 transform primitive is ~73%. \n",
        "- This model is performing little better than pruned decision tree model.\n",
        "- Model is slightly overfitting."
      ]
    },
    {
      "cell_type": "markdown",
      "metadata": {
        "id": "thfsyR-RF4bH"
      },
      "source": [
        "### Step 4: Adding more Transform Primitives and creating new model\n",
        "\n",
        "* Add ``Minute``, ``Hour``, ``Month``, ``Weekday`` , etc primitives\n",
        "* All these transform primitives apply to ``datetime`` columns\n",
        "\n",
        "###  5: Creating a model with more transform primitives\n",
        "\n",
        "** 5.1 Define more transform primitives and define features using dfs?**"
      ]
    },
    {
      "cell_type": "code",
      "metadata": {
        "ExecuteTime": {
          "end_time": "2021-07-15T12:51:54.063760Z",
          "start_time": "2021-07-15T12:51:51.694558Z"
        },
        "id": "FiUB0gDkF4bH"
      },
      "source": [
        "trans_primitives = [Minute, Hour, Day, Month, Weekday, IsWeekend]\n",
        "\n",
        "features = ft.dfs(entities=entities,\n",
        "                  relationships=relationships,\n",
        "                  target_entity=\"trips\",\n",
        "                  trans_primitives=trans_primitives,\n",
        "                  agg_primitives=[],\n",
        "                  ignore_variables={\"trips\": [\"pickup_latitude\", \"pickup_longitude\",\n",
        "                                              \"dropoff_latitude\", \"dropoff_longitude\"]},\n",
        "                  features_only=True)"
      ],
      "execution_count": 44,
      "outputs": []
    },
    {
      "cell_type": "code",
      "metadata": {
        "ExecuteTime": {
          "end_time": "2021-07-15T12:52:31.456696Z",
          "start_time": "2021-07-15T12:52:31.362945Z"
        },
        "colab": {
          "base_uri": "https://localhost:8080/"
        },
        "id": "9WZXcjCUF4bH",
        "outputId": "cedc202d-a1a5-4b5b-dbc1-e2f3652d0898"
      },
      "source": [
        "print (\"Number of features: %d\" % len(features))\n",
        "features"
      ],
      "execution_count": 45,
      "outputs": [
        {
          "output_type": "stream",
          "name": "stdout",
          "text": [
            "Number of features: 23\n"
          ]
        },
        {
          "output_type": "execute_result",
          "data": {
            "text/plain": [
              "[<Feature: Transport_service>,\n",
              " <Feature: passenger_count>,\n",
              " <Feature: trip_distance>,\n",
              " <Feature: payment_type>,\n",
              " <Feature: trip_duration>,\n",
              " <Feature: pickup_neighborhood>,\n",
              " <Feature: dropoff_neighborhood>,\n",
              " <Feature: DAY(dropoff_datetime)>,\n",
              " <Feature: DAY(pickup_datetime)>,\n",
              " <Feature: HOUR(dropoff_datetime)>,\n",
              " <Feature: HOUR(pickup_datetime)>,\n",
              " <Feature: IS_WEEKEND(dropoff_datetime)>,\n",
              " <Feature: IS_WEEKEND(pickup_datetime)>,\n",
              " <Feature: MINUTE(dropoff_datetime)>,\n",
              " <Feature: MINUTE(pickup_datetime)>,\n",
              " <Feature: MONTH(dropoff_datetime)>,\n",
              " <Feature: MONTH(pickup_datetime)>,\n",
              " <Feature: WEEKDAY(dropoff_datetime)>,\n",
              " <Feature: WEEKDAY(pickup_datetime)>,\n",
              " <Feature: pickup_neighborhoods.latitude>,\n",
              " <Feature: pickup_neighborhoods.longitude>,\n",
              " <Feature: dropoff_neighborhoods.latitude>,\n",
              " <Feature: dropoff_neighborhoods.longitude>]"
            ]
          },
          "metadata": {},
          "execution_count": 45
        }
      ]
    },
    {
      "cell_type": "markdown",
      "metadata": {
        "id": "lVyNvPHBF4bI"
      },
      "source": [
        "Now let's compute the features. "
      ]
    },
    {
      "cell_type": "markdown",
      "metadata": {
        "id": "NNk_smdZF4bI"
      },
      "source": [
        "**Question: 5.2 Compute features and define feature matrix**"
      ]
    },
    {
      "cell_type": "code",
      "metadata": {
        "ExecuteTime": {
          "end_time": "2021-07-15T12:52:48.471903Z",
          "start_time": "2021-07-15T12:52:34.218475Z"
        },
        "colab": {
          "base_uri": "https://localhost:8080/"
        },
        "id": "9CGs9CrMF4bI",
        "outputId": "df258fd6-c0b6-4028-e28f-1d40352b7022"
      },
      "source": [
        "feature_matrix2 = compute_features(features, cutoff_time)"
      ],
      "execution_count": 46,
      "outputs": [
        {
          "output_type": "stream",
          "name": "stdout",
          "text": [
            "Elapsed: 00:00 | Progress: 100%|██████████\n",
            "Finishing computing...\n"
          ]
        }
      ]
    },
    {
      "cell_type": "code",
      "metadata": {
        "ExecuteTime": {
          "end_time": "2021-07-15T12:52:50.630760Z",
          "start_time": "2021-07-15T12:52:50.137051Z"
        },
        "colab": {
          "base_uri": "https://localhost:8080/"
        },
        "id": "-T5W3Xq6F4bI",
        "outputId": "21209126-ed24-47cf-cb7d-075509c49136"
      },
      "source": [
        "feature_matrix2.shape"
      ],
      "execution_count": 47,
      "outputs": [
        {
          "output_type": "execute_result",
          "data": {
            "text/plain": [
              "(1452, 41)"
            ]
          },
          "metadata": {},
          "execution_count": 47
        }
      ]
    },
    {
      "cell_type": "code",
      "metadata": {
        "colab": {
          "base_uri": "https://localhost:8080/",
          "height": 275
        },
        "id": "m_ZhWmOCF4bI",
        "outputId": "af90da0f-c8a7-4757-9258-6220a731b2ef"
      },
      "source": [
        "feature_matrix2.head()"
      ],
      "execution_count": 48,
      "outputs": [
        {
          "output_type": "execute_result",
          "data": {
            "text/html": [
              "<div>\n",
              "<style scoped>\n",
              "    .dataframe tbody tr th:only-of-type {\n",
              "        vertical-align: middle;\n",
              "    }\n",
              "\n",
              "    .dataframe tbody tr th {\n",
              "        vertical-align: top;\n",
              "    }\n",
              "\n",
              "    .dataframe thead th {\n",
              "        text-align: right;\n",
              "    }\n",
              "</style>\n",
              "<table border=\"1\" class=\"dataframe\">\n",
              "  <thead>\n",
              "    <tr style=\"text-align: right;\">\n",
              "      <th></th>\n",
              "      <th>pickup_neighborhood = AD</th>\n",
              "      <th>pickup_neighborhood = AR</th>\n",
              "      <th>pickup_neighborhood = AT</th>\n",
              "      <th>pickup_neighborhood = AM</th>\n",
              "      <th>pickup_neighborhood = AC</th>\n",
              "      <th>pickup_neighborhood = P</th>\n",
              "      <th>pickup_neighborhood = AO</th>\n",
              "      <th>pickup_neighborhood = N</th>\n",
              "      <th>pickup_neighborhood = I</th>\n",
              "      <th>pickup_neighborhood = R</th>\n",
              "      <th>MINUTE(pickup_datetime)</th>\n",
              "      <th>trip_duration</th>\n",
              "      <th>payment_type</th>\n",
              "      <th>dropoff_neighborhood = AM</th>\n",
              "      <th>dropoff_neighborhood = Y</th>\n",
              "      <th>dropoff_neighborhood = AT</th>\n",
              "      <th>dropoff_neighborhood = C</th>\n",
              "      <th>dropoff_neighborhood = W</th>\n",
              "      <th>dropoff_neighborhood = AD</th>\n",
              "      <th>dropoff_neighborhood = Z</th>\n",
              "      <th>dropoff_neighborhood = P</th>\n",
              "      <th>dropoff_neighborhood = I</th>\n",
              "      <th>dropoff_neighborhood = N</th>\n",
              "      <th>pickup_neighborhoods.longitude</th>\n",
              "      <th>MONTH(dropoff_datetime)</th>\n",
              "      <th>MONTH(pickup_datetime)</th>\n",
              "      <th>HOUR(pickup_datetime)</th>\n",
              "      <th>passenger_count</th>\n",
              "      <th>IS_WEEKEND(pickup_datetime)</th>\n",
              "      <th>Transport_service</th>\n",
              "      <th>MINUTE(dropoff_datetime)</th>\n",
              "      <th>WEEKDAY(dropoff_datetime)</th>\n",
              "      <th>IS_WEEKEND(dropoff_datetime)</th>\n",
              "      <th>DAY(pickup_datetime)</th>\n",
              "      <th>pickup_neighborhoods.latitude</th>\n",
              "      <th>dropoff_neighborhoods.latitude</th>\n",
              "      <th>WEEKDAY(pickup_datetime)</th>\n",
              "      <th>HOUR(dropoff_datetime)</th>\n",
              "      <th>DAY(dropoff_datetime)</th>\n",
              "      <th>dropoff_neighborhoods.longitude</th>\n",
              "      <th>trip_distance</th>\n",
              "    </tr>\n",
              "    <tr>\n",
              "      <th>id</th>\n",
              "      <th></th>\n",
              "      <th></th>\n",
              "      <th></th>\n",
              "      <th></th>\n",
              "      <th></th>\n",
              "      <th></th>\n",
              "      <th></th>\n",
              "      <th></th>\n",
              "      <th></th>\n",
              "      <th></th>\n",
              "      <th></th>\n",
              "      <th></th>\n",
              "      <th></th>\n",
              "      <th></th>\n",
              "      <th></th>\n",
              "      <th></th>\n",
              "      <th></th>\n",
              "      <th></th>\n",
              "      <th></th>\n",
              "      <th></th>\n",
              "      <th></th>\n",
              "      <th></th>\n",
              "      <th></th>\n",
              "      <th></th>\n",
              "      <th></th>\n",
              "      <th></th>\n",
              "      <th></th>\n",
              "      <th></th>\n",
              "      <th></th>\n",
              "      <th></th>\n",
              "      <th></th>\n",
              "      <th></th>\n",
              "      <th></th>\n",
              "      <th></th>\n",
              "      <th></th>\n",
              "      <th></th>\n",
              "      <th></th>\n",
              "      <th></th>\n",
              "      <th></th>\n",
              "      <th></th>\n",
              "      <th></th>\n",
              "    </tr>\n",
              "  </thead>\n",
              "  <tbody>\n",
              "    <tr>\n",
              "      <th>0</th>\n",
              "      <td>False</td>\n",
              "      <td>False</td>\n",
              "      <td>False</td>\n",
              "      <td>False</td>\n",
              "      <td>False</td>\n",
              "      <td>False</td>\n",
              "      <td>False</td>\n",
              "      <td>False</td>\n",
              "      <td>False</td>\n",
              "      <td>False</td>\n",
              "      <td>0</td>\n",
              "      <td>387</td>\n",
              "      <td>3</td>\n",
              "      <td>False</td>\n",
              "      <td>False</td>\n",
              "      <td>False</td>\n",
              "      <td>True</td>\n",
              "      <td>False</td>\n",
              "      <td>False</td>\n",
              "      <td>False</td>\n",
              "      <td>False</td>\n",
              "      <td>False</td>\n",
              "      <td>False</td>\n",
              "      <td>-73.961716</td>\n",
              "      <td>1</td>\n",
              "      <td>1</td>\n",
              "      <td>0</td>\n",
              "      <td>1</td>\n",
              "      <td>False</td>\n",
              "      <td>3</td>\n",
              "      <td>6</td>\n",
              "      <td>1</td>\n",
              "      <td>False</td>\n",
              "      <td>1</td>\n",
              "      <td>40.804349</td>\n",
              "      <td>40.783780</td>\n",
              "      <td>1</td>\n",
              "      <td>0</td>\n",
              "      <td>1</td>\n",
              "      <td>-73.953145</td>\n",
              "      <td>1.32</td>\n",
              "    </tr>\n",
              "    <tr>\n",
              "      <th>1</th>\n",
              "      <td>False</td>\n",
              "      <td>False</td>\n",
              "      <td>False</td>\n",
              "      <td>False</td>\n",
              "      <td>False</td>\n",
              "      <td>False</td>\n",
              "      <td>False</td>\n",
              "      <td>False</td>\n",
              "      <td>False</td>\n",
              "      <td>False</td>\n",
              "      <td>1</td>\n",
              "      <td>1568</td>\n",
              "      <td>3</td>\n",
              "      <td>False</td>\n",
              "      <td>False</td>\n",
              "      <td>False</td>\n",
              "      <td>False</td>\n",
              "      <td>False</td>\n",
              "      <td>False</td>\n",
              "      <td>False</td>\n",
              "      <td>False</td>\n",
              "      <td>False</td>\n",
              "      <td>False</td>\n",
              "      <td>-73.954298</td>\n",
              "      <td>1</td>\n",
              "      <td>1</td>\n",
              "      <td>0</td>\n",
              "      <td>3</td>\n",
              "      <td>False</td>\n",
              "      <td>1</td>\n",
              "      <td>27</td>\n",
              "      <td>1</td>\n",
              "      <td>False</td>\n",
              "      <td>1</td>\n",
              "      <td>40.715828</td>\n",
              "      <td>40.836792</td>\n",
              "      <td>1</td>\n",
              "      <td>0</td>\n",
              "      <td>1</td>\n",
              "      <td>-73.934381</td>\n",
              "      <td>13.70</td>\n",
              "    </tr>\n",
              "    <tr>\n",
              "      <th>2</th>\n",
              "      <td>False</td>\n",
              "      <td>False</td>\n",
              "      <td>False</td>\n",
              "      <td>False</td>\n",
              "      <td>False</td>\n",
              "      <td>False</td>\n",
              "      <td>False</td>\n",
              "      <td>False</td>\n",
              "      <td>False</td>\n",
              "      <td>False</td>\n",
              "      <td>1</td>\n",
              "      <td>1219</td>\n",
              "      <td>1</td>\n",
              "      <td>False</td>\n",
              "      <td>False</td>\n",
              "      <td>False</td>\n",
              "      <td>False</td>\n",
              "      <td>False</td>\n",
              "      <td>False</td>\n",
              "      <td>False</td>\n",
              "      <td>False</td>\n",
              "      <td>False</td>\n",
              "      <td>False</td>\n",
              "      <td>-73.992557</td>\n",
              "      <td>1</td>\n",
              "      <td>1</td>\n",
              "      <td>0</td>\n",
              "      <td>1</td>\n",
              "      <td>False</td>\n",
              "      <td>4</td>\n",
              "      <td>21</td>\n",
              "      <td>1</td>\n",
              "      <td>False</td>\n",
              "      <td>1</td>\n",
              "      <td>40.750179</td>\n",
              "      <td>40.818445</td>\n",
              "      <td>1</td>\n",
              "      <td>0</td>\n",
              "      <td>1</td>\n",
              "      <td>-73.948046</td>\n",
              "      <td>5.30</td>\n",
              "    </tr>\n",
              "    <tr>\n",
              "      <th>3</th>\n",
              "      <td>False</td>\n",
              "      <td>False</td>\n",
              "      <td>True</td>\n",
              "      <td>False</td>\n",
              "      <td>False</td>\n",
              "      <td>False</td>\n",
              "      <td>False</td>\n",
              "      <td>False</td>\n",
              "      <td>False</td>\n",
              "      <td>False</td>\n",
              "      <td>1</td>\n",
              "      <td>873</td>\n",
              "      <td>2</td>\n",
              "      <td>False</td>\n",
              "      <td>False</td>\n",
              "      <td>False</td>\n",
              "      <td>False</td>\n",
              "      <td>False</td>\n",
              "      <td>False</td>\n",
              "      <td>False</td>\n",
              "      <td>False</td>\n",
              "      <td>False</td>\n",
              "      <td>False</td>\n",
              "      <td>-73.981693</td>\n",
              "      <td>1</td>\n",
              "      <td>1</td>\n",
              "      <td>0</td>\n",
              "      <td>2</td>\n",
              "      <td>False</td>\n",
              "      <td>2</td>\n",
              "      <td>16</td>\n",
              "      <td>1</td>\n",
              "      <td>False</td>\n",
              "      <td>1</td>\n",
              "      <td>40.729670</td>\n",
              "      <td>40.799573</td>\n",
              "      <td>1</td>\n",
              "      <td>0</td>\n",
              "      <td>1</td>\n",
              "      <td>-73.940427</td>\n",
              "      <td>7.19</td>\n",
              "    </tr>\n",
              "    <tr>\n",
              "      <th>4</th>\n",
              "      <td>False</td>\n",
              "      <td>False</td>\n",
              "      <td>False</td>\n",
              "      <td>False</td>\n",
              "      <td>False</td>\n",
              "      <td>False</td>\n",
              "      <td>False</td>\n",
              "      <td>False</td>\n",
              "      <td>False</td>\n",
              "      <td>False</td>\n",
              "      <td>2</td>\n",
              "      <td>1091</td>\n",
              "      <td>1</td>\n",
              "      <td>False</td>\n",
              "      <td>False</td>\n",
              "      <td>False</td>\n",
              "      <td>False</td>\n",
              "      <td>False</td>\n",
              "      <td>False</td>\n",
              "      <td>False</td>\n",
              "      <td>False</td>\n",
              "      <td>False</td>\n",
              "      <td>False</td>\n",
              "      <td>-74.003458</td>\n",
              "      <td>1</td>\n",
              "      <td>1</td>\n",
              "      <td>0</td>\n",
              "      <td>2</td>\n",
              "      <td>False</td>\n",
              "      <td>1</td>\n",
              "      <td>20</td>\n",
              "      <td>1</td>\n",
              "      <td>False</td>\n",
              "      <td>1</td>\n",
              "      <td>40.749843</td>\n",
              "      <td>40.776270</td>\n",
              "      <td>1</td>\n",
              "      <td>0</td>\n",
              "      <td>1</td>\n",
              "      <td>-73.982322</td>\n",
              "      <td>2.90</td>\n",
              "    </tr>\n",
              "  </tbody>\n",
              "</table>\n",
              "</div>"
            ],
            "text/plain": [
              "    pickup_neighborhood = AD  ...  trip_distance\n",
              "id                            ...               \n",
              "0                      False  ...           1.32\n",
              "1                      False  ...          13.70\n",
              "2                      False  ...           5.30\n",
              "3                      False  ...           7.19\n",
              "4                      False  ...           2.90\n",
              "\n",
              "[5 rows x 41 columns]"
            ]
          },
          "metadata": {},
          "execution_count": 48
        }
      ]
    },
    {
      "cell_type": "markdown",
      "metadata": {
        "id": "kkUspPrdF4bI"
      },
      "source": [
        "### Build the new models more transform features"
      ]
    },
    {
      "cell_type": "code",
      "metadata": {
        "ExecuteTime": {
          "end_time": "2021-07-15T12:55:38.459145Z",
          "start_time": "2021-07-15T12:55:32.592515Z"
        },
        "id": "v8BufyQRF4bI"
      },
      "source": [
        "# separates the whole feature matrix into train data feature matrix,\n",
        "# train data labels, and test data feature matrix \n",
        "X_train2, y_train2, X_test2, y_test2 = get_train_test_fm(feature_matrix2,.75)\n",
        "y_train2 = np.sqrt(y_train2)\n",
        "y_test2 = np.sqrt(y_test2)"
      ],
      "execution_count": 49,
      "outputs": []
    },
    {
      "cell_type": "markdown",
      "metadata": {
        "id": "cAGjrv6TF4bI"
      },
      "source": [
        "####  5.3 Building Linear regression using more transform primitive"
      ]
    },
    {
      "cell_type": "code",
      "metadata": {
        "colab": {
          "base_uri": "https://localhost:8080/"
        },
        "id": "p4_ULMzmF4bI",
        "outputId": "91cc75a2-2a73-404f-f118-e3bb54b06a33"
      },
      "source": [
        "lr2=LinearRegression()\n",
        "\n",
        "lr2.fit(X_train2,y_train2)"
      ],
      "execution_count": 50,
      "outputs": [
        {
          "output_type": "execute_result",
          "data": {
            "text/plain": [
              "LinearRegression()"
            ]
          },
          "metadata": {},
          "execution_count": 50
        }
      ]
    },
    {
      "cell_type": "markdown",
      "metadata": {
        "id": "CxcbUK1yF4bJ"
      },
      "source": [
        "#### Check the performance of the model"
      ]
    },
    {
      "cell_type": "code",
      "metadata": {
        "colab": {
          "base_uri": "https://localhost:8080/"
        },
        "id": "1PE44F6KF4bJ",
        "outputId": "e4d4e79b-6b2c-4179-95de-1a5b73c08d1f"
      },
      "source": [
        "model_pref(lr2, X_train2, X_test2,y_train2,y_test2)  "
      ],
      "execution_count": 51,
      "outputs": [
        {
          "output_type": "stream",
          "name": "stdout",
          "text": [
            "    Data  RSquared      RMSE       MAE\n",
            "0  Train  0.961386  1.775561  1.308939\n",
            "1   Test  0.954040  1.854476  1.408293\n"
          ]
        }
      ]
    },
    {
      "cell_type": "markdown",
      "metadata": {
        "id": "YZ-1_fhNF4bJ"
      },
      "source": [
        "**Write your answers here:_____**\n",
        "- Model is giving 0.95 Rsquared, with RSME of 1.8 and MAE of ~1.40.\n",
        "- Model performance has improved from the last model by adding more transform primitives\n",
        "- Model is not overfitting, and giving generalized results."
      ]
    },
    {
      "cell_type": "markdown",
      "metadata": {
        "id": "wsNloBrNF4bJ"
      },
      "source": [
        "####  5.4 Building Decision tree using more transform primitive"
      ]
    },
    {
      "cell_type": "code",
      "metadata": {
        "colab": {
          "base_uri": "https://localhost:8080/"
        },
        "id": "V2FbO3jNF4bJ",
        "outputId": "30ba5299-eebc-433d-ef67-20b2c749e842"
      },
      "source": [
        "dt2=DecisionTreeRegressor()\n",
        "\n",
        "dt2.fit(X_train2,y_train2)"
      ],
      "execution_count": 52,
      "outputs": [
        {
          "output_type": "execute_result",
          "data": {
            "text/plain": [
              "DecisionTreeRegressor()"
            ]
          },
          "metadata": {},
          "execution_count": 52
        }
      ]
    },
    {
      "cell_type": "markdown",
      "metadata": {
        "id": "lydPQZWmF4bJ"
      },
      "source": [
        "#### Check the performance of the model"
      ]
    },
    {
      "cell_type": "code",
      "metadata": {
        "colab": {
          "base_uri": "https://localhost:8080/"
        },
        "id": "1f2En2gvF4bJ",
        "outputId": "a60e98ad-6b4c-48d4-f5bc-7146fd949b4b"
      },
      "source": [
        "model_pref(dt2, X_train2, X_test2,y_train2,y_test2)  "
      ],
      "execution_count": 53,
      "outputs": [
        {
          "output_type": "stream",
          "name": "stdout",
          "text": [
            "    Data  RSquared      RMSE       MAE\n",
            "0  Train  1.000000  0.000000  0.000000\n",
            "1   Test  0.491941  6.165763  4.630983\n"
          ]
        }
      ]
    },
    {
      "cell_type": "markdown",
      "metadata": {
        "id": "9YbiZy3hF4bJ"
      },
      "source": [
        "**Write your answers here:_____**\n",
        "- The model is overfitting a lot, with train R2 as 1 while test R2 as 0.48.\n",
        "- This generally happens in decision tree, one solution for this is to Prune the decision tree, let's try pruning and see if the performance improves. "
      ]
    },
    {
      "cell_type": "markdown",
      "metadata": {
        "id": "VTp50c8CF4bJ"
      },
      "source": [
        "####  5.5 Building Pruned Decision tree using more transform primitive"
      ]
    },
    {
      "cell_type": "code",
      "metadata": {
        "colab": {
          "base_uri": "https://localhost:8080/"
        },
        "id": "U7ipsj4TF4bJ",
        "outputId": "8c57954b-6990-4043-9666-9d532599ae98"
      },
      "source": [
        "dt_pruned2=DecisionTreeRegressor(max_depth=4)\n",
        "\n",
        "dt_pruned2.fit(X_train2,y_train2)"
      ],
      "execution_count": 54,
      "outputs": [
        {
          "output_type": "execute_result",
          "data": {
            "text/plain": [
              "DecisionTreeRegressor(max_depth=4)"
            ]
          },
          "metadata": {},
          "execution_count": 54
        }
      ]
    },
    {
      "cell_type": "markdown",
      "metadata": {
        "id": "YfKx-eKCF4bK"
      },
      "source": [
        "#### Check the performance of the model"
      ]
    },
    {
      "cell_type": "code",
      "metadata": {
        "colab": {
          "base_uri": "https://localhost:8080/"
        },
        "id": "ae6ZOjoCF4bK",
        "outputId": "05577144-2c8d-462d-9af2-3f324ab86559"
      },
      "source": [
        "model_pref(dt_pruned2, X_train2, X_test2,y_train2,y_test2)  "
      ],
      "execution_count": 55,
      "outputs": [
        {
          "output_type": "stream",
          "name": "stdout",
          "text": [
            "    Data  RSquared      RMSE       MAE\n",
            "0  Train  0.782259  4.216308  3.142310\n",
            "1   Test  0.707492  4.678412  3.642763\n"
          ]
        }
      ]
    },
    {
      "cell_type": "markdown",
      "metadata": {
        "id": "qayieq4GF4bK"
      },
      "source": [
        "**Write your answers here:_____**\n",
        "- Model is giving ~0.70 Rsquared, with RSME of 4.67 and MAE of ~3.64.\n",
        "- Model performance has improved by adding more transform features. \n",
        "- Model is slightly overfitting."
      ]
    },
    {
      "cell_type": "markdown",
      "metadata": {
        "id": "8SwDixUkF4bK"
      },
      "source": [
        "####  5.6 Building Random Forest using more transform primitive"
      ]
    },
    {
      "cell_type": "code",
      "metadata": {
        "colab": {
          "base_uri": "https://localhost:8080/"
        },
        "id": "Nhppean-F4bK",
        "outputId": "e64d795d-2872-4821-da58-3ecd70699279"
      },
      "source": [
        "rf2=RandomForestRegressor(n_estimators=60,max_depth=4)\n",
        "\n",
        "rf2.fit(X_train2,y_train2)"
      ],
      "execution_count": 56,
      "outputs": [
        {
          "output_type": "execute_result",
          "data": {
            "text/plain": [
              "RandomForestRegressor(max_depth=4, n_estimators=60)"
            ]
          },
          "metadata": {},
          "execution_count": 56
        }
      ]
    },
    {
      "cell_type": "markdown",
      "metadata": {
        "id": "p3PViEybF4bK"
      },
      "source": [
        "#### Check the performance of the model"
      ]
    },
    {
      "cell_type": "code",
      "metadata": {
        "colab": {
          "base_uri": "https://localhost:8080/"
        },
        "id": "CDNXph_jF4bK",
        "outputId": "6452f729-4fd7-4044-f31f-5829e5a36a90"
      },
      "source": [
        "model_pref(rf2, X_train2, X_test2,y_train2,y_test2)  "
      ],
      "execution_count": 57,
      "outputs": [
        {
          "output_type": "stream",
          "name": "stdout",
          "text": [
            "    Data  RSquared      RMSE       MAE\n",
            "0  Train  0.813561  3.901491  2.898272\n",
            "1   Test  0.744748  4.370327  3.463720\n"
          ]
        }
      ]
    },
    {
      "cell_type": "markdown",
      "metadata": {
        "id": "O_E33djQF4bL"
      },
      "source": [
        "**Write your answers here:_____**\n",
        "- The score for the model with more transform primitive is ~74%. \n",
        "- As compared to previous model, the score has improved significantly."
      ]
    },
    {
      "cell_type": "markdown",
      "metadata": {
        "id": "aeZQoF5SF4bM"
      },
      "source": [
        "### Step 5: Add Aggregation Primitives\n",
        "\n",
        "Now let's add aggregation primitives. These primitives will generate features for the parent entities ``pickup_neighborhoods``, and ``dropoff_neighborhood`` and then add them to the trips entity, which is the entity for which we are trying to make prediction."
      ]
    },
    {
      "cell_type": "markdown",
      "metadata": {
        "id": "czwCtnRXF4bM"
      },
      "source": [
        "###  6: Creating a Model with transform and aggregate primitive. \n",
        "**6.1 Define more transform and aggregate primitive and define features using dfs?**"
      ]
    },
    {
      "cell_type": "code",
      "metadata": {
        "ExecuteTime": {
          "end_time": "2021-07-15T12:59:43.977607Z",
          "start_time": "2021-07-15T12:59:41.353328Z"
        },
        "id": "59RYFnGLF4bM"
      },
      "source": [
        "trans_primitives = [Minute, Hour, Day, Month, Weekday, IsWeekend]\n",
        "aggregation_primitives = [Count, Sum, Mean, Median, Std, Max, Min]\n",
        "\n",
        "features = ft.dfs(entities=entities,\n",
        "                  relationships=relationships,\n",
        "                  target_entity=\"trips\",\n",
        "                  trans_primitives=trans_primitives,\n",
        "                  agg_primitives=aggregation_primitives,\n",
        "                  ignore_variables={\"trips\": [\"pickup_latitude\", \"pickup_longitude\",\n",
        "                                              \"dropoff_latitude\", \"dropoff_longitude\"]},\n",
        "                  features_only=True)"
      ],
      "execution_count": 58,
      "outputs": []
    },
    {
      "cell_type": "code",
      "metadata": {
        "ExecuteTime": {
          "end_time": "2021-07-15T12:59:45.888070Z",
          "start_time": "2021-07-15T12:59:45.782499Z"
        },
        "colab": {
          "base_uri": "https://localhost:8080/"
        },
        "id": "CPx--wMSF4bM",
        "scrolled": false,
        "outputId": "27af71e3-c695-40d2-a0a8-10f3c4accb7e"
      },
      "source": [
        "print (\"Number of features: %d\" % len(features))\n",
        "features"
      ],
      "execution_count": 59,
      "outputs": [
        {
          "output_type": "stream",
          "name": "stdout",
          "text": [
            "Number of features: 73\n"
          ]
        },
        {
          "output_type": "execute_result",
          "data": {
            "text/plain": [
              "[<Feature: Transport_service>,\n",
              " <Feature: passenger_count>,\n",
              " <Feature: trip_distance>,\n",
              " <Feature: payment_type>,\n",
              " <Feature: trip_duration>,\n",
              " <Feature: pickup_neighborhood>,\n",
              " <Feature: dropoff_neighborhood>,\n",
              " <Feature: DAY(dropoff_datetime)>,\n",
              " <Feature: DAY(pickup_datetime)>,\n",
              " <Feature: HOUR(dropoff_datetime)>,\n",
              " <Feature: HOUR(pickup_datetime)>,\n",
              " <Feature: IS_WEEKEND(dropoff_datetime)>,\n",
              " <Feature: IS_WEEKEND(pickup_datetime)>,\n",
              " <Feature: MINUTE(dropoff_datetime)>,\n",
              " <Feature: MINUTE(pickup_datetime)>,\n",
              " <Feature: MONTH(dropoff_datetime)>,\n",
              " <Feature: MONTH(pickup_datetime)>,\n",
              " <Feature: WEEKDAY(dropoff_datetime)>,\n",
              " <Feature: WEEKDAY(pickup_datetime)>,\n",
              " <Feature: pickup_neighborhoods.latitude>,\n",
              " <Feature: pickup_neighborhoods.longitude>,\n",
              " <Feature: dropoff_neighborhoods.latitude>,\n",
              " <Feature: dropoff_neighborhoods.longitude>,\n",
              " <Feature: pickup_neighborhoods.COUNT(trips)>,\n",
              " <Feature: pickup_neighborhoods.MAX(trips.Transport_service)>,\n",
              " <Feature: pickup_neighborhoods.MAX(trips.passenger_count)>,\n",
              " <Feature: pickup_neighborhoods.MAX(trips.trip_distance)>,\n",
              " <Feature: pickup_neighborhoods.MAX(trips.trip_duration)>,\n",
              " <Feature: pickup_neighborhoods.MEAN(trips.Transport_service)>,\n",
              " <Feature: pickup_neighborhoods.MEAN(trips.passenger_count)>,\n",
              " <Feature: pickup_neighborhoods.MEAN(trips.trip_distance)>,\n",
              " <Feature: pickup_neighborhoods.MEAN(trips.trip_duration)>,\n",
              " <Feature: pickup_neighborhoods.MEDIAN(trips.Transport_service)>,\n",
              " <Feature: pickup_neighborhoods.MEDIAN(trips.passenger_count)>,\n",
              " <Feature: pickup_neighborhoods.MEDIAN(trips.trip_distance)>,\n",
              " <Feature: pickup_neighborhoods.MEDIAN(trips.trip_duration)>,\n",
              " <Feature: pickup_neighborhoods.MIN(trips.Transport_service)>,\n",
              " <Feature: pickup_neighborhoods.MIN(trips.passenger_count)>,\n",
              " <Feature: pickup_neighborhoods.MIN(trips.trip_distance)>,\n",
              " <Feature: pickup_neighborhoods.MIN(trips.trip_duration)>,\n",
              " <Feature: pickup_neighborhoods.STD(trips.Transport_service)>,\n",
              " <Feature: pickup_neighborhoods.STD(trips.passenger_count)>,\n",
              " <Feature: pickup_neighborhoods.STD(trips.trip_distance)>,\n",
              " <Feature: pickup_neighborhoods.STD(trips.trip_duration)>,\n",
              " <Feature: pickup_neighborhoods.SUM(trips.Transport_service)>,\n",
              " <Feature: pickup_neighborhoods.SUM(trips.passenger_count)>,\n",
              " <Feature: pickup_neighborhoods.SUM(trips.trip_distance)>,\n",
              " <Feature: pickup_neighborhoods.SUM(trips.trip_duration)>,\n",
              " <Feature: dropoff_neighborhoods.COUNT(trips)>,\n",
              " <Feature: dropoff_neighborhoods.MAX(trips.Transport_service)>,\n",
              " <Feature: dropoff_neighborhoods.MAX(trips.passenger_count)>,\n",
              " <Feature: dropoff_neighborhoods.MAX(trips.trip_distance)>,\n",
              " <Feature: dropoff_neighborhoods.MAX(trips.trip_duration)>,\n",
              " <Feature: dropoff_neighborhoods.MEAN(trips.Transport_service)>,\n",
              " <Feature: dropoff_neighborhoods.MEAN(trips.passenger_count)>,\n",
              " <Feature: dropoff_neighborhoods.MEAN(trips.trip_distance)>,\n",
              " <Feature: dropoff_neighborhoods.MEAN(trips.trip_duration)>,\n",
              " <Feature: dropoff_neighborhoods.MEDIAN(trips.Transport_service)>,\n",
              " <Feature: dropoff_neighborhoods.MEDIAN(trips.passenger_count)>,\n",
              " <Feature: dropoff_neighborhoods.MEDIAN(trips.trip_distance)>,\n",
              " <Feature: dropoff_neighborhoods.MEDIAN(trips.trip_duration)>,\n",
              " <Feature: dropoff_neighborhoods.MIN(trips.Transport_service)>,\n",
              " <Feature: dropoff_neighborhoods.MIN(trips.passenger_count)>,\n",
              " <Feature: dropoff_neighborhoods.MIN(trips.trip_distance)>,\n",
              " <Feature: dropoff_neighborhoods.MIN(trips.trip_duration)>,\n",
              " <Feature: dropoff_neighborhoods.STD(trips.Transport_service)>,\n",
              " <Feature: dropoff_neighborhoods.STD(trips.passenger_count)>,\n",
              " <Feature: dropoff_neighborhoods.STD(trips.trip_distance)>,\n",
              " <Feature: dropoff_neighborhoods.STD(trips.trip_duration)>,\n",
              " <Feature: dropoff_neighborhoods.SUM(trips.Transport_service)>,\n",
              " <Feature: dropoff_neighborhoods.SUM(trips.passenger_count)>,\n",
              " <Feature: dropoff_neighborhoods.SUM(trips.trip_distance)>,\n",
              " <Feature: dropoff_neighborhoods.SUM(trips.trip_duration)>]"
            ]
          },
          "metadata": {},
          "execution_count": 59
        }
      ]
    },
    {
      "cell_type": "markdown",
      "metadata": {
        "id": "Soh7EPPFF4bM"
      },
      "source": [
        "**Question: 6.2 Compute features and define feature matrix**"
      ]
    },
    {
      "cell_type": "code",
      "metadata": {
        "ExecuteTime": {
          "end_time": "2021-07-09T11:13:54.617340Z",
          "start_time": "2021-07-09T11:13:28.226824Z"
        },
        "colab": {
          "base_uri": "https://localhost:8080/"
        },
        "id": "kcYsMKlAF4bM",
        "outputId": "0b6cb9ca-869d-48b9-afc5-c307571db9d5"
      },
      "source": [
        "feature_matrix3 = compute_features(features, cutoff_time)"
      ],
      "execution_count": 60,
      "outputs": [
        {
          "output_type": "stream",
          "name": "stdout",
          "text": [
            "Elapsed: 00:00 | Progress: 100%|██████████\n",
            "Finishing computing...\n"
          ]
        }
      ]
    },
    {
      "cell_type": "code",
      "metadata": {
        "ExecuteTime": {
          "end_time": "2021-07-09T11:14:02.858716Z",
          "start_time": "2021-07-09T11:14:02.439924Z"
        },
        "colab": {
          "base_uri": "https://localhost:8080/",
          "height": 304
        },
        "id": "ZzqwPwy1F4bN",
        "outputId": "05f4c307-dda5-4dca-aa4b-c9da405b75ac"
      },
      "source": [
        "feature_matrix3.head()"
      ],
      "execution_count": 61,
      "outputs": [
        {
          "output_type": "execute_result",
          "data": {
            "text/html": [
              "<div>\n",
              "<style scoped>\n",
              "    .dataframe tbody tr th:only-of-type {\n",
              "        vertical-align: middle;\n",
              "    }\n",
              "\n",
              "    .dataframe tbody tr th {\n",
              "        vertical-align: top;\n",
              "    }\n",
              "\n",
              "    .dataframe thead th {\n",
              "        text-align: right;\n",
              "    }\n",
              "</style>\n",
              "<table border=\"1\" class=\"dataframe\">\n",
              "  <thead>\n",
              "    <tr style=\"text-align: right;\">\n",
              "      <th></th>\n",
              "      <th>dropoff_neighborhoods.MEDIAN(trips.passenger_count)</th>\n",
              "      <th>dropoff_neighborhoods.MAX(trips.passenger_count)</th>\n",
              "      <th>pickup_neighborhoods.MAX(trips.trip_distance)</th>\n",
              "      <th>dropoff_neighborhoods.MEDIAN(trips.trip_distance)</th>\n",
              "      <th>DAY(dropoff_datetime)</th>\n",
              "      <th>trip_distance</th>\n",
              "      <th>dropoff_neighborhood = AM</th>\n",
              "      <th>dropoff_neighborhood = Y</th>\n",
              "      <th>dropoff_neighborhood = AT</th>\n",
              "      <th>dropoff_neighborhood = C</th>\n",
              "      <th>dropoff_neighborhood = W</th>\n",
              "      <th>dropoff_neighborhood = AD</th>\n",
              "      <th>dropoff_neighborhood = Z</th>\n",
              "      <th>dropoff_neighborhood = P</th>\n",
              "      <th>dropoff_neighborhood = I</th>\n",
              "      <th>dropoff_neighborhood = N</th>\n",
              "      <th>dropoff_neighborhoods.STD(trips.passenger_count)</th>\n",
              "      <th>pickup_neighborhoods.MEDIAN(trips.Transport_service)</th>\n",
              "      <th>dropoff_neighborhoods.SUM(trips.trip_duration)</th>\n",
              "      <th>dropoff_neighborhoods.SUM(trips.Transport_service)</th>\n",
              "      <th>pickup_neighborhoods.COUNT(trips)</th>\n",
              "      <th>dropoff_neighborhoods.STD(trips.trip_duration)</th>\n",
              "      <th>dropoff_neighborhoods.MIN(trips.trip_distance)</th>\n",
              "      <th>dropoff_neighborhoods.MIN(trips.Transport_service)</th>\n",
              "      <th>pickup_neighborhoods.longitude</th>\n",
              "      <th>dropoff_neighborhoods.MIN(trips.trip_duration)</th>\n",
              "      <th>dropoff_neighborhoods.MAX(trips.trip_distance)</th>\n",
              "      <th>dropoff_neighborhoods.MEDIAN(trips.Transport_service)</th>\n",
              "      <th>pickup_neighborhoods.MIN(trips.passenger_count)</th>\n",
              "      <th>dropoff_neighborhoods.MEAN(trips.Transport_service)</th>\n",
              "      <th>IS_WEEKEND(pickup_datetime)</th>\n",
              "      <th>pickup_neighborhoods.MIN(trips.trip_duration)</th>\n",
              "      <th>HOUR(pickup_datetime)</th>\n",
              "      <th>dropoff_neighborhoods.MEDIAN(trips.trip_duration)</th>\n",
              "      <th>pickup_neighborhoods.MAX(trips.Transport_service)</th>\n",
              "      <th>dropoff_neighborhoods.SUM(trips.passenger_count)</th>\n",
              "      <th>DAY(pickup_datetime)</th>\n",
              "      <th>HOUR(dropoff_datetime)</th>\n",
              "      <th>trip_duration</th>\n",
              "      <th>WEEKDAY(pickup_datetime)</th>\n",
              "      <th>...</th>\n",
              "      <th>dropoff_neighborhoods.COUNT(trips)</th>\n",
              "      <th>pickup_neighborhoods.SUM(trips.trip_distance)</th>\n",
              "      <th>pickup_neighborhoods.STD(trips.trip_duration)</th>\n",
              "      <th>pickup_neighborhoods.MEDIAN(trips.trip_distance)</th>\n",
              "      <th>pickup_neighborhoods.STD(trips.Transport_service)</th>\n",
              "      <th>pickup_neighborhoods.MIN(trips.trip_distance)</th>\n",
              "      <th>dropoff_neighborhoods.MEAN(trips.trip_distance)</th>\n",
              "      <th>dropoff_neighborhoods.MEAN(trips.passenger_count)</th>\n",
              "      <th>MONTH(pickup_datetime)</th>\n",
              "      <th>dropoff_neighborhoods.STD(trips.trip_distance)</th>\n",
              "      <th>pickup_neighborhoods.MIN(trips.Transport_service)</th>\n",
              "      <th>passenger_count</th>\n",
              "      <th>pickup_neighborhoods.MEAN(trips.trip_distance)</th>\n",
              "      <th>pickup_neighborhoods.SUM(trips.passenger_count)</th>\n",
              "      <th>pickup_neighborhoods.MAX(trips.passenger_count)</th>\n",
              "      <th>dropoff_neighborhoods.MEAN(trips.trip_duration)</th>\n",
              "      <th>dropoff_neighborhoods.MAX(trips.trip_duration)</th>\n",
              "      <th>pickup_neighborhoods.MEDIAN(trips.passenger_count)</th>\n",
              "      <th>MONTH(dropoff_datetime)</th>\n",
              "      <th>dropoff_neighborhoods.MAX(trips.Transport_service)</th>\n",
              "      <th>pickup_neighborhoods.MEDIAN(trips.trip_duration)</th>\n",
              "      <th>MINUTE(dropoff_datetime)</th>\n",
              "      <th>Transport_service</th>\n",
              "      <th>pickup_neighborhoods.MAX(trips.trip_duration)</th>\n",
              "      <th>pickup_neighborhoods.MEAN(trips.passenger_count)</th>\n",
              "      <th>pickup_neighborhoods.SUM(trips.trip_duration)</th>\n",
              "      <th>pickup_neighborhoods.MEAN(trips.Transport_service)</th>\n",
              "      <th>MINUTE(pickup_datetime)</th>\n",
              "      <th>dropoff_neighborhoods.STD(trips.Transport_service)</th>\n",
              "      <th>pickup_neighborhoods.STD(trips.passenger_count)</th>\n",
              "      <th>pickup_neighborhood = AD</th>\n",
              "      <th>pickup_neighborhood = AR</th>\n",
              "      <th>pickup_neighborhood = AT</th>\n",
              "      <th>pickup_neighborhood = AM</th>\n",
              "      <th>pickup_neighborhood = AC</th>\n",
              "      <th>pickup_neighborhood = P</th>\n",
              "      <th>pickup_neighborhood = AO</th>\n",
              "      <th>pickup_neighborhood = N</th>\n",
              "      <th>pickup_neighborhood = I</th>\n",
              "      <th>pickup_neighborhood = R</th>\n",
              "    </tr>\n",
              "    <tr>\n",
              "      <th>id</th>\n",
              "      <th></th>\n",
              "      <th></th>\n",
              "      <th></th>\n",
              "      <th></th>\n",
              "      <th></th>\n",
              "      <th></th>\n",
              "      <th></th>\n",
              "      <th></th>\n",
              "      <th></th>\n",
              "      <th></th>\n",
              "      <th></th>\n",
              "      <th></th>\n",
              "      <th></th>\n",
              "      <th></th>\n",
              "      <th></th>\n",
              "      <th></th>\n",
              "      <th></th>\n",
              "      <th></th>\n",
              "      <th></th>\n",
              "      <th></th>\n",
              "      <th></th>\n",
              "      <th></th>\n",
              "      <th></th>\n",
              "      <th></th>\n",
              "      <th></th>\n",
              "      <th></th>\n",
              "      <th></th>\n",
              "      <th></th>\n",
              "      <th></th>\n",
              "      <th></th>\n",
              "      <th></th>\n",
              "      <th></th>\n",
              "      <th></th>\n",
              "      <th></th>\n",
              "      <th></th>\n",
              "      <th></th>\n",
              "      <th></th>\n",
              "      <th></th>\n",
              "      <th></th>\n",
              "      <th></th>\n",
              "      <th></th>\n",
              "      <th></th>\n",
              "      <th></th>\n",
              "      <th></th>\n",
              "      <th></th>\n",
              "      <th></th>\n",
              "      <th></th>\n",
              "      <th></th>\n",
              "      <th></th>\n",
              "      <th></th>\n",
              "      <th></th>\n",
              "      <th></th>\n",
              "      <th></th>\n",
              "      <th></th>\n",
              "      <th></th>\n",
              "      <th></th>\n",
              "      <th></th>\n",
              "      <th></th>\n",
              "      <th></th>\n",
              "      <th></th>\n",
              "      <th></th>\n",
              "      <th></th>\n",
              "      <th></th>\n",
              "      <th></th>\n",
              "      <th></th>\n",
              "      <th></th>\n",
              "      <th></th>\n",
              "      <th></th>\n",
              "      <th></th>\n",
              "      <th></th>\n",
              "      <th></th>\n",
              "      <th></th>\n",
              "      <th></th>\n",
              "      <th></th>\n",
              "      <th></th>\n",
              "      <th></th>\n",
              "      <th></th>\n",
              "      <th></th>\n",
              "      <th></th>\n",
              "      <th></th>\n",
              "      <th></th>\n",
              "    </tr>\n",
              "  </thead>\n",
              "  <tbody>\n",
              "    <tr>\n",
              "      <th>0</th>\n",
              "      <td>NaN</td>\n",
              "      <td>NaN</td>\n",
              "      <td>NaN</td>\n",
              "      <td>NaN</td>\n",
              "      <td>1</td>\n",
              "      <td>1.32</td>\n",
              "      <td>False</td>\n",
              "      <td>False</td>\n",
              "      <td>False</td>\n",
              "      <td>True</td>\n",
              "      <td>False</td>\n",
              "      <td>False</td>\n",
              "      <td>False</td>\n",
              "      <td>False</td>\n",
              "      <td>False</td>\n",
              "      <td>False</td>\n",
              "      <td>NaN</td>\n",
              "      <td>NaN</td>\n",
              "      <td>0.0</td>\n",
              "      <td>0.0</td>\n",
              "      <td>0.0</td>\n",
              "      <td>NaN</td>\n",
              "      <td>NaN</td>\n",
              "      <td>NaN</td>\n",
              "      <td>-73.961716</td>\n",
              "      <td>NaN</td>\n",
              "      <td>NaN</td>\n",
              "      <td>NaN</td>\n",
              "      <td>NaN</td>\n",
              "      <td>NaN</td>\n",
              "      <td>False</td>\n",
              "      <td>NaN</td>\n",
              "      <td>0</td>\n",
              "      <td>NaN</td>\n",
              "      <td>NaN</td>\n",
              "      <td>0.0</td>\n",
              "      <td>1</td>\n",
              "      <td>0</td>\n",
              "      <td>387</td>\n",
              "      <td>1</td>\n",
              "      <td>...</td>\n",
              "      <td>0.0</td>\n",
              "      <td>0.0</td>\n",
              "      <td>NaN</td>\n",
              "      <td>NaN</td>\n",
              "      <td>NaN</td>\n",
              "      <td>NaN</td>\n",
              "      <td>NaN</td>\n",
              "      <td>NaN</td>\n",
              "      <td>1</td>\n",
              "      <td>NaN</td>\n",
              "      <td>NaN</td>\n",
              "      <td>1</td>\n",
              "      <td>NaN</td>\n",
              "      <td>0.0</td>\n",
              "      <td>NaN</td>\n",
              "      <td>NaN</td>\n",
              "      <td>NaN</td>\n",
              "      <td>NaN</td>\n",
              "      <td>1</td>\n",
              "      <td>NaN</td>\n",
              "      <td>NaN</td>\n",
              "      <td>6</td>\n",
              "      <td>3</td>\n",
              "      <td>NaN</td>\n",
              "      <td>NaN</td>\n",
              "      <td>0.0</td>\n",
              "      <td>NaN</td>\n",
              "      <td>0</td>\n",
              "      <td>NaN</td>\n",
              "      <td>NaN</td>\n",
              "      <td>False</td>\n",
              "      <td>False</td>\n",
              "      <td>False</td>\n",
              "      <td>False</td>\n",
              "      <td>False</td>\n",
              "      <td>False</td>\n",
              "      <td>False</td>\n",
              "      <td>False</td>\n",
              "      <td>False</td>\n",
              "      <td>False</td>\n",
              "    </tr>\n",
              "    <tr>\n",
              "      <th>1</th>\n",
              "      <td>NaN</td>\n",
              "      <td>NaN</td>\n",
              "      <td>NaN</td>\n",
              "      <td>NaN</td>\n",
              "      <td>1</td>\n",
              "      <td>13.70</td>\n",
              "      <td>False</td>\n",
              "      <td>False</td>\n",
              "      <td>False</td>\n",
              "      <td>False</td>\n",
              "      <td>False</td>\n",
              "      <td>False</td>\n",
              "      <td>False</td>\n",
              "      <td>False</td>\n",
              "      <td>False</td>\n",
              "      <td>False</td>\n",
              "      <td>NaN</td>\n",
              "      <td>NaN</td>\n",
              "      <td>0.0</td>\n",
              "      <td>0.0</td>\n",
              "      <td>0.0</td>\n",
              "      <td>NaN</td>\n",
              "      <td>NaN</td>\n",
              "      <td>NaN</td>\n",
              "      <td>-73.954298</td>\n",
              "      <td>NaN</td>\n",
              "      <td>NaN</td>\n",
              "      <td>NaN</td>\n",
              "      <td>NaN</td>\n",
              "      <td>NaN</td>\n",
              "      <td>False</td>\n",
              "      <td>NaN</td>\n",
              "      <td>0</td>\n",
              "      <td>NaN</td>\n",
              "      <td>NaN</td>\n",
              "      <td>0.0</td>\n",
              "      <td>1</td>\n",
              "      <td>0</td>\n",
              "      <td>1568</td>\n",
              "      <td>1</td>\n",
              "      <td>...</td>\n",
              "      <td>0.0</td>\n",
              "      <td>0.0</td>\n",
              "      <td>NaN</td>\n",
              "      <td>NaN</td>\n",
              "      <td>NaN</td>\n",
              "      <td>NaN</td>\n",
              "      <td>NaN</td>\n",
              "      <td>NaN</td>\n",
              "      <td>1</td>\n",
              "      <td>NaN</td>\n",
              "      <td>NaN</td>\n",
              "      <td>3</td>\n",
              "      <td>NaN</td>\n",
              "      <td>0.0</td>\n",
              "      <td>NaN</td>\n",
              "      <td>NaN</td>\n",
              "      <td>NaN</td>\n",
              "      <td>NaN</td>\n",
              "      <td>1</td>\n",
              "      <td>NaN</td>\n",
              "      <td>NaN</td>\n",
              "      <td>27</td>\n",
              "      <td>1</td>\n",
              "      <td>NaN</td>\n",
              "      <td>NaN</td>\n",
              "      <td>0.0</td>\n",
              "      <td>NaN</td>\n",
              "      <td>1</td>\n",
              "      <td>NaN</td>\n",
              "      <td>NaN</td>\n",
              "      <td>False</td>\n",
              "      <td>False</td>\n",
              "      <td>False</td>\n",
              "      <td>False</td>\n",
              "      <td>False</td>\n",
              "      <td>False</td>\n",
              "      <td>False</td>\n",
              "      <td>False</td>\n",
              "      <td>False</td>\n",
              "      <td>False</td>\n",
              "    </tr>\n",
              "    <tr>\n",
              "      <th>2</th>\n",
              "      <td>NaN</td>\n",
              "      <td>NaN</td>\n",
              "      <td>NaN</td>\n",
              "      <td>NaN</td>\n",
              "      <td>1</td>\n",
              "      <td>5.30</td>\n",
              "      <td>False</td>\n",
              "      <td>False</td>\n",
              "      <td>False</td>\n",
              "      <td>False</td>\n",
              "      <td>False</td>\n",
              "      <td>False</td>\n",
              "      <td>False</td>\n",
              "      <td>False</td>\n",
              "      <td>False</td>\n",
              "      <td>False</td>\n",
              "      <td>NaN</td>\n",
              "      <td>NaN</td>\n",
              "      <td>0.0</td>\n",
              "      <td>0.0</td>\n",
              "      <td>0.0</td>\n",
              "      <td>NaN</td>\n",
              "      <td>NaN</td>\n",
              "      <td>NaN</td>\n",
              "      <td>-73.992557</td>\n",
              "      <td>NaN</td>\n",
              "      <td>NaN</td>\n",
              "      <td>NaN</td>\n",
              "      <td>NaN</td>\n",
              "      <td>NaN</td>\n",
              "      <td>False</td>\n",
              "      <td>NaN</td>\n",
              "      <td>0</td>\n",
              "      <td>NaN</td>\n",
              "      <td>NaN</td>\n",
              "      <td>0.0</td>\n",
              "      <td>1</td>\n",
              "      <td>0</td>\n",
              "      <td>1219</td>\n",
              "      <td>1</td>\n",
              "      <td>...</td>\n",
              "      <td>0.0</td>\n",
              "      <td>0.0</td>\n",
              "      <td>NaN</td>\n",
              "      <td>NaN</td>\n",
              "      <td>NaN</td>\n",
              "      <td>NaN</td>\n",
              "      <td>NaN</td>\n",
              "      <td>NaN</td>\n",
              "      <td>1</td>\n",
              "      <td>NaN</td>\n",
              "      <td>NaN</td>\n",
              "      <td>1</td>\n",
              "      <td>NaN</td>\n",
              "      <td>0.0</td>\n",
              "      <td>NaN</td>\n",
              "      <td>NaN</td>\n",
              "      <td>NaN</td>\n",
              "      <td>NaN</td>\n",
              "      <td>1</td>\n",
              "      <td>NaN</td>\n",
              "      <td>NaN</td>\n",
              "      <td>21</td>\n",
              "      <td>4</td>\n",
              "      <td>NaN</td>\n",
              "      <td>NaN</td>\n",
              "      <td>0.0</td>\n",
              "      <td>NaN</td>\n",
              "      <td>1</td>\n",
              "      <td>NaN</td>\n",
              "      <td>NaN</td>\n",
              "      <td>False</td>\n",
              "      <td>False</td>\n",
              "      <td>False</td>\n",
              "      <td>False</td>\n",
              "      <td>False</td>\n",
              "      <td>False</td>\n",
              "      <td>False</td>\n",
              "      <td>False</td>\n",
              "      <td>False</td>\n",
              "      <td>False</td>\n",
              "    </tr>\n",
              "    <tr>\n",
              "      <th>3</th>\n",
              "      <td>NaN</td>\n",
              "      <td>NaN</td>\n",
              "      <td>NaN</td>\n",
              "      <td>NaN</td>\n",
              "      <td>1</td>\n",
              "      <td>7.19</td>\n",
              "      <td>False</td>\n",
              "      <td>False</td>\n",
              "      <td>False</td>\n",
              "      <td>False</td>\n",
              "      <td>False</td>\n",
              "      <td>False</td>\n",
              "      <td>False</td>\n",
              "      <td>False</td>\n",
              "      <td>False</td>\n",
              "      <td>False</td>\n",
              "      <td>NaN</td>\n",
              "      <td>NaN</td>\n",
              "      <td>0.0</td>\n",
              "      <td>0.0</td>\n",
              "      <td>0.0</td>\n",
              "      <td>NaN</td>\n",
              "      <td>NaN</td>\n",
              "      <td>NaN</td>\n",
              "      <td>-73.981693</td>\n",
              "      <td>NaN</td>\n",
              "      <td>NaN</td>\n",
              "      <td>NaN</td>\n",
              "      <td>NaN</td>\n",
              "      <td>NaN</td>\n",
              "      <td>False</td>\n",
              "      <td>NaN</td>\n",
              "      <td>0</td>\n",
              "      <td>NaN</td>\n",
              "      <td>NaN</td>\n",
              "      <td>0.0</td>\n",
              "      <td>1</td>\n",
              "      <td>0</td>\n",
              "      <td>873</td>\n",
              "      <td>1</td>\n",
              "      <td>...</td>\n",
              "      <td>0.0</td>\n",
              "      <td>0.0</td>\n",
              "      <td>NaN</td>\n",
              "      <td>NaN</td>\n",
              "      <td>NaN</td>\n",
              "      <td>NaN</td>\n",
              "      <td>NaN</td>\n",
              "      <td>NaN</td>\n",
              "      <td>1</td>\n",
              "      <td>NaN</td>\n",
              "      <td>NaN</td>\n",
              "      <td>2</td>\n",
              "      <td>NaN</td>\n",
              "      <td>0.0</td>\n",
              "      <td>NaN</td>\n",
              "      <td>NaN</td>\n",
              "      <td>NaN</td>\n",
              "      <td>NaN</td>\n",
              "      <td>1</td>\n",
              "      <td>NaN</td>\n",
              "      <td>NaN</td>\n",
              "      <td>16</td>\n",
              "      <td>2</td>\n",
              "      <td>NaN</td>\n",
              "      <td>NaN</td>\n",
              "      <td>0.0</td>\n",
              "      <td>NaN</td>\n",
              "      <td>1</td>\n",
              "      <td>NaN</td>\n",
              "      <td>NaN</td>\n",
              "      <td>False</td>\n",
              "      <td>False</td>\n",
              "      <td>True</td>\n",
              "      <td>False</td>\n",
              "      <td>False</td>\n",
              "      <td>False</td>\n",
              "      <td>False</td>\n",
              "      <td>False</td>\n",
              "      <td>False</td>\n",
              "      <td>False</td>\n",
              "    </tr>\n",
              "    <tr>\n",
              "      <th>4</th>\n",
              "      <td>NaN</td>\n",
              "      <td>NaN</td>\n",
              "      <td>NaN</td>\n",
              "      <td>NaN</td>\n",
              "      <td>1</td>\n",
              "      <td>2.90</td>\n",
              "      <td>False</td>\n",
              "      <td>False</td>\n",
              "      <td>False</td>\n",
              "      <td>False</td>\n",
              "      <td>False</td>\n",
              "      <td>False</td>\n",
              "      <td>False</td>\n",
              "      <td>False</td>\n",
              "      <td>False</td>\n",
              "      <td>False</td>\n",
              "      <td>NaN</td>\n",
              "      <td>NaN</td>\n",
              "      <td>0.0</td>\n",
              "      <td>0.0</td>\n",
              "      <td>0.0</td>\n",
              "      <td>NaN</td>\n",
              "      <td>NaN</td>\n",
              "      <td>NaN</td>\n",
              "      <td>-74.003458</td>\n",
              "      <td>NaN</td>\n",
              "      <td>NaN</td>\n",
              "      <td>NaN</td>\n",
              "      <td>NaN</td>\n",
              "      <td>NaN</td>\n",
              "      <td>False</td>\n",
              "      <td>NaN</td>\n",
              "      <td>0</td>\n",
              "      <td>NaN</td>\n",
              "      <td>NaN</td>\n",
              "      <td>0.0</td>\n",
              "      <td>1</td>\n",
              "      <td>0</td>\n",
              "      <td>1091</td>\n",
              "      <td>1</td>\n",
              "      <td>...</td>\n",
              "      <td>0.0</td>\n",
              "      <td>0.0</td>\n",
              "      <td>NaN</td>\n",
              "      <td>NaN</td>\n",
              "      <td>NaN</td>\n",
              "      <td>NaN</td>\n",
              "      <td>NaN</td>\n",
              "      <td>NaN</td>\n",
              "      <td>1</td>\n",
              "      <td>NaN</td>\n",
              "      <td>NaN</td>\n",
              "      <td>2</td>\n",
              "      <td>NaN</td>\n",
              "      <td>0.0</td>\n",
              "      <td>NaN</td>\n",
              "      <td>NaN</td>\n",
              "      <td>NaN</td>\n",
              "      <td>NaN</td>\n",
              "      <td>1</td>\n",
              "      <td>NaN</td>\n",
              "      <td>NaN</td>\n",
              "      <td>20</td>\n",
              "      <td>1</td>\n",
              "      <td>NaN</td>\n",
              "      <td>NaN</td>\n",
              "      <td>0.0</td>\n",
              "      <td>NaN</td>\n",
              "      <td>2</td>\n",
              "      <td>NaN</td>\n",
              "      <td>NaN</td>\n",
              "      <td>False</td>\n",
              "      <td>False</td>\n",
              "      <td>False</td>\n",
              "      <td>False</td>\n",
              "      <td>False</td>\n",
              "      <td>False</td>\n",
              "      <td>False</td>\n",
              "      <td>False</td>\n",
              "      <td>False</td>\n",
              "      <td>False</td>\n",
              "    </tr>\n",
              "  </tbody>\n",
              "</table>\n",
              "<p>5 rows × 91 columns</p>\n",
              "</div>"
            ],
            "text/plain": [
              "    dropoff_neighborhoods.MEDIAN(trips.passenger_count)  ...  pickup_neighborhood = R\n",
              "id                                                       ...                         \n",
              "0                                                 NaN    ...                    False\n",
              "1                                                 NaN    ...                    False\n",
              "2                                                 NaN    ...                    False\n",
              "3                                                 NaN    ...                    False\n",
              "4                                                 NaN    ...                    False\n",
              "\n",
              "[5 rows x 91 columns]"
            ]
          },
          "metadata": {},
          "execution_count": 61
        }
      ]
    },
    {
      "cell_type": "markdown",
      "metadata": {
        "id": "7jxkWJcfF4bN"
      },
      "source": [
        "### Build the new models more transform and aggregate features"
      ]
    },
    {
      "cell_type": "code",
      "metadata": {
        "ExecuteTime": {
          "end_time": "2021-07-09T11:14:41.627956Z",
          "start_time": "2021-07-09T11:14:07.052570Z"
        },
        "id": "fSR8CN_EF4bN"
      },
      "source": [
        "# separates the whole feature matrix into train data feature matrix,\n",
        "# train data labels, and test data feature matrix \n",
        "X_train3, y_train3, X_test3, y_test3 = get_train_test_fm(feature_matrix3,.75)\n",
        "y_train3 = np.sqrt(y_train3)\n",
        "y_test3 = np.sqrt(y_test3)"
      ],
      "execution_count": 62,
      "outputs": []
    },
    {
      "cell_type": "markdown",
      "metadata": {
        "id": "P3vx4_sLF4bN"
      },
      "source": [
        "####  6.3 Building  Linear regression model with transform and aggregate primitive."
      ]
    },
    {
      "cell_type": "code",
      "metadata": {
        "colab": {
          "base_uri": "https://localhost:8080/"
        },
        "id": "WdJFrJzSF4bN",
        "outputId": "153141e6-a8ee-44ae-a5e6-0da893992d2f"
      },
      "source": [
        "lr3=LinearRegression()\n",
        "\n",
        "lr3.fit(X_train3,y_train3)"
      ],
      "execution_count": 63,
      "outputs": [
        {
          "output_type": "execute_result",
          "data": {
            "text/plain": [
              "LinearRegression()"
            ]
          },
          "metadata": {},
          "execution_count": 63
        }
      ]
    },
    {
      "cell_type": "code",
      "metadata": {
        "colab": {
          "base_uri": "https://localhost:8080/"
        },
        "id": "Y_aXMqvOF4bN",
        "outputId": "5443d71b-9549-494a-8e9c-f10db3b36b32"
      },
      "source": [
        "model_pref(lr3, X_train3, X_test3,y_train3,y_test3)  "
      ],
      "execution_count": 64,
      "outputs": [
        {
          "output_type": "stream",
          "name": "stdout",
          "text": [
            "    Data  RSquared      RMSE       MAE\n",
            "0  Train  0.961386  1.775561  1.308939\n",
            "1   Test  0.954040  1.854476  1.408293\n"
          ]
        }
      ]
    },
    {
      "cell_type": "markdown",
      "metadata": {
        "id": "aBydfQZiF4bN"
      },
      "source": [
        "**Write your answers here:_____**\n",
        "- Model is giving only 0.95 Rsquared, with RSME of 1.8 and MAE of ~1.4.\n",
        "- Model is not overfitting, and giving generalized results. \n"
      ]
    },
    {
      "cell_type": "markdown",
      "metadata": {
        "id": "s14I67meF4bN"
      },
      "source": [
        "####  6.4 Building  Decision tree with transform and aggregate primitive."
      ]
    },
    {
      "cell_type": "code",
      "metadata": {
        "colab": {
          "base_uri": "https://localhost:8080/"
        },
        "id": "7bW4PO2rF4bN",
        "outputId": "d02553cf-472f-4bf2-c2a0-449c4f015d93"
      },
      "source": [
        "dt3=DecisionTreeRegressor()\n",
        "\n",
        "dt3.fit(X_train3,y_train3)"
      ],
      "execution_count": 65,
      "outputs": [
        {
          "output_type": "execute_result",
          "data": {
            "text/plain": [
              "DecisionTreeRegressor()"
            ]
          },
          "metadata": {},
          "execution_count": 65
        }
      ]
    },
    {
      "cell_type": "code",
      "metadata": {
        "colab": {
          "base_uri": "https://localhost:8080/"
        },
        "id": "LhH0-LHdF4bN",
        "outputId": "9724cb2c-c786-4eb2-ea97-e403e7ae2a1b"
      },
      "source": [
        "model_pref(dt3, X_train3, X_test3,y_train3,y_test3)  "
      ],
      "execution_count": 66,
      "outputs": [
        {
          "output_type": "stream",
          "name": "stdout",
          "text": [
            "    Data  RSquared      RMSE       MAE\n",
            "0  Train  1.000000  0.000000  0.000000\n",
            "1   Test  0.478258  6.248238  4.650754\n"
          ]
        }
      ]
    },
    {
      "cell_type": "markdown",
      "metadata": {
        "id": "PvQ-IKlAF4bN"
      },
      "source": [
        "- The model is overfitting a lot, with train R2 as 1 while test R2 as 0.47\n",
        "- This generally happens in decision tree, one solution for this is to Prune the decision tree, let's try pruning and see if the performance improves."
      ]
    },
    {
      "cell_type": "markdown",
      "metadata": {
        "id": "voQwIsOLF4bN"
      },
      "source": [
        "####  6.5 Building  Pruned Decision tree with transform and aggregate primitive."
      ]
    },
    {
      "cell_type": "code",
      "metadata": {
        "colab": {
          "base_uri": "https://localhost:8080/"
        },
        "id": "DxrIaFrMF4bO",
        "outputId": "c40af67d-830e-451f-952f-47ef6e06453c"
      },
      "source": [
        "dt_pruned3=DecisionTreeRegressor(max_depth=4)\n",
        "\n",
        "dt_pruned3.fit(X_train3,y_train3)"
      ],
      "execution_count": 67,
      "outputs": [
        {
          "output_type": "execute_result",
          "data": {
            "text/plain": [
              "DecisionTreeRegressor(max_depth=4)"
            ]
          },
          "metadata": {},
          "execution_count": 67
        }
      ]
    },
    {
      "cell_type": "code",
      "metadata": {
        "colab": {
          "base_uri": "https://localhost:8080/"
        },
        "id": "vDmSAKYbF4bO",
        "outputId": "e0193478-13ad-45f3-ecf1-a6812dde76ee"
      },
      "source": [
        "model_pref(dt_pruned3, X_train3, X_test3,y_train3,y_test3)  "
      ],
      "execution_count": 68,
      "outputs": [
        {
          "output_type": "stream",
          "name": "stdout",
          "text": [
            "    Data  RSquared      RMSE       MAE\n",
            "0  Train  0.782259  4.216308  3.142310\n",
            "1   Test  0.707492  4.678412  3.642763\n"
          ]
        }
      ]
    },
    {
      "cell_type": "markdown",
      "metadata": {
        "id": "GrYySD2dF4bO"
      },
      "source": [
        "**Write your answers here:_____**\n",
        "- Model is giving ~0.70 Rsquared, with RSME of 4.6 and MAE of ~3.6.\n",
        "- The model performance has not improved by adding aggregate primitives.\n",
        "- Model is overfitting, and is not giving generalized results. "
      ]
    },
    {
      "cell_type": "markdown",
      "metadata": {
        "id": "BZPR8p3_F4bO"
      },
      "source": [
        "####  6.6 Building  Random Forest with transform and aggregate primitive."
      ]
    },
    {
      "cell_type": "code",
      "metadata": {
        "id": "LHw9mI-eF4bO"
      },
      "source": [
        "rf3=RandomForestRegressor(n_estimators=60,max_depth=4)"
      ],
      "execution_count": 69,
      "outputs": []
    },
    {
      "cell_type": "code",
      "metadata": {
        "colab": {
          "base_uri": "https://localhost:8080/"
        },
        "id": "5kRkDwShF4bO",
        "outputId": "b9e1f28d-cf8a-4cb3-e8ed-0d940e7c40b4"
      },
      "source": [
        "rf3.fit(X_train3,y_train3)"
      ],
      "execution_count": 70,
      "outputs": [
        {
          "output_type": "execute_result",
          "data": {
            "text/plain": [
              "RandomForestRegressor(max_depth=4, n_estimators=60)"
            ]
          },
          "metadata": {},
          "execution_count": 70
        }
      ]
    },
    {
      "cell_type": "code",
      "metadata": {
        "colab": {
          "base_uri": "https://localhost:8080/"
        },
        "id": "lq93r0k6F4bO",
        "outputId": "4fc22e9f-c53b-40f7-e8c3-1795b5ee4f30"
      },
      "source": [
        "model_pref(rf3, X_train3, X_test3,y_train3,y_test3)  "
      ],
      "execution_count": 71,
      "outputs": [
        {
          "output_type": "stream",
          "name": "stdout",
          "text": [
            "    Data  RSquared      RMSE       MAE\n",
            "0  Train  0.814134  3.895487  2.897033\n",
            "1   Test  0.735187  4.451425  3.514710\n"
          ]
        }
      ]
    },
    {
      "cell_type": "markdown",
      "metadata": {
        "id": "6LkhJtVkF4bO"
      },
      "source": [
        "**Write your answers here:_____**\n",
        "- The model Performance has improved from ~0.73 by the addition of transform and aggregation features.\n",
        "- The modeling score has not improved much after adding aggregate transforms, and also the training time was also increased by a significant amount, implies that adding more features is always not very effective. "
      ]
    },
    {
      "cell_type": "markdown",
      "metadata": {
        "id": "quPu55bgF4bP"
      },
      "source": [
        "#### Based on the above 3 models, we can make predictions using our model2, as it is giving almost same accuracy as model3 and also the training time is not that large as compared to model3"
      ]
    },
    {
      "cell_type": "code",
      "metadata": {
        "ExecuteTime": {
          "end_time": "2021-07-09T11:23:07.091360Z",
          "start_time": "2021-07-09T11:23:06.179570Z"
        },
        "colab": {
          "base_uri": "https://localhost:8080/"
        },
        "id": "usvAXKwVF4bP",
        "scrolled": true,
        "outputId": "eaa0e1d4-b31f-4a56-eac6-f56c2f0294c8"
      },
      "source": [
        "y_pred = lr2.predict(X_test2)\n",
        "y_pred = y_pred**2 # undo the sqrt we took earlier\n",
        "y_pred[5:]"
      ],
      "execution_count": 72,
      "outputs": [
        {
          "output_type": "execute_result",
          "data": {
            "text/plain": [
              "array([ 941.69217846,  348.4320628 ,  872.47131989,  286.4163076 ,\n",
              "        928.54132624,  383.08247228,  387.59331364,  396.62232711,\n",
              "       2122.29519967,  381.94491877, 1148.8200535 ,  247.21562198,\n",
              "       1748.76447604,  310.94558451, 2703.57098744,  349.02111207,\n",
              "        596.94760726,  894.25406144, 1120.38052983,  947.37916796,\n",
              "        672.82381291,  627.72613647, 1020.59963862,  535.73897094,\n",
              "        403.68811583,  403.03555238,  416.30972695,  369.32288888,\n",
              "        418.99760159, 1311.48288405,  314.57161155, 1443.83786931,\n",
              "        361.85996115,  367.55969725,  744.5171112 ,  880.37948474,\n",
              "        933.57215685,  316.34770689, 1477.02815973,  569.53528141,\n",
              "        288.40712664,  409.05959175,  715.92975099,  325.70349006,\n",
              "        437.74744452,  531.53970292,  355.68040257,  574.92170163,\n",
              "        339.2100099 ,  403.4508432 , 1259.5498079 ,  585.3645719 ,\n",
              "        571.71751331, 1761.6884407 ,  238.3567713 ,  302.03117567,\n",
              "        912.86320383,  698.5132564 ,  906.873198  ,  436.08532123,\n",
              "        714.33420974,  385.23817908,  859.64098273, 1407.34808136,\n",
              "        335.38559167,  577.82991972,  617.97694164, 1201.6842538 ,\n",
              "        529.37383455,  317.57824817,  765.38916338,  698.53605997,\n",
              "        568.43990838,  737.04564344,  455.36767337,  332.54011581,\n",
              "       1371.91176534,  610.9639771 ,  722.52017268,  797.24564058,\n",
              "       1695.59716917,  752.32235587,  549.30220253, 1182.0185949 ,\n",
              "        677.64531632,  306.23506516,  405.70268926,  977.47343267,\n",
              "        428.79680912, 1709.69567889,  332.19893725, 1756.72407159,\n",
              "        576.43794085,  559.46717356, 1423.03644754,  273.86407868,\n",
              "        865.29442388,  570.69466104, 1942.54800522,  618.69913527,\n",
              "       1052.22845101,  658.48888289,  385.535497  ,  245.82094043,\n",
              "        411.34581606,  779.29409665,  281.01370394, 1614.85253998,\n",
              "        385.05499188,  538.01839066,  231.23641827,  684.04655407,\n",
              "       1348.98215251,  937.50006694,  550.17125867, 1018.80513915,\n",
              "        770.78857172,  264.14630344,  636.04114275,  333.17875121,\n",
              "        537.79821896,  426.08749075,  582.03728223, 1197.44253576,\n",
              "        793.08987449,  475.48144308,  667.6586608 ,  380.33276685,\n",
              "        432.75971704,  406.96605228, 2152.8294014 ,  263.87357622,\n",
              "       1719.88522135,  372.2232987 ,  631.00534052,  399.46328414,\n",
              "       2206.7411954 , 1549.35549465,  331.48938419,  715.31600007,\n",
              "        519.38949955,  637.98179456,  487.63999934, 1563.22355464,\n",
              "        761.31452282,  423.21396006,  314.99299715, 1096.22339247,\n",
              "        309.0256    ,  445.41689003, 1419.74777724, 1292.85742998,\n",
              "        306.72652388,  623.90608081, 1027.6864126 ,  310.46381366,\n",
              "       1097.390966  ,  828.05838059, 3522.94737594,  438.98248424,\n",
              "        368.83479963, 1347.46774486,  848.11240424,  947.61008826,\n",
              "       1100.92527048,  359.32435396,  524.79982782,  816.30948714,\n",
              "        447.13940679,  511.81263585,  879.36507891,  420.43838743,\n",
              "        274.77839988, 1270.79331735,  719.20597219, 1266.47380153,\n",
              "        532.1504239 ,  424.17250446,  580.01661151, 1487.40234309,\n",
              "        279.72998816,  283.35622918,  935.46466249, 1146.27836576,\n",
              "        763.84332797,  653.78167122,  390.23330823,  596.91843498,\n",
              "        545.13268476,  388.1263732 , 1210.47644577,  694.16593537,\n",
              "        710.13846341, 1188.03218846,  516.2083072 , 1180.86083317,\n",
              "        564.82072119, 1289.58782458,  710.64390125, 1845.38226686,\n",
              "       1422.17893911,  481.89976098,  724.43830339,  471.8774548 ,\n",
              "        213.97881218, 1116.10941366,  322.78518923,  914.20239122,\n",
              "        917.40488079, 1041.25170433, 1511.2142875 ,  737.39763249,\n",
              "        983.27885307,  815.04590996,  475.58544616,  543.80487571,\n",
              "        653.71629719,  611.4387491 , 1218.90395343,  647.32398823,\n",
              "        976.26685574,  499.99773102,  278.32571201,  429.30598221,\n",
              "       1611.42264007,  877.72036595,  645.97725048,  605.89398576,\n",
              "       1488.76746733, 1534.1847624 ,  480.59370107,  854.24247227,\n",
              "        771.29422106,  340.11101602, 1095.53284632,  473.50239813,\n",
              "       1933.48899108,  586.17240141,  393.84439864,  801.15285207,\n",
              "        355.71612393,  779.18386734,  664.36178887,  550.55535232,\n",
              "       1254.23683134, 1134.97528543,  568.91468156, 1009.18702255,\n",
              "       1171.41405081,  512.01775931, 1152.66054996,  279.01964558,\n",
              "        879.50413574, 1434.63969515,  653.16579205,  656.81407979,\n",
              "        598.52389132, 1643.71672812,  425.27745413,  613.89130019,\n",
              "        439.93336494, 2923.89339534,  258.01049892,  253.59318858,\n",
              "        500.1177357 , 2000.85731682,  400.39583836,  649.23339021,\n",
              "        350.60227795,  487.13662923, 1859.86378513,  356.54473931,\n",
              "        704.31971037, 2124.78134235, 1119.24520832,  823.62681175,\n",
              "        301.42790636,  514.21313407,  196.57427632,  811.43899299,\n",
              "       3216.73754647,  628.19065578,  467.69961355, 1273.05308047,\n",
              "        228.64676095,  641.431992  ,  714.42137143, 1464.70014413,\n",
              "        709.23548202,  696.15937115,  507.93413129,  981.85193664,\n",
              "        559.32705062,  995.58843726, 1241.54703859,  318.05742916,\n",
              "        417.07506135,  381.15351535,  546.67242914,  502.0807121 ,\n",
              "       1383.56826024,  708.38962023,  358.50059282,  272.50131369,\n",
              "       1114.2154481 ,  475.41513027,  515.8764606 ,  607.46380857,\n",
              "        324.30447677,  474.6023086 ,  418.02958739,  270.6231909 ,\n",
              "        668.13542246,  981.97370379,  221.62477658,  660.62155085,\n",
              "       2169.69075806,  681.91810715,  979.50504848,  416.85888267,\n",
              "        561.51568972, 1937.17482754, 1209.45930632, 2484.34065732,\n",
              "        517.75881075,  849.98995721,  988.93520048,  915.46253005,\n",
              "        361.96129665,  624.99131654,  434.27135545,  810.52284724,\n",
              "        589.28576662, 1326.04922894,  571.90673274, 1067.10846224,\n",
              "       1537.23473516,  271.03536216,  554.75161071,  221.82982315,\n",
              "        638.45494254,  988.64505332,  410.44616171, 1047.8346391 ,\n",
              "       1055.41830094, 1281.98962663,  193.07133852,  392.11793216,\n",
              "        714.69006043,  801.4490542 ,  315.11771951, 1258.56843392,\n",
              "        521.59241916,  784.93063277,  267.50120008,  478.90514786,\n",
              "        398.33331919,  322.43224769])"
            ]
          },
          "metadata": {},
          "execution_count": 72
        }
      ]
    },
    {
      "cell_type": "markdown",
      "metadata": {
        "id": "aXb6XooAF4bP"
      },
      "source": [
        "###  7: What are some important features based on Random Forest model 2 and how can they affect the duration of the rides?"
      ]
    },
    {
      "cell_type": "code",
      "metadata": {
        "ExecuteTime": {
          "end_time": "2021-07-09T11:23:15.953274Z",
          "start_time": "2021-07-09T11:23:15.813531Z"
        },
        "colab": {
          "base_uri": "https://localhost:8080/"
        },
        "id": "sw-NyM6GF4bP",
        "scrolled": true,
        "outputId": "6674e81d-bf4c-4ffb-f07a-00ef37f39636"
      },
      "source": [
        "feature_importances(rf2, feature_matrix2.drop(['trip_duration'],axis=1).columns, n=10)"
      ],
      "execution_count": 77,
      "outputs": [
        {
          "output_type": "stream",
          "name": "stdout",
          "text": [
            "1: Feature: trip_distance, 0.940\n",
            "2: Feature: dropoff_neighborhoods.longitude, 0.018\n",
            "3: Feature: pickup_neighborhoods.longitude, 0.015\n",
            "4: Feature: dropoff_neighborhoods.latitude, 0.015\n",
            "5: Feature: pickup_neighborhoods.latitude, 0.005\n",
            "6: Feature: HOUR(dropoff_datetime), 0.001\n",
            "7: Feature: dropoff_neighborhood = P, 0.001\n",
            "8: Feature: MINUTE(dropoff_datetime), 0.001\n",
            "9: Feature: payment_type, 0.001\n",
            "10: Feature: pickup_neighborhood = P, 0.001\n"
          ]
        }
      ]
    },
    {
      "cell_type": "markdown",
      "metadata": {
        "id": "vyoxbL0QF4bP"
      },
      "source": [
        "**Write your answers here:_____**\n",
        "- Trip_Distance is the most important feature, which implies that the longer the trip is the longer duration of the trip is.\n",
        "- Features like dropoff_neighborhoods.longitude, pickup_neighborhoods.longitude dropoff_neighborhoods.latitude,pickup_neighborhoods.latitude signifies that trip duration is impacted by pickup and dropoff locations."
      ]
    },
    {
      "cell_type": "markdown",
      "metadata": {
        "id": "NsrKKGL2sbEu"
      },
      "source": [
        "#### The best model is the linear regression, with 95% of the R2 both on train and test dataset. \n",
        "**Let's check the coefficient of the of regression model**"
      ]
    },
    {
      "cell_type": "code",
      "metadata": {
        "colab": {
          "base_uri": "https://localhost:8080/",
          "height": 1000
        },
        "id": "YAt97hb-K_LS",
        "outputId": "8fda5601-5f6c-445a-92f3-96e47033bbff"
      },
      "source": [
        "pd.DataFrame(lr2.coef_,index=feature_matrix2.drop(['trip_duration'],axis=1).columns,columns=['Coef']).sort_values(by=['Coef'],ascending=False)"
      ],
      "execution_count": 75,
      "outputs": [
        {
          "output_type": "execute_result",
          "data": {
            "text/html": [
              "<div>\n",
              "<style scoped>\n",
              "    .dataframe tbody tr th:only-of-type {\n",
              "        vertical-align: middle;\n",
              "    }\n",
              "\n",
              "    .dataframe tbody tr th {\n",
              "        vertical-align: top;\n",
              "    }\n",
              "\n",
              "    .dataframe thead th {\n",
              "        text-align: right;\n",
              "    }\n",
              "</style>\n",
              "<table border=\"1\" class=\"dataframe\">\n",
              "  <thead>\n",
              "    <tr style=\"text-align: right;\">\n",
              "      <th></th>\n",
              "      <th>Coef</th>\n",
              "    </tr>\n",
              "  </thead>\n",
              "  <tbody>\n",
              "    <tr>\n",
              "      <th>HOUR(dropoff_datetime)</th>\n",
              "      <td>5.911241e+01</td>\n",
              "    </tr>\n",
              "    <tr>\n",
              "      <th>pickup_neighborhoods.longitude</th>\n",
              "      <td>5.466570e+00</td>\n",
              "    </tr>\n",
              "    <tr>\n",
              "      <th>dropoff_neighborhoods.latitude</th>\n",
              "      <td>2.595003e+00</td>\n",
              "    </tr>\n",
              "    <tr>\n",
              "      <th>MINUTE(dropoff_datetime)</th>\n",
              "      <td>9.851018e-01</td>\n",
              "    </tr>\n",
              "    <tr>\n",
              "      <th>pickup_neighborhood = AC</th>\n",
              "      <td>7.262796e-01</td>\n",
              "    </tr>\n",
              "    <tr>\n",
              "      <th>dropoff_neighborhood = P</th>\n",
              "      <td>5.918256e-01</td>\n",
              "    </tr>\n",
              "    <tr>\n",
              "      <th>dropoff_neighborhood = W</th>\n",
              "      <td>5.560983e-01</td>\n",
              "    </tr>\n",
              "    <tr>\n",
              "      <th>pickup_neighborhood = N</th>\n",
              "      <td>4.414377e-01</td>\n",
              "    </tr>\n",
              "    <tr>\n",
              "      <th>pickup_neighborhood = AT</th>\n",
              "      <td>4.233289e-01</td>\n",
              "    </tr>\n",
              "    <tr>\n",
              "      <th>pickup_neighborhood = AD</th>\n",
              "      <td>3.541843e-01</td>\n",
              "    </tr>\n",
              "    <tr>\n",
              "      <th>pickup_neighborhood = R</th>\n",
              "      <td>3.480442e-01</td>\n",
              "    </tr>\n",
              "    <tr>\n",
              "      <th>pickup_neighborhood = P</th>\n",
              "      <td>2.456600e-01</td>\n",
              "    </tr>\n",
              "    <tr>\n",
              "      <th>pickup_neighborhood = AO</th>\n",
              "      <td>2.191841e-01</td>\n",
              "    </tr>\n",
              "    <tr>\n",
              "      <th>pickup_neighborhood = AR</th>\n",
              "      <td>1.788924e-01</td>\n",
              "    </tr>\n",
              "    <tr>\n",
              "      <th>dropoff_neighborhood = Z</th>\n",
              "      <td>9.964226e-02</td>\n",
              "    </tr>\n",
              "    <tr>\n",
              "      <th>dropoff_neighborhood = AD</th>\n",
              "      <td>6.384958e-02</td>\n",
              "    </tr>\n",
              "    <tr>\n",
              "      <th>pickup_neighborhood = AM</th>\n",
              "      <td>9.479926e-03</td>\n",
              "    </tr>\n",
              "    <tr>\n",
              "      <th>passenger_count</th>\n",
              "      <td>2.121435e-03</td>\n",
              "    </tr>\n",
              "    <tr>\n",
              "      <th>MONTH(dropoff_datetime)</th>\n",
              "      <td>3.552714e-15</td>\n",
              "    </tr>\n",
              "    <tr>\n",
              "      <th>MONTH(pickup_datetime)</th>\n",
              "      <td>1.332268e-15</td>\n",
              "    </tr>\n",
              "    <tr>\n",
              "      <th>WEEKDAY(dropoff_datetime)</th>\n",
              "      <td>0.000000e+00</td>\n",
              "    </tr>\n",
              "    <tr>\n",
              "      <th>IS_WEEKEND(dropoff_datetime)</th>\n",
              "      <td>0.000000e+00</td>\n",
              "    </tr>\n",
              "    <tr>\n",
              "      <th>WEEKDAY(pickup_datetime)</th>\n",
              "      <td>0.000000e+00</td>\n",
              "    </tr>\n",
              "    <tr>\n",
              "      <th>DAY(dropoff_datetime)</th>\n",
              "      <td>0.000000e+00</td>\n",
              "    </tr>\n",
              "    <tr>\n",
              "      <th>DAY(pickup_datetime)</th>\n",
              "      <td>0.000000e+00</td>\n",
              "    </tr>\n",
              "    <tr>\n",
              "      <th>IS_WEEKEND(pickup_datetime)</th>\n",
              "      <td>-4.440892e-16</td>\n",
              "    </tr>\n",
              "    <tr>\n",
              "      <th>Transport_service</th>\n",
              "      <td>-1.141631e-02</td>\n",
              "    </tr>\n",
              "    <tr>\n",
              "      <th>trip_distance</th>\n",
              "      <td>-1.163533e-02</td>\n",
              "    </tr>\n",
              "    <tr>\n",
              "      <th>dropoff_neighborhood = N</th>\n",
              "      <td>-2.706783e-02</td>\n",
              "    </tr>\n",
              "    <tr>\n",
              "      <th>pickup_neighborhood = I</th>\n",
              "      <td>-2.801688e-02</td>\n",
              "    </tr>\n",
              "    <tr>\n",
              "      <th>dropoff_neighborhood = AT</th>\n",
              "      <td>-1.062944e-01</td>\n",
              "    </tr>\n",
              "    <tr>\n",
              "      <th>payment_type</th>\n",
              "      <td>-1.223499e-01</td>\n",
              "    </tr>\n",
              "    <tr>\n",
              "      <th>dropoff_neighborhood = Y</th>\n",
              "      <td>-2.063599e-01</td>\n",
              "    </tr>\n",
              "    <tr>\n",
              "      <th>dropoff_neighborhood = AM</th>\n",
              "      <td>-3.534468e-01</td>\n",
              "    </tr>\n",
              "    <tr>\n",
              "      <th>dropoff_neighborhood = C</th>\n",
              "      <td>-6.864647e-01</td>\n",
              "    </tr>\n",
              "    <tr>\n",
              "      <th>dropoff_neighborhood = I</th>\n",
              "      <td>-7.243314e-01</td>\n",
              "    </tr>\n",
              "    <tr>\n",
              "      <th>MINUTE(pickup_datetime)</th>\n",
              "      <td>-9.855345e-01</td>\n",
              "    </tr>\n",
              "    <tr>\n",
              "      <th>dropoff_neighborhoods.longitude</th>\n",
              "      <td>-3.878455e+00</td>\n",
              "    </tr>\n",
              "    <tr>\n",
              "      <th>pickup_neighborhoods.latitude</th>\n",
              "      <td>-6.381065e+00</td>\n",
              "    </tr>\n",
              "    <tr>\n",
              "      <th>HOUR(pickup_datetime)</th>\n",
              "      <td>-5.917132e+01</td>\n",
              "    </tr>\n",
              "  </tbody>\n",
              "</table>\n",
              "</div>"
            ],
            "text/plain": [
              "                                         Coef\n",
              "HOUR(dropoff_datetime)           5.911241e+01\n",
              "pickup_neighborhoods.longitude   5.466570e+00\n",
              "dropoff_neighborhoods.latitude   2.595003e+00\n",
              "MINUTE(dropoff_datetime)         9.851018e-01\n",
              "pickup_neighborhood = AC         7.262796e-01\n",
              "dropoff_neighborhood = P         5.918256e-01\n",
              "dropoff_neighborhood = W         5.560983e-01\n",
              "pickup_neighborhood = N          4.414377e-01\n",
              "pickup_neighborhood = AT         4.233289e-01\n",
              "pickup_neighborhood = AD         3.541843e-01\n",
              "pickup_neighborhood = R          3.480442e-01\n",
              "pickup_neighborhood = P          2.456600e-01\n",
              "pickup_neighborhood = AO         2.191841e-01\n",
              "pickup_neighborhood = AR         1.788924e-01\n",
              "dropoff_neighborhood = Z         9.964226e-02\n",
              "dropoff_neighborhood = AD        6.384958e-02\n",
              "pickup_neighborhood = AM         9.479926e-03\n",
              "passenger_count                  2.121435e-03\n",
              "MONTH(dropoff_datetime)          3.552714e-15\n",
              "MONTH(pickup_datetime)           1.332268e-15\n",
              "WEEKDAY(dropoff_datetime)        0.000000e+00\n",
              "IS_WEEKEND(dropoff_datetime)     0.000000e+00\n",
              "WEEKDAY(pickup_datetime)         0.000000e+00\n",
              "DAY(dropoff_datetime)            0.000000e+00\n",
              "DAY(pickup_datetime)             0.000000e+00\n",
              "IS_WEEKEND(pickup_datetime)     -4.440892e-16\n",
              "Transport_service               -1.141631e-02\n",
              "trip_distance                   -1.163533e-02\n",
              "dropoff_neighborhood = N        -2.706783e-02\n",
              "pickup_neighborhood = I         -2.801688e-02\n",
              "dropoff_neighborhood = AT       -1.062944e-01\n",
              "payment_type                    -1.223499e-01\n",
              "dropoff_neighborhood = Y        -2.063599e-01\n",
              "dropoff_neighborhood = AM       -3.534468e-01\n",
              "dropoff_neighborhood = C        -6.864647e-01\n",
              "dropoff_neighborhood = I        -7.243314e-01\n",
              "MINUTE(pickup_datetime)         -9.855345e-01\n",
              "dropoff_neighborhoods.longitude -3.878455e+00\n",
              "pickup_neighborhoods.latitude   -6.381065e+00\n",
              "HOUR(pickup_datetime)           -5.917132e+01"
            ]
          },
          "metadata": {},
          "execution_count": 75
        }
      ]
    },
    {
      "cell_type": "markdown",
      "metadata": {
        "id": "q_IR2k8qK-6K"
      },
      "source": [
        "- Hours are the most important features, which may signifies the pickup location impact the time duration the model. \n",
        "- pickup_neighborhood longitude is the second most important features.\n",
        "- weekend also signifies the same effect as the above 2."
      ]
    }
  ]
}