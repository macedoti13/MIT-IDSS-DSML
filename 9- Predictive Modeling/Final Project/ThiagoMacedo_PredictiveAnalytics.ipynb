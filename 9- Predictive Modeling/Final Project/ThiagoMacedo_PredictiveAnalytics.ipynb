{
 "cells": [
  {
   "cell_type": "markdown",
   "metadata": {},
   "source": [
    "## Project Predictive Analytics: New York City Taxi Ride Duration Prediction\n",
    "\n",
    "## **Marks: 40**\n",
    "---------------\n",
    "\n",
    "## **Context**\n",
    "---------------\n",
    "\n",
    "New York City taxi rides form the core of the traffic in the city of New York. The many rides taken every day by New Yorkers in the busy city can give us a great idea of traffic times, road blockages, and so on. A typical taxi company faces a common problem of efficiently assigning the cabs to passengers so that the service is hassle-free. One of the main issues is predicting the duration of the current ride so it can predict when the cab will be free for the next trip. Here the data set contains various information regarding the taxi trips, its duration in New York City. We will apply different techniques here to get insights into the data and determine how different variables are dependent on the Trip Duration.\n",
    "\n",
    "-----------------\n",
    "## **Objective**\n",
    "-----------------\n",
    "\n",
    "- To Build a predictive model, for predicting the duration for the taxi ride. \n",
    "- Use Automated feature engineering to create new features\n",
    "\n",
    "-----------------\n",
    "## **Dataset**\n",
    "-----------------\n",
    "\n",
    "The ``trips`` table has the following fields\n",
    "* ``id`` which uniquely identifies the trip\n",
    "* ``vendor_id`` is the taxi cab company - in our case study we have data from three different cab companies\n",
    "* ``pickup_datetime`` the time stamp for pickup\n",
    "* ``dropoff_datetime`` the time stamp for drop-off\n",
    "* ``passenger_count`` the number of passengers for the trip\n",
    "* ``trip_distance`` total distance of the trip in miles \n",
    "* ``pickup_longitude`` the longitude for pickup\n",
    "* ``pickup_latitude`` the latitude for pickup\n",
    "* ``dropoff_longitude``the longitude of dropoff \n",
    "* ``dropoff_latitude`` the latitude of dropoff\n",
    "* ``payment_type`` a numeric code signifying how the passenger paid for the trip. 1= Credit card 2= Cash 3= No charge 4= Dispute 5= Unknown 6= Voided\n",
    "* ``trip_duration`` this is the duration we would like to predict using other fields \n",
    "* ``pickup_neighborhood`` a one or two letter id of the neighborhood where the trip started\n",
    "* ``dropoff_neighborhood`` a one or two letter id of the neighborhood where the trip ended\n",
    "\n",
    "\n",
    "\n",
    "### We will do the following steps:\n",
    "  * Install the dependencies\n",
    "  * Load the data as pandas dataframe\n",
    "  * Perform EDA on the dataset\n",
    "  * Build features with Deep Feature Synthesis using the [featuretools](https://featuretools.com) package. We will start with simple features and incrementally improve the feature definitions and examine the accuracy of the system"
   ]
  },
  {
   "cell_type": "markdown",
   "metadata": {},
   "source": [
    "#### Uncomment the code given below, and run the line of code to install featuretools library"
   ]
  },
  {
   "cell_type": "code",
   "execution_count": null,
   "metadata": {},
   "outputs": [],
   "source": [
    "# Uncomment the code given below, and run the line of code to install featuretools library\n",
    "\n",
    "#!pip install featuretools==0.27.0"
   ]
  },
  {
   "cell_type": "markdown",
   "metadata": {},
   "source": [
    "### Note: If !pip install featuretools doesn't work, please install using the anaconda prompt by typing the following command in anaconda prompt\n",
    "      conda install -c conda-forge featuretools==0.27.0"
   ]
  },
  {
   "cell_type": "markdown",
   "metadata": {},
   "source": [
    "### Importing libraries"
   ]
  },
  {
   "cell_type": "code",
   "execution_count": 1,
   "metadata": {},
   "outputs": [
    {
     "name": "stdout",
     "output_type": "stream",
     "text": [
      "0.27.0\n"
     ]
    }
   ],
   "source": [
    "import pandas as pd\n",
    "import numpy as np\n",
    "import matplotlib.pyplot as plt\n",
    "import seaborn as sns\n",
    "\n",
    "#Feataurestools for feature engineering\n",
    "import featuretools as ft\n",
    "\n",
    "from sklearn.model_selection import train_test_split\n",
    "from sklearn.impute import SimpleImputer\n",
    "\n",
    "# Importing gradient boosting regressor, to make prediction\n",
    "from sklearn.metrics import r2_score\n",
    "from sklearn.linear_model import LinearRegression\n",
    "from sklearn.ensemble import RandomForestRegressor\n",
    "from sklearn.tree import DecisionTreeRegressor\n",
    "\n",
    "#importing primitives\n",
    "from featuretools.primitives import (Minute, Hour, Day, Month,\n",
    "                                     Weekday, IsWeekend, Count, Sum, Mean, Median, Std, Min, Max)\n",
    "\n",
    "print(ft.__version__)\n",
    "%load_ext autoreload\n",
    "%autoreload 2"
   ]
  },
  {
   "cell_type": "code",
   "execution_count": 2,
   "metadata": {},
   "outputs": [],
   "source": [
    "# set global random seed\n",
    "np.random.seed(40)\n",
    "\n",
    "# To load the dataset\n",
    "def load_nyc_taxi_data():\n",
    "    trips = pd.read_csv('trips.csv',\n",
    "                        parse_dates=[\"pickup_datetime\",\"dropoff_datetime\"],\n",
    "                        dtype={'vendor_id':\"category\",'passenger_count':'int64'},\n",
    "                        encoding='utf-8')\n",
    "    trips[\"payment_type\"] = trips[\"payment_type\"].apply(str)\n",
    "    trips = trips.dropna(axis=0, how='any', subset=['trip_duration'])\n",
    "\n",
    "    pickup_neighborhoods = pd.read_csv(\"pickup_neighborhoods.csv\", encoding='utf-8')\n",
    "    dropoff_neighborhoods = pd.read_csv(\"dropoff_neighborhoods.csv\", encoding='utf-8')\n",
    "\n",
    "    return trips, pickup_neighborhoods, dropoff_neighborhoods\n",
    "\n",
    "### To preview first five rows. \n",
    "def preview(df, n=5):\n",
    "    \"\"\"return n rows that have fewest number of nulls\"\"\"\n",
    "    order = df.isnull().sum(axis=1).sort_values().head(n).index\n",
    "    return df.loc[order]\n",
    "\n",
    "\n",
    "\n",
    "#to compute features using automated feature engineering. \n",
    "def compute_features(features, cutoff_time):\n",
    "    # shuffle so we don't see encoded features in the front or backs\n",
    "\n",
    "    np.random.shuffle(features)\n",
    "    feature_matrix = ft.calculate_feature_matrix(features,\n",
    "                                                 cutoff_time=cutoff_time,\n",
    "                                                 approximate='36d',\n",
    "                                                 verbose=True)\n",
    "    print(\"Finishing computing...\")\n",
    "    feature_matrix, features = ft.encode_features(feature_matrix, features,\n",
    "                                                  to_encode=[\"pickup_neighborhood\", \"dropoff_neighborhood\"],\n",
    "                                                  include_unknown=False)\n",
    "    return feature_matrix\n",
    "\n",
    "\n",
    "#to generate train and test dataset\n",
    "def get_train_test_fm(feature_matrix, percentage):\n",
    "    nrows = feature_matrix.shape[0]\n",
    "    head = int(nrows * percentage)\n",
    "    tail = nrows-head\n",
    "    X_train = feature_matrix.head(head)\n",
    "    y_train = X_train['trip_duration']\n",
    "    X_train = X_train.drop(['trip_duration'], axis=1)\n",
    "    imp = SimpleImputer()\n",
    "    X_train = imp.fit_transform(X_train)\n",
    "    X_test = feature_matrix.tail(tail)\n",
    "    y_test = X_test['trip_duration']\n",
    "    X_test = X_test.drop(['trip_duration'], axis=1)\n",
    "    X_test = imp.transform(X_test)\n",
    "\n",
    "    return (X_train, y_train, X_test,y_test)\n",
    "\n",
    "\n",
    "\n",
    "#to see the feature importance of variables in the final model\n",
    "def feature_importances(model, feature_names, n=5):\n",
    "    importances = model.feature_importances_\n",
    "    zipped = sorted(zip(feature_names, importances), key=lambda x: -x[1])\n",
    "    for i, f in enumerate(zipped[:n]):\n",
    "        print(\"%d: Feature: %s, %.3f\" % (i+1, f[0], f[1]))"
   ]
  },
  {
   "cell_type": "markdown",
   "metadata": {},
   "source": [
    "### Load the Datasets"
   ]
  },
  {
   "cell_type": "code",
   "execution_count": 3,
   "metadata": {
    "ExecuteTime": {
     "end_time": "2021-07-15T12:40:47.210990Z",
     "start_time": "2021-07-15T12:40:41.965643Z"
    },
    "scrolled": false
   },
   "outputs": [
    {
     "data": {
      "text/html": [
       "<div>\n",
       "<style scoped>\n",
       "    .dataframe tbody tr th:only-of-type {\n",
       "        vertical-align: middle;\n",
       "    }\n",
       "\n",
       "    .dataframe tbody tr th {\n",
       "        vertical-align: top;\n",
       "    }\n",
       "\n",
       "    .dataframe thead th {\n",
       "        text-align: right;\n",
       "    }\n",
       "</style>\n",
       "<table border=\"1\" class=\"dataframe\">\n",
       "  <thead>\n",
       "    <tr style=\"text-align: right;\">\n",
       "      <th></th>\n",
       "      <th>id</th>\n",
       "      <th>vendor_id</th>\n",
       "      <th>pickup_datetime</th>\n",
       "      <th>dropoff_datetime</th>\n",
       "      <th>passenger_count</th>\n",
       "      <th>trip_distance</th>\n",
       "      <th>pickup_longitude</th>\n",
       "      <th>pickup_latitude</th>\n",
       "      <th>dropoff_longitude</th>\n",
       "      <th>dropoff_latitude</th>\n",
       "      <th>payment_type</th>\n",
       "      <th>trip_duration</th>\n",
       "      <th>pickup_neighborhood</th>\n",
       "      <th>dropoff_neighborhood</th>\n",
       "    </tr>\n",
       "  </thead>\n",
       "  <tbody>\n",
       "    <tr>\n",
       "      <th>0</th>\n",
       "      <td>0</td>\n",
       "      <td>2</td>\n",
       "      <td>2016-01-01 00:00:19</td>\n",
       "      <td>2016-01-01 00:06:31</td>\n",
       "      <td>3</td>\n",
       "      <td>1.32</td>\n",
       "      <td>-73.961258</td>\n",
       "      <td>40.796200</td>\n",
       "      <td>-73.950050</td>\n",
       "      <td>40.787312</td>\n",
       "      <td>2</td>\n",
       "      <td>372.0</td>\n",
       "      <td>AH</td>\n",
       "      <td>C</td>\n",
       "    </tr>\n",
       "    <tr>\n",
       "      <th>649598</th>\n",
       "      <td>679634</td>\n",
       "      <td>1</td>\n",
       "      <td>2016-04-30 11:45:59</td>\n",
       "      <td>2016-04-30 11:47:47</td>\n",
       "      <td>1</td>\n",
       "      <td>0.50</td>\n",
       "      <td>-73.994919</td>\n",
       "      <td>40.755226</td>\n",
       "      <td>-74.000351</td>\n",
       "      <td>40.747917</td>\n",
       "      <td>1</td>\n",
       "      <td>108.0</td>\n",
       "      <td>D</td>\n",
       "      <td>AG</td>\n",
       "    </tr>\n",
       "    <tr>\n",
       "      <th>649599</th>\n",
       "      <td>679635</td>\n",
       "      <td>2</td>\n",
       "      <td>2016-04-30 11:46:04</td>\n",
       "      <td>2016-04-30 11:47:41</td>\n",
       "      <td>2</td>\n",
       "      <td>0.33</td>\n",
       "      <td>-73.978935</td>\n",
       "      <td>40.777172</td>\n",
       "      <td>-73.981888</td>\n",
       "      <td>40.773136</td>\n",
       "      <td>2</td>\n",
       "      <td>97.0</td>\n",
       "      <td>AV</td>\n",
       "      <td>AV</td>\n",
       "    </tr>\n",
       "    <tr>\n",
       "      <th>649600</th>\n",
       "      <td>679636</td>\n",
       "      <td>2</td>\n",
       "      <td>2016-04-30 11:46:39</td>\n",
       "      <td>2016-04-30 11:58:02</td>\n",
       "      <td>1</td>\n",
       "      <td>1.78</td>\n",
       "      <td>-73.998207</td>\n",
       "      <td>40.745201</td>\n",
       "      <td>-73.990265</td>\n",
       "      <td>40.729023</td>\n",
       "      <td>2</td>\n",
       "      <td>683.0</td>\n",
       "      <td>AP</td>\n",
       "      <td>H</td>\n",
       "    </tr>\n",
       "    <tr>\n",
       "      <th>649601</th>\n",
       "      <td>679637</td>\n",
       "      <td>2</td>\n",
       "      <td>2016-04-30 11:46:44</td>\n",
       "      <td>2016-04-30 11:55:42</td>\n",
       "      <td>1</td>\n",
       "      <td>1.40</td>\n",
       "      <td>-73.987129</td>\n",
       "      <td>40.739429</td>\n",
       "      <td>-74.007370</td>\n",
       "      <td>40.743511</td>\n",
       "      <td>2</td>\n",
       "      <td>538.0</td>\n",
       "      <td>R</td>\n",
       "      <td>Q</td>\n",
       "    </tr>\n",
       "    <tr>\n",
       "      <th>649602</th>\n",
       "      <td>679638</td>\n",
       "      <td>2</td>\n",
       "      <td>2016-04-30 11:47:30</td>\n",
       "      <td>2016-04-30 11:54:00</td>\n",
       "      <td>1</td>\n",
       "      <td>1.12</td>\n",
       "      <td>-73.942375</td>\n",
       "      <td>40.790768</td>\n",
       "      <td>-73.952095</td>\n",
       "      <td>40.777145</td>\n",
       "      <td>2</td>\n",
       "      <td>390.0</td>\n",
       "      <td>J</td>\n",
       "      <td>AM</td>\n",
       "    </tr>\n",
       "    <tr>\n",
       "      <th>649603</th>\n",
       "      <td>679639</td>\n",
       "      <td>1</td>\n",
       "      <td>2016-04-30 11:47:38</td>\n",
       "      <td>2016-04-30 11:57:22</td>\n",
       "      <td>2</td>\n",
       "      <td>1.90</td>\n",
       "      <td>-73.960800</td>\n",
       "      <td>40.769920</td>\n",
       "      <td>-73.978966</td>\n",
       "      <td>40.785698</td>\n",
       "      <td>1</td>\n",
       "      <td>584.0</td>\n",
       "      <td>K</td>\n",
       "      <td>I</td>\n",
       "    </tr>\n",
       "    <tr>\n",
       "      <th>649604</th>\n",
       "      <td>679640</td>\n",
       "      <td>1</td>\n",
       "      <td>2016-04-30 11:47:49</td>\n",
       "      <td>2016-04-30 12:01:05</td>\n",
       "      <td>1</td>\n",
       "      <td>4.30</td>\n",
       "      <td>-74.013885</td>\n",
       "      <td>40.709515</td>\n",
       "      <td>-73.987213</td>\n",
       "      <td>40.722343</td>\n",
       "      <td>2</td>\n",
       "      <td>796.0</td>\n",
       "      <td>AU</td>\n",
       "      <td>AC</td>\n",
       "    </tr>\n",
       "    <tr>\n",
       "      <th>649605</th>\n",
       "      <td>679641</td>\n",
       "      <td>1</td>\n",
       "      <td>2016-04-30 11:48:17</td>\n",
       "      <td>2016-04-30 12:01:02</td>\n",
       "      <td>1</td>\n",
       "      <td>2.90</td>\n",
       "      <td>-73.975426</td>\n",
       "      <td>40.757584</td>\n",
       "      <td>-73.999016</td>\n",
       "      <td>40.722027</td>\n",
       "      <td>1</td>\n",
       "      <td>765.0</td>\n",
       "      <td>A</td>\n",
       "      <td>X</td>\n",
       "    </tr>\n",
       "    <tr>\n",
       "      <th>649606</th>\n",
       "      <td>679642</td>\n",
       "      <td>1</td>\n",
       "      <td>2016-04-30 11:49:44</td>\n",
       "      <td>2016-04-30 12:00:03</td>\n",
       "      <td>1</td>\n",
       "      <td>1.30</td>\n",
       "      <td>-73.989815</td>\n",
       "      <td>40.750454</td>\n",
       "      <td>-74.000473</td>\n",
       "      <td>40.762352</td>\n",
       "      <td>2</td>\n",
       "      <td>619.0</td>\n",
       "      <td>D</td>\n",
       "      <td>P</td>\n",
       "    </tr>\n",
       "  </tbody>\n",
       "</table>\n",
       "</div>"
      ],
      "text/plain": [
       "            id vendor_id     pickup_datetime    dropoff_datetime  \\\n",
       "0            0         2 2016-01-01 00:00:19 2016-01-01 00:06:31   \n",
       "649598  679634         1 2016-04-30 11:45:59 2016-04-30 11:47:47   \n",
       "649599  679635         2 2016-04-30 11:46:04 2016-04-30 11:47:41   \n",
       "649600  679636         2 2016-04-30 11:46:39 2016-04-30 11:58:02   \n",
       "649601  679637         2 2016-04-30 11:46:44 2016-04-30 11:55:42   \n",
       "649602  679638         2 2016-04-30 11:47:30 2016-04-30 11:54:00   \n",
       "649603  679639         1 2016-04-30 11:47:38 2016-04-30 11:57:22   \n",
       "649604  679640         1 2016-04-30 11:47:49 2016-04-30 12:01:05   \n",
       "649605  679641         1 2016-04-30 11:48:17 2016-04-30 12:01:02   \n",
       "649606  679642         1 2016-04-30 11:49:44 2016-04-30 12:00:03   \n",
       "\n",
       "        passenger_count  trip_distance  pickup_longitude  pickup_latitude  \\\n",
       "0                     3           1.32        -73.961258        40.796200   \n",
       "649598                1           0.50        -73.994919        40.755226   \n",
       "649599                2           0.33        -73.978935        40.777172   \n",
       "649600                1           1.78        -73.998207        40.745201   \n",
       "649601                1           1.40        -73.987129        40.739429   \n",
       "649602                1           1.12        -73.942375        40.790768   \n",
       "649603                2           1.90        -73.960800        40.769920   \n",
       "649604                1           4.30        -74.013885        40.709515   \n",
       "649605                1           2.90        -73.975426        40.757584   \n",
       "649606                1           1.30        -73.989815        40.750454   \n",
       "\n",
       "        dropoff_longitude  dropoff_latitude payment_type  trip_duration  \\\n",
       "0              -73.950050         40.787312            2          372.0   \n",
       "649598         -74.000351         40.747917            1          108.0   \n",
       "649599         -73.981888         40.773136            2           97.0   \n",
       "649600         -73.990265         40.729023            2          683.0   \n",
       "649601         -74.007370         40.743511            2          538.0   \n",
       "649602         -73.952095         40.777145            2          390.0   \n",
       "649603         -73.978966         40.785698            1          584.0   \n",
       "649604         -73.987213         40.722343            2          796.0   \n",
       "649605         -73.999016         40.722027            1          765.0   \n",
       "649606         -74.000473         40.762352            2          619.0   \n",
       "\n",
       "       pickup_neighborhood dropoff_neighborhood  \n",
       "0                       AH                    C  \n",
       "649598                   D                   AG  \n",
       "649599                  AV                   AV  \n",
       "649600                  AP                    H  \n",
       "649601                   R                    Q  \n",
       "649602                   J                   AM  \n",
       "649603                   K                    I  \n",
       "649604                  AU                   AC  \n",
       "649605                   A                    X  \n",
       "649606                   D                    P  "
      ]
     },
     "execution_count": 3,
     "metadata": {},
     "output_type": "execute_result"
    }
   ],
   "source": [
    "trips, pickup_neighborhoods, dropoff_neighborhoods = load_nyc_taxi_data()\n",
    "preview(trips, 10)"
   ]
  },
  {
   "cell_type": "markdown",
   "metadata": {},
   "source": [
    "### Display first five rows"
   ]
  },
  {
   "cell_type": "code",
   "execution_count": 4,
   "metadata": {},
   "outputs": [
    {
     "data": {
      "text/html": [
       "<div>\n",
       "<style scoped>\n",
       "    .dataframe tbody tr th:only-of-type {\n",
       "        vertical-align: middle;\n",
       "    }\n",
       "\n",
       "    .dataframe tbody tr th {\n",
       "        vertical-align: top;\n",
       "    }\n",
       "\n",
       "    .dataframe thead th {\n",
       "        text-align: right;\n",
       "    }\n",
       "</style>\n",
       "<table border=\"1\" class=\"dataframe\">\n",
       "  <thead>\n",
       "    <tr style=\"text-align: right;\">\n",
       "      <th></th>\n",
       "      <th>id</th>\n",
       "      <th>vendor_id</th>\n",
       "      <th>pickup_datetime</th>\n",
       "      <th>dropoff_datetime</th>\n",
       "      <th>passenger_count</th>\n",
       "      <th>trip_distance</th>\n",
       "      <th>pickup_longitude</th>\n",
       "      <th>pickup_latitude</th>\n",
       "      <th>dropoff_longitude</th>\n",
       "      <th>dropoff_latitude</th>\n",
       "      <th>payment_type</th>\n",
       "      <th>trip_duration</th>\n",
       "      <th>pickup_neighborhood</th>\n",
       "      <th>dropoff_neighborhood</th>\n",
       "    </tr>\n",
       "  </thead>\n",
       "  <tbody>\n",
       "    <tr>\n",
       "      <th>0</th>\n",
       "      <td>0</td>\n",
       "      <td>2</td>\n",
       "      <td>2016-01-01 00:00:19</td>\n",
       "      <td>2016-01-01 00:06:31</td>\n",
       "      <td>3</td>\n",
       "      <td>1.32</td>\n",
       "      <td>-73.961258</td>\n",
       "      <td>40.796200</td>\n",
       "      <td>-73.950050</td>\n",
       "      <td>40.787312</td>\n",
       "      <td>2</td>\n",
       "      <td>372.0</td>\n",
       "      <td>AH</td>\n",
       "      <td>C</td>\n",
       "    </tr>\n",
       "    <tr>\n",
       "      <th>1</th>\n",
       "      <td>1</td>\n",
       "      <td>2</td>\n",
       "      <td>2016-01-01 00:01:45</td>\n",
       "      <td>2016-01-01 00:27:38</td>\n",
       "      <td>1</td>\n",
       "      <td>13.70</td>\n",
       "      <td>-73.956169</td>\n",
       "      <td>40.707756</td>\n",
       "      <td>-73.939949</td>\n",
       "      <td>40.839558</td>\n",
       "      <td>1</td>\n",
       "      <td>1553.0</td>\n",
       "      <td>Z</td>\n",
       "      <td>S</td>\n",
       "    </tr>\n",
       "    <tr>\n",
       "      <th>2</th>\n",
       "      <td>2</td>\n",
       "      <td>1</td>\n",
       "      <td>2016-01-01 00:01:47</td>\n",
       "      <td>2016-01-01 00:21:51</td>\n",
       "      <td>2</td>\n",
       "      <td>5.30</td>\n",
       "      <td>-73.993103</td>\n",
       "      <td>40.752632</td>\n",
       "      <td>-73.953903</td>\n",
       "      <td>40.816540</td>\n",
       "      <td>2</td>\n",
       "      <td>1204.0</td>\n",
       "      <td>D</td>\n",
       "      <td>AL</td>\n",
       "    </tr>\n",
       "    <tr>\n",
       "      <th>3</th>\n",
       "      <td>3</td>\n",
       "      <td>2</td>\n",
       "      <td>2016-01-01 00:01:48</td>\n",
       "      <td>2016-01-01 00:16:06</td>\n",
       "      <td>1</td>\n",
       "      <td>7.19</td>\n",
       "      <td>-73.983009</td>\n",
       "      <td>40.731419</td>\n",
       "      <td>-73.930969</td>\n",
       "      <td>40.808460</td>\n",
       "      <td>2</td>\n",
       "      <td>858.0</td>\n",
       "      <td>AT</td>\n",
       "      <td>J</td>\n",
       "    </tr>\n",
       "    <tr>\n",
       "      <th>4</th>\n",
       "      <td>4</td>\n",
       "      <td>1</td>\n",
       "      <td>2016-01-01 00:02:49</td>\n",
       "      <td>2016-01-01 00:20:45</td>\n",
       "      <td>2</td>\n",
       "      <td>2.90</td>\n",
       "      <td>-74.004631</td>\n",
       "      <td>40.747234</td>\n",
       "      <td>-73.976395</td>\n",
       "      <td>40.777237</td>\n",
       "      <td>1</td>\n",
       "      <td>1076.0</td>\n",
       "      <td>AG</td>\n",
       "      <td>AV</td>\n",
       "    </tr>\n",
       "  </tbody>\n",
       "</table>\n",
       "</div>"
      ],
      "text/plain": [
       "   id vendor_id     pickup_datetime    dropoff_datetime  passenger_count  \\\n",
       "0   0         2 2016-01-01 00:00:19 2016-01-01 00:06:31                3   \n",
       "1   1         2 2016-01-01 00:01:45 2016-01-01 00:27:38                1   \n",
       "2   2         1 2016-01-01 00:01:47 2016-01-01 00:21:51                2   \n",
       "3   3         2 2016-01-01 00:01:48 2016-01-01 00:16:06                1   \n",
       "4   4         1 2016-01-01 00:02:49 2016-01-01 00:20:45                2   \n",
       "\n",
       "   trip_distance  pickup_longitude  pickup_latitude  dropoff_longitude  \\\n",
       "0           1.32        -73.961258        40.796200         -73.950050   \n",
       "1          13.70        -73.956169        40.707756         -73.939949   \n",
       "2           5.30        -73.993103        40.752632         -73.953903   \n",
       "3           7.19        -73.983009        40.731419         -73.930969   \n",
       "4           2.90        -74.004631        40.747234         -73.976395   \n",
       "\n",
       "   dropoff_latitude payment_type  trip_duration pickup_neighborhood  \\\n",
       "0         40.787312            2          372.0                  AH   \n",
       "1         40.839558            1         1553.0                   Z   \n",
       "2         40.816540            2         1204.0                   D   \n",
       "3         40.808460            2          858.0                  AT   \n",
       "4         40.777237            1         1076.0                  AG   \n",
       "\n",
       "  dropoff_neighborhood  \n",
       "0                    C  \n",
       "1                    S  \n",
       "2                   AL  \n",
       "3                    J  \n",
       "4                   AV  "
      ]
     },
     "execution_count": 4,
     "metadata": {},
     "output_type": "execute_result"
    }
   ],
   "source": [
    "trips.head()"
   ]
  },
  {
   "cell_type": "markdown",
   "metadata": {},
   "source": [
    "### Display info of the dataset"
   ]
  },
  {
   "cell_type": "code",
   "execution_count": 5,
   "metadata": {},
   "outputs": [
    {
     "name": "stdout",
     "output_type": "stream",
     "text": [
      "<class 'pandas.core.frame.DataFrame'>\n",
      "Int64Index: 974409 entries, 0 to 974408\n",
      "Data columns (total 14 columns):\n",
      " #   Column                Non-Null Count   Dtype         \n",
      "---  ------                --------------   -----         \n",
      " 0   id                    974409 non-null  int64         \n",
      " 1   vendor_id             974409 non-null  category      \n",
      " 2   pickup_datetime       974409 non-null  datetime64[ns]\n",
      " 3   dropoff_datetime      974409 non-null  datetime64[ns]\n",
      " 4   passenger_count       974409 non-null  int64         \n",
      " 5   trip_distance         974409 non-null  float64       \n",
      " 6   pickup_longitude      974409 non-null  float64       \n",
      " 7   pickup_latitude       974409 non-null  float64       \n",
      " 8   dropoff_longitude     974409 non-null  float64       \n",
      " 9   dropoff_latitude      974409 non-null  float64       \n",
      " 10  payment_type          974409 non-null  object        \n",
      " 11  trip_duration         974409 non-null  float64       \n",
      " 12  pickup_neighborhood   974409 non-null  object        \n",
      " 13  dropoff_neighborhood  974409 non-null  object        \n",
      "dtypes: category(1), datetime64[ns](2), float64(6), int64(2), object(3)\n",
      "memory usage: 137.3+ MB\n"
     ]
    }
   ],
   "source": [
    "#checking the info of the dataset\n",
    "trips.info()"
   ]
  },
  {
   "cell_type": "markdown",
   "metadata": {},
   "source": [
    "- There are 974409 non null values in the dataset"
   ]
  },
  {
   "cell_type": "markdown",
   "metadata": {},
   "source": [
    "### Check the number of unique values in the dataset."
   ]
  },
  {
   "cell_type": "code",
   "execution_count": 6,
   "metadata": {},
   "outputs": [
    {
     "data": {
      "text/plain": [
       "id                      974409\n",
       "vendor_id                    2\n",
       "pickup_datetime         939015\n",
       "dropoff_datetime        938873\n",
       "passenger_count              8\n",
       "trip_distance             2503\n",
       "pickup_longitude         20222\n",
       "pickup_latitude          40692\n",
       "dropoff_longitude        26127\n",
       "dropoff_latitude         50077\n",
       "payment_type                 4\n",
       "trip_duration             3607\n",
       "pickup_neighborhood         49\n",
       "dropoff_neighborhood        49\n",
       "dtype: int64"
      ]
     },
     "execution_count": 6,
     "metadata": {},
     "output_type": "execute_result"
    }
   ],
   "source": [
    "# Check the uniques values in each columns\n",
    "trips.nunique()"
   ]
  },
  {
   "cell_type": "markdown",
   "metadata": {},
   "source": [
    "- vendor_id has only 2 unique values, implies there are only 2 major taxi vendors are there. \n",
    "- Passenger count has 8 unique values and payment type have 4. \n",
    "- There are 49 neighborhood in the dataset, from where either a pickup or dropoff is happening. "
   ]
  },
  {
   "cell_type": "markdown",
   "metadata": {},
   "source": [
    "### Question 1 : Check summary statistics of the dataset (1 Mark)"
   ]
  },
  {
   "cell_type": "code",
   "execution_count": 7,
   "metadata": {},
   "outputs": [
    {
     "data": {
      "text/html": [
       "<div>\n",
       "<style scoped>\n",
       "    .dataframe tbody tr th:only-of-type {\n",
       "        vertical-align: middle;\n",
       "    }\n",
       "\n",
       "    .dataframe tbody tr th {\n",
       "        vertical-align: top;\n",
       "    }\n",
       "\n",
       "    .dataframe thead th {\n",
       "        text-align: right;\n",
       "    }\n",
       "</style>\n",
       "<table border=\"1\" class=\"dataframe\">\n",
       "  <thead>\n",
       "    <tr style=\"text-align: right;\">\n",
       "      <th></th>\n",
       "      <th>count</th>\n",
       "      <th>mean</th>\n",
       "      <th>std</th>\n",
       "      <th>min</th>\n",
       "      <th>25%</th>\n",
       "      <th>50%</th>\n",
       "      <th>75%</th>\n",
       "      <th>max</th>\n",
       "    </tr>\n",
       "  </thead>\n",
       "  <tbody>\n",
       "    <tr>\n",
       "      <th>id</th>\n",
       "      <td>974409.0</td>\n",
       "      <td>509622.259282</td>\n",
       "      <td>294491.646773</td>\n",
       "      <td>0.000000</td>\n",
       "      <td>254521.000000</td>\n",
       "      <td>509310.000000</td>\n",
       "      <td>764743.000000</td>\n",
       "      <td>1.020002e+06</td>\n",
       "    </tr>\n",
       "    <tr>\n",
       "      <th>passenger_count</th>\n",
       "      <td>974409.0</td>\n",
       "      <td>1.664010</td>\n",
       "      <td>1.314975</td>\n",
       "      <td>0.000000</td>\n",
       "      <td>1.000000</td>\n",
       "      <td>1.000000</td>\n",
       "      <td>2.000000</td>\n",
       "      <td>9.000000e+00</td>\n",
       "    </tr>\n",
       "    <tr>\n",
       "      <th>trip_distance</th>\n",
       "      <td>974409.0</td>\n",
       "      <td>2.734356</td>\n",
       "      <td>3.307038</td>\n",
       "      <td>0.000000</td>\n",
       "      <td>1.000000</td>\n",
       "      <td>1.640000</td>\n",
       "      <td>2.990000</td>\n",
       "      <td>5.028000e+02</td>\n",
       "    </tr>\n",
       "    <tr>\n",
       "      <th>pickup_longitude</th>\n",
       "      <td>974409.0</td>\n",
       "      <td>-73.973275</td>\n",
       "      <td>0.035702</td>\n",
       "      <td>-74.029846</td>\n",
       "      <td>-73.991058</td>\n",
       "      <td>-73.981178</td>\n",
       "      <td>-73.966888</td>\n",
       "      <td>-7.377051e+01</td>\n",
       "    </tr>\n",
       "    <tr>\n",
       "      <th>pickup_latitude</th>\n",
       "      <td>974409.0</td>\n",
       "      <td>40.752475</td>\n",
       "      <td>0.026668</td>\n",
       "      <td>40.630268</td>\n",
       "      <td>40.739689</td>\n",
       "      <td>40.755390</td>\n",
       "      <td>40.768929</td>\n",
       "      <td>4.084991e+01</td>\n",
       "    </tr>\n",
       "    <tr>\n",
       "      <th>dropoff_longitude</th>\n",
       "      <td>974409.0</td>\n",
       "      <td>-73.972825</td>\n",
       "      <td>0.031348</td>\n",
       "      <td>-74.029945</td>\n",
       "      <td>-73.990356</td>\n",
       "      <td>-73.979156</td>\n",
       "      <td>-73.962769</td>\n",
       "      <td>-7.377002e+01</td>\n",
       "    </tr>\n",
       "    <tr>\n",
       "      <th>dropoff_latitude</th>\n",
       "      <td>974409.0</td>\n",
       "      <td>40.753046</td>\n",
       "      <td>0.029151</td>\n",
       "      <td>40.630009</td>\n",
       "      <td>40.738792</td>\n",
       "      <td>40.755650</td>\n",
       "      <td>40.770454</td>\n",
       "      <td>4.085000e+01</td>\n",
       "    </tr>\n",
       "    <tr>\n",
       "      <th>trip_duration</th>\n",
       "      <td>974409.0</td>\n",
       "      <td>797.702753</td>\n",
       "      <td>576.802176</td>\n",
       "      <td>0.000000</td>\n",
       "      <td>389.000000</td>\n",
       "      <td>646.000000</td>\n",
       "      <td>1040.000000</td>\n",
       "      <td>3.606000e+03</td>\n",
       "    </tr>\n",
       "  </tbody>\n",
       "</table>\n",
       "</div>"
      ],
      "text/plain": [
       "                      count           mean            std        min  \\\n",
       "id                 974409.0  509622.259282  294491.646773   0.000000   \n",
       "passenger_count    974409.0       1.664010       1.314975   0.000000   \n",
       "trip_distance      974409.0       2.734356       3.307038   0.000000   \n",
       "pickup_longitude   974409.0     -73.973275       0.035702 -74.029846   \n",
       "pickup_latitude    974409.0      40.752475       0.026668  40.630268   \n",
       "dropoff_longitude  974409.0     -73.972825       0.031348 -74.029945   \n",
       "dropoff_latitude   974409.0      40.753046       0.029151  40.630009   \n",
       "trip_duration      974409.0     797.702753     576.802176   0.000000   \n",
       "\n",
       "                             25%            50%            75%           max  \n",
       "id                 254521.000000  509310.000000  764743.000000  1.020002e+06  \n",
       "passenger_count         1.000000       1.000000       2.000000  9.000000e+00  \n",
       "trip_distance           1.000000       1.640000       2.990000  5.028000e+02  \n",
       "pickup_longitude      -73.991058     -73.981178     -73.966888 -7.377051e+01  \n",
       "pickup_latitude        40.739689      40.755390      40.768929  4.084991e+01  \n",
       "dropoff_longitude     -73.990356     -73.979156     -73.962769 -7.377002e+01  \n",
       "dropoff_latitude       40.738792      40.755650      40.770454  4.085000e+01  \n",
       "trip_duration         389.000000     646.000000    1040.000000  3.606000e+03  "
      ]
     },
     "execution_count": 7,
     "metadata": {},
     "output_type": "execute_result"
    }
   ],
   "source": [
    "#chekcing the descriptive stats of the data\n",
    "\n",
    "#Remove _________ and complete the code\n",
    "\n",
    "trips.describe().T"
   ]
  },
  {
   "cell_type": "markdown",
   "metadata": {},
   "source": [
    "**Write your answers here:**\n",
    "- The mean passenger count is 1.66, that means that the max value (9) is an outlier\n",
    "- the average trip distance is 2.73\n",
    "- the mean trip_duration is 797"
   ]
  },
  {
   "cell_type": "markdown",
   "metadata": {},
   "source": [
    "#### Checking for the rows for which trip_distance is 0"
   ]
  },
  {
   "cell_type": "code",
   "execution_count": 8,
   "metadata": {},
   "outputs": [
    {
     "data": {
      "text/html": [
       "<div>\n",
       "<style scoped>\n",
       "    .dataframe tbody tr th:only-of-type {\n",
       "        vertical-align: middle;\n",
       "    }\n",
       "\n",
       "    .dataframe tbody tr th {\n",
       "        vertical-align: top;\n",
       "    }\n",
       "\n",
       "    .dataframe thead th {\n",
       "        text-align: right;\n",
       "    }\n",
       "</style>\n",
       "<table border=\"1\" class=\"dataframe\">\n",
       "  <thead>\n",
       "    <tr style=\"text-align: right;\">\n",
       "      <th></th>\n",
       "      <th>id</th>\n",
       "      <th>vendor_id</th>\n",
       "      <th>pickup_datetime</th>\n",
       "      <th>dropoff_datetime</th>\n",
       "      <th>passenger_count</th>\n",
       "      <th>trip_distance</th>\n",
       "      <th>pickup_longitude</th>\n",
       "      <th>pickup_latitude</th>\n",
       "      <th>dropoff_longitude</th>\n",
       "      <th>dropoff_latitude</th>\n",
       "      <th>payment_type</th>\n",
       "      <th>trip_duration</th>\n",
       "      <th>pickup_neighborhood</th>\n",
       "      <th>dropoff_neighborhood</th>\n",
       "    </tr>\n",
       "  </thead>\n",
       "  <tbody>\n",
       "    <tr>\n",
       "      <th>852</th>\n",
       "      <td>880</td>\n",
       "      <td>1</td>\n",
       "      <td>2016-01-01 02:15:56</td>\n",
       "      <td>2016-01-01 02:16:17</td>\n",
       "      <td>1</td>\n",
       "      <td>0.0</td>\n",
       "      <td>-74.002586</td>\n",
       "      <td>40.750298</td>\n",
       "      <td>-74.002861</td>\n",
       "      <td>40.750446</td>\n",
       "      <td>2</td>\n",
       "      <td>21.0</td>\n",
       "      <td>AG</td>\n",
       "      <td>AG</td>\n",
       "    </tr>\n",
       "    <tr>\n",
       "      <th>1079</th>\n",
       "      <td>1116</td>\n",
       "      <td>1</td>\n",
       "      <td>2016-01-01 03:01:10</td>\n",
       "      <td>2016-01-01 03:03:26</td>\n",
       "      <td>1</td>\n",
       "      <td>0.0</td>\n",
       "      <td>-73.987831</td>\n",
       "      <td>40.728558</td>\n",
       "      <td>-73.988747</td>\n",
       "      <td>40.727280</td>\n",
       "      <td>3</td>\n",
       "      <td>136.0</td>\n",
       "      <td>H</td>\n",
       "      <td>H</td>\n",
       "    </tr>\n",
       "    <tr>\n",
       "      <th>1408</th>\n",
       "      <td>1455</td>\n",
       "      <td>2</td>\n",
       "      <td>2016-01-01 04:09:43</td>\n",
       "      <td>2016-01-01 04:10:48</td>\n",
       "      <td>1</td>\n",
       "      <td>0.0</td>\n",
       "      <td>-73.985893</td>\n",
       "      <td>40.763649</td>\n",
       "      <td>-73.985741</td>\n",
       "      <td>40.763672</td>\n",
       "      <td>2</td>\n",
       "      <td>65.0</td>\n",
       "      <td>AR</td>\n",
       "      <td>AR</td>\n",
       "    </tr>\n",
       "    <tr>\n",
       "      <th>1440</th>\n",
       "      <td>1488</td>\n",
       "      <td>1</td>\n",
       "      <td>2016-01-01 04:16:54</td>\n",
       "      <td>2016-01-01 04:16:57</td>\n",
       "      <td>1</td>\n",
       "      <td>0.0</td>\n",
       "      <td>-74.014198</td>\n",
       "      <td>40.709988</td>\n",
       "      <td>-74.014198</td>\n",
       "      <td>40.709988</td>\n",
       "      <td>3</td>\n",
       "      <td>3.0</td>\n",
       "      <td>AU</td>\n",
       "      <td>AU</td>\n",
       "    </tr>\n",
       "    <tr>\n",
       "      <th>1510</th>\n",
       "      <td>1558</td>\n",
       "      <td>1</td>\n",
       "      <td>2016-01-01 04:36:03</td>\n",
       "      <td>2016-01-01 04:36:16</td>\n",
       "      <td>1</td>\n",
       "      <td>0.0</td>\n",
       "      <td>-73.952507</td>\n",
       "      <td>40.817329</td>\n",
       "      <td>-73.952499</td>\n",
       "      <td>40.817322</td>\n",
       "      <td>2</td>\n",
       "      <td>13.0</td>\n",
       "      <td>AL</td>\n",
       "      <td>AL</td>\n",
       "    </tr>\n",
       "    <tr>\n",
       "      <th>...</th>\n",
       "      <td>...</td>\n",
       "      <td>...</td>\n",
       "      <td>...</td>\n",
       "      <td>...</td>\n",
       "      <td>...</td>\n",
       "      <td>...</td>\n",
       "      <td>...</td>\n",
       "      <td>...</td>\n",
       "      <td>...</td>\n",
       "      <td>...</td>\n",
       "      <td>...</td>\n",
       "      <td>...</td>\n",
       "      <td>...</td>\n",
       "      <td>...</td>\n",
       "    </tr>\n",
       "    <tr>\n",
       "      <th>972967</th>\n",
       "      <td>1018490</td>\n",
       "      <td>1</td>\n",
       "      <td>2016-06-30 19:09:44</td>\n",
       "      <td>2016-06-30 19:22:21</td>\n",
       "      <td>1</td>\n",
       "      <td>0.0</td>\n",
       "      <td>-73.945480</td>\n",
       "      <td>40.751400</td>\n",
       "      <td>-73.945496</td>\n",
       "      <td>40.751549</td>\n",
       "      <td>2</td>\n",
       "      <td>757.0</td>\n",
       "      <td>AN</td>\n",
       "      <td>AN</td>\n",
       "    </tr>\n",
       "    <tr>\n",
       "      <th>973384</th>\n",
       "      <td>1018928</td>\n",
       "      <td>2</td>\n",
       "      <td>2016-06-30 20:35:08</td>\n",
       "      <td>2016-06-30 20:35:10</td>\n",
       "      <td>1</td>\n",
       "      <td>0.0</td>\n",
       "      <td>-73.983864</td>\n",
       "      <td>40.693813</td>\n",
       "      <td>-73.983910</td>\n",
       "      <td>40.693817</td>\n",
       "      <td>1</td>\n",
       "      <td>2.0</td>\n",
       "      <td>AS</td>\n",
       "      <td>AS</td>\n",
       "    </tr>\n",
       "    <tr>\n",
       "      <th>973555</th>\n",
       "      <td>1019105</td>\n",
       "      <td>2</td>\n",
       "      <td>2016-06-30 21:13:50</td>\n",
       "      <td>2016-06-30 21:14:05</td>\n",
       "      <td>1</td>\n",
       "      <td>0.0</td>\n",
       "      <td>-74.008789</td>\n",
       "      <td>40.708740</td>\n",
       "      <td>-74.008659</td>\n",
       "      <td>40.708858</td>\n",
       "      <td>1</td>\n",
       "      <td>15.0</td>\n",
       "      <td>AU</td>\n",
       "      <td>AU</td>\n",
       "    </tr>\n",
       "    <tr>\n",
       "      <th>973607</th>\n",
       "      <td>1019159</td>\n",
       "      <td>2</td>\n",
       "      <td>2016-06-30 21:24:23</td>\n",
       "      <td>2016-06-30 21:37:40</td>\n",
       "      <td>1</td>\n",
       "      <td>0.0</td>\n",
       "      <td>-73.974510</td>\n",
       "      <td>40.778297</td>\n",
       "      <td>-73.977272</td>\n",
       "      <td>40.754047</td>\n",
       "      <td>1</td>\n",
       "      <td>797.0</td>\n",
       "      <td>I</td>\n",
       "      <td>AD</td>\n",
       "    </tr>\n",
       "    <tr>\n",
       "      <th>973898</th>\n",
       "      <td>1019464</td>\n",
       "      <td>2</td>\n",
       "      <td>2016-06-30 22:20:27</td>\n",
       "      <td>2016-06-30 22:43:11</td>\n",
       "      <td>2</td>\n",
       "      <td>0.0</td>\n",
       "      <td>-73.978920</td>\n",
       "      <td>40.688160</td>\n",
       "      <td>-73.992317</td>\n",
       "      <td>40.749359</td>\n",
       "      <td>1</td>\n",
       "      <td>1364.0</td>\n",
       "      <td>V</td>\n",
       "      <td>D</td>\n",
       "    </tr>\n",
       "  </tbody>\n",
       "</table>\n",
       "<p>3807 rows × 14 columns</p>\n",
       "</div>"
      ],
      "text/plain": [
       "             id vendor_id     pickup_datetime    dropoff_datetime  \\\n",
       "852         880         1 2016-01-01 02:15:56 2016-01-01 02:16:17   \n",
       "1079       1116         1 2016-01-01 03:01:10 2016-01-01 03:03:26   \n",
       "1408       1455         2 2016-01-01 04:09:43 2016-01-01 04:10:48   \n",
       "1440       1488         1 2016-01-01 04:16:54 2016-01-01 04:16:57   \n",
       "1510       1558         1 2016-01-01 04:36:03 2016-01-01 04:36:16   \n",
       "...         ...       ...                 ...                 ...   \n",
       "972967  1018490         1 2016-06-30 19:09:44 2016-06-30 19:22:21   \n",
       "973384  1018928         2 2016-06-30 20:35:08 2016-06-30 20:35:10   \n",
       "973555  1019105         2 2016-06-30 21:13:50 2016-06-30 21:14:05   \n",
       "973607  1019159         2 2016-06-30 21:24:23 2016-06-30 21:37:40   \n",
       "973898  1019464         2 2016-06-30 22:20:27 2016-06-30 22:43:11   \n",
       "\n",
       "        passenger_count  trip_distance  pickup_longitude  pickup_latitude  \\\n",
       "852                   1            0.0        -74.002586        40.750298   \n",
       "1079                  1            0.0        -73.987831        40.728558   \n",
       "1408                  1            0.0        -73.985893        40.763649   \n",
       "1440                  1            0.0        -74.014198        40.709988   \n",
       "1510                  1            0.0        -73.952507        40.817329   \n",
       "...                 ...            ...               ...              ...   \n",
       "972967                1            0.0        -73.945480        40.751400   \n",
       "973384                1            0.0        -73.983864        40.693813   \n",
       "973555                1            0.0        -74.008789        40.708740   \n",
       "973607                1            0.0        -73.974510        40.778297   \n",
       "973898                2            0.0        -73.978920        40.688160   \n",
       "\n",
       "        dropoff_longitude  dropoff_latitude payment_type  trip_duration  \\\n",
       "852            -74.002861         40.750446            2           21.0   \n",
       "1079           -73.988747         40.727280            3          136.0   \n",
       "1408           -73.985741         40.763672            2           65.0   \n",
       "1440           -74.014198         40.709988            3            3.0   \n",
       "1510           -73.952499         40.817322            2           13.0   \n",
       "...                   ...               ...          ...            ...   \n",
       "972967         -73.945496         40.751549            2          757.0   \n",
       "973384         -73.983910         40.693817            1            2.0   \n",
       "973555         -74.008659         40.708858            1           15.0   \n",
       "973607         -73.977272         40.754047            1          797.0   \n",
       "973898         -73.992317         40.749359            1         1364.0   \n",
       "\n",
       "       pickup_neighborhood dropoff_neighborhood  \n",
       "852                     AG                   AG  \n",
       "1079                     H                    H  \n",
       "1408                    AR                   AR  \n",
       "1440                    AU                   AU  \n",
       "1510                    AL                   AL  \n",
       "...                    ...                  ...  \n",
       "972967                  AN                   AN  \n",
       "973384                  AS                   AS  \n",
       "973555                  AU                   AU  \n",
       "973607                   I                   AD  \n",
       "973898                   V                    D  \n",
       "\n",
       "[3807 rows x 14 columns]"
      ]
     },
     "execution_count": 8,
     "metadata": {},
     "output_type": "execute_result"
    }
   ],
   "source": [
    "#Chekcing the rows where trip distance is 0\n",
    "trips[trips['trip_distance']==0]"
   ]
  },
  {
   "cell_type": "markdown",
   "metadata": {},
   "source": [
    "- We can observe that, where trip distance is 0 trip duration is not 0, hence we can replace those values. \n",
    "- There are 3807 such rows"
   ]
  },
  {
   "cell_type": "markdown",
   "metadata": {},
   "source": [
    "#### Replacing the 0 values with median of the trip distance"
   ]
  },
  {
   "cell_type": "code",
   "execution_count": 9,
   "metadata": {},
   "outputs": [],
   "source": [
    "trips['trip_distance']=trips['trip_distance'].replace(0,trips['trip_distance'].median())"
   ]
  },
  {
   "cell_type": "code",
   "execution_count": 10,
   "metadata": {},
   "outputs": [
    {
     "data": {
      "text/plain": [
       "id                      0\n",
       "vendor_id               0\n",
       "pickup_datetime         0\n",
       "dropoff_datetime        0\n",
       "passenger_count         0\n",
       "trip_distance           0\n",
       "pickup_longitude        0\n",
       "pickup_latitude         0\n",
       "dropoff_longitude       0\n",
       "dropoff_latitude        0\n",
       "payment_type            0\n",
       "trip_duration           0\n",
       "pickup_neighborhood     0\n",
       "dropoff_neighborhood    0\n",
       "dtype: int64"
      ]
     },
     "execution_count": 10,
     "metadata": {},
     "output_type": "execute_result"
    }
   ],
   "source": [
    "trips[trips['trip_distance']==0].count()"
   ]
  },
  {
   "cell_type": "markdown",
   "metadata": {},
   "source": [
    "#### Checking for the rows for which trip_duration is 0"
   ]
  },
  {
   "cell_type": "code",
   "execution_count": 11,
   "metadata": {},
   "outputs": [
    {
     "data": {
      "text/html": [
       "<div>\n",
       "<style scoped>\n",
       "    .dataframe tbody tr th:only-of-type {\n",
       "        vertical-align: middle;\n",
       "    }\n",
       "\n",
       "    .dataframe tbody tr th {\n",
       "        vertical-align: top;\n",
       "    }\n",
       "\n",
       "    .dataframe thead th {\n",
       "        text-align: right;\n",
       "    }\n",
       "</style>\n",
       "<table border=\"1\" class=\"dataframe\">\n",
       "  <thead>\n",
       "    <tr style=\"text-align: right;\">\n",
       "      <th></th>\n",
       "      <th>id</th>\n",
       "      <th>vendor_id</th>\n",
       "      <th>pickup_datetime</th>\n",
       "      <th>dropoff_datetime</th>\n",
       "      <th>passenger_count</th>\n",
       "      <th>trip_distance</th>\n",
       "      <th>pickup_longitude</th>\n",
       "      <th>pickup_latitude</th>\n",
       "      <th>dropoff_longitude</th>\n",
       "      <th>dropoff_latitude</th>\n",
       "      <th>payment_type</th>\n",
       "      <th>trip_duration</th>\n",
       "      <th>pickup_neighborhood</th>\n",
       "      <th>dropoff_neighborhood</th>\n",
       "    </tr>\n",
       "  </thead>\n",
       "  <tbody>\n",
       "    <tr>\n",
       "      <th>44446</th>\n",
       "      <td>46325</td>\n",
       "      <td>1</td>\n",
       "      <td>2016-01-10 00:48:55</td>\n",
       "      <td>2016-01-10 00:48:55</td>\n",
       "      <td>1</td>\n",
       "      <td>1.20</td>\n",
       "      <td>-73.968842</td>\n",
       "      <td>40.766972</td>\n",
       "      <td>-73.968842</td>\n",
       "      <td>40.766972</td>\n",
       "      <td>3</td>\n",
       "      <td>0.0</td>\n",
       "      <td>AK</td>\n",
       "      <td>AK</td>\n",
       "    </tr>\n",
       "    <tr>\n",
       "      <th>121544</th>\n",
       "      <td>126869</td>\n",
       "      <td>2</td>\n",
       "      <td>2016-01-26 00:07:47</td>\n",
       "      <td>2016-01-26 00:07:47</td>\n",
       "      <td>6</td>\n",
       "      <td>4.35</td>\n",
       "      <td>-73.986694</td>\n",
       "      <td>40.739815</td>\n",
       "      <td>-73.956139</td>\n",
       "      <td>40.732872</td>\n",
       "      <td>1</td>\n",
       "      <td>0.0</td>\n",
       "      <td>R</td>\n",
       "      <td>Z</td>\n",
       "    </tr>\n",
       "    <tr>\n",
       "      <th>142202</th>\n",
       "      <td>148598</td>\n",
       "      <td>1</td>\n",
       "      <td>2016-01-30 00:00:29</td>\n",
       "      <td>2016-01-30 00:00:29</td>\n",
       "      <td>1</td>\n",
       "      <td>1.64</td>\n",
       "      <td>-73.989578</td>\n",
       "      <td>40.743877</td>\n",
       "      <td>-73.989578</td>\n",
       "      <td>40.743877</td>\n",
       "      <td>2</td>\n",
       "      <td>0.0</td>\n",
       "      <td>AO</td>\n",
       "      <td>AO</td>\n",
       "    </tr>\n",
       "    <tr>\n",
       "      <th>172653</th>\n",
       "      <td>180414</td>\n",
       "      <td>1</td>\n",
       "      <td>2016-02-04 19:23:45</td>\n",
       "      <td>2016-02-04 19:23:45</td>\n",
       "      <td>1</td>\n",
       "      <td>0.40</td>\n",
       "      <td>-73.990868</td>\n",
       "      <td>40.751106</td>\n",
       "      <td>-73.990868</td>\n",
       "      <td>40.751106</td>\n",
       "      <td>2</td>\n",
       "      <td>0.0</td>\n",
       "      <td>D</td>\n",
       "      <td>D</td>\n",
       "    </tr>\n",
       "    <tr>\n",
       "      <th>173013</th>\n",
       "      <td>180795</td>\n",
       "      <td>1</td>\n",
       "      <td>2016-02-04 20:23:10</td>\n",
       "      <td>2016-02-04 20:23:10</td>\n",
       "      <td>1</td>\n",
       "      <td>0.80</td>\n",
       "      <td>-73.977661</td>\n",
       "      <td>40.752968</td>\n",
       "      <td>-73.977661</td>\n",
       "      <td>40.752968</td>\n",
       "      <td>2</td>\n",
       "      <td>0.0</td>\n",
       "      <td>AD</td>\n",
       "      <td>AD</td>\n",
       "    </tr>\n",
       "  </tbody>\n",
       "</table>\n",
       "</div>"
      ],
      "text/plain": [
       "            id vendor_id     pickup_datetime    dropoff_datetime  \\\n",
       "44446    46325         1 2016-01-10 00:48:55 2016-01-10 00:48:55   \n",
       "121544  126869         2 2016-01-26 00:07:47 2016-01-26 00:07:47   \n",
       "142202  148598         1 2016-01-30 00:00:29 2016-01-30 00:00:29   \n",
       "172653  180414         1 2016-02-04 19:23:45 2016-02-04 19:23:45   \n",
       "173013  180795         1 2016-02-04 20:23:10 2016-02-04 20:23:10   \n",
       "\n",
       "        passenger_count  trip_distance  pickup_longitude  pickup_latitude  \\\n",
       "44446                 1           1.20        -73.968842        40.766972   \n",
       "121544                6           4.35        -73.986694        40.739815   \n",
       "142202                1           1.64        -73.989578        40.743877   \n",
       "172653                1           0.40        -73.990868        40.751106   \n",
       "173013                1           0.80        -73.977661        40.752968   \n",
       "\n",
       "        dropoff_longitude  dropoff_latitude payment_type  trip_duration  \\\n",
       "44446          -73.968842         40.766972            3            0.0   \n",
       "121544         -73.956139         40.732872            1            0.0   \n",
       "142202         -73.989578         40.743877            2            0.0   \n",
       "172653         -73.990868         40.751106            2            0.0   \n",
       "173013         -73.977661         40.752968            2            0.0   \n",
       "\n",
       "       pickup_neighborhood dropoff_neighborhood  \n",
       "44446                   AK                   AK  \n",
       "121544                   R                    Z  \n",
       "142202                  AO                   AO  \n",
       "172653                   D                    D  \n",
       "173013                  AD                   AD  "
      ]
     },
     "execution_count": 11,
     "metadata": {},
     "output_type": "execute_result"
    }
   ],
   "source": [
    "trips[trips['trip_duration']==0].head()"
   ]
  },
  {
   "cell_type": "markdown",
   "metadata": {},
   "source": [
    "- We can observe that, where trip distance is 0 trip duration is not 0, hence we can replace those values. "
   ]
  },
  {
   "cell_type": "code",
   "execution_count": 12,
   "metadata": {},
   "outputs": [],
   "source": [
    "trips['trip_duration']=trips['trip_duration'].replace(0,trips['trip_duration'].median())"
   ]
  },
  {
   "cell_type": "code",
   "execution_count": 13,
   "metadata": {},
   "outputs": [
    {
     "data": {
      "text/plain": [
       "id                      0\n",
       "vendor_id               0\n",
       "pickup_datetime         0\n",
       "dropoff_datetime        0\n",
       "passenger_count         0\n",
       "trip_distance           0\n",
       "pickup_longitude        0\n",
       "pickup_latitude         0\n",
       "dropoff_longitude       0\n",
       "dropoff_latitude        0\n",
       "payment_type            0\n",
       "trip_duration           0\n",
       "pickup_neighborhood     0\n",
       "dropoff_neighborhood    0\n",
       "dtype: int64"
      ]
     },
     "execution_count": 13,
     "metadata": {},
     "output_type": "execute_result"
    }
   ],
   "source": [
    "trips[trips['trip_duration']==0].count()"
   ]
  },
  {
   "cell_type": "markdown",
   "metadata": {},
   "source": [
    "### Question 2: Univariate Analysis"
   ]
  },
  {
   "cell_type": "markdown",
   "metadata": {},
   "source": [
    "### Question 2.1: Build histogram for numerical columns (1 Marks)"
   ]
  },
  {
   "cell_type": "code",
   "execution_count": 19,
   "metadata": {},
   "outputs": [
    {
     "data": {
      "image/png": "[encoded data removed]",
      "text/plain": [
       "<Figure size 864x864 with 12 Axes>"
      ]
     },
     "metadata": {
      "needs_background": "light"
     },
     "output_type": "display_data"
    }
   ],
   "source": [
    "#Remove _________ and complete the code\n",
    "trips.hist(figsize=(12,12))\n",
    "plt.show()"
   ]
  },
  {
   "cell_type": "markdown",
   "metadata": {},
   "source": [
    "**Write your answers here:**\n",
    "- pickup_latitude and dropoff_latitude are approximately normal distributed\n",
    "- trip_distance probably have a few outliers\n",
    "- dropoff_longitude, pickup_longitude and passenger_count and right skewed\n",
    "- trip duration is also very right skewed"
   ]
  },
  {
   "cell_type": "code",
   "execution_count": 21,
   "metadata": {},
   "outputs": [
    {
     "data": {
      "image/png": "[encoded data removed]",
      "text/plain": [
       "<Figure size 432x288 with 1 Axes>"
      ]
     },
     "metadata": {
      "needs_background": "light"
     },
     "output_type": "display_data"
    }
   ],
   "source": [
    "sns.boxplot(x=trips['trip_distance'])\n",
    "plt.show()"
   ]
  },
  {
   "cell_type": "markdown",
   "metadata": {},
   "source": [
    "- We can see there is an extreme outlier in the dataset, we drop investigate it further"
   ]
  },
  {
   "cell_type": "code",
   "execution_count": 22,
   "metadata": {},
   "outputs": [
    {
     "data": {
      "text/html": [
       "<div>\n",
       "<style scoped>\n",
       "    .dataframe tbody tr th:only-of-type {\n",
       "        vertical-align: middle;\n",
       "    }\n",
       "\n",
       "    .dataframe tbody tr th {\n",
       "        vertical-align: top;\n",
       "    }\n",
       "\n",
       "    .dataframe thead th {\n",
       "        text-align: right;\n",
       "    }\n",
       "</style>\n",
       "<table border=\"1\" class=\"dataframe\">\n",
       "  <thead>\n",
       "    <tr style=\"text-align: right;\">\n",
       "      <th></th>\n",
       "      <th>id</th>\n",
       "      <th>vendor_id</th>\n",
       "      <th>pickup_datetime</th>\n",
       "      <th>dropoff_datetime</th>\n",
       "      <th>passenger_count</th>\n",
       "      <th>trip_distance</th>\n",
       "      <th>pickup_longitude</th>\n",
       "      <th>pickup_latitude</th>\n",
       "      <th>dropoff_longitude</th>\n",
       "      <th>dropoff_latitude</th>\n",
       "      <th>payment_type</th>\n",
       "      <th>trip_duration</th>\n",
       "      <th>pickup_neighborhood</th>\n",
       "      <th>dropoff_neighborhood</th>\n",
       "    </tr>\n",
       "  </thead>\n",
       "  <tbody>\n",
       "    <tr>\n",
       "      <th>171143</th>\n",
       "      <td>178815</td>\n",
       "      <td>1</td>\n",
       "      <td>2016-02-04 14:05:10</td>\n",
       "      <td>2016-02-04 14:56:37</td>\n",
       "      <td>1</td>\n",
       "      <td>156.2</td>\n",
       "      <td>-73.979149</td>\n",
       "      <td>40.765499</td>\n",
       "      <td>-73.782806</td>\n",
       "      <td>40.644009</td>\n",
       "      <td>1</td>\n",
       "      <td>3087.0</td>\n",
       "      <td>AR</td>\n",
       "      <td>G</td>\n",
       "    </tr>\n",
       "    <tr>\n",
       "      <th>248346</th>\n",
       "      <td>259490</td>\n",
       "      <td>1</td>\n",
       "      <td>2016-02-18 09:48:06</td>\n",
       "      <td>2016-02-18 09:50:27</td>\n",
       "      <td>1</td>\n",
       "      <td>501.4</td>\n",
       "      <td>-73.980087</td>\n",
       "      <td>40.782185</td>\n",
       "      <td>-73.981468</td>\n",
       "      <td>40.778519</td>\n",
       "      <td>2</td>\n",
       "      <td>141.0</td>\n",
       "      <td>I</td>\n",
       "      <td>AV</td>\n",
       "    </tr>\n",
       "    <tr>\n",
       "      <th>525084</th>\n",
       "      <td>548884</td>\n",
       "      <td>1</td>\n",
       "      <td>2016-04-07 21:19:03</td>\n",
       "      <td>2016-04-07 22:03:17</td>\n",
       "      <td>3</td>\n",
       "      <td>172.3</td>\n",
       "      <td>-73.783340</td>\n",
       "      <td>40.644176</td>\n",
       "      <td>-73.936028</td>\n",
       "      <td>40.737762</td>\n",
       "      <td>2</td>\n",
       "      <td>2654.0</td>\n",
       "      <td>G</td>\n",
       "      <td>AN</td>\n",
       "    </tr>\n",
       "    <tr>\n",
       "      <th>530340</th>\n",
       "      <td>554389</td>\n",
       "      <td>1</td>\n",
       "      <td>2016-04-08 19:19:32</td>\n",
       "      <td>2016-04-08 19:41:33</td>\n",
       "      <td>2</td>\n",
       "      <td>502.8</td>\n",
       "      <td>-73.995461</td>\n",
       "      <td>40.724884</td>\n",
       "      <td>-73.986099</td>\n",
       "      <td>40.762108</td>\n",
       "      <td>1</td>\n",
       "      <td>1321.0</td>\n",
       "      <td>X</td>\n",
       "      <td>AA</td>\n",
       "    </tr>\n",
       "    <tr>\n",
       "      <th>828650</th>\n",
       "      <td>867217</td>\n",
       "      <td>1</td>\n",
       "      <td>2016-06-02 21:30:17</td>\n",
       "      <td>2016-06-02 21:36:47</td>\n",
       "      <td>2</td>\n",
       "      <td>101.0</td>\n",
       "      <td>-73.961586</td>\n",
       "      <td>40.800968</td>\n",
       "      <td>-73.950165</td>\n",
       "      <td>40.802193</td>\n",
       "      <td>2</td>\n",
       "      <td>390.0</td>\n",
       "      <td>AH</td>\n",
       "      <td>J</td>\n",
       "    </tr>\n",
       "  </tbody>\n",
       "</table>\n",
       "</div>"
      ],
      "text/plain": [
       "            id vendor_id     pickup_datetime    dropoff_datetime  \\\n",
       "171143  178815         1 2016-02-04 14:05:10 2016-02-04 14:56:37   \n",
       "248346  259490         1 2016-02-18 09:48:06 2016-02-18 09:50:27   \n",
       "525084  548884         1 2016-04-07 21:19:03 2016-04-07 22:03:17   \n",
       "530340  554389         1 2016-04-08 19:19:32 2016-04-08 19:41:33   \n",
       "828650  867217         1 2016-06-02 21:30:17 2016-06-02 21:36:47   \n",
       "\n",
       "        passenger_count  trip_distance  pickup_longitude  pickup_latitude  \\\n",
       "171143                1          156.2        -73.979149        40.765499   \n",
       "248346                1          501.4        -73.980087        40.782185   \n",
       "525084                3          172.3        -73.783340        40.644176   \n",
       "530340                2          502.8        -73.995461        40.724884   \n",
       "828650                2          101.0        -73.961586        40.800968   \n",
       "\n",
       "        dropoff_longitude  dropoff_latitude payment_type  trip_duration  \\\n",
       "171143         -73.782806         40.644009            1         3087.0   \n",
       "248346         -73.981468         40.778519            2          141.0   \n",
       "525084         -73.936028         40.737762            2         2654.0   \n",
       "530340         -73.986099         40.762108            1         1321.0   \n",
       "828650         -73.950165         40.802193            2          390.0   \n",
       "\n",
       "       pickup_neighborhood dropoff_neighborhood  \n",
       "171143                  AR                    G  \n",
       "248346                   I                   AV  \n",
       "525084                   G                   AN  \n",
       "530340                   X                   AA  \n",
       "828650                  AH                    J  "
      ]
     },
     "execution_count": 22,
     "metadata": {},
     "output_type": "execute_result"
    }
   ],
   "source": [
    "trips[trips['trip_distance']>100]"
   ]
  },
  {
   "cell_type": "markdown",
   "metadata": {},
   "source": [
    "- We can observe that, there are 2 observation>500, and there is a huge gap in the trip duration for them.\n",
    "- Covering 501.4 distance in 141 sec, is not possible, it is better we can clip these values to 50. "
   ]
  },
  {
   "cell_type": "markdown",
   "metadata": {},
   "source": [
    "#### Clipping the outliers of trip distance to 50"
   ]
  },
  {
   "cell_type": "code",
   "execution_count": 23,
   "metadata": {},
   "outputs": [],
   "source": [
    "trips['trip_distance']=trips['trip_distance'].clip(trips['trip_distance'].min(),50)"
   ]
  },
  {
   "cell_type": "code",
   "execution_count": 25,
   "metadata": {},
   "outputs": [
    {
     "data": {
      "image/png": "[encoded data removed]",
      "text/plain": [
       "<Figure size 432x288 with 1 Axes>"
      ]
     },
     "metadata": {
      "needs_background": "light"
     },
     "output_type": "display_data"
    }
   ],
   "source": [
    "sns.boxplot(x=trips['trip_distance'])\n",
    "plt.show()"
   ]
  },
  {
   "cell_type": "markdown",
   "metadata": {},
   "source": [
    "### Question 2.2 Plotting countplot for Passenger_count (1 Marks)"
   ]
  },
  {
   "cell_type": "code",
   "execution_count": 26,
   "metadata": {},
   "outputs": [
    {
     "data": {
      "image/png": "[encoded data removed]",
      "text/plain": [
       "<Figure size 1440x360 with 1 Axes>"
      ]
     },
     "metadata": {
      "needs_background": "light"
     },
     "output_type": "display_data"
    }
   ],
   "source": [
    "#Remove _________ and complete the code\n",
    "\n",
    "import seaborn as sns\n",
    "plt.figure(figsize=(20,5))\n",
    "sns.countplot(x='passenger_count', data=trips)\n",
    "plt.show()"
   ]
  },
  {
   "cell_type": "code",
   "execution_count": 27,
   "metadata": {},
   "outputs": [
    {
     "data": {
      "text/plain": [
       "1    0.709334\n",
       "2    0.143419\n",
       "5    0.053409\n",
       "3    0.041140\n",
       "6    0.033334\n",
       "4    0.019338\n",
       "0    0.000025\n",
       "9    0.000002\n",
       "Name: passenger_count, dtype: float64"
      ]
     },
     "execution_count": 27,
     "metadata": {},
     "output_type": "execute_result"
    }
   ],
   "source": [
    "trips.passenger_count.value_counts(normalize=True)"
   ]
  },
  {
   "cell_type": "markdown",
   "metadata": {},
   "source": [
    "**Write your answers here:**\n",
    "- The distribution of the passenger count is very right skewed, there are many trips with 1 or 2 passengers (84%) and a very amount of trips with more passengers then that. \n"
   ]
  },
  {
   "cell_type": "markdown",
   "metadata": {},
   "source": [
    "### Question 2.3 Plotting countplot for pickup_neighborhood and dropoff_neighborhood (2 Marks)"
   ]
  },
  {
   "cell_type": "code",
   "execution_count": 36,
   "metadata": {},
   "outputs": [
    {
     "data": {
      "image/png": "[encoded data removed]",
      "text/plain": [
       "<Figure size 1440x576 with 1 Axes>"
      ]
     },
     "metadata": {
      "needs_background": "light"
     },
     "output_type": "display_data"
    }
   ],
   "source": [
    "#Remove _________ and complete the code\n",
    "trips.pickup_neighborhood.value_counts().sort_values(ascending=False).plot(kind='bar', figsize=(20,8))\n",
    "plt.title('pickups count for each neighborhood', size=20)\n",
    "plt.show()"
   ]
  },
  {
   "cell_type": "code",
   "execution_count": 37,
   "metadata": {},
   "outputs": [
    {
     "data": {
      "image/png": "[encoded data removed]",
      "text/plain": [
       "<Figure size 1440x576 with 1 Axes>"
      ]
     },
     "metadata": {
      "needs_background": "light"
     },
     "output_type": "display_data"
    }
   ],
   "source": [
    "#Remove _________ and complete the code\n",
    "\n",
    "trips.dropoff_neighborhood.value_counts().sort_values(ascending=False).plot(kind='bar', figsize=(20,8))\n",
    "plt.title('Dropoff count for each neighborhood', size=20)\n",
    "plt.show()"
   ]
  },
  {
   "cell_type": "markdown",
   "metadata": {},
   "source": [
    "**Write your answers here:**\n",
    "- most of pickups and dropoffs are in the areas AD, A, AA and D\n",
    "- areas like AE, AJ and AQ have very few trips"
   ]
  },
  {
   "cell_type": "code",
   "execution_count": 38,
   "metadata": {},
   "outputs": [
    {
     "data": {
      "text/html": [
       "<div>\n",
       "<style scoped>\n",
       "    .dataframe tbody tr th:only-of-type {\n",
       "        vertical-align: middle;\n",
       "    }\n",
       "\n",
       "    .dataframe tbody tr th {\n",
       "        vertical-align: top;\n",
       "    }\n",
       "\n",
       "    .dataframe thead th {\n",
       "        text-align: right;\n",
       "    }\n",
       "</style>\n",
       "<table border=\"1\" class=\"dataframe\">\n",
       "  <thead>\n",
       "    <tr style=\"text-align: right;\">\n",
       "      <th></th>\n",
       "      <th>neighborhood_id</th>\n",
       "      <th>latitude</th>\n",
       "      <th>longitude</th>\n",
       "    </tr>\n",
       "  </thead>\n",
       "  <tbody>\n",
       "    <tr>\n",
       "      <th>0</th>\n",
       "      <td>AH</td>\n",
       "      <td>40.804349</td>\n",
       "      <td>-73.961716</td>\n",
       "    </tr>\n",
       "    <tr>\n",
       "      <th>1</th>\n",
       "      <td>Z</td>\n",
       "      <td>40.715828</td>\n",
       "      <td>-73.954298</td>\n",
       "    </tr>\n",
       "    <tr>\n",
       "      <th>2</th>\n",
       "      <td>D</td>\n",
       "      <td>40.750179</td>\n",
       "      <td>-73.992557</td>\n",
       "    </tr>\n",
       "    <tr>\n",
       "      <th>3</th>\n",
       "      <td>AT</td>\n",
       "      <td>40.729670</td>\n",
       "      <td>-73.981693</td>\n",
       "    </tr>\n",
       "    <tr>\n",
       "      <th>4</th>\n",
       "      <td>AG</td>\n",
       "      <td>40.749843</td>\n",
       "      <td>-74.003458</td>\n",
       "    </tr>\n",
       "  </tbody>\n",
       "</table>\n",
       "</div>"
      ],
      "text/plain": [
       "  neighborhood_id   latitude  longitude\n",
       "0              AH  40.804349 -73.961716\n",
       "1               Z  40.715828 -73.954298\n",
       "2               D  40.750179 -73.992557\n",
       "3              AT  40.729670 -73.981693\n",
       "4              AG  40.749843 -74.003458"
      ]
     },
     "execution_count": 38,
     "metadata": {},
     "output_type": "execute_result"
    }
   ],
   "source": [
    "pickup_neighborhoods.head()"
   ]
  },
  {
   "cell_type": "markdown",
   "metadata": {},
   "source": [
    "### Bivariate analysis"
   ]
  },
  {
   "cell_type": "markdown",
   "metadata": {},
   "source": [
    "#### Plot a scatter plot for trip distance and trip duration"
   ]
  },
  {
   "cell_type": "code",
   "execution_count": 40,
   "metadata": {},
   "outputs": [
    {
     "data": {
      "text/plain": [
       "<AxesSubplot:xlabel='trip_distance', ylabel='trip_duration'>"
      ]
     },
     "execution_count": 40,
     "metadata": {},
     "output_type": "execute_result"
    },
    {
     "data": {
      "image/png": "[encoded data removed]",
      "text/plain": [
       "<Figure size 432x288 with 1 Axes>"
      ]
     },
     "metadata": {
      "needs_background": "light"
     },
     "output_type": "display_data"
    }
   ],
   "source": [
    "sns.scatterplot(x=trips['trip_distance'],y=trips['trip_duration'])"
   ]
  },
  {
   "cell_type": "markdown",
   "metadata": {},
   "source": [
    "- There is some positive correlation between trip_distance and trip_duration."
   ]
  },
  {
   "cell_type": "code",
   "execution_count": 41,
   "metadata": {},
   "outputs": [
    {
     "data": {
      "text/plain": [
       "<AxesSubplot:xlabel='passenger_count', ylabel='count'>"
      ]
     },
     "execution_count": 41,
     "metadata": {},
     "output_type": "execute_result"
    },
    {
     "data": {
      "image/png": "[encoded data removed]",
      "text/plain": [
       "<Figure size 432x288 with 1 Axes>"
      ]
     },
     "metadata": {
      "needs_background": "light"
     },
     "output_type": "display_data"
    }
   ],
   "source": [
    "sns.countplot(x=trips['passenger_count'],hue=trips['payment_type'])"
   ]
  },
  {
   "cell_type": "markdown",
   "metadata": {},
   "source": [
    "- There is no such specific pattern can be observed."
   ]
  },
  {
   "cell_type": "markdown",
   "metadata": {},
   "source": [
    "### Step 2: Prepare the Data\n",
    "\n",
    "Lets create entities and relationships. The three entities in this data are \n",
    "* trips \n",
    "* pickup_neighborhoods\n",
    "* dropoff_neighborhoods\n",
    "\n",
    "This data has the following relationships\n",
    "* pickup_neighborhoods --> trips (one neighborhood can have multiple trips that start in it. This means pickup_neighborhoods is the ``parent_entity`` and trips is the child entity)\n",
    "* dropoff_neighborhoods --> trips (one neighborhood can have multiple trips that end in it. This means dropoff_neighborhoods is the ``parent_entity`` and trips is the child entity)\n",
    "\n",
    "In <a <href=\"https://www.featuretools.com/\"><featuretools (automated feature engineering software package)/></a>, we specify the list of entities and relationships as follows: \n"
   ]
  },
  {
   "cell_type": "markdown",
   "metadata": {},
   "source": [
    "### Question 3: Define entities and relationships for the Deep Feature Synthesis (2 Marks)"
   ]
  },
  {
   "cell_type": "code",
   "execution_count": 42,
   "metadata": {
    "ExecuteTime": {
     "end_time": "2021-07-15T12:41:08.351728Z",
     "start_time": "2021-07-15T12:41:08.253155Z"
    }
   },
   "outputs": [],
   "source": [
    "#Remove _________ and complete the codeV\n",
    "\n",
    "entities = {'trips':(trips, 'id', 'pickup_datetime'), \n",
    "            'pickup_neighborhoods':(pickup_neighborhoods, 'neighborhood_id'),\n",
    "            'dropoff_neighborhoods':(dropoff_neighborhoods, 'neighborhood_id')}\n",
    "\n",
    "#Remove _________ and complete the code\n",
    "relationships = [('pickup_neighborhoods','neighborhood_id', 'trips', 'pickup_neighborhood'),\n",
    "                 ('dropoff_neighborhoods','neighborhood_id', 'trips', 'dropoff_neighborhood')]"
   ]
  },
  {
   "cell_type": "markdown",
   "metadata": {},
   "source": [
    "Next, we specify the cutoff time for each instance of the target_entity, in this case ``trips``.This timestamp represents the last time data can be used for calculating features by DFS. In this scenario, that would be the pickup time because we would like to make the duration prediction using data before the trip starts. \n",
    "\n",
    "For the purposes of the case study, we choose to only select trips that started after January 12th, 2016. "
   ]
  },
  {
   "cell_type": "code",
   "execution_count": 43,
   "metadata": {
    "ExecuteTime": {
     "end_time": "2021-07-15T12:41:53.295477Z",
     "start_time": "2021-07-15T12:41:53.056658Z"
    }
   },
   "outputs": [
    {
     "data": {
      "text/html": [
       "<div>\n",
       "<style scoped>\n",
       "    .dataframe tbody tr th:only-of-type {\n",
       "        vertical-align: middle;\n",
       "    }\n",
       "\n",
       "    .dataframe tbody tr th {\n",
       "        vertical-align: top;\n",
       "    }\n",
       "\n",
       "    .dataframe thead th {\n",
       "        text-align: right;\n",
       "    }\n",
       "</style>\n",
       "<table border=\"1\" class=\"dataframe\">\n",
       "  <thead>\n",
       "    <tr style=\"text-align: right;\">\n",
       "      <th></th>\n",
       "      <th>id</th>\n",
       "      <th>pickup_datetime</th>\n",
       "    </tr>\n",
       "  </thead>\n",
       "  <tbody>\n",
       "    <tr>\n",
       "      <th>54031</th>\n",
       "      <td>56311</td>\n",
       "      <td>2016-01-12 00:00:25</td>\n",
       "    </tr>\n",
       "    <tr>\n",
       "      <th>667608</th>\n",
       "      <td>698423</td>\n",
       "      <td>2016-05-03 17:59:59</td>\n",
       "    </tr>\n",
       "    <tr>\n",
       "      <th>667609</th>\n",
       "      <td>698424</td>\n",
       "      <td>2016-05-03 18:00:52</td>\n",
       "    </tr>\n",
       "    <tr>\n",
       "      <th>667610</th>\n",
       "      <td>698425</td>\n",
       "      <td>2016-05-03 18:01:06</td>\n",
       "    </tr>\n",
       "    <tr>\n",
       "      <th>667611</th>\n",
       "      <td>698426</td>\n",
       "      <td>2016-05-03 18:01:11</td>\n",
       "    </tr>\n",
       "    <tr>\n",
       "      <th>667612</th>\n",
       "      <td>698427</td>\n",
       "      <td>2016-05-03 18:01:12</td>\n",
       "    </tr>\n",
       "    <tr>\n",
       "      <th>667613</th>\n",
       "      <td>698428</td>\n",
       "      <td>2016-05-03 18:01:12</td>\n",
       "    </tr>\n",
       "    <tr>\n",
       "      <th>667614</th>\n",
       "      <td>698429</td>\n",
       "      <td>2016-05-03 18:01:24</td>\n",
       "    </tr>\n",
       "    <tr>\n",
       "      <th>667615</th>\n",
       "      <td>698430</td>\n",
       "      <td>2016-05-03 18:01:36</td>\n",
       "    </tr>\n",
       "    <tr>\n",
       "      <th>667616</th>\n",
       "      <td>698431</td>\n",
       "      <td>2016-05-03 18:01:39</td>\n",
       "    </tr>\n",
       "  </tbody>\n",
       "</table>\n",
       "</div>"
      ],
      "text/plain": [
       "            id     pickup_datetime\n",
       "54031    56311 2016-01-12 00:00:25\n",
       "667608  698423 2016-05-03 17:59:59\n",
       "667609  698424 2016-05-03 18:00:52\n",
       "667610  698425 2016-05-03 18:01:06\n",
       "667611  698426 2016-05-03 18:01:11\n",
       "667612  698427 2016-05-03 18:01:12\n",
       "667613  698428 2016-05-03 18:01:12\n",
       "667614  698429 2016-05-03 18:01:24\n",
       "667615  698430 2016-05-03 18:01:36\n",
       "667616  698431 2016-05-03 18:01:39"
      ]
     },
     "execution_count": 43,
     "metadata": {},
     "output_type": "execute_result"
    }
   ],
   "source": [
    "cutoff_time = trips[['id', 'pickup_datetime']]\n",
    "cutoff_time = cutoff_time[cutoff_time['pickup_datetime'] > \"2016-01-12\"]\n",
    "preview(cutoff_time, 10)"
   ]
  },
  {
   "cell_type": "markdown",
   "metadata": {},
   "source": [
    "### Step 3: Create baseline features using Deep Feature Synthesis\n",
    "\n",
    "Instead of manually creating features, such as \"month of pickup datetime\", we can let DFS come up with them automatically. It does this by \n",
    "* interpreting the variable types of the columns e.g categorical, numeric and others \n",
    "* matching the columns to the primitives that can be applied to their variable types\n",
    "* creating features based on these matches"
   ]
  },
  {
   "cell_type": "markdown",
   "metadata": {},
   "source": [
    "**Create transform features using transform primitives**\n",
    "\n",
    "As we described in the video, features fall into two major categories, ``transform`` and ``aggregate``. In featureools, we can create transform features by specifying ``transform`` primitives. Below we specify a ``transform`` primitive called ``weekend`` and here is what it does:\n",
    "\n",
    "* It can be applied to any ``datetime`` column in the data. \n",
    "* For each entry in the column, it assess if it is a ``weekend`` and returns a boolean. \n",
    "\n",
    "In this specific data, there are two ``datetime`` columns ``pickup_datetime`` and ``dropoff_datetime``. The tool automatically creates features using the primitive and these two columns as shown below. "
   ]
  },
  {
   "cell_type": "markdown",
   "metadata": {},
   "source": [
    "### Question 4: Creating a baseline model with only 1 transform primitive (10 Marks)\n",
    "\n",
    "**Question: 4.1 Define transform primitive for weekend and define features using dfs?** "
   ]
  },
  {
   "cell_type": "code",
   "execution_count": 44,
   "metadata": {
    "ExecuteTime": {
     "end_time": "2021-07-15T12:46:18.552030Z",
     "start_time": "2021-07-15T12:46:16.349739Z"
    }
   },
   "outputs": [],
   "source": [
    "#Remove _________ and complete the code\n",
    "trans_primitives = [IsWeekend]\n",
    "\n",
    "#Remove _________ and complete the code\n",
    "features = ft.dfs(entities=entities,\n",
    "                  relationships=relationships,\n",
    "                  target_entity=\"trips\",\n",
    "                  trans_primitives=trans_primitives,\n",
    "                  agg_primitives=[],\n",
    "                  ignore_variables={\"trips\": [\"pickup_latitude\", \"pickup_longitude\",\n",
    "                                              \"dropoff_latitude\", \"dropoff_longitude\"]},\n",
    "                  features_only=True)"
   ]
  },
  {
   "cell_type": "markdown",
   "metadata": {},
   "source": [
    "*If you're interested about parameters to DFS such as `ignore_variables`, you can learn more about these parameters [here](https://docs.featuretools.com/generated/featuretools.dfs.html#featuretools.dfs)*\n",
    "<p>Here are the features created.</p>"
   ]
  },
  {
   "cell_type": "code",
   "execution_count": 45,
   "metadata": {
    "ExecuteTime": {
     "end_time": "2021-07-15T12:46:24.799450Z",
     "start_time": "2021-07-15T12:46:24.699552Z"
    }
   },
   "outputs": [
    {
     "name": "stdout",
     "output_type": "stream",
     "text": [
      "Number of features: 13\n"
     ]
    },
    {
     "data": {
      "text/plain": [
       "[<Feature: vendor_id>,\n",
       " <Feature: passenger_count>,\n",
       " <Feature: trip_distance>,\n",
       " <Feature: payment_type>,\n",
       " <Feature: trip_duration>,\n",
       " <Feature: pickup_neighborhood>,\n",
       " <Feature: dropoff_neighborhood>,\n",
       " <Feature: IS_WEEKEND(dropoff_datetime)>,\n",
       " <Feature: IS_WEEKEND(pickup_datetime)>,\n",
       " <Feature: pickup_neighborhoods.latitude>,\n",
       " <Feature: pickup_neighborhoods.longitude>,\n",
       " <Feature: dropoff_neighborhoods.latitude>,\n",
       " <Feature: dropoff_neighborhoods.longitude>]"
      ]
     },
     "execution_count": 45,
     "metadata": {},
     "output_type": "execute_result"
    }
   ],
   "source": [
    "print (\"Number of features: %d\" % len(features))\n",
    "features"
   ]
  },
  {
   "cell_type": "markdown",
   "metadata": {},
   "source": [
    "\n",
    "Now let's compute the features. "
   ]
  },
  {
   "cell_type": "markdown",
   "metadata": {},
   "source": [
    "**Question: 4.2 Compute features and define feature matrix**"
   ]
  },
  {
   "cell_type": "code",
   "execution_count": 46,
   "metadata": {
    "ExecuteTime": {
     "end_time": "2021-07-15T12:46:56.132642Z",
     "start_time": "2021-07-15T12:46:56.030342Z"
    }
   },
   "outputs": [],
   "source": [
    "def compute_features(features, cutoff_time):\n",
    "    # shuffle so we don't see encoded features in the front or backs\n",
    "\n",
    "    np.random.shuffle(features)\n",
    "    feature_matrix = ft.calculate_feature_matrix(features,\n",
    "                                                 cutoff_time=cutoff_time,\n",
    "                                                 approximate='36d',\n",
    "                                                 verbose=True,entities=entities, relationships=relationships)\n",
    "    print(\"Finishing computing...\")\n",
    "    feature_matrix, features = ft.encode_features(feature_matrix, features,\n",
    "                                                  to_encode=[\"pickup_neighborhood\", \"dropoff_neighborhood\"],\n",
    "                                                  include_unknown=False)\n",
    "    return feature_matrix"
   ]
  },
  {
   "cell_type": "code",
   "execution_count": 47,
   "metadata": {},
   "outputs": [
    {
     "name": "stdout",
     "output_type": "stream",
     "text": [
      "Elapsed: 00:03 | Progress: 100%|████████████████████████████████████████████████\n",
      "Finishing computing...\n"
     ]
    }
   ],
   "source": [
    "#Remove _________ and complete the code\n",
    "feature_matrix1 = compute_features(features, cutoff_time)"
   ]
  },
  {
   "cell_type": "code",
   "execution_count": 48,
   "metadata": {
    "ExecuteTime": {
     "end_time": "2021-07-15T12:47:21.290315Z",
     "start_time": "2021-07-15T12:47:20.995105Z"
    }
   },
   "outputs": [
    {
     "data": {
      "text/html": [
       "<div>\n",
       "<style scoped>\n",
       "    .dataframe tbody tr th:only-of-type {\n",
       "        vertical-align: middle;\n",
       "    }\n",
       "\n",
       "    .dataframe tbody tr th {\n",
       "        vertical-align: top;\n",
       "    }\n",
       "\n",
       "    .dataframe thead th {\n",
       "        text-align: right;\n",
       "    }\n",
       "</style>\n",
       "<table border=\"1\" class=\"dataframe\">\n",
       "  <thead>\n",
       "    <tr style=\"text-align: right;\">\n",
       "      <th></th>\n",
       "      <th>dropoff_neighborhood = AD</th>\n",
       "      <th>dropoff_neighborhood = A</th>\n",
       "      <th>dropoff_neighborhood = AA</th>\n",
       "      <th>dropoff_neighborhood = D</th>\n",
       "      <th>dropoff_neighborhood = AR</th>\n",
       "      <th>dropoff_neighborhood = C</th>\n",
       "      <th>dropoff_neighborhood = O</th>\n",
       "      <th>dropoff_neighborhood = N</th>\n",
       "      <th>dropoff_neighborhood = AK</th>\n",
       "      <th>dropoff_neighborhood = AO</th>\n",
       "      <th>...</th>\n",
       "      <th>pickup_neighborhood = A</th>\n",
       "      <th>pickup_neighborhood = AR</th>\n",
       "      <th>pickup_neighborhood = AK</th>\n",
       "      <th>pickup_neighborhood = AO</th>\n",
       "      <th>pickup_neighborhood = N</th>\n",
       "      <th>pickup_neighborhood = O</th>\n",
       "      <th>pickup_neighborhood = R</th>\n",
       "      <th>dropoff_neighborhoods.latitude</th>\n",
       "      <th>dropoff_neighborhoods.longitude</th>\n",
       "      <th>IS_WEEKEND(pickup_datetime)</th>\n",
       "    </tr>\n",
       "    <tr>\n",
       "      <th>id</th>\n",
       "      <th></th>\n",
       "      <th></th>\n",
       "      <th></th>\n",
       "      <th></th>\n",
       "      <th></th>\n",
       "      <th></th>\n",
       "      <th></th>\n",
       "      <th></th>\n",
       "      <th></th>\n",
       "      <th></th>\n",
       "      <th></th>\n",
       "      <th></th>\n",
       "      <th></th>\n",
       "      <th></th>\n",
       "      <th></th>\n",
       "      <th></th>\n",
       "      <th></th>\n",
       "      <th></th>\n",
       "      <th></th>\n",
       "      <th></th>\n",
       "      <th></th>\n",
       "    </tr>\n",
       "  </thead>\n",
       "  <tbody>\n",
       "    <tr>\n",
       "      <th>56311</th>\n",
       "      <td>False</td>\n",
       "      <td>False</td>\n",
       "      <td>False</td>\n",
       "      <td>False</td>\n",
       "      <td>False</td>\n",
       "      <td>False</td>\n",
       "      <td>False</td>\n",
       "      <td>False</td>\n",
       "      <td>False</td>\n",
       "      <td>False</td>\n",
       "      <td>...</td>\n",
       "      <td>False</td>\n",
       "      <td>False</td>\n",
       "      <td>False</td>\n",
       "      <td>False</td>\n",
       "      <td>False</td>\n",
       "      <td>False</td>\n",
       "      <td>False</td>\n",
       "      <td>40.721435</td>\n",
       "      <td>-73.998366</td>\n",
       "      <td>False</td>\n",
       "    </tr>\n",
       "    <tr>\n",
       "      <th>698423</th>\n",
       "      <td>True</td>\n",
       "      <td>False</td>\n",
       "      <td>False</td>\n",
       "      <td>False</td>\n",
       "      <td>False</td>\n",
       "      <td>False</td>\n",
       "      <td>False</td>\n",
       "      <td>False</td>\n",
       "      <td>False</td>\n",
       "      <td>False</td>\n",
       "      <td>...</td>\n",
       "      <td>False</td>\n",
       "      <td>False</td>\n",
       "      <td>True</td>\n",
       "      <td>False</td>\n",
       "      <td>False</td>\n",
       "      <td>False</td>\n",
       "      <td>False</td>\n",
       "      <td>40.752186</td>\n",
       "      <td>-73.976515</td>\n",
       "      <td>False</td>\n",
       "    </tr>\n",
       "    <tr>\n",
       "      <th>698424</th>\n",
       "      <td>False</td>\n",
       "      <td>False</td>\n",
       "      <td>False</td>\n",
       "      <td>False</td>\n",
       "      <td>False</td>\n",
       "      <td>False</td>\n",
       "      <td>True</td>\n",
       "      <td>False</td>\n",
       "      <td>False</td>\n",
       "      <td>False</td>\n",
       "      <td>...</td>\n",
       "      <td>False</td>\n",
       "      <td>False</td>\n",
       "      <td>True</td>\n",
       "      <td>False</td>\n",
       "      <td>False</td>\n",
       "      <td>False</td>\n",
       "      <td>False</td>\n",
       "      <td>40.775299</td>\n",
       "      <td>-73.960551</td>\n",
       "      <td>False</td>\n",
       "    </tr>\n",
       "    <tr>\n",
       "      <th>698425</th>\n",
       "      <td>False</td>\n",
       "      <td>False</td>\n",
       "      <td>False</td>\n",
       "      <td>False</td>\n",
       "      <td>False</td>\n",
       "      <td>False</td>\n",
       "      <td>False</td>\n",
       "      <td>False</td>\n",
       "      <td>False</td>\n",
       "      <td>False</td>\n",
       "      <td>...</td>\n",
       "      <td>False</td>\n",
       "      <td>False</td>\n",
       "      <td>False</td>\n",
       "      <td>False</td>\n",
       "      <td>False</td>\n",
       "      <td>False</td>\n",
       "      <td>False</td>\n",
       "      <td>40.793597</td>\n",
       "      <td>-73.969822</td>\n",
       "      <td>False</td>\n",
       "    </tr>\n",
       "    <tr>\n",
       "      <th>698426</th>\n",
       "      <td>False</td>\n",
       "      <td>False</td>\n",
       "      <td>False</td>\n",
       "      <td>False</td>\n",
       "      <td>False</td>\n",
       "      <td>False</td>\n",
       "      <td>False</td>\n",
       "      <td>False</td>\n",
       "      <td>False</td>\n",
       "      <td>False</td>\n",
       "      <td>...</td>\n",
       "      <td>False</td>\n",
       "      <td>False</td>\n",
       "      <td>False</td>\n",
       "      <td>False</td>\n",
       "      <td>False</td>\n",
       "      <td>False</td>\n",
       "      <td>False</td>\n",
       "      <td>40.766809</td>\n",
       "      <td>-73.956886</td>\n",
       "      <td>False</td>\n",
       "    </tr>\n",
       "  </tbody>\n",
       "</table>\n",
       "<p>5 rows × 31 columns</p>\n",
       "</div>"
      ],
      "text/plain": [
       "        dropoff_neighborhood = AD  dropoff_neighborhood = A  \\\n",
       "id                                                            \n",
       "56311                       False                     False   \n",
       "698423                       True                     False   \n",
       "698424                      False                     False   \n",
       "698425                      False                     False   \n",
       "698426                      False                     False   \n",
       "\n",
       "        dropoff_neighborhood = AA  dropoff_neighborhood = D  \\\n",
       "id                                                            \n",
       "56311                       False                     False   \n",
       "698423                      False                     False   \n",
       "698424                      False                     False   \n",
       "698425                      False                     False   \n",
       "698426                      False                     False   \n",
       "\n",
       "        dropoff_neighborhood = AR  dropoff_neighborhood = C  \\\n",
       "id                                                            \n",
       "56311                       False                     False   \n",
       "698423                      False                     False   \n",
       "698424                      False                     False   \n",
       "698425                      False                     False   \n",
       "698426                      False                     False   \n",
       "\n",
       "        dropoff_neighborhood = O  dropoff_neighborhood = N  \\\n",
       "id                                                           \n",
       "56311                      False                     False   \n",
       "698423                     False                     False   \n",
       "698424                      True                     False   \n",
       "698425                     False                     False   \n",
       "698426                     False                     False   \n",
       "\n",
       "        dropoff_neighborhood = AK  dropoff_neighborhood = AO  ...  \\\n",
       "id                                                            ...   \n",
       "56311                       False                      False  ...   \n",
       "698423                      False                      False  ...   \n",
       "698424                      False                      False  ...   \n",
       "698425                      False                      False  ...   \n",
       "698426                      False                      False  ...   \n",
       "\n",
       "        pickup_neighborhood = A pickup_neighborhood = AR  \\\n",
       "id                                                         \n",
       "56311                     False                    False   \n",
       "698423                    False                    False   \n",
       "698424                    False                    False   \n",
       "698425                    False                    False   \n",
       "698426                    False                    False   \n",
       "\n",
       "        pickup_neighborhood = AK  pickup_neighborhood = AO  \\\n",
       "id                                                           \n",
       "56311                      False                     False   \n",
       "698423                      True                     False   \n",
       "698424                      True                     False   \n",
       "698425                     False                     False   \n",
       "698426                     False                     False   \n",
       "\n",
       "        pickup_neighborhood = N  pickup_neighborhood = O  \\\n",
       "id                                                         \n",
       "56311                     False                    False   \n",
       "698423                    False                    False   \n",
       "698424                    False                    False   \n",
       "698425                    False                    False   \n",
       "698426                    False                    False   \n",
       "\n",
       "        pickup_neighborhood = R dropoff_neighborhoods.latitude  \\\n",
       "id                                                               \n",
       "56311                     False                      40.721435   \n",
       "698423                    False                      40.752186   \n",
       "698424                    False                      40.775299   \n",
       "698425                    False                      40.793597   \n",
       "698426                    False                      40.766809   \n",
       "\n",
       "        dropoff_neighborhoods.longitude  IS_WEEKEND(pickup_datetime)  \n",
       "id                                                                    \n",
       "56311                        -73.998366                        False  \n",
       "698423                       -73.976515                        False  \n",
       "698424                       -73.960551                        False  \n",
       "698425                       -73.969822                        False  \n",
       "698426                       -73.956886                        False  \n",
       "\n",
       "[5 rows x 31 columns]"
      ]
     },
     "execution_count": 48,
     "metadata": {},
     "output_type": "execute_result"
    }
   ],
   "source": [
    "preview(feature_matrix1, 5)"
   ]
  },
  {
   "cell_type": "code",
   "execution_count": 49,
   "metadata": {},
   "outputs": [
    {
     "data": {
      "text/plain": [
       "(920378, 31)"
      ]
     },
     "execution_count": 49,
     "metadata": {},
     "output_type": "execute_result"
    }
   ],
   "source": [
    "feature_matrix1.shape"
   ]
  },
  {
   "cell_type": "markdown",
   "metadata": {},
   "source": [
    "### Build the Model\n",
    "\n",
    "To build a model, we\n",
    "* Separate the data into a portion for ``training`` (75% in this case) and a portion for ``testing`` \n",
    "* Get the log of the trip duration so that a more linear relationship can be found.\n",
    "* Train a model using a ``Linear Regression, Decision Tree and Random Forest model``"
   ]
  },
  {
   "cell_type": "markdown",
   "metadata": {},
   "source": [
    "#### Transforming the duration variable on sqrt and log"
   ]
  },
  {
   "cell_type": "code",
   "execution_count": 50,
   "metadata": {},
   "outputs": [
    {
     "data": {
      "text/plain": [
       "(array([  4566.,  35831., 163872., 249551., 225381., 149544.,  80472.,\n",
       "         38481.,  18054.,   8657.]),\n",
       " array([ 1.        ,  6.90499792, 12.80999584, 18.71499376, 24.61999167,\n",
       "        30.52498959, 36.42998751, 42.33498543, 48.23998335, 54.14498127,\n",
       "        60.04997918]),\n",
       " <BarContainer object of 10 artists>)"
      ]
     },
     "execution_count": 50,
     "metadata": {},
     "output_type": "execute_result"
    },
    {
     "data": {
      "image/png": "[encoded data removed]",
      "text/plain": [
       "<Figure size 432x288 with 1 Axes>"
      ]
     },
     "metadata": {
      "needs_background": "light"
     },
     "output_type": "display_data"
    }
   ],
   "source": [
    "plt.hist(np.sqrt(trips['trip_duration']))"
   ]
  },
  {
   "cell_type": "code",
   "execution_count": 51,
   "metadata": {},
   "outputs": [
    {
     "data": {
      "text/plain": [
       "(array([1.81000e+02, 5.97000e+02, 7.44000e+02, 1.43900e+03, 2.86700e+03,\n",
       "        2.00260e+04, 1.35785e+05, 3.69738e+05, 3.50815e+05, 9.22170e+04]),\n",
       " array([0.        , 0.81903544, 1.63807088, 2.45710632, 3.27614176,\n",
       "        4.0951772 , 4.91421264, 5.73324808, 6.55228352, 7.37131896,\n",
       "        8.1903544 ]),\n",
       " <BarContainer object of 10 artists>)"
      ]
     },
     "execution_count": 51,
     "metadata": {},
     "output_type": "execute_result"
    },
    {
     "data": {
      "image/png": "[encoded data removed]",
      "text/plain": [
       "<Figure size 432x288 with 1 Axes>"
      ]
     },
     "metadata": {
      "needs_background": "light"
     },
     "output_type": "display_data"
    }
   ],
   "source": [
    "plt.hist(np.log(trips['trip_duration']))"
   ]
  },
  {
   "cell_type": "markdown",
   "metadata": {},
   "source": [
    "- We can clearly see that the sqrt transformation is giving nearly normal distribution, there for we can choose the sqrt transformation on the dependent(trip_duration) variable."
   ]
  },
  {
   "cell_type": "markdown",
   "metadata": {},
   "source": [
    "### Splitting the data into train and test"
   ]
  },
  {
   "cell_type": "code",
   "execution_count": 52,
   "metadata": {
    "ExecuteTime": {
     "end_time": "2021-07-15T12:47:30.919229Z",
     "start_time": "2021-07-15T12:47:24.754592Z"
    }
   },
   "outputs": [],
   "source": [
    "# separates the whole feature matrix into train data feature matrix, \n",
    "# train data labels, and test data feature matrix \n",
    "X_train, y_train, X_test, y_test = get_train_test_fm(feature_matrix1,.75)\n",
    "y_train = np.sqrt(y_train)\n",
    "y_test = np.sqrt(y_test)"
   ]
  },
  {
   "cell_type": "markdown",
   "metadata": {},
   "source": [
    "### Defining function for to check the performance of the model. "
   ]
  },
  {
   "cell_type": "code",
   "execution_count": 53,
   "metadata": {},
   "outputs": [],
   "source": [
    "#RMSE\n",
    "def rmse(predictions, targets):\n",
    "    return np.sqrt(((targets - predictions) ** 2).mean())\n",
    "\n",
    "# MAE\n",
    "def mae(predictions, targets):\n",
    "    return np.mean(np.abs((targets - predictions)))\n",
    "\n",
    "\n",
    "# Model Performance on test and train data\n",
    "def model_pref(model, x_train, x_test, y_train,y_test):\n",
    "\n",
    "    # Insample Prediction\n",
    "    y_pred_train = model.predict(x_train)\n",
    "    y_observed_train = y_train\n",
    "\n",
    "    # Prediction on test data\n",
    "    y_pred_test = model.predict(x_test)\n",
    "    y_observed_test = y_test\n",
    "\n",
    "    print(\n",
    "        pd.DataFrame(\n",
    "            {\n",
    "                \"Data\": [\"Train\", \"Test\"],\n",
    "                'RSquared':\n",
    "                    [r2_score(y_observed_train,y_pred_train),\n",
    "                    r2_score(y_observed_test,y_pred_test )\n",
    "                    ],\n",
    "                \"RMSE\": [\n",
    "                    rmse(y_pred_train, y_observed_train),\n",
    "                    rmse(y_pred_test, y_observed_test),\n",
    "                ],\n",
    "                \"MAE\": [\n",
    "                    mae(y_pred_train, y_observed_train),\n",
    "                    mae(y_pred_test, y_observed_test),\n",
    "                ],\n",
    "            }\n",
    "        )\n",
    "    )"
   ]
  },
  {
   "cell_type": "markdown",
   "metadata": {},
   "source": [
    "#### Question 4.3 Build Linear regression using only weekend transform primitive"
   ]
  },
  {
   "cell_type": "code",
   "execution_count": 54,
   "metadata": {},
   "outputs": [
    {
     "data": {
      "text/plain": [
       "LinearRegression()"
      ]
     },
     "execution_count": 54,
     "metadata": {},
     "output_type": "execute_result"
    }
   ],
   "source": [
    "#Remove _________ and complete the code\n",
    "\n",
    "#defining the model\n",
    "\n",
    "lr1=LinearRegression()\n",
    "\n",
    "#fitting the model\n",
    "lr1.fit(X_train, y_train)\n"
   ]
  },
  {
   "cell_type": "markdown",
   "metadata": {},
   "source": [
    "#### Check the performance of the model"
   ]
  },
  {
   "cell_type": "code",
   "execution_count": 55,
   "metadata": {},
   "outputs": [
    {
     "name": "stdout",
     "output_type": "stream",
     "text": [
      "    Data  RSquared      RMSE       MAE\n",
      "0  Train  0.576106  6.132169  4.736641\n",
      "1   Test  0.555831  6.558806  5.024874\n"
     ]
    }
   ],
   "source": [
    "#Remove _________ and complete the code\n",
    "model_pref(lr1, X_train, X_test, y_train, y_test)  "
   ]
  },
  {
   "cell_type": "markdown",
   "metadata": {},
   "source": [
    "**Write your answers here:**\n",
    "- model is giving only 0.55 in Rsquared, with 6.55 of RMSE and ~ 5 of MAE\n",
    "- the model is slightly overfitting"
   ]
  },
  {
   "cell_type": "markdown",
   "metadata": {},
   "source": [
    "#### Question 4.4 Building decision tree using only weekend transform primitive"
   ]
  },
  {
   "cell_type": "code",
   "execution_count": 56,
   "metadata": {},
   "outputs": [
    {
     "data": {
      "text/plain": [
       "DecisionTreeRegressor()"
      ]
     },
     "execution_count": 56,
     "metadata": {},
     "output_type": "execute_result"
    }
   ],
   "source": [
    "#Remove _________ and complete the code\n",
    "\n",
    "#define the model\n",
    "dt=DecisionTreeRegressor()\n",
    "\n",
    "#fit the model\n",
    "\n",
    "dt.fit(X_train, y_train)"
   ]
  },
  {
   "cell_type": "markdown",
   "metadata": {},
   "source": [
    "#### Check the performance of the model"
   ]
  },
  {
   "cell_type": "code",
   "execution_count": 57,
   "metadata": {},
   "outputs": [
    {
     "name": "stdout",
     "output_type": "stream",
     "text": [
      "    Data  RSquared      RMSE       MAE\n",
      "0  Train  0.917069  2.712331  1.518055\n",
      "1   Test  0.597426  6.244153  4.638653\n"
     ]
    }
   ],
   "source": [
    "#Remove _________ and complete the code\n",
    "model_pref(dt, X_train, X_test, y_train, y_test)  "
   ]
  },
  {
   "cell_type": "markdown",
   "metadata": {},
   "source": [
    "**Write your answers here:**\n",
    "- the model is very overfitted, with high train rsquared anndo low test rsquared\n"
   ]
  },
  {
   "cell_type": "markdown",
   "metadata": {},
   "source": [
    "#### Question 4.5 Building Pruned decision tree using only weekend transform primitive"
   ]
  },
  {
   "cell_type": "code",
   "execution_count": 58,
   "metadata": {},
   "outputs": [
    {
     "data": {
      "text/plain": [
       "DecisionTreeRegressor(max_depth=7)"
      ]
     },
     "execution_count": 58,
     "metadata": {},
     "output_type": "execute_result"
    }
   ],
   "source": [
    "#Remove _________ and complete the code\n",
    "#define the model\n",
    "\n",
    "#use max_depth=7\n",
    "dt_pruned=DecisionTreeRegressor(max_depth=7)\n",
    "\n",
    "#fit the model\n",
    "dt_pruned.fit(X_train, y_train)"
   ]
  },
  {
   "cell_type": "markdown",
   "metadata": {},
   "source": [
    "#### Check the performance of the model"
   ]
  },
  {
   "cell_type": "code",
   "execution_count": 59,
   "metadata": {},
   "outputs": [
    {
     "name": "stdout",
     "output_type": "stream",
     "text": [
      "    Data  RSquared      RMSE       MAE\n",
      "0  Train  0.733766  4.859783  3.708634\n",
      "1   Test  0.704190  5.352503  4.049448\n"
     ]
    }
   ],
   "source": [
    "#Remove _________ and complete the code\n",
    "model_pref(dt_pruned, X_train, X_test, y_train, y_test)  "
   ]
  },
  {
   "cell_type": "markdown",
   "metadata": {},
   "source": [
    "**Write your answers here:**\n",
    "- the pruned tree is performing better the not pruned tree and the linear regression model\n"
   ]
  },
  {
   "cell_type": "markdown",
   "metadata": {},
   "source": [
    "#### Question 4.6 Building Random Forest using only weekend transform primitive"
   ]
  },
  {
   "cell_type": "code",
   "execution_count": 60,
   "metadata": {},
   "outputs": [],
   "source": [
    "#Remove _________ and complete the code\n",
    "\n",
    "#define the model\n",
    "\n",
    "#using (n_estimators=60,max_depth=7)\n",
    "\n",
    "rf=RandomForestRegressor(n_estimators=60,max_depth=7)"
   ]
  },
  {
   "cell_type": "code",
   "execution_count": 61,
   "metadata": {},
   "outputs": [
    {
     "data": {
      "text/plain": [
       "RandomForestRegressor(max_depth=7, n_estimators=60)"
      ]
     },
     "execution_count": 61,
     "metadata": {},
     "output_type": "execute_result"
    }
   ],
   "source": [
    "#fit the model\n",
    "\n",
    "#Remove _________ and complete the code\n",
    "rf.fit(X_train, y_train)"
   ]
  },
  {
   "cell_type": "markdown",
   "metadata": {},
   "source": [
    "#### Check the performance of the model"
   ]
  },
  {
   "cell_type": "code",
   "execution_count": 62,
   "metadata": {
    "scrolled": true
   },
   "outputs": [
    {
     "name": "stdout",
     "output_type": "stream",
     "text": [
      "    Data  RSquared      RMSE       MAE\n",
      "0  Train  0.738265  4.818549  3.676261\n",
      "1   Test  0.708235  5.315778  4.019578\n"
     ]
    }
   ],
   "source": [
    "#Remove _________ and complete the code\n",
    "\n",
    "model_pref(rf, X_train, X_test, y_train, y_test)"
   ]
  },
  {
   "cell_type": "markdown",
   "metadata": {},
   "source": [
    "**Write your answers here:**\n",
    "- random forest is performing just like the pruned tree, not worth because of the computational cost"
   ]
  },
  {
   "cell_type": "markdown",
   "metadata": {},
   "source": [
    "### Step 4: Adding more Transform Primitives and creating new model\n",
    "\n",
    "* Add ``Minute``, ``Hour``, ``Month``, ``Weekday`` , etc primitives\n",
    "* All these transform primitives apply to ``datetime`` columns\n",
    "\n",
    "### Question 5: Create models with more transform primitives (10 Marks)\n",
    "\n",
    "**Question 5.1 Define more transform primitives and define features using dfs?**"
   ]
  },
  {
   "cell_type": "code",
   "execution_count": 63,
   "metadata": {
    "ExecuteTime": {
     "end_time": "2021-07-15T12:51:54.063760Z",
     "start_time": "2021-07-15T12:51:51.694558Z"
    }
   },
   "outputs": [],
   "source": [
    "#Remove _________ and complete the code\n",
    "trans_primitives = [Minute, Hour, Day, Month, Weekday, IsWeekend]\n",
    "\n",
    "#Remove _________ and complete the code\n",
    "features = ft.dfs(entities=entities,\n",
    "                  relationships=relationships,\n",
    "                  target_entity=\"trips\",\n",
    "                  trans_primitives=trans_primitives,\n",
    "                  agg_primitives=[],\n",
    "                  ignore_variables={\"trips\": [\"pickup_latitude\", \"pickup_longitude\",\n",
    "                                              \"dropoff_latitude\", \"dropoff_longitude\"]},\n",
    "                  features_only=True)"
   ]
  },
  {
   "cell_type": "code",
   "execution_count": 64,
   "metadata": {
    "ExecuteTime": {
     "end_time": "2021-07-15T12:52:31.456696Z",
     "start_time": "2021-07-15T12:52:31.362945Z"
    }
   },
   "outputs": [
    {
     "name": "stdout",
     "output_type": "stream",
     "text": [
      "Number of features: 23\n"
     ]
    },
    {
     "data": {
      "text/plain": [
       "[<Feature: vendor_id>,\n",
       " <Feature: passenger_count>,\n",
       " <Feature: trip_distance>,\n",
       " <Feature: payment_type>,\n",
       " <Feature: trip_duration>,\n",
       " <Feature: pickup_neighborhood>,\n",
       " <Feature: dropoff_neighborhood>,\n",
       " <Feature: DAY(dropoff_datetime)>,\n",
       " <Feature: DAY(pickup_datetime)>,\n",
       " <Feature: HOUR(dropoff_datetime)>,\n",
       " <Feature: HOUR(pickup_datetime)>,\n",
       " <Feature: IS_WEEKEND(dropoff_datetime)>,\n",
       " <Feature: IS_WEEKEND(pickup_datetime)>,\n",
       " <Feature: MINUTE(dropoff_datetime)>,\n",
       " <Feature: MINUTE(pickup_datetime)>,\n",
       " <Feature: MONTH(dropoff_datetime)>,\n",
       " <Feature: MONTH(pickup_datetime)>,\n",
       " <Feature: WEEKDAY(dropoff_datetime)>,\n",
       " <Feature: WEEKDAY(pickup_datetime)>,\n",
       " <Feature: pickup_neighborhoods.latitude>,\n",
       " <Feature: pickup_neighborhoods.longitude>,\n",
       " <Feature: dropoff_neighborhoods.latitude>,\n",
       " <Feature: dropoff_neighborhoods.longitude>]"
      ]
     },
     "execution_count": 64,
     "metadata": {},
     "output_type": "execute_result"
    }
   ],
   "source": [
    "print (\"Number of features: %d\" % len(features))\n",
    "features"
   ]
  },
  {
   "cell_type": "markdown",
   "metadata": {},
   "source": [
    "Now let's compute the features. "
   ]
  },
  {
   "cell_type": "markdown",
   "metadata": {},
   "source": [
    "**Question: 5.2 Compute features and define feature matrix**"
   ]
  },
  {
   "cell_type": "code",
   "execution_count": 65,
   "metadata": {
    "ExecuteTime": {
     "end_time": "2021-07-15T12:52:48.471903Z",
     "start_time": "2021-07-15T12:52:34.218475Z"
    }
   },
   "outputs": [
    {
     "name": "stdout",
     "output_type": "stream",
     "text": [
      "Elapsed: 00:04 | Progress: 100%|████████████████████████████████████████████████\n",
      "Finishing computing...\n"
     ]
    }
   ],
   "source": [
    "#Remove _________ and complete the code\n",
    "feature_matrix2 = compute_features(features, cutoff_time)"
   ]
  },
  {
   "cell_type": "code",
   "execution_count": 66,
   "metadata": {
    "ExecuteTime": {
     "end_time": "2021-07-15T12:52:50.630760Z",
     "start_time": "2021-07-15T12:52:50.137051Z"
    }
   },
   "outputs": [
    {
     "data": {
      "text/plain": [
       "(920378, 41)"
      ]
     },
     "execution_count": 66,
     "metadata": {},
     "output_type": "execute_result"
    }
   ],
   "source": [
    "feature_matrix2.shape"
   ]
  },
  {
   "cell_type": "code",
   "execution_count": 67,
   "metadata": {},
   "outputs": [
    {
     "data": {
      "text/html": [
       "<div>\n",
       "<style scoped>\n",
       "    .dataframe tbody tr th:only-of-type {\n",
       "        vertical-align: middle;\n",
       "    }\n",
       "\n",
       "    .dataframe tbody tr th {\n",
       "        vertical-align: top;\n",
       "    }\n",
       "\n",
       "    .dataframe thead th {\n",
       "        text-align: right;\n",
       "    }\n",
       "</style>\n",
       "<table border=\"1\" class=\"dataframe\">\n",
       "  <thead>\n",
       "    <tr style=\"text-align: right;\">\n",
       "      <th></th>\n",
       "      <th>WEEKDAY(pickup_datetime)</th>\n",
       "      <th>trip_duration</th>\n",
       "      <th>MINUTE(pickup_datetime)</th>\n",
       "      <th>DAY(dropoff_datetime)</th>\n",
       "      <th>payment_type</th>\n",
       "      <th>IS_WEEKEND(dropoff_datetime)</th>\n",
       "      <th>pickup_neighborhoods.latitude</th>\n",
       "      <th>DAY(pickup_datetime)</th>\n",
       "      <th>dropoff_neighborhood = AD</th>\n",
       "      <th>dropoff_neighborhood = A</th>\n",
       "      <th>...</th>\n",
       "      <th>HOUR(dropoff_datetime)</th>\n",
       "      <th>dropoff_neighborhoods.latitude</th>\n",
       "      <th>vendor_id</th>\n",
       "      <th>MINUTE(dropoff_datetime)</th>\n",
       "      <th>MONTH(dropoff_datetime)</th>\n",
       "      <th>dropoff_neighborhoods.longitude</th>\n",
       "      <th>trip_distance</th>\n",
       "      <th>MONTH(pickup_datetime)</th>\n",
       "      <th>WEEKDAY(dropoff_datetime)</th>\n",
       "      <th>HOUR(pickup_datetime)</th>\n",
       "    </tr>\n",
       "    <tr>\n",
       "      <th>id</th>\n",
       "      <th></th>\n",
       "      <th></th>\n",
       "      <th></th>\n",
       "      <th></th>\n",
       "      <th></th>\n",
       "      <th></th>\n",
       "      <th></th>\n",
       "      <th></th>\n",
       "      <th></th>\n",
       "      <th></th>\n",
       "      <th></th>\n",
       "      <th></th>\n",
       "      <th></th>\n",
       "      <th></th>\n",
       "      <th></th>\n",
       "      <th></th>\n",
       "      <th></th>\n",
       "      <th></th>\n",
       "      <th></th>\n",
       "      <th></th>\n",
       "      <th></th>\n",
       "    </tr>\n",
       "  </thead>\n",
       "  <tbody>\n",
       "    <tr>\n",
       "      <th>56311</th>\n",
       "      <td>1</td>\n",
       "      <td>645.0</td>\n",
       "      <td>0</td>\n",
       "      <td>12</td>\n",
       "      <td>1</td>\n",
       "      <td>False</td>\n",
       "      <td>40.720245</td>\n",
       "      <td>12</td>\n",
       "      <td>False</td>\n",
       "      <td>False</td>\n",
       "      <td>...</td>\n",
       "      <td>0</td>\n",
       "      <td>40.721435</td>\n",
       "      <td>2</td>\n",
       "      <td>11</td>\n",
       "      <td>1</td>\n",
       "      <td>-73.998366</td>\n",
       "      <td>1.61</td>\n",
       "      <td>1</td>\n",
       "      <td>1</td>\n",
       "      <td>0</td>\n",
       "    </tr>\n",
       "    <tr>\n",
       "      <th>56312</th>\n",
       "      <td>1</td>\n",
       "      <td>1270.0</td>\n",
       "      <td>2</td>\n",
       "      <td>12</td>\n",
       "      <td>2</td>\n",
       "      <td>False</td>\n",
       "      <td>40.646194</td>\n",
       "      <td>12</td>\n",
       "      <td>False</td>\n",
       "      <td>False</td>\n",
       "      <td>...</td>\n",
       "      <td>0</td>\n",
       "      <td>40.715828</td>\n",
       "      <td>2</td>\n",
       "      <td>23</td>\n",
       "      <td>1</td>\n",
       "      <td>-73.954298</td>\n",
       "      <td>16.15</td>\n",
       "      <td>1</td>\n",
       "      <td>1</td>\n",
       "      <td>0</td>\n",
       "    </tr>\n",
       "    <tr>\n",
       "      <th>56313</th>\n",
       "      <td>1</td>\n",
       "      <td>207.0</td>\n",
       "      <td>2</td>\n",
       "      <td>12</td>\n",
       "      <td>1</td>\n",
       "      <td>False</td>\n",
       "      <td>40.818445</td>\n",
       "      <td>12</td>\n",
       "      <td>False</td>\n",
       "      <td>False</td>\n",
       "      <td>...</td>\n",
       "      <td>0</td>\n",
       "      <td>40.818445</td>\n",
       "      <td>1</td>\n",
       "      <td>5</td>\n",
       "      <td>1</td>\n",
       "      <td>-73.948046</td>\n",
       "      <td>0.80</td>\n",
       "      <td>1</td>\n",
       "      <td>1</td>\n",
       "      <td>0</td>\n",
       "    </tr>\n",
       "    <tr>\n",
       "      <th>56314</th>\n",
       "      <td>1</td>\n",
       "      <td>214.0</td>\n",
       "      <td>2</td>\n",
       "      <td>12</td>\n",
       "      <td>2</td>\n",
       "      <td>False</td>\n",
       "      <td>40.729652</td>\n",
       "      <td>12</td>\n",
       "      <td>False</td>\n",
       "      <td>False</td>\n",
       "      <td>...</td>\n",
       "      <td>0</td>\n",
       "      <td>40.742531</td>\n",
       "      <td>2</td>\n",
       "      <td>6</td>\n",
       "      <td>1</td>\n",
       "      <td>-73.977943</td>\n",
       "      <td>1.33</td>\n",
       "      <td>1</td>\n",
       "      <td>1</td>\n",
       "      <td>0</td>\n",
       "    </tr>\n",
       "    <tr>\n",
       "      <th>56315</th>\n",
       "      <td>1</td>\n",
       "      <td>570.0</td>\n",
       "      <td>3</td>\n",
       "      <td>12</td>\n",
       "      <td>1</td>\n",
       "      <td>False</td>\n",
       "      <td>40.793597</td>\n",
       "      <td>12</td>\n",
       "      <td>False</td>\n",
       "      <td>False</td>\n",
       "      <td>...</td>\n",
       "      <td>0</td>\n",
       "      <td>40.818445</td>\n",
       "      <td>2</td>\n",
       "      <td>13</td>\n",
       "      <td>1</td>\n",
       "      <td>-73.948046</td>\n",
       "      <td>2.35</td>\n",
       "      <td>1</td>\n",
       "      <td>1</td>\n",
       "      <td>0</td>\n",
       "    </tr>\n",
       "  </tbody>\n",
       "</table>\n",
       "<p>5 rows × 41 columns</p>\n",
       "</div>"
      ],
      "text/plain": [
       "       WEEKDAY(pickup_datetime)  trip_duration  MINUTE(pickup_datetime)  \\\n",
       "id                                                                        \n",
       "56311                         1          645.0                        0   \n",
       "56312                         1         1270.0                        2   \n",
       "56313                         1          207.0                        2   \n",
       "56314                         1          214.0                        2   \n",
       "56315                         1          570.0                        3   \n",
       "\n",
       "       DAY(dropoff_datetime) payment_type  IS_WEEKEND(dropoff_datetime)  \\\n",
       "id                                                                        \n",
       "56311                     12            1                         False   \n",
       "56312                     12            2                         False   \n",
       "56313                     12            1                         False   \n",
       "56314                     12            2                         False   \n",
       "56315                     12            1                         False   \n",
       "\n",
       "       pickup_neighborhoods.latitude  DAY(pickup_datetime)  \\\n",
       "id                                                           \n",
       "56311                      40.720245                    12   \n",
       "56312                      40.646194                    12   \n",
       "56313                      40.818445                    12   \n",
       "56314                      40.729652                    12   \n",
       "56315                      40.793597                    12   \n",
       "\n",
       "       dropoff_neighborhood = AD  dropoff_neighborhood = A  ...  \\\n",
       "id                                                          ...   \n",
       "56311                      False                     False  ...   \n",
       "56312                      False                     False  ...   \n",
       "56313                      False                     False  ...   \n",
       "56314                      False                     False  ...   \n",
       "56315                      False                     False  ...   \n",
       "\n",
       "       HOUR(dropoff_datetime)  dropoff_neighborhoods.latitude  vendor_id  \\\n",
       "id                                                                         \n",
       "56311                       0                       40.721435          2   \n",
       "56312                       0                       40.715828          2   \n",
       "56313                       0                       40.818445          1   \n",
       "56314                       0                       40.742531          2   \n",
       "56315                       0                       40.818445          2   \n",
       "\n",
       "       MINUTE(dropoff_datetime)  MONTH(dropoff_datetime)  \\\n",
       "id                                                         \n",
       "56311                        11                        1   \n",
       "56312                        23                        1   \n",
       "56313                         5                        1   \n",
       "56314                         6                        1   \n",
       "56315                        13                        1   \n",
       "\n",
       "       dropoff_neighborhoods.longitude  trip_distance  MONTH(pickup_datetime)  \\\n",
       "id                                                                              \n",
       "56311                       -73.998366           1.61                       1   \n",
       "56312                       -73.954298          16.15                       1   \n",
       "56313                       -73.948046           0.80                       1   \n",
       "56314                       -73.977943           1.33                       1   \n",
       "56315                       -73.948046           2.35                       1   \n",
       "\n",
       "       WEEKDAY(dropoff_datetime)  HOUR(pickup_datetime)  \n",
       "id                                                       \n",
       "56311                          1                      0  \n",
       "56312                          1                      0  \n",
       "56313                          1                      0  \n",
       "56314                          1                      0  \n",
       "56315                          1                      0  \n",
       "\n",
       "[5 rows x 41 columns]"
      ]
     },
     "execution_count": 67,
     "metadata": {},
     "output_type": "execute_result"
    }
   ],
   "source": [
    "feature_matrix2.head()"
   ]
  },
  {
   "cell_type": "markdown",
   "metadata": {},
   "source": [
    "### Build the new models more transform features"
   ]
  },
  {
   "cell_type": "code",
   "execution_count": 68,
   "metadata": {
    "ExecuteTime": {
     "end_time": "2021-07-15T12:55:38.459145Z",
     "start_time": "2021-07-15T12:55:32.592515Z"
    }
   },
   "outputs": [],
   "source": [
    "# separates the whole feature matrix into train data feature matrix,\n",
    "# train data labels, and test data feature matrix \n",
    "X_train2, y_train2, X_test2, y_test2 = get_train_test_fm(feature_matrix2,.75)\n",
    "y_train2 = np.sqrt(y_train2)\n",
    "y_test2 = np.sqrt(y_test2)"
   ]
  },
  {
   "cell_type": "markdown",
   "metadata": {},
   "source": [
    "#### Question 5.3 Building Linear regression using more transform primitive"
   ]
  },
  {
   "cell_type": "code",
   "execution_count": 72,
   "metadata": {},
   "outputs": [
    {
     "data": {
      "text/plain": [
       "LinearRegression()"
      ]
     },
     "execution_count": 72,
     "metadata": {},
     "output_type": "execute_result"
    }
   ],
   "source": [
    "#Remove _________ and complete the code\n",
    "\n",
    "#defining the model\n",
    "\n",
    "lr2=LinearRegression()\n",
    "\n",
    "#fitting the model\n",
    "lr2.fit(X_train2, y_train2)\n"
   ]
  },
  {
   "cell_type": "markdown",
   "metadata": {},
   "source": [
    "#### Check the performance of the model"
   ]
  },
  {
   "cell_type": "code",
   "execution_count": 73,
   "metadata": {},
   "outputs": [
    {
     "name": "stdout",
     "output_type": "stream",
     "text": [
      "    Data  RSquared      RMSE       MAE\n",
      "0  Train  0.623501  5.779195  4.273127\n",
      "1   Test  0.623651  6.037346  4.537582\n"
     ]
    }
   ],
   "source": [
    "#Remove _________ and complete the code\n",
    "model_pref(lr2, X_train2, X_test2, y_train2, y_test2)  "
   ]
  },
  {
   "cell_type": "markdown",
   "metadata": {},
   "source": [
    "**Write your answers here:**\n",
    "- model is giving 0.62 of RSquared, with 6.03 RMSE and ~ 4.5 MAE\n",
    "- slightly better performance compared with lr with less features"
   ]
  },
  {
   "cell_type": "markdown",
   "metadata": {},
   "source": [
    "#### Question 5.4 Building Decision tree using more transform primitive"
   ]
  },
  {
   "cell_type": "code",
   "execution_count": 74,
   "metadata": {},
   "outputs": [
    {
     "data": {
      "text/plain": [
       "DecisionTreeRegressor()"
      ]
     },
     "execution_count": 74,
     "metadata": {},
     "output_type": "execute_result"
    }
   ],
   "source": [
    "#Remove _________ and complete the code\n",
    "\n",
    "#define the model\n",
    "dt2=DecisionTreeRegressor()\n",
    "\n",
    "#fit the model\n",
    "\n",
    "dt2.fit(X_train2, y_train2)"
   ]
  },
  {
   "cell_type": "markdown",
   "metadata": {},
   "source": [
    "#### Check the performance of the model"
   ]
  },
  {
   "cell_type": "code",
   "execution_count": 75,
   "metadata": {},
   "outputs": [
    {
     "name": "stdout",
     "output_type": "stream",
     "text": [
      "    Data  RSquared      RMSE       MAE\n",
      "0  Train  1.000000  0.001479  0.000004\n",
      "1   Test  0.713607  5.266615  3.789094\n"
     ]
    }
   ],
   "source": [
    "#Remove _________ and complete the code\n",
    "model_pref(dt2, X_train2, X_test2, y_train2, y_test2)  "
   ]
  },
  {
   "cell_type": "markdown",
   "metadata": {},
   "source": [
    "**Write your answers here:**\n",
    "- The model is extremely overfitted, with Rsquared equal to 1 in the train set"
   ]
  },
  {
   "cell_type": "markdown",
   "metadata": {},
   "source": [
    "#### Question 5.5 Building Pruned Decision tree using more transform primitive"
   ]
  },
  {
   "cell_type": "code",
   "execution_count": 76,
   "metadata": {},
   "outputs": [
    {
     "data": {
      "text/plain": [
       "DecisionTreeRegressor(max_depth=7)"
      ]
     },
     "execution_count": 76,
     "metadata": {},
     "output_type": "execute_result"
    }
   ],
   "source": [
    "#Remove _________ and complete the code\n",
    "#define the model\n",
    "\n",
    "#use max_depth=7\n",
    "dt_pruned2=DecisionTreeRegressor(max_depth=7)\n",
    "\n",
    "#fit the model\n",
    "dt_pruned2.fit(X_train2, y_train2)"
   ]
  },
  {
   "cell_type": "markdown",
   "metadata": {},
   "source": [
    "#### Check the performance of the model"
   ]
  },
  {
   "cell_type": "code",
   "execution_count": 77,
   "metadata": {},
   "outputs": [
    {
     "name": "stdout",
     "output_type": "stream",
     "text": [
      "    Data  RSquared      RMSE       MAE\n",
      "0  Train  0.768105  4.535566  3.423759\n",
      "1   Test  0.745845  4.961350  3.698053\n"
     ]
    }
   ],
   "source": [
    "#Remove _________ and complete the code\n",
    "model_pref(dt_pruned2, X_train2, X_test2, y_train2, y_test2)  "
   ]
  },
  {
   "cell_type": "markdown",
   "metadata": {},
   "source": [
    "**Write your answers here:**\n",
    "- best performace util now, with 0.74 of Rsquared in train set\n",
    "- very slightly overfitted"
   ]
  },
  {
   "cell_type": "markdown",
   "metadata": {},
   "source": [
    "#### Question 5.6 Building Random Forest using more transform primitive"
   ]
  },
  {
   "cell_type": "code",
   "execution_count": 80,
   "metadata": {},
   "outputs": [
    {
     "data": {
      "text/plain": [
       "RandomForestRegressor(max_depth=7, n_estimators=60)"
      ]
     },
     "execution_count": 80,
     "metadata": {},
     "output_type": "execute_result"
    }
   ],
   "source": [
    "#fit the model\n",
    "\n",
    "#Remove _________ and complete the code\n",
    "#using (n_estimators=60,max_depth=7)\n",
    "\n",
    "rf2 = RandomForestRegressor(n_estimators=60, max_depth=7)\n",
    "\n",
    "#fit the model\n",
    "\n",
    "#Remove _________ and complete the code\n",
    "rf2.fit(X_train2, y_train2)"
   ]
  },
  {
   "cell_type": "markdown",
   "metadata": {},
   "source": [
    "#### Check the performance of the model"
   ]
  },
  {
   "cell_type": "code",
   "execution_count": 81,
   "metadata": {},
   "outputs": [
    {
     "name": "stdout",
     "output_type": "stream",
     "text": [
      "    Data  RSquared      RMSE       MAE\n",
      "0  Train  0.774642  4.471179  3.366930\n",
      "1   Test  0.751791  4.902971  3.645133\n"
     ]
    }
   ],
   "source": [
    "#Remove _________ and complete the code\n",
    "model_pref(rf2, X_train2, X_test2, y_train2, y_test2)  "
   ]
  },
  {
   "cell_type": "markdown",
   "metadata": {},
   "source": [
    "**Write your answers here:**\n",
    "- score of the model is ~75\n",
    "- much better performance compared with the previous model"
   ]
  },
  {
   "cell_type": "markdown",
   "metadata": {},
   "source": [
    "**Question: 5.7 Comment on how the modeling accuracy differs when including more transform features.**"
   ]
  },
  {
   "cell_type": "markdown",
   "metadata": {},
   "source": [
    "**Write your answers here:**\n",
    "- model accuracy increases with more transform features. The increase is not very big, but is something to consider. "
   ]
  },
  {
   "cell_type": "markdown",
   "metadata": {},
   "source": [
    "### Step 5: Add Aggregation Primitives\n",
    "\n",
    "Now let's add aggregation primitives. These primitives will generate features for the parent entities ``pickup_neighborhoods``, and ``dropoff_neighborhood`` and then add them to the trips entity, which is the entity for which we are trying to make prediction."
   ]
  },
  {
   "cell_type": "markdown",
   "metadata": {},
   "source": [
    "### Question 6: Create a Models with transform and aggregate primitive. (10 Marks)\n",
    "**6.1 Define more transform and aggregate primitive and define features using dfs?**"
   ]
  },
  {
   "cell_type": "code",
   "execution_count": 84,
   "metadata": {
    "ExecuteTime": {
     "end_time": "2021-07-15T12:59:43.977607Z",
     "start_time": "2021-07-15T12:59:41.353328Z"
    }
   },
   "outputs": [],
   "source": [
    "#Remove _________ and complete the code\n",
    "\n",
    "trans_primitives = [Minute, Hour, Day, Month, Weekday, IsWeekend]\n",
    "aggregation_primitives = [Count, Sum, Mean, Median, Std, Max, Min]\n",
    "\n",
    "features = ft.dfs(entities=entities,\n",
    "                  relationships=relationships,\n",
    "                  target_entity=\"trips\",\n",
    "                  trans_primitives=trans_primitives,\n",
    "                  agg_primitives=aggregation_primitives,\n",
    "                  ignore_variables={\"trips\": [\"pickup_latitude\", \"pickup_longitude\",\n",
    "                                              \"dropoff_latitude\", \"dropoff_longitude\"]},\n",
    "                  features_only=True)"
   ]
  },
  {
   "cell_type": "code",
   "execution_count": 85,
   "metadata": {
    "ExecuteTime": {
     "end_time": "2021-07-15T12:59:45.888070Z",
     "start_time": "2021-07-15T12:59:45.782499Z"
    },
    "scrolled": false
   },
   "outputs": [
    {
     "name": "stdout",
     "output_type": "stream",
     "text": [
      "Number of features: 61\n"
     ]
    },
    {
     "data": {
      "text/plain": [
       "[<Feature: vendor_id>,\n",
       " <Feature: passenger_count>,\n",
       " <Feature: trip_distance>,\n",
       " <Feature: payment_type>,\n",
       " <Feature: trip_duration>,\n",
       " <Feature: pickup_neighborhood>,\n",
       " <Feature: dropoff_neighborhood>,\n",
       " <Feature: DAY(dropoff_datetime)>,\n",
       " <Feature: DAY(pickup_datetime)>,\n",
       " <Feature: HOUR(dropoff_datetime)>,\n",
       " <Feature: HOUR(pickup_datetime)>,\n",
       " <Feature: IS_WEEKEND(dropoff_datetime)>,\n",
       " <Feature: IS_WEEKEND(pickup_datetime)>,\n",
       " <Feature: MINUTE(dropoff_datetime)>,\n",
       " <Feature: MINUTE(pickup_datetime)>,\n",
       " <Feature: MONTH(dropoff_datetime)>,\n",
       " <Feature: MONTH(pickup_datetime)>,\n",
       " <Feature: WEEKDAY(dropoff_datetime)>,\n",
       " <Feature: WEEKDAY(pickup_datetime)>,\n",
       " <Feature: pickup_neighborhoods.latitude>,\n",
       " <Feature: pickup_neighborhoods.longitude>,\n",
       " <Feature: dropoff_neighborhoods.latitude>,\n",
       " <Feature: dropoff_neighborhoods.longitude>,\n",
       " <Feature: pickup_neighborhoods.COUNT(trips)>,\n",
       " <Feature: pickup_neighborhoods.MAX(trips.passenger_count)>,\n",
       " <Feature: pickup_neighborhoods.MAX(trips.trip_distance)>,\n",
       " <Feature: pickup_neighborhoods.MAX(trips.trip_duration)>,\n",
       " <Feature: pickup_neighborhoods.MEAN(trips.passenger_count)>,\n",
       " <Feature: pickup_neighborhoods.MEAN(trips.trip_distance)>,\n",
       " <Feature: pickup_neighborhoods.MEAN(trips.trip_duration)>,\n",
       " <Feature: pickup_neighborhoods.MEDIAN(trips.passenger_count)>,\n",
       " <Feature: pickup_neighborhoods.MEDIAN(trips.trip_distance)>,\n",
       " <Feature: pickup_neighborhoods.MEDIAN(trips.trip_duration)>,\n",
       " <Feature: pickup_neighborhoods.MIN(trips.passenger_count)>,\n",
       " <Feature: pickup_neighborhoods.MIN(trips.trip_distance)>,\n",
       " <Feature: pickup_neighborhoods.MIN(trips.trip_duration)>,\n",
       " <Feature: pickup_neighborhoods.STD(trips.passenger_count)>,\n",
       " <Feature: pickup_neighborhoods.STD(trips.trip_distance)>,\n",
       " <Feature: pickup_neighborhoods.STD(trips.trip_duration)>,\n",
       " <Feature: pickup_neighborhoods.SUM(trips.passenger_count)>,\n",
       " <Feature: pickup_neighborhoods.SUM(trips.trip_distance)>,\n",
       " <Feature: pickup_neighborhoods.SUM(trips.trip_duration)>,\n",
       " <Feature: dropoff_neighborhoods.COUNT(trips)>,\n",
       " <Feature: dropoff_neighborhoods.MAX(trips.passenger_count)>,\n",
       " <Feature: dropoff_neighborhoods.MAX(trips.trip_distance)>,\n",
       " <Feature: dropoff_neighborhoods.MAX(trips.trip_duration)>,\n",
       " <Feature: dropoff_neighborhoods.MEAN(trips.passenger_count)>,\n",
       " <Feature: dropoff_neighborhoods.MEAN(trips.trip_distance)>,\n",
       " <Feature: dropoff_neighborhoods.MEAN(trips.trip_duration)>,\n",
       " <Feature: dropoff_neighborhoods.MEDIAN(trips.passenger_count)>,\n",
       " <Feature: dropoff_neighborhoods.MEDIAN(trips.trip_distance)>,\n",
       " <Feature: dropoff_neighborhoods.MEDIAN(trips.trip_duration)>,\n",
       " <Feature: dropoff_neighborhoods.MIN(trips.passenger_count)>,\n",
       " <Feature: dropoff_neighborhoods.MIN(trips.trip_distance)>,\n",
       " <Feature: dropoff_neighborhoods.MIN(trips.trip_duration)>,\n",
       " <Feature: dropoff_neighborhoods.STD(trips.passenger_count)>,\n",
       " <Feature: dropoff_neighborhoods.STD(trips.trip_distance)>,\n",
       " <Feature: dropoff_neighborhoods.STD(trips.trip_duration)>,\n",
       " <Feature: dropoff_neighborhoods.SUM(trips.passenger_count)>,\n",
       " <Feature: dropoff_neighborhoods.SUM(trips.trip_distance)>,\n",
       " <Feature: dropoff_neighborhoods.SUM(trips.trip_duration)>]"
      ]
     },
     "execution_count": 85,
     "metadata": {},
     "output_type": "execute_result"
    }
   ],
   "source": [
    "print (\"Number of features: %d\" % len(features))\n",
    "features"
   ]
  },
  {
   "cell_type": "markdown",
   "metadata": {},
   "source": [
    "**Question: 6.2 Compute features and define feature matrix**"
   ]
  },
  {
   "cell_type": "code",
   "execution_count": 87,
   "metadata": {
    "ExecuteTime": {
     "end_time": "2021-07-09T11:13:54.617340Z",
     "start_time": "2021-07-09T11:13:28.226824Z"
    }
   },
   "outputs": [
    {
     "name": "stdout",
     "output_type": "stream",
     "text": [
      "Elapsed: 00:08 | Progress: 100%|████████████████████████████████████████████████\n",
      "Finishing computing...\n"
     ]
    }
   ],
   "source": [
    "#Remove _________ and complete the code\n",
    "feature_matrix3 = compute_features(features, cutoff_time)"
   ]
  },
  {
   "cell_type": "code",
   "execution_count": 88,
   "metadata": {
    "ExecuteTime": {
     "end_time": "2021-07-09T11:14:02.858716Z",
     "start_time": "2021-07-09T11:14:02.439924Z"
    }
   },
   "outputs": [
    {
     "data": {
      "text/html": [
       "<div>\n",
       "<style scoped>\n",
       "    .dataframe tbody tr th:only-of-type {\n",
       "        vertical-align: middle;\n",
       "    }\n",
       "\n",
       "    .dataframe tbody tr th {\n",
       "        vertical-align: top;\n",
       "    }\n",
       "\n",
       "    .dataframe thead th {\n",
       "        text-align: right;\n",
       "    }\n",
       "</style>\n",
       "<table border=\"1\" class=\"dataframe\">\n",
       "  <thead>\n",
       "    <tr style=\"text-align: right;\">\n",
       "      <th></th>\n",
       "      <th>pickup_neighborhoods.latitude</th>\n",
       "      <th>dropoff_neighborhoods.MEDIAN(trips.trip_duration)</th>\n",
       "      <th>trip_distance</th>\n",
       "      <th>pickup_neighborhood = AD</th>\n",
       "      <th>pickup_neighborhood = AA</th>\n",
       "      <th>pickup_neighborhood = D</th>\n",
       "      <th>pickup_neighborhood = A</th>\n",
       "      <th>pickup_neighborhood = AR</th>\n",
       "      <th>pickup_neighborhood = AK</th>\n",
       "      <th>pickup_neighborhood = AO</th>\n",
       "      <th>...</th>\n",
       "      <th>pickup_neighborhoods.MEAN(trips.trip_duration)</th>\n",
       "      <th>vendor_id</th>\n",
       "      <th>pickup_neighborhoods.MEDIAN(trips.passenger_count)</th>\n",
       "      <th>IS_WEEKEND(dropoff_datetime)</th>\n",
       "      <th>dropoff_neighborhoods.STD(trips.passenger_count)</th>\n",
       "      <th>trip_duration</th>\n",
       "      <th>dropoff_neighborhoods.MAX(trips.trip_duration)</th>\n",
       "      <th>pickup_neighborhoods.STD(trips.trip_distance)</th>\n",
       "      <th>pickup_neighborhoods.STD(trips.trip_duration)</th>\n",
       "      <th>dropoff_neighborhoods.MIN(trips.trip_duration)</th>\n",
       "    </tr>\n",
       "    <tr>\n",
       "      <th>id</th>\n",
       "      <th></th>\n",
       "      <th></th>\n",
       "      <th></th>\n",
       "      <th></th>\n",
       "      <th></th>\n",
       "      <th></th>\n",
       "      <th></th>\n",
       "      <th></th>\n",
       "      <th></th>\n",
       "      <th></th>\n",
       "      <th></th>\n",
       "      <th></th>\n",
       "      <th></th>\n",
       "      <th></th>\n",
       "      <th></th>\n",
       "      <th></th>\n",
       "      <th></th>\n",
       "      <th></th>\n",
       "      <th></th>\n",
       "      <th></th>\n",
       "      <th></th>\n",
       "    </tr>\n",
       "  </thead>\n",
       "  <tbody>\n",
       "    <tr>\n",
       "      <th>56311</th>\n",
       "      <td>40.720245</td>\n",
       "      <td>668.0</td>\n",
       "      <td>1.61</td>\n",
       "      <td>False</td>\n",
       "      <td>False</td>\n",
       "      <td>False</td>\n",
       "      <td>False</td>\n",
       "      <td>False</td>\n",
       "      <td>False</td>\n",
       "      <td>False</td>\n",
       "      <td>...</td>\n",
       "      <td>743.952234</td>\n",
       "      <td>2</td>\n",
       "      <td>1.0</td>\n",
       "      <td>False</td>\n",
       "      <td>1.303984</td>\n",
       "      <td>645.0</td>\n",
       "      <td>3572.0</td>\n",
       "      <td>2.536758</td>\n",
       "      <td>429.103720</td>\n",
       "      <td>1.0</td>\n",
       "    </tr>\n",
       "    <tr>\n",
       "      <th>56312</th>\n",
       "      <td>40.646194</td>\n",
       "      <td>942.0</td>\n",
       "      <td>16.15</td>\n",
       "      <td>False</td>\n",
       "      <td>False</td>\n",
       "      <td>False</td>\n",
       "      <td>False</td>\n",
       "      <td>False</td>\n",
       "      <td>False</td>\n",
       "      <td>False</td>\n",
       "      <td>...</td>\n",
       "      <td>2064.952800</td>\n",
       "      <td>2</td>\n",
       "      <td>1.0</td>\n",
       "      <td>False</td>\n",
       "      <td>1.335982</td>\n",
       "      <td>1270.0</td>\n",
       "      <td>3526.0</td>\n",
       "      <td>5.243534</td>\n",
       "      <td>788.720284</td>\n",
       "      <td>4.0</td>\n",
       "    </tr>\n",
       "    <tr>\n",
       "      <th>56313</th>\n",
       "      <td>40.818445</td>\n",
       "      <td>898.0</td>\n",
       "      <td>0.80</td>\n",
       "      <td>False</td>\n",
       "      <td>False</td>\n",
       "      <td>False</td>\n",
       "      <td>False</td>\n",
       "      <td>False</td>\n",
       "      <td>False</td>\n",
       "      <td>False</td>\n",
       "      <td>...</td>\n",
       "      <td>672.408257</td>\n",
       "      <td>1</td>\n",
       "      <td>1.0</td>\n",
       "      <td>False</td>\n",
       "      <td>1.289944</td>\n",
       "      <td>207.0</td>\n",
       "      <td>3312.0</td>\n",
       "      <td>2.942660</td>\n",
       "      <td>526.288091</td>\n",
       "      <td>6.0</td>\n",
       "    </tr>\n",
       "    <tr>\n",
       "      <th>56314</th>\n",
       "      <td>40.729652</td>\n",
       "      <td>474.0</td>\n",
       "      <td>1.33</td>\n",
       "      <td>False</td>\n",
       "      <td>False</td>\n",
       "      <td>False</td>\n",
       "      <td>False</td>\n",
       "      <td>False</td>\n",
       "      <td>False</td>\n",
       "      <td>False</td>\n",
       "      <td>...</td>\n",
       "      <td>679.285966</td>\n",
       "      <td>2</td>\n",
       "      <td>1.0</td>\n",
       "      <td>False</td>\n",
       "      <td>1.375904</td>\n",
       "      <td>214.0</td>\n",
       "      <td>3581.0</td>\n",
       "      <td>2.185074</td>\n",
       "      <td>425.565644</td>\n",
       "      <td>9.0</td>\n",
       "    </tr>\n",
       "    <tr>\n",
       "      <th>56315</th>\n",
       "      <td>40.793597</td>\n",
       "      <td>898.0</td>\n",
       "      <td>2.35</td>\n",
       "      <td>False</td>\n",
       "      <td>False</td>\n",
       "      <td>False</td>\n",
       "      <td>False</td>\n",
       "      <td>False</td>\n",
       "      <td>False</td>\n",
       "      <td>False</td>\n",
       "      <td>...</td>\n",
       "      <td>613.556122</td>\n",
       "      <td>2</td>\n",
       "      <td>1.0</td>\n",
       "      <td>False</td>\n",
       "      <td>1.289944</td>\n",
       "      <td>570.0</td>\n",
       "      <td>3312.0</td>\n",
       "      <td>2.057285</td>\n",
       "      <td>417.894779</td>\n",
       "      <td>6.0</td>\n",
       "    </tr>\n",
       "  </tbody>\n",
       "</table>\n",
       "<p>5 rows × 79 columns</p>\n",
       "</div>"
      ],
      "text/plain": [
       "       pickup_neighborhoods.latitude  \\\n",
       "id                                     \n",
       "56311                      40.720245   \n",
       "56312                      40.646194   \n",
       "56313                      40.818445   \n",
       "56314                      40.729652   \n",
       "56315                      40.793597   \n",
       "\n",
       "       dropoff_neighborhoods.MEDIAN(trips.trip_duration)  trip_distance  \\\n",
       "id                                                                        \n",
       "56311                                              668.0           1.61   \n",
       "56312                                              942.0          16.15   \n",
       "56313                                              898.0           0.80   \n",
       "56314                                              474.0           1.33   \n",
       "56315                                              898.0           2.35   \n",
       "\n",
       "       pickup_neighborhood = AD  pickup_neighborhood = AA  \\\n",
       "id                                                          \n",
       "56311                     False                     False   \n",
       "56312                     False                     False   \n",
       "56313                     False                     False   \n",
       "56314                     False                     False   \n",
       "56315                     False                     False   \n",
       "\n",
       "       pickup_neighborhood = D  pickup_neighborhood = A  \\\n",
       "id                                                        \n",
       "56311                    False                    False   \n",
       "56312                    False                    False   \n",
       "56313                    False                    False   \n",
       "56314                    False                    False   \n",
       "56315                    False                    False   \n",
       "\n",
       "       pickup_neighborhood = AR  pickup_neighborhood = AK  \\\n",
       "id                                                          \n",
       "56311                     False                     False   \n",
       "56312                     False                     False   \n",
       "56313                     False                     False   \n",
       "56314                     False                     False   \n",
       "56315                     False                     False   \n",
       "\n",
       "       pickup_neighborhood = AO  ...  \\\n",
       "id                               ...   \n",
       "56311                     False  ...   \n",
       "56312                     False  ...   \n",
       "56313                     False  ...   \n",
       "56314                     False  ...   \n",
       "56315                     False  ...   \n",
       "\n",
       "       pickup_neighborhoods.MEAN(trips.trip_duration)  vendor_id  \\\n",
       "id                                                                 \n",
       "56311                                      743.952234          2   \n",
       "56312                                     2064.952800          2   \n",
       "56313                                      672.408257          1   \n",
       "56314                                      679.285966          2   \n",
       "56315                                      613.556122          2   \n",
       "\n",
       "       pickup_neighborhoods.MEDIAN(trips.passenger_count)  \\\n",
       "id                                                          \n",
       "56311                                                1.0    \n",
       "56312                                                1.0    \n",
       "56313                                                1.0    \n",
       "56314                                                1.0    \n",
       "56315                                                1.0    \n",
       "\n",
       "       IS_WEEKEND(dropoff_datetime)  \\\n",
       "id                                    \n",
       "56311                         False   \n",
       "56312                         False   \n",
       "56313                         False   \n",
       "56314                         False   \n",
       "56315                         False   \n",
       "\n",
       "       dropoff_neighborhoods.STD(trips.passenger_count)  trip_duration  \\\n",
       "id                                                                       \n",
       "56311                                          1.303984          645.0   \n",
       "56312                                          1.335982         1270.0   \n",
       "56313                                          1.289944          207.0   \n",
       "56314                                          1.375904          214.0   \n",
       "56315                                          1.289944          570.0   \n",
       "\n",
       "       dropoff_neighborhoods.MAX(trips.trip_duration)  \\\n",
       "id                                                      \n",
       "56311                                          3572.0   \n",
       "56312                                          3526.0   \n",
       "56313                                          3312.0   \n",
       "56314                                          3581.0   \n",
       "56315                                          3312.0   \n",
       "\n",
       "       pickup_neighborhoods.STD(trips.trip_distance)  \\\n",
       "id                                                     \n",
       "56311                                       2.536758   \n",
       "56312                                       5.243534   \n",
       "56313                                       2.942660   \n",
       "56314                                       2.185074   \n",
       "56315                                       2.057285   \n",
       "\n",
       "       pickup_neighborhoods.STD(trips.trip_duration)  \\\n",
       "id                                                     \n",
       "56311                                     429.103720   \n",
       "56312                                     788.720284   \n",
       "56313                                     526.288091   \n",
       "56314                                     425.565644   \n",
       "56315                                     417.894779   \n",
       "\n",
       "       dropoff_neighborhoods.MIN(trips.trip_duration)  \n",
       "id                                                     \n",
       "56311                                             1.0  \n",
       "56312                                             4.0  \n",
       "56313                                             6.0  \n",
       "56314                                             9.0  \n",
       "56315                                             6.0  \n",
       "\n",
       "[5 rows x 79 columns]"
      ]
     },
     "execution_count": 88,
     "metadata": {},
     "output_type": "execute_result"
    }
   ],
   "source": [
    "feature_matrix3.head()"
   ]
  },
  {
   "cell_type": "markdown",
   "metadata": {},
   "source": [
    "### Build the new models more transform and aggregate features"
   ]
  },
  {
   "cell_type": "code",
   "execution_count": 89,
   "metadata": {
    "ExecuteTime": {
     "end_time": "2021-07-09T11:14:41.627956Z",
     "start_time": "2021-07-09T11:14:07.052570Z"
    }
   },
   "outputs": [],
   "source": [
    "# separates the whole feature matrix into train data feature matrix,\n",
    "# train data labels, and test data feature matrix \n",
    "X_train3, y_train3, X_test3, y_test3 = get_train_test_fm(feature_matrix3,.75)\n",
    "y_train3 = np.sqrt(y_train3)\n",
    "y_test3 = np.sqrt(y_test3)"
   ]
  },
  {
   "cell_type": "markdown",
   "metadata": {},
   "source": [
    "#### Question 6.3 Building  Linear regression model with transform and aggregate primitive."
   ]
  },
  {
   "cell_type": "code",
   "execution_count": 90,
   "metadata": {},
   "outputs": [
    {
     "data": {
      "text/plain": [
       "LinearRegression()"
      ]
     },
     "execution_count": 90,
     "metadata": {},
     "output_type": "execute_result"
    }
   ],
   "source": [
    "#Remove _________ and complete the code\n",
    "\n",
    "#defining the model\n",
    "\n",
    "lr3 = LinearRegression()\n",
    "\n",
    "#fitting the model\n",
    "lr3.fit(X_train3, y_train3)\n"
   ]
  },
  {
   "cell_type": "markdown",
   "metadata": {},
   "source": [
    "#### Check the performance of the model"
   ]
  },
  {
   "cell_type": "code",
   "execution_count": 91,
   "metadata": {},
   "outputs": [
    {
     "name": "stdout",
     "output_type": "stream",
     "text": [
      "    Data  RSquared      RMSE       MAE\n",
      "0  Train  0.643423  5.624220  4.134927\n",
      "1   Test  0.631697  5.972457  4.464424\n"
     ]
    }
   ],
   "source": [
    "model_pref(lr3, X_train3, X_test3, y_train3, y_test3)"
   ]
  },
  {
   "cell_type": "markdown",
   "metadata": {},
   "source": [
    "**Write your answers here:**\n",
    "- Model is giving only 0.63 Rsquared, with RMSE 5.6 and MAE 4.13\n",
    "- Not overfitted"
   ]
  },
  {
   "cell_type": "markdown",
   "metadata": {},
   "source": [
    "#### Question 6.4 Building  Decision tree with transform and aggregate primitive."
   ]
  },
  {
   "cell_type": "code",
   "execution_count": 92,
   "metadata": {},
   "outputs": [
    {
     "data": {
      "text/plain": [
       "DecisionTreeRegressor()"
      ]
     },
     "execution_count": 92,
     "metadata": {},
     "output_type": "execute_result"
    }
   ],
   "source": [
    "#Remove _________ and complete the code\n",
    "\n",
    "#define the model\n",
    "dt3 = DecisionTreeRegressor()\n",
    "\n",
    "#fit the model\n",
    "\n",
    "dt3.fit(X_train3, y_train3)"
   ]
  },
  {
   "cell_type": "markdown",
   "metadata": {},
   "source": [
    "#### Check the performance of the model"
   ]
  },
  {
   "cell_type": "code",
   "execution_count": 93,
   "metadata": {},
   "outputs": [
    {
     "name": "stdout",
     "output_type": "stream",
     "text": [
      "    Data  RSquared      RMSE       MAE\n",
      "0  Train  1.000000  0.001479  0.000004\n",
      "1   Test  0.648118  5.837799  4.202697\n"
     ]
    }
   ],
   "source": [
    "#Remove _________ and complete the code\n",
    "model_pref(dt3, X_train3, X_test3, y_train3, y_test3)"
   ]
  },
  {
   "cell_type": "markdown",
   "metadata": {},
   "source": [
    "**Write your answers here:**\n",
    "- very overfitted again, with 1 in RSquared"
   ]
  },
  {
   "cell_type": "markdown",
   "metadata": {},
   "source": [
    "#### Question 6.5 Building  Pruned Decision tree with transform and aggregate primitive."
   ]
  },
  {
   "cell_type": "code",
   "execution_count": 94,
   "metadata": {},
   "outputs": [
    {
     "data": {
      "text/plain": [
       "DecisionTreeRegressor(max_depth=7)"
      ]
     },
     "execution_count": 94,
     "metadata": {},
     "output_type": "execute_result"
    }
   ],
   "source": [
    "#Remove _________ and complete the code\n",
    "#define the model\n",
    "\n",
    "#use max_depth=7\n",
    "dt_pruned3 = DecisionTreeRegressor(max_depth=7)\n",
    "\n",
    "#fit the model\n",
    "dt_pruned3.fit(X_train3, y_train3)"
   ]
  },
  {
   "cell_type": "markdown",
   "metadata": {},
   "source": [
    "#### Check the performance of the model"
   ]
  },
  {
   "cell_type": "code",
   "execution_count": 95,
   "metadata": {},
   "outputs": [
    {
     "name": "stdout",
     "output_type": "stream",
     "text": [
      "    Data  RSquared      RMSE       MAE\n",
      "0  Train  0.769212  4.524722  3.418452\n",
      "1   Test  0.745722  4.962549  3.696122\n"
     ]
    }
   ],
   "source": [
    "#Remove _________ and complete the code\n",
    "model_pref(dt_pruned3, X_train3, X_test3, y_train3, y_test3)"
   ]
  },
  {
   "cell_type": "markdown",
   "metadata": {},
   "source": [
    "**Write your answers here:**\n",
    "- good performance and not overfitted"
   ]
  },
  {
   "cell_type": "markdown",
   "metadata": {},
   "source": [
    "#### Question 6.6 Building  Random Forest with transform and aggregate primitive."
   ]
  },
  {
   "cell_type": "code",
   "execution_count": 96,
   "metadata": {},
   "outputs": [
    {
     "data": {
      "text/plain": [
       "RandomForestRegressor(max_depth=7, n_estimators=60)"
      ]
     },
     "execution_count": 96,
     "metadata": {},
     "output_type": "execute_result"
    }
   ],
   "source": [
    "#fit the model\n",
    "\n",
    "#Remove _________ and complete the code\n",
    "#using (n_estimators=60,max_depth=7)\n",
    "\n",
    "rf3 = RandomForestRegressor(n_estimators=60, max_depth=7)\n",
    "\n",
    "#fit the model\n",
    "\n",
    "#Remove _________ and complete the code\n",
    "rf3.fit(X_train3, y_train3)"
   ]
  },
  {
   "cell_type": "markdown",
   "metadata": {},
   "source": [
    "#### Check the performance of the model"
   ]
  },
  {
   "cell_type": "code",
   "execution_count": 97,
   "metadata": {
    "scrolled": true
   },
   "outputs": [
    {
     "name": "stdout",
     "output_type": "stream",
     "text": [
      "    Data  RSquared      RMSE       MAE\n",
      "0  Train  0.775829  4.459388  3.361171\n",
      "1   Test  0.752666  4.894323  3.640119\n"
     ]
    }
   ],
   "source": [
    "model_pref(rf3, X_train3, X_test3,y_train3,y_test3)  "
   ]
  },
  {
   "cell_type": "markdown",
   "metadata": {},
   "source": [
    "**Write your answers here:**\n",
    "- model performance is very similar to the previous model \n",
    "- not overfitted"
   ]
  },
  {
   "cell_type": "markdown",
   "metadata": {},
   "source": [
    "**Question 6.7 How do these aggregate transforms impact performance? How do they impact training time?**"
   ]
  },
  {
   "cell_type": "markdown",
   "metadata": {},
   "source": [
    "**Write your answers here:**\n",
    "- Training time is much bigger, since there are more variables to deal with\n",
    "- Modeling score has not improved much after adding aggregate transforms. Adding more features is not necessarily better. "
   ]
  },
  {
   "cell_type": "markdown",
   "metadata": {},
   "source": [
    "#### Based on the above 3 models, we can make predictions using our model2, as it is giving almost same accuracy as model3 and also the training time is not that large as compared to model3"
   ]
  },
  {
   "cell_type": "code",
   "execution_count": 98,
   "metadata": {
    "ExecuteTime": {
     "end_time": "2021-07-09T11:23:07.091360Z",
     "start_time": "2021-07-09T11:23:06.179570Z"
    },
    "scrolled": true
   },
   "outputs": [
    {
     "data": {
      "text/plain": [
       "array([ 528.98474395,  215.79232445,  663.81910876, ...,  182.07380292,\n",
       "       1028.99455389, 1759.33222947])"
      ]
     },
     "execution_count": 98,
     "metadata": {},
     "output_type": "execute_result"
    }
   ],
   "source": [
    "y_pred = rf2.predict(X_test2)\n",
    "y_pred = y_pred**2 # undo the sqrt we took earlier\n",
    "y_pred[5:]"
   ]
  },
  {
   "cell_type": "markdown",
   "metadata": {},
   "source": [
    "### Question 7: What are some important features based on model2 and how can they affect the duration of the rides? (3 Marks)"
   ]
  },
  {
   "cell_type": "code",
   "execution_count": 99,
   "metadata": {
    "ExecuteTime": {
     "end_time": "2021-07-09T11:23:15.953274Z",
     "start_time": "2021-07-09T11:23:15.813531Z"
    },
    "scrolled": true
   },
   "outputs": [
    {
     "name": "stdout",
     "output_type": "stream",
     "text": [
      "1: Feature: trip_distance, 0.910\n",
      "2: Feature: HOUR(dropoff_datetime), 0.036\n",
      "3: Feature: HOUR(pickup_datetime), 0.019\n",
      "4: Feature: dropoff_neighborhoods.latitude, 0.016\n",
      "5: Feature: pickup_neighborhoods.longitude, 0.003\n",
      "6: Feature: WEEKDAY(dropoff_datetime), 0.003\n",
      "7: Feature: IS_WEEKEND(dropoff_datetime), 0.003\n",
      "8: Feature: WEEKDAY(pickup_datetime), 0.003\n",
      "9: Feature: vendor_id, 0.002\n",
      "10: Feature: IS_WEEKEND(pickup_datetime), 0.002\n"
     ]
    }
   ],
   "source": [
    "feature_importances(rf2, feature_matrix2.drop(['trip_duration'],axis=1).columns, n=10)"
   ]
  },
  {
   "cell_type": "markdown",
   "metadata": {},
   "source": [
    "**Write your answers here:**\n",
    "- Trip_Distance is the most important feature, which implies that the longer the trip is the longer duration of the trip is.\n",
    "- Features like dropoff_datetime, and pickup_datetime are also very important, showing that trip duration is impacted by pickup and dropoff moments of the day. "
   ]
  }
 ],
 "metadata": {
  "kernelspec": {
   "display_name": "Python 3 (ipykernel)",
   "language": "python",
   "name": "python3"
  },
  "language_info": {
   "codemirror_mode": {
    "name": "ipython",
    "version": 3
   },
   "file_extension": ".py",
   "mimetype": "text/x-python",
   "name": "python",
   "nbconvert_exporter": "python",
   "pygments_lexer": "ipython3",
   "version": "3.9.7"
  },
  "toc": {
   "base_numbering": 1,
   "nav_menu": {},
   "number_sections": true,
   "sideBar": true,
   "skip_h1_title": false,
   "title_cell": "Table of Contents",
   "title_sidebar": "Contents",
   "toc_cell": false,
   "toc_position": {},
   "toc_section_display": true,
   "toc_window_display": false
  },
  "varInspector": {
   "cols": {
    "lenName": 16,
    "lenType": 16,
    "lenVar": 40
   },
   "kernels_config": {
    "python": {
     "delete_cmd_postfix": "",
     "delete_cmd_prefix": "del ",
     "library": "var_list.py",
     "varRefreshCmd": "print(var_dic_list())"
    },
    "r": {
     "delete_cmd_postfix": ") ",
     "delete_cmd_prefix": "rm(",
     "library": "var_list.r",
     "varRefreshCmd": "cat(var_dic_list()) "
    }
   },
   "types_to_exclude": [
    "module",
    "function",
    "builtin_function_or_method",
    "instance",
    "_Feature"
   ],
   "window_display": false
  }
 },
 "nbformat": 4,
 "nbformat_minor": 1
}
