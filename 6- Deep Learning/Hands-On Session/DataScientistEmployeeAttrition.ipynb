{
  "nbformat": 4,
  "nbformat_minor": 0,
  "metadata": {
    "colab": {
      "name": "DataScientistEmployeeAttrition.ipynb",
      "provenance": []
    },
    "kernelspec": {
      "name": "python3",
      "display_name": "Python 3"
    },
    "language_info": {
      "name": "python"
    }
  },
  "cells": [
    {
      "cell_type": "markdown",
      "source": [
        "# **Data Scientist Employee Attrition - Job Change of data Scientists**\n",
        "\n",
        "### **Problem Statement**\n",
        "\n",
        "A company that is active in Big data and data Science wants to hire data scientists among people who successfully pass some courses conducted by the company. Many people sign up for their training. The company wants to know which of these candidates want to work for the company after training or looking for new employment because it helps to reduce the cost and time as well as the quality of training or planning the courses and categorization of candidates. Information related to demographics, education and experience is provided by candidates during sign-up and enrollment.\n",
        "\n",
        "This dataset is designed to understand the factors that lead a person to leave their current job, and it is hence useful for HR research. By building a model that uses the current credentials, demographics, and work experience related data, you will predict the probability that a candidate is looking for a new job, as well as interpret the main factors that affect an employee's decision whether to continue or attrite.\n",
        "\n",
        "### **Data Description**\n",
        "\n",
        "* **Enrollee_id:** Unique ID for candidate\n",
        "* **City:** City code\n",
        "* **City_development_index:** Development index of the city (scaled)\n",
        "* **Gender:** Gender of candidate\n",
        "* **Relevant_experience:** Relevant experience of candidate\n",
        "* **Enrolled_university:** Type of University course enrolled if any\n",
        "* **Education_level:** Education level of candidate\n",
        "* **Major_discipline:** Education major discipline of candidate\n",
        "* **Experience:** Candidate total experience in years\n",
        "* **Company_size:** No of employees in current employer's company\n",
        "* **Company_type:** Type of current employer\n",
        "* **Last_new_job:** Difference in years between previous job and current job\n",
        "* **Training_hours:** training hours completed\n",
        "* **Target:** 0 – Not looking for job change, 1 – Looking for a job change"
      ],
      "metadata": {
        "id": "1hKXGqMBLjCx"
      }
    },
    {
      "cell_type": "code",
      "source": [
        "# importing libraries\n",
        "import pandas as pd\n",
        "import numpy as np\n",
        "import matplotlib.pyplot as plt\n",
        "import seaborn as sns\n",
        "sns.set_style('darkgrid')\n",
        "\n",
        "from sklearn.model_selection import train_test_split, GridSearchCV, RandomizedSearchCV\n",
        "from sklearn.preprocessing import LabelEncoder, OneHotEncoder\n",
        "from sklearn.compose import ColumnTransformer\n",
        "from sklearn.impute import SimpleImputer\n",
        "from sklearn.metrics import confusion_matrix, roc_curve, classification_report\n",
        "\n",
        "import tensorflow as tf\n",
        "from tensorflow.keras import backend\n",
        "from tensorflow.keras.models import Sequential\n",
        "from tensorflow.keras.layers import Dense, Input, Dropout,BatchNormalization\n",
        "from tensorflow.keras.wrappers.scikit_learn import KerasClassifier\n",
        "\n",
        "import random\n",
        "random.seed(1)\n",
        "np.random.seed(1) \n",
        "tf.random.set_seed(1)\n",
        "\n",
        "import warnings\n",
        "warnings.filterwarnings('ignore')"
      ],
      "metadata": {
        "id": "PO8iQL9IL5xp"
      },
      "execution_count": 2,
      "outputs": []
    },
    {
      "cell_type": "code",
      "source": [
        "# reading the data\n",
        "df = pd.read_csv('Data.csv')\n",
        "display(df.head())\n",
        "print(df.shape)"
      ],
      "metadata": {
        "colab": {
          "base_uri": "https://localhost:8080/",
          "height": 285
        },
        "id": "U8h4ouEaM_oE",
        "outputId": "79c7b75a-668a-4f64-d272-9a299dd7a765"
      },
      "execution_count": 4,
      "outputs": [
        {
          "output_type": "display_data",
          "data": {
            "text/html": [
              "\n",
              "  <div id=\"df-8815a672-e8a5-404a-a78a-dcfacf0fdd0b\">\n",
              "    <div class=\"colab-df-container\">\n",
              "      <div>\n",
              "<style scoped>\n",
              "    .dataframe tbody tr th:only-of-type {\n",
              "        vertical-align: middle;\n",
              "    }\n",
              "\n",
              "    .dataframe tbody tr th {\n",
              "        vertical-align: top;\n",
              "    }\n",
              "\n",
              "    .dataframe thead th {\n",
              "        text-align: right;\n",
              "    }\n",
              "</style>\n",
              "<table border=\"1\" class=\"dataframe\">\n",
              "  <thead>\n",
              "    <tr style=\"text-align: right;\">\n",
              "      <th></th>\n",
              "      <th>Enrollee_id</th>\n",
              "      <th>City</th>\n",
              "      <th>City_development_index</th>\n",
              "      <th>Gender</th>\n",
              "      <th>Relevant_experience</th>\n",
              "      <th>Enrolled_university</th>\n",
              "      <th>Education_level</th>\n",
              "      <th>Major_discipline</th>\n",
              "      <th>Experience</th>\n",
              "      <th>Company_size</th>\n",
              "      <th>Company_type</th>\n",
              "      <th>Last_new_job</th>\n",
              "      <th>Training_hours</th>\n",
              "      <th>Target</th>\n",
              "    </tr>\n",
              "  </thead>\n",
              "  <tbody>\n",
              "    <tr>\n",
              "      <th>0</th>\n",
              "      <td>8949</td>\n",
              "      <td>city_103</td>\n",
              "      <td>0.920</td>\n",
              "      <td>Male</td>\n",
              "      <td>Has relevent experience</td>\n",
              "      <td>no_enrollment</td>\n",
              "      <td>Graduate</td>\n",
              "      <td>STEM</td>\n",
              "      <td>&gt;20</td>\n",
              "      <td>NaN</td>\n",
              "      <td>NaN</td>\n",
              "      <td>1</td>\n",
              "      <td>36</td>\n",
              "      <td>1</td>\n",
              "    </tr>\n",
              "    <tr>\n",
              "      <th>1</th>\n",
              "      <td>29725</td>\n",
              "      <td>city_40</td>\n",
              "      <td>0.776</td>\n",
              "      <td>Male</td>\n",
              "      <td>No relevent experience</td>\n",
              "      <td>no_enrollment</td>\n",
              "      <td>Graduate</td>\n",
              "      <td>STEM</td>\n",
              "      <td>15</td>\n",
              "      <td>50-99</td>\n",
              "      <td>Pvt Ltd</td>\n",
              "      <td>&gt;4</td>\n",
              "      <td>47</td>\n",
              "      <td>0</td>\n",
              "    </tr>\n",
              "    <tr>\n",
              "      <th>2</th>\n",
              "      <td>11561</td>\n",
              "      <td>city_21</td>\n",
              "      <td>0.624</td>\n",
              "      <td>NaN</td>\n",
              "      <td>No relevent experience</td>\n",
              "      <td>Full time course</td>\n",
              "      <td>Graduate</td>\n",
              "      <td>STEM</td>\n",
              "      <td>5</td>\n",
              "      <td>NaN</td>\n",
              "      <td>NaN</td>\n",
              "      <td>never</td>\n",
              "      <td>83</td>\n",
              "      <td>0</td>\n",
              "    </tr>\n",
              "    <tr>\n",
              "      <th>3</th>\n",
              "      <td>33241</td>\n",
              "      <td>city_115</td>\n",
              "      <td>0.789</td>\n",
              "      <td>NaN</td>\n",
              "      <td>No relevent experience</td>\n",
              "      <td>NaN</td>\n",
              "      <td>Graduate</td>\n",
              "      <td>Business Degree</td>\n",
              "      <td>&lt;1</td>\n",
              "      <td>NaN</td>\n",
              "      <td>Pvt Ltd</td>\n",
              "      <td>never</td>\n",
              "      <td>52</td>\n",
              "      <td>1</td>\n",
              "    </tr>\n",
              "    <tr>\n",
              "      <th>4</th>\n",
              "      <td>666</td>\n",
              "      <td>city_162</td>\n",
              "      <td>0.767</td>\n",
              "      <td>Male</td>\n",
              "      <td>Has relevent experience</td>\n",
              "      <td>no_enrollment</td>\n",
              "      <td>Masters</td>\n",
              "      <td>STEM</td>\n",
              "      <td>&gt;20</td>\n",
              "      <td>50-99</td>\n",
              "      <td>Funded Startup</td>\n",
              "      <td>4</td>\n",
              "      <td>8</td>\n",
              "      <td>0</td>\n",
              "    </tr>\n",
              "  </tbody>\n",
              "</table>\n",
              "</div>\n",
              "      <button class=\"colab-df-convert\" onclick=\"convertToInteractive('df-8815a672-e8a5-404a-a78a-dcfacf0fdd0b')\"\n",
              "              title=\"Convert this dataframe to an interactive table.\"\n",
              "              style=\"display:none;\">\n",
              "        \n",
              "  <svg xmlns=\"http://www.w3.org/2000/svg\" height=\"24px\"viewBox=\"0 0 24 24\"\n",
              "       width=\"24px\">\n",
              "    <path d=\"M0 0h24v24H0V0z\" fill=\"none\"/>\n",
              "    <path d=\"M18.56 5.44l.94 2.06.94-2.06 2.06-.94-2.06-.94-.94-2.06-.94 2.06-2.06.94zm-11 1L8.5 8.5l.94-2.06 2.06-.94-2.06-.94L8.5 2.5l-.94 2.06-2.06.94zm10 10l.94 2.06.94-2.06 2.06-.94-2.06-.94-.94-2.06-.94 2.06-2.06.94z\"/><path d=\"M17.41 7.96l-1.37-1.37c-.4-.4-.92-.59-1.43-.59-.52 0-1.04.2-1.43.59L10.3 9.45l-7.72 7.72c-.78.78-.78 2.05 0 2.83L4 21.41c.39.39.9.59 1.41.59.51 0 1.02-.2 1.41-.59l7.78-7.78 2.81-2.81c.8-.78.8-2.07 0-2.86zM5.41 20L4 18.59l7.72-7.72 1.47 1.35L5.41 20z\"/>\n",
              "  </svg>\n",
              "      </button>\n",
              "      \n",
              "  <style>\n",
              "    .colab-df-container {\n",
              "      display:flex;\n",
              "      flex-wrap:wrap;\n",
              "      gap: 12px;\n",
              "    }\n",
              "\n",
              "    .colab-df-convert {\n",
              "      background-color: #E8F0FE;\n",
              "      border: none;\n",
              "      border-radius: 50%;\n",
              "      cursor: pointer;\n",
              "      display: none;\n",
              "      fill: #1967D2;\n",
              "      height: 32px;\n",
              "      padding: 0 0 0 0;\n",
              "      width: 32px;\n",
              "    }\n",
              "\n",
              "    .colab-df-convert:hover {\n",
              "      background-color: #E2EBFA;\n",
              "      box-shadow: 0px 1px 2px rgba(60, 64, 67, 0.3), 0px 1px 3px 1px rgba(60, 64, 67, 0.15);\n",
              "      fill: #174EA6;\n",
              "    }\n",
              "\n",
              "    [theme=dark] .colab-df-convert {\n",
              "      background-color: #3B4455;\n",
              "      fill: #D2E3FC;\n",
              "    }\n",
              "\n",
              "    [theme=dark] .colab-df-convert:hover {\n",
              "      background-color: #434B5C;\n",
              "      box-shadow: 0px 1px 3px 1px rgba(0, 0, 0, 0.15);\n",
              "      filter: drop-shadow(0px 1px 2px rgba(0, 0, 0, 0.3));\n",
              "      fill: #FFFFFF;\n",
              "    }\n",
              "  </style>\n",
              "\n",
              "      <script>\n",
              "        const buttonEl =\n",
              "          document.querySelector('#df-8815a672-e8a5-404a-a78a-dcfacf0fdd0b button.colab-df-convert');\n",
              "        buttonEl.style.display =\n",
              "          google.colab.kernel.accessAllowed ? 'block' : 'none';\n",
              "\n",
              "        async function convertToInteractive(key) {\n",
              "          const element = document.querySelector('#df-8815a672-e8a5-404a-a78a-dcfacf0fdd0b');\n",
              "          const dataTable =\n",
              "            await google.colab.kernel.invokeFunction('convertToInteractive',\n",
              "                                                     [key], {});\n",
              "          if (!dataTable) return;\n",
              "\n",
              "          const docLinkHtml = 'Like what you see? Visit the ' +\n",
              "            '<a target=\"_blank\" href=https://colab.research.google.com/notebooks/data_table.ipynb>data table notebook</a>'\n",
              "            + ' to learn more about interactive tables.';\n",
              "          element.innerHTML = '';\n",
              "          dataTable['output_type'] = 'display_data';\n",
              "          await google.colab.output.renderOutput(dataTable, element);\n",
              "          const docLink = document.createElement('div');\n",
              "          docLink.innerHTML = docLinkHtml;\n",
              "          element.appendChild(docLink);\n",
              "        }\n",
              "      </script>\n",
              "    </div>\n",
              "  </div>\n",
              "  "
            ],
            "text/plain": [
              "   Enrollee_id      City  ...  Training_hours Target\n",
              "0         8949  city_103  ...              36      1\n",
              "1        29725   city_40  ...              47      0\n",
              "2        11561   city_21  ...              83      0\n",
              "3        33241  city_115  ...              52      1\n",
              "4          666  city_162  ...               8      0\n",
              "\n",
              "[5 rows x 14 columns]"
            ]
          },
          "metadata": {}
        },
        {
          "output_type": "stream",
          "name": "stdout",
          "text": [
            "(19158, 14)\n"
          ]
        }
      ]
    },
    {
      "cell_type": "code",
      "source": [
        "# checking dataset info\n",
        "df.info()"
      ],
      "metadata": {
        "colab": {
          "base_uri": "https://localhost:8080/"
        },
        "id": "LtSh--4uNUDH",
        "outputId": "4148473a-f2ca-4a41-da60-742f6dfdbe13"
      },
      "execution_count": 6,
      "outputs": [
        {
          "output_type": "stream",
          "name": "stdout",
          "text": [
            "<class 'pandas.core.frame.DataFrame'>\n",
            "RangeIndex: 19158 entries, 0 to 19157\n",
            "Data columns (total 14 columns):\n",
            " #   Column                  Non-Null Count  Dtype  \n",
            "---  ------                  --------------  -----  \n",
            " 0   Enrollee_id             19158 non-null  int64  \n",
            " 1   City                    19158 non-null  object \n",
            " 2   City_development_index  19158 non-null  float64\n",
            " 3   Gender                  14650 non-null  object \n",
            " 4   Relevant_experience     19158 non-null  object \n",
            " 5   Enrolled_university     18772 non-null  object \n",
            " 6   Education_level         18698 non-null  object \n",
            " 7   Major_discipline        16345 non-null  object \n",
            " 8   Experience              19093 non-null  object \n",
            " 9   Company_size            13220 non-null  object \n",
            " 10  Company_type            13018 non-null  object \n",
            " 11  Last_new_job            18735 non-null  object \n",
            " 12  Training_hours          19158 non-null  int64  \n",
            " 13  Target                  19158 non-null  int64  \n",
            "dtypes: float64(1), int64(3), object(10)\n",
            "memory usage: 2.0+ MB\n"
          ]
        }
      ]
    },
    {
      "cell_type": "code",
      "source": [
        "# checking for duplicates\n",
        "df.duplicated().sum()"
      ],
      "metadata": {
        "colab": {
          "base_uri": "https://localhost:8080/"
        },
        "id": "UuxzFPTxNc4h",
        "outputId": "7e727469-421c-4fb6-d79e-2b718d4eff95"
      },
      "execution_count": 7,
      "outputs": [
        {
          "output_type": "execute_result",
          "data": {
            "text/plain": [
              "0"
            ]
          },
          "metadata": {},
          "execution_count": 7
        }
      ]
    },
    {
      "cell_type": "code",
      "source": [
        "# % of missing values in every column\n",
        "np.round(df.isnull().sum() / df.isnull().count() * 100, 2)"
      ],
      "metadata": {
        "colab": {
          "base_uri": "https://localhost:8080/"
        },
        "id": "2SbVC6xHNiw-",
        "outputId": "1de10cb0-c1d7-47e9-9cfb-80ec9cd4ffbf"
      },
      "execution_count": 8,
      "outputs": [
        {
          "output_type": "execute_result",
          "data": {
            "text/plain": [
              "Enrollee_id                0.00\n",
              "City                       0.00\n",
              "City_development_index     0.00\n",
              "Gender                    23.53\n",
              "Relevant_experience        0.00\n",
              "Enrolled_university        2.01\n",
              "Education_level            2.40\n",
              "Major_discipline          14.68\n",
              "Experience                 0.34\n",
              "Company_size              30.99\n",
              "Company_type              32.05\n",
              "Last_new_job               2.21\n",
              "Training_hours             0.00\n",
              "Target                     0.00\n",
              "dtype: float64"
            ]
          },
          "metadata": {},
          "execution_count": 8
        }
      ]
    },
    {
      "cell_type": "code",
      "source": [
        "# value counts for the target variable\n",
        "df.Target.value_counts()"
      ],
      "metadata": {
        "colab": {
          "base_uri": "https://localhost:8080/"
        },
        "id": "lVkfV-XUNw3x",
        "outputId": "54e41ff5-2011-4ab5-dcde-e118183af460"
      },
      "execution_count": 10,
      "outputs": [
        {
          "output_type": "execute_result",
          "data": {
            "text/plain": [
              "0    14381\n",
              "1     4777\n",
              "Name: Target, dtype: int64"
            ]
          },
          "metadata": {},
          "execution_count": 10
        }
      ]
    },
    {
      "cell_type": "code",
      "source": [
        "# statistical summary of the dataset\n",
        "df.describe().T"
      ],
      "metadata": {
        "colab": {
          "base_uri": "https://localhost:8080/",
          "height": 173
        },
        "id": "kBs5ELTBN5qa",
        "outputId": "60b03dec-cce9-47b2-a709-49067a8c7ee8"
      },
      "execution_count": 11,
      "outputs": [
        {
          "output_type": "execute_result",
          "data": {
            "text/html": [
              "\n",
              "  <div id=\"df-3ed1a843-96f6-4269-8a4e-5b33479547fc\">\n",
              "    <div class=\"colab-df-container\">\n",
              "      <div>\n",
              "<style scoped>\n",
              "    .dataframe tbody tr th:only-of-type {\n",
              "        vertical-align: middle;\n",
              "    }\n",
              "\n",
              "    .dataframe tbody tr th {\n",
              "        vertical-align: top;\n",
              "    }\n",
              "\n",
              "    .dataframe thead th {\n",
              "        text-align: right;\n",
              "    }\n",
              "</style>\n",
              "<table border=\"1\" class=\"dataframe\">\n",
              "  <thead>\n",
              "    <tr style=\"text-align: right;\">\n",
              "      <th></th>\n",
              "      <th>count</th>\n",
              "      <th>mean</th>\n",
              "      <th>std</th>\n",
              "      <th>min</th>\n",
              "      <th>25%</th>\n",
              "      <th>50%</th>\n",
              "      <th>75%</th>\n",
              "      <th>max</th>\n",
              "    </tr>\n",
              "  </thead>\n",
              "  <tbody>\n",
              "    <tr>\n",
              "      <th>Enrollee_id</th>\n",
              "      <td>19158.0</td>\n",
              "      <td>16875.358179</td>\n",
              "      <td>9616.292592</td>\n",
              "      <td>1.000</td>\n",
              "      <td>8554.25</td>\n",
              "      <td>16982.500</td>\n",
              "      <td>25169.75</td>\n",
              "      <td>33380.000</td>\n",
              "    </tr>\n",
              "    <tr>\n",
              "      <th>City_development_index</th>\n",
              "      <td>19158.0</td>\n",
              "      <td>0.828848</td>\n",
              "      <td>0.123362</td>\n",
              "      <td>0.448</td>\n",
              "      <td>0.74</td>\n",
              "      <td>0.903</td>\n",
              "      <td>0.92</td>\n",
              "      <td>0.949</td>\n",
              "    </tr>\n",
              "    <tr>\n",
              "      <th>Training_hours</th>\n",
              "      <td>19158.0</td>\n",
              "      <td>65.366896</td>\n",
              "      <td>60.058462</td>\n",
              "      <td>1.000</td>\n",
              "      <td>23.00</td>\n",
              "      <td>47.000</td>\n",
              "      <td>88.00</td>\n",
              "      <td>336.000</td>\n",
              "    </tr>\n",
              "    <tr>\n",
              "      <th>Target</th>\n",
              "      <td>19158.0</td>\n",
              "      <td>0.249348</td>\n",
              "      <td>0.432647</td>\n",
              "      <td>0.000</td>\n",
              "      <td>0.00</td>\n",
              "      <td>0.000</td>\n",
              "      <td>0.00</td>\n",
              "      <td>1.000</td>\n",
              "    </tr>\n",
              "  </tbody>\n",
              "</table>\n",
              "</div>\n",
              "      <button class=\"colab-df-convert\" onclick=\"convertToInteractive('df-3ed1a843-96f6-4269-8a4e-5b33479547fc')\"\n",
              "              title=\"Convert this dataframe to an interactive table.\"\n",
              "              style=\"display:none;\">\n",
              "        \n",
              "  <svg xmlns=\"http://www.w3.org/2000/svg\" height=\"24px\"viewBox=\"0 0 24 24\"\n",
              "       width=\"24px\">\n",
              "    <path d=\"M0 0h24v24H0V0z\" fill=\"none\"/>\n",
              "    <path d=\"M18.56 5.44l.94 2.06.94-2.06 2.06-.94-2.06-.94-.94-2.06-.94 2.06-2.06.94zm-11 1L8.5 8.5l.94-2.06 2.06-.94-2.06-.94L8.5 2.5l-.94 2.06-2.06.94zm10 10l.94 2.06.94-2.06 2.06-.94-2.06-.94-.94-2.06-.94 2.06-2.06.94z\"/><path d=\"M17.41 7.96l-1.37-1.37c-.4-.4-.92-.59-1.43-.59-.52 0-1.04.2-1.43.59L10.3 9.45l-7.72 7.72c-.78.78-.78 2.05 0 2.83L4 21.41c.39.39.9.59 1.41.59.51 0 1.02-.2 1.41-.59l7.78-7.78 2.81-2.81c.8-.78.8-2.07 0-2.86zM5.41 20L4 18.59l7.72-7.72 1.47 1.35L5.41 20z\"/>\n",
              "  </svg>\n",
              "      </button>\n",
              "      \n",
              "  <style>\n",
              "    .colab-df-container {\n",
              "      display:flex;\n",
              "      flex-wrap:wrap;\n",
              "      gap: 12px;\n",
              "    }\n",
              "\n",
              "    .colab-df-convert {\n",
              "      background-color: #E8F0FE;\n",
              "      border: none;\n",
              "      border-radius: 50%;\n",
              "      cursor: pointer;\n",
              "      display: none;\n",
              "      fill: #1967D2;\n",
              "      height: 32px;\n",
              "      padding: 0 0 0 0;\n",
              "      width: 32px;\n",
              "    }\n",
              "\n",
              "    .colab-df-convert:hover {\n",
              "      background-color: #E2EBFA;\n",
              "      box-shadow: 0px 1px 2px rgba(60, 64, 67, 0.3), 0px 1px 3px 1px rgba(60, 64, 67, 0.15);\n",
              "      fill: #174EA6;\n",
              "    }\n",
              "\n",
              "    [theme=dark] .colab-df-convert {\n",
              "      background-color: #3B4455;\n",
              "      fill: #D2E3FC;\n",
              "    }\n",
              "\n",
              "    [theme=dark] .colab-df-convert:hover {\n",
              "      background-color: #434B5C;\n",
              "      box-shadow: 0px 1px 3px 1px rgba(0, 0, 0, 0.15);\n",
              "      filter: drop-shadow(0px 1px 2px rgba(0, 0, 0, 0.3));\n",
              "      fill: #FFFFFF;\n",
              "    }\n",
              "  </style>\n",
              "\n",
              "      <script>\n",
              "        const buttonEl =\n",
              "          document.querySelector('#df-3ed1a843-96f6-4269-8a4e-5b33479547fc button.colab-df-convert');\n",
              "        buttonEl.style.display =\n",
              "          google.colab.kernel.accessAllowed ? 'block' : 'none';\n",
              "\n",
              "        async function convertToInteractive(key) {\n",
              "          const element = document.querySelector('#df-3ed1a843-96f6-4269-8a4e-5b33479547fc');\n",
              "          const dataTable =\n",
              "            await google.colab.kernel.invokeFunction('convertToInteractive',\n",
              "                                                     [key], {});\n",
              "          if (!dataTable) return;\n",
              "\n",
              "          const docLinkHtml = 'Like what you see? Visit the ' +\n",
              "            '<a target=\"_blank\" href=https://colab.research.google.com/notebooks/data_table.ipynb>data table notebook</a>'\n",
              "            + ' to learn more about interactive tables.';\n",
              "          element.innerHTML = '';\n",
              "          dataTable['output_type'] = 'display_data';\n",
              "          await google.colab.output.renderOutput(dataTable, element);\n",
              "          const docLink = document.createElement('div');\n",
              "          docLink.innerHTML = docLinkHtml;\n",
              "          element.appendChild(docLink);\n",
              "        }\n",
              "      </script>\n",
              "    </div>\n",
              "  </div>\n",
              "  "
            ],
            "text/plain": [
              "                          count          mean  ...       75%        max\n",
              "Enrollee_id             19158.0  16875.358179  ...  25169.75  33380.000\n",
              "City_development_index  19158.0      0.828848  ...      0.92      0.949\n",
              "Training_hours          19158.0     65.366896  ...     88.00    336.000\n",
              "Target                  19158.0      0.249348  ...      0.00      1.000\n",
              "\n",
              "[4 rows x 8 columns]"
            ]
          },
          "metadata": {},
          "execution_count": 11
        }
      ]
    },
    {
      "cell_type": "code",
      "source": [
        "# number of unique observations in each column\n",
        "df.nunique()"
      ],
      "metadata": {
        "colab": {
          "base_uri": "https://localhost:8080/"
        },
        "id": "GlsCkPXKOFJv",
        "outputId": "3ace5815-9a26-4994-dc4e-0803fa6e69ee"
      },
      "execution_count": 12,
      "outputs": [
        {
          "output_type": "execute_result",
          "data": {
            "text/plain": [
              "Enrollee_id               19158\n",
              "City                        123\n",
              "City_development_index       93\n",
              "Gender                        3\n",
              "Relevant_experience           2\n",
              "Enrolled_university           3\n",
              "Education_level               5\n",
              "Major_discipline              6\n",
              "Experience                   22\n",
              "Company_size                  8\n",
              "Company_type                  6\n",
              "Last_new_job                  6\n",
              "Training_hours              241\n",
              "Target                        2\n",
              "dtype: int64"
            ]
          },
          "metadata": {},
          "execution_count": 12
        }
      ]
    },
    {
      "cell_type": "markdown",
      "source": [
        "* Each value of the column 'Employee_id' is a unique identifier for an employee. Hence we can drop this column as it will not add any predictive power or value to the model.\n",
        "* The 'City' column has 123 unique categories."
      ],
      "metadata": {
        "id": "XpsjYGxwOQbV"
      }
    },
    {
      "cell_type": "code",
      "source": [
        "# value counts for each object type variable\n",
        "for i in df.select_dtypes(include=['object']):\n",
        "  print('unique values in {}:'.format(i))\n",
        "  print(df[i].value_counts())\n",
        "  print('-'*50)"
      ],
      "metadata": {
        "colab": {
          "base_uri": "https://localhost:8080/"
        },
        "id": "rVLTQwl7OREd",
        "outputId": "ffe7c1cb-d00c-42c2-cb5f-c0c59677ffde"
      },
      "execution_count": 13,
      "outputs": [
        {
          "output_type": "stream",
          "name": "stdout",
          "text": [
            "unique values in City:\n",
            "city_103    4355\n",
            "city_21     2702\n",
            "city_16     1533\n",
            "city_114    1336\n",
            "city_160     845\n",
            "            ... \n",
            "city_129       3\n",
            "city_111       3\n",
            "city_121       3\n",
            "city_140       1\n",
            "city_171       1\n",
            "Name: City, Length: 123, dtype: int64\n",
            "--------------------------------------------------\n",
            "unique values in Gender:\n",
            "Male      13221\n",
            "Female     1238\n",
            "Other       191\n",
            "Name: Gender, dtype: int64\n",
            "--------------------------------------------------\n",
            "unique values in Relevant_experience:\n",
            "Has relevent experience    13792\n",
            "No relevent experience      5366\n",
            "Name: Relevant_experience, dtype: int64\n",
            "--------------------------------------------------\n",
            "unique values in Enrolled_university:\n",
            "no_enrollment       13817\n",
            "Full time course     3757\n",
            "Part time course     1198\n",
            "Name: Enrolled_university, dtype: int64\n",
            "--------------------------------------------------\n",
            "unique values in Education_level:\n",
            "Graduate          11598\n",
            "Masters            4361\n",
            "High School        2017\n",
            "Phd                 414\n",
            "Primary School      308\n",
            "Name: Education_level, dtype: int64\n",
            "--------------------------------------------------\n",
            "unique values in Major_discipline:\n",
            "STEM               14492\n",
            "Humanities           669\n",
            "Other                381\n",
            "Business Degree      327\n",
            "Arts                 253\n",
            "No Major             223\n",
            "Name: Major_discipline, dtype: int64\n",
            "--------------------------------------------------\n",
            "unique values in Experience:\n",
            ">20    3286\n",
            "5      1430\n",
            "4      1403\n",
            "3      1354\n",
            "6      1216\n",
            "2      1127\n",
            "7      1028\n",
            "10      985\n",
            "9       980\n",
            "8       802\n",
            "15      686\n",
            "11      664\n",
            "14      586\n",
            "1       549\n",
            "<1      522\n",
            "16      508\n",
            "12      494\n",
            "13      399\n",
            "17      342\n",
            "19      304\n",
            "18      280\n",
            "20      148\n",
            "Name: Experience, dtype: int64\n",
            "--------------------------------------------------\n",
            "unique values in Company_size:\n",
            "50-99        3083\n",
            "100-500      2571\n",
            "10000+       2019\n",
            "Oct-49       1471\n",
            "1000-4999    1328\n",
            "<10          1308\n",
            "500-999       877\n",
            "5000-9999     563\n",
            "Name: Company_size, dtype: int64\n",
            "--------------------------------------------------\n",
            "unique values in Company_type:\n",
            "Pvt Ltd                9817\n",
            "Funded Startup         1001\n",
            "Public Sector           955\n",
            "Early Stage Startup     603\n",
            "NGO                     521\n",
            "Other                   121\n",
            "Name: Company_type, dtype: int64\n",
            "--------------------------------------------------\n",
            "unique values in Last_new_job:\n",
            "1        8040\n",
            ">4       3290\n",
            "2        2900\n",
            "never    2452\n",
            "4        1029\n",
            "3        1024\n",
            "Name: Last_new_job, dtype: int64\n",
            "--------------------------------------------------\n"
          ]
        }
      ]
    },
    {
      "cell_type": "markdown",
      "source": [
        "* The 'City' column has 123 unique categories, and the city with the highest number of employees is City 103.\n",
        "* Over 90% of the employees in this dataset are males, so it is highly gender-skewed.\n",
        "* Most of the employees (~70%) have relevant experience in data Science.\n",
        "* 70% of the employees did not enroll in any of the courses.\n",
        "* Most of the employees have a Bachelor's level of education (Graduation) but not more than that (~62% of the total number of employees). There are very few employees with Master's degrees and PhDs.\n",
        "* Almost all the employees have previous experience (Related and Non-Related).\n",
        "* ~75% of the employees are from private companies."
      ],
      "metadata": {
        "id": "z3_CC5KsOxnu"
      }
    },
    {
      "cell_type": "markdown",
      "source": [
        "### Data Preprocessing"
      ],
      "metadata": {
        "id": "qPRZB_I7OzpZ"
      }
    },
    {
      "cell_type": "code",
      "source": [
        "# dropping Enrollee_id column\n",
        "df.drop(['Enrollee_id'], axis=1, inplace=True)\n",
        "df.head()"
      ],
      "metadata": {
        "colab": {
          "base_uri": "https://localhost:8080/",
          "height": 268
        },
        "id": "TJcDe2ixO6CM",
        "outputId": "8bb89f9d-8d49-457f-da42-75ff0e5012d8"
      },
      "execution_count": 16,
      "outputs": [
        {
          "output_type": "execute_result",
          "data": {
            "text/html": [
              "\n",
              "  <div id=\"df-4ee2acc7-d4c3-4eba-90fb-7c8d8458e62b\">\n",
              "    <div class=\"colab-df-container\">\n",
              "      <div>\n",
              "<style scoped>\n",
              "    .dataframe tbody tr th:only-of-type {\n",
              "        vertical-align: middle;\n",
              "    }\n",
              "\n",
              "    .dataframe tbody tr th {\n",
              "        vertical-align: top;\n",
              "    }\n",
              "\n",
              "    .dataframe thead th {\n",
              "        text-align: right;\n",
              "    }\n",
              "</style>\n",
              "<table border=\"1\" class=\"dataframe\">\n",
              "  <thead>\n",
              "    <tr style=\"text-align: right;\">\n",
              "      <th></th>\n",
              "      <th>City</th>\n",
              "      <th>City_development_index</th>\n",
              "      <th>Gender</th>\n",
              "      <th>Relevant_experience</th>\n",
              "      <th>Enrolled_university</th>\n",
              "      <th>Education_level</th>\n",
              "      <th>Major_discipline</th>\n",
              "      <th>Experience</th>\n",
              "      <th>Company_size</th>\n",
              "      <th>Company_type</th>\n",
              "      <th>Last_new_job</th>\n",
              "      <th>Training_hours</th>\n",
              "      <th>Target</th>\n",
              "    </tr>\n",
              "  </thead>\n",
              "  <tbody>\n",
              "    <tr>\n",
              "      <th>0</th>\n",
              "      <td>city_103</td>\n",
              "      <td>0.920</td>\n",
              "      <td>Male</td>\n",
              "      <td>Has relevent experience</td>\n",
              "      <td>no_enrollment</td>\n",
              "      <td>Graduate</td>\n",
              "      <td>STEM</td>\n",
              "      <td>&gt;20</td>\n",
              "      <td>NaN</td>\n",
              "      <td>NaN</td>\n",
              "      <td>1</td>\n",
              "      <td>36</td>\n",
              "      <td>1</td>\n",
              "    </tr>\n",
              "    <tr>\n",
              "      <th>1</th>\n",
              "      <td>city_40</td>\n",
              "      <td>0.776</td>\n",
              "      <td>Male</td>\n",
              "      <td>No relevent experience</td>\n",
              "      <td>no_enrollment</td>\n",
              "      <td>Graduate</td>\n",
              "      <td>STEM</td>\n",
              "      <td>15</td>\n",
              "      <td>50-99</td>\n",
              "      <td>Pvt Ltd</td>\n",
              "      <td>&gt;4</td>\n",
              "      <td>47</td>\n",
              "      <td>0</td>\n",
              "    </tr>\n",
              "    <tr>\n",
              "      <th>2</th>\n",
              "      <td>city_21</td>\n",
              "      <td>0.624</td>\n",
              "      <td>NaN</td>\n",
              "      <td>No relevent experience</td>\n",
              "      <td>Full time course</td>\n",
              "      <td>Graduate</td>\n",
              "      <td>STEM</td>\n",
              "      <td>5</td>\n",
              "      <td>NaN</td>\n",
              "      <td>NaN</td>\n",
              "      <td>never</td>\n",
              "      <td>83</td>\n",
              "      <td>0</td>\n",
              "    </tr>\n",
              "    <tr>\n",
              "      <th>3</th>\n",
              "      <td>city_115</td>\n",
              "      <td>0.789</td>\n",
              "      <td>NaN</td>\n",
              "      <td>No relevent experience</td>\n",
              "      <td>NaN</td>\n",
              "      <td>Graduate</td>\n",
              "      <td>Business Degree</td>\n",
              "      <td>&lt;1</td>\n",
              "      <td>NaN</td>\n",
              "      <td>Pvt Ltd</td>\n",
              "      <td>never</td>\n",
              "      <td>52</td>\n",
              "      <td>1</td>\n",
              "    </tr>\n",
              "    <tr>\n",
              "      <th>4</th>\n",
              "      <td>city_162</td>\n",
              "      <td>0.767</td>\n",
              "      <td>Male</td>\n",
              "      <td>Has relevent experience</td>\n",
              "      <td>no_enrollment</td>\n",
              "      <td>Masters</td>\n",
              "      <td>STEM</td>\n",
              "      <td>&gt;20</td>\n",
              "      <td>50-99</td>\n",
              "      <td>Funded Startup</td>\n",
              "      <td>4</td>\n",
              "      <td>8</td>\n",
              "      <td>0</td>\n",
              "    </tr>\n",
              "  </tbody>\n",
              "</table>\n",
              "</div>\n",
              "      <button class=\"colab-df-convert\" onclick=\"convertToInteractive('df-4ee2acc7-d4c3-4eba-90fb-7c8d8458e62b')\"\n",
              "              title=\"Convert this dataframe to an interactive table.\"\n",
              "              style=\"display:none;\">\n",
              "        \n",
              "  <svg xmlns=\"http://www.w3.org/2000/svg\" height=\"24px\"viewBox=\"0 0 24 24\"\n",
              "       width=\"24px\">\n",
              "    <path d=\"M0 0h24v24H0V0z\" fill=\"none\"/>\n",
              "    <path d=\"M18.56 5.44l.94 2.06.94-2.06 2.06-.94-2.06-.94-.94-2.06-.94 2.06-2.06.94zm-11 1L8.5 8.5l.94-2.06 2.06-.94-2.06-.94L8.5 2.5l-.94 2.06-2.06.94zm10 10l.94 2.06.94-2.06 2.06-.94-2.06-.94-.94-2.06-.94 2.06-2.06.94z\"/><path d=\"M17.41 7.96l-1.37-1.37c-.4-.4-.92-.59-1.43-.59-.52 0-1.04.2-1.43.59L10.3 9.45l-7.72 7.72c-.78.78-.78 2.05 0 2.83L4 21.41c.39.39.9.59 1.41.59.51 0 1.02-.2 1.41-.59l7.78-7.78 2.81-2.81c.8-.78.8-2.07 0-2.86zM5.41 20L4 18.59l7.72-7.72 1.47 1.35L5.41 20z\"/>\n",
              "  </svg>\n",
              "      </button>\n",
              "      \n",
              "  <style>\n",
              "    .colab-df-container {\n",
              "      display:flex;\n",
              "      flex-wrap:wrap;\n",
              "      gap: 12px;\n",
              "    }\n",
              "\n",
              "    .colab-df-convert {\n",
              "      background-color: #E8F0FE;\n",
              "      border: none;\n",
              "      border-radius: 50%;\n",
              "      cursor: pointer;\n",
              "      display: none;\n",
              "      fill: #1967D2;\n",
              "      height: 32px;\n",
              "      padding: 0 0 0 0;\n",
              "      width: 32px;\n",
              "    }\n",
              "\n",
              "    .colab-df-convert:hover {\n",
              "      background-color: #E2EBFA;\n",
              "      box-shadow: 0px 1px 2px rgba(60, 64, 67, 0.3), 0px 1px 3px 1px rgba(60, 64, 67, 0.15);\n",
              "      fill: #174EA6;\n",
              "    }\n",
              "\n",
              "    [theme=dark] .colab-df-convert {\n",
              "      background-color: #3B4455;\n",
              "      fill: #D2E3FC;\n",
              "    }\n",
              "\n",
              "    [theme=dark] .colab-df-convert:hover {\n",
              "      background-color: #434B5C;\n",
              "      box-shadow: 0px 1px 3px 1px rgba(0, 0, 0, 0.15);\n",
              "      filter: drop-shadow(0px 1px 2px rgba(0, 0, 0, 0.3));\n",
              "      fill: #FFFFFF;\n",
              "    }\n",
              "  </style>\n",
              "\n",
              "      <script>\n",
              "        const buttonEl =\n",
              "          document.querySelector('#df-4ee2acc7-d4c3-4eba-90fb-7c8d8458e62b button.colab-df-convert');\n",
              "        buttonEl.style.display =\n",
              "          google.colab.kernel.accessAllowed ? 'block' : 'none';\n",
              "\n",
              "        async function convertToInteractive(key) {\n",
              "          const element = document.querySelector('#df-4ee2acc7-d4c3-4eba-90fb-7c8d8458e62b');\n",
              "          const dataTable =\n",
              "            await google.colab.kernel.invokeFunction('convertToInteractive',\n",
              "                                                     [key], {});\n",
              "          if (!dataTable) return;\n",
              "\n",
              "          const docLinkHtml = 'Like what you see? Visit the ' +\n",
              "            '<a target=\"_blank\" href=https://colab.research.google.com/notebooks/data_table.ipynb>data table notebook</a>'\n",
              "            + ' to learn more about interactive tables.';\n",
              "          element.innerHTML = '';\n",
              "          dataTable['output_type'] = 'display_data';\n",
              "          await google.colab.output.renderOutput(dataTable, element);\n",
              "          const docLink = document.createElement('div');\n",
              "          docLink.innerHTML = docLinkHtml;\n",
              "          element.appendChild(docLink);\n",
              "        }\n",
              "      </script>\n",
              "    </div>\n",
              "  </div>\n",
              "  "
            ],
            "text/plain": [
              "       City  City_development_index Gender  ... Last_new_job Training_hours Target\n",
              "0  city_103                   0.920   Male  ...            1             36      1\n",
              "1   city_40                   0.776   Male  ...           >4             47      0\n",
              "2   city_21                   0.624    NaN  ...        never             83      0\n",
              "3  city_115                   0.789    NaN  ...        never             52      1\n",
              "4  city_162                   0.767   Male  ...            4              8      0\n",
              "\n",
              "[5 rows x 13 columns]"
            ]
          },
          "metadata": {},
          "execution_count": 16
        }
      ]
    },
    {
      "cell_type": "markdown",
      "source": [
        "## EDA\n",
        "### Univariate Analysis"
      ],
      "metadata": {
        "id": "Hh6qkqosPR5D"
      }
    },
    {
      "cell_type": "code",
      "source": [
        "def hist_box(col):\n",
        "  \"\"\" plots histogram and boxplot for the column passed as parameter\"\"\"\n",
        "  f, (ax_box, ax_hist) = plt.subplots(2, sharex=True, gridspec_kw={'height_ratios':(.15,.85)}, figsize=(10,5)) # divides image in two\n",
        "  sns.boxplot(df[col], ax=ax_box, showmeans=True) # boxplot of the column\n",
        "  sns.histplot(df[col], ax=ax_hist, kde=True) # histplot of the column\n",
        "  ax_hist.axvline(df[col].mean(), linestyle='--', color='green') # green line in the mean value of the column\n",
        "  ax_hist.axvline(df[col].median(), linestyle='--', color='orange') # orange line the median of the column\n",
        "  ax_box.set(xlabel=col)\n",
        "  plt.show()"
      ],
      "metadata": {
        "id": "InI_A26zPWMT"
      },
      "execution_count": 20,
      "outputs": []
    },
    {
      "cell_type": "markdown",
      "source": [
        "#### Observations on City_development_index"
      ],
      "metadata": {
        "id": "YKV8HNAKRvQz"
      }
    },
    {
      "cell_type": "code",
      "source": [
        "hist_box('City_development_index')"
      ],
      "metadata": {
        "colab": {
          "base_uri": "https://localhost:8080/",
          "height": 335
        },
        "id": "_QfI7ml9Q8j5",
        "outputId": "d61e550a-3a75-41fc-9f2f-5e564df3992c"
      },
      "execution_count": 25,
      "outputs": [
        {
          "output_type": "display_data",
          "data": {
            "image/png": "[encoded data removed]",
            "text/plain": [
              "<Figure size 720x360 with 2 Axes>"
            ]
          },
          "metadata": {}
        }
      ]
    },
    {
      "cell_type": "markdown",
      "source": [
        "* From the above plot, we observe that there are many people from cities having a development index more than 0.9. "
      ],
      "metadata": {
        "id": "wfP7qS33R34S"
      }
    },
    {
      "cell_type": "markdown",
      "source": [
        "#### Observations on Training_hours"
      ],
      "metadata": {
        "id": "dwDKhrw_R0RH"
      }
    },
    {
      "cell_type": "code",
      "source": [
        "hist_box('Training_hours')"
      ],
      "metadata": {
        "colab": {
          "base_uri": "https://localhost:8080/",
          "height": 335
        },
        "id": "h69Rrbg5R4nW",
        "outputId": "7235db75-05d7-4ea6-e24b-416aa9d40255"
      },
      "execution_count": 26,
      "outputs": [
        {
          "output_type": "display_data",
          "data": {
            "image/png": "[encoded data removed]",
            "text/plain": [
              "<Figure size 720x360 with 2 Axes>"
            ]
          },
          "metadata": {}
        }
      ]
    },
    {
      "cell_type": "markdown",
      "source": [
        "* From the plot, we observe that the measures of central tendency with respect to training hours seem to be 70, despite a maximum value over 300 hours. So most of the people in this dataset have undergone training for less than 100 hours."
      ],
      "metadata": {
        "id": "9eHJoA6wR8Gv"
      }
    },
    {
      "cell_type": "code",
      "source": [
        "fig1, ax1 = plt.subplots(figsize=(7, 5))\n",
        "ax1.pie(df.Target.value_counts(), explode=(0,0.1), labels=['Not looking for a job change', 'Looking for a job change'], autopct='%.1f%%', shadow=True)\n",
        "plt.title('Proportion', size=20)\n",
        "plt.show()"
      ],
      "metadata": {
        "colab": {
          "base_uri": "https://localhost:8080/",
          "height": 324
        },
        "id": "gv-yinLgSCdj",
        "outputId": "2dedb675-ca71-4370-c55e-3de586d4ff5a"
      },
      "execution_count": 38,
      "outputs": [
        {
          "output_type": "display_data",
          "data": {
            "image/png": "[encoded data removed]",
            "text/plain": [
              "<Figure size 504x360 with 1 Axes>"
            ]
          },
          "metadata": {}
        }
      ]
    },
    {
      "cell_type": "markdown",
      "source": [
        "* This pie chart shows that the actual distribution of classes is itself imbalanced for the target variable.\n",
        "* Only ~25% of the employees in this dataset are actually looking for a job change.\n",
        "\n",
        "Hence, this dataset and problem statement represent an example of Imbalanced Classification, which has unique challenges in comparison to performing classification over balanced target variables."
      ],
      "metadata": {
        "id": "TYEArpU0TVkM"
      }
    },
    {
      "cell_type": "markdown",
      "source": [
        "### Bivariate Analysis"
      ],
      "metadata": {
        "id": "8i9Rg3OBTbic"
      }
    },
    {
      "cell_type": "markdown",
      "source": [
        "#### Target vs Gender"
      ],
      "metadata": {
        "id": "Kf6C2mnXTgjB"
      }
    },
    {
      "cell_type": "code",
      "source": [
        "pd.crosstab(df.Gender, df.Target, normalize='index').plot(kind='bar', stacked=True, figsize=(8,4))\n",
        "plt.ylabel('Percentage Attrition %')\n",
        "plt.show()"
      ],
      "metadata": {
        "colab": {
          "base_uri": "https://localhost:8080/",
          "height": 305
        },
        "id": "r2FKfwVYTjwJ",
        "outputId": "e878cd41-ee22-4d4a-b4b5-e697ba5b9507"
      },
      "execution_count": 44,
      "outputs": [
        {
          "output_type": "display_data",
          "data": {
            "image/png": "[encoded data removed]",
            "text/plain": [
              "<Figure size 576x288 with 1 Axes>"
            ]
          },
          "metadata": {}
        }
      ]
    },
    {
      "cell_type": "markdown",
      "source": [
        "* From the above plot, it is observed that the likelihood of the employee choosing a job switch does not depend on their gender."
      ],
      "metadata": {
        "id": "Ph1AtJAZUI9b"
      }
    },
    {
      "cell_type": "markdown",
      "source": [
        "#### Targer vs Relevant Experiense"
      ],
      "metadata": {
        "id": "QJ1Y_MUeUM7B"
      }
    },
    {
      "cell_type": "code",
      "source": [
        "pd.crosstab(df.Relevant_experience, df.Target, normalize='index').plot(kind='bar', stacked=True, figsize=(8,4))\n",
        "plt.ylabel('Percentage Attrition %')\n",
        "plt.show()"
      ],
      "metadata": {
        "colab": {
          "base_uri": "https://localhost:8080/",
          "height": 392
        },
        "id": "hRe6mP6rURnO",
        "outputId": "9d42729b-0ee7-413d-8723-82b4068d7696"
      },
      "execution_count": 47,
      "outputs": [
        {
          "output_type": "display_data",
          "data": {
            "image/png": "[encoded data removed]",
            "text/plain": [
              "<Figure size 576x288 with 1 Axes>"
            ]
          },
          "metadata": {}
        }
      ]
    },
    {
      "cell_type": "markdown",
      "source": [
        "* From the above plot, we see that employees from Non-relevant experience are more likely to be switching their job."
      ],
      "metadata": {
        "id": "ENr1YhfQUyyP"
      }
    },
    {
      "cell_type": "markdown",
      "source": [
        "#### Target vs Enrolled_university"
      ],
      "metadata": {
        "id": "8r_lcSh7U9YA"
      }
    },
    {
      "cell_type": "code",
      "source": [
        "pd.crosstab(df.Enrolled_university, df.Target, normalize='index').plot(kind='bar', stacked=True, figsize=(8,4))\n",
        "plt.ylabel('Percentage Attrition %')\n",
        "plt.show()"
      ],
      "metadata": {
        "colab": {
          "base_uri": "https://localhost:8080/",
          "height": 352
        },
        "id": "gfIwJRDlU_hC",
        "outputId": "8eeb0e12-0a74-4490-b62b-0df8c3b29288"
      },
      "execution_count": 48,
      "outputs": [
        {
          "output_type": "display_data",
          "data": {
            "image/png": "[encoded data removed]",
            "text/plain": [
              "<Figure size 576x288 with 1 Axes>"
            ]
          },
          "metadata": {}
        }
      ]
    },
    {
      "cell_type": "markdown",
      "source": [
        "* Employees who have taken full-time courses in universities are the ones who are more likely to be trying to switch jobs."
      ],
      "metadata": {
        "id": "og4ohQEUVMHA"
      }
    },
    {
      "cell_type": "markdown",
      "source": [
        "### Target vs Education_level"
      ],
      "metadata": {
        "id": "ehM2MxCQVPW8"
      }
    },
    {
      "cell_type": "code",
      "source": [
        "pd.crosstab(df.Education_level, df.Target, normalize='index').plot(kind='bar', stacked=True, figsize=(8,4))\n",
        "plt.ylabel('Percentage Attrition %')\n",
        "plt.show()"
      ],
      "metadata": {
        "colab": {
          "base_uri": "https://localhost:8080/",
          "height": 345
        },
        "id": "Ri0DepmSVRsM",
        "outputId": "47ba617a-3ff6-4a64-c3a2-edab810ff810"
      },
      "execution_count": 49,
      "outputs": [
        {
          "output_type": "display_data",
          "data": {
            "image/png": "[encoded data removed]",
            "text/plain": [
              "<Figure size 576x288 with 1 Axes>"
            ]
          },
          "metadata": {}
        }
      ]
    },
    {
      "cell_type": "markdown",
      "source": [
        "* Employees who completed Graduation and Master's degrees are more likely to be trying to switch their jobs. "
      ],
      "metadata": {
        "id": "i2lK2ajUVvMl"
      }
    },
    {
      "cell_type": "markdown",
      "source": [
        "### Target vs Major_discipline"
      ],
      "metadata": {
        "id": "YT3OZZhyV2Sm"
      }
    },
    {
      "cell_type": "code",
      "source": [
        "pd.crosstab(df.Major_discipline, df.Target, normalize='index').plot(kind='bar', stacked=True, figsize=(8,4))\n",
        "plt.ylabel('Percentage Attrition %')\n",
        "plt.show()"
      ],
      "metadata": {
        "colab": {
          "base_uri": "https://localhost:8080/",
          "height": 354
        },
        "id": "zCmO3brVV6O7",
        "outputId": "7db278fb-0be1-44bf-d237-f2ed9219bc70"
      },
      "execution_count": 51,
      "outputs": [
        {
          "output_type": "display_data",
          "data": {
            "image/png": "[encoded data removed]",
            "text/plain": [
              "<Figure size 576x288 with 1 Axes>"
            ]
          },
          "metadata": {}
        }
      ]
    },
    {
      "cell_type": "markdown",
      "source": [
        "* Employees who took STEM or Business Degrees as their major discipline are slightly more likely to change their job."
      ],
      "metadata": {
        "id": "z3amiZkhWJ2P"
      }
    },
    {
      "cell_type": "markdown",
      "source": [
        "### Target vs Experience"
      ],
      "metadata": {
        "id": "RaY0cu_DWK_V"
      }
    },
    {
      "cell_type": "code",
      "source": [
        "pd.crosstab(df.Experience, df.Target, normalize='index').plot(kind='bar', stacked=True, figsize=(8,4))\n",
        "plt.ylabel('Percentage Attrition %')\n",
        "plt.show()"
      ],
      "metadata": {
        "colab": {
          "base_uri": "https://localhost:8080/",
          "height": 290
        },
        "id": "VSB1rSLvWP2g",
        "outputId": "4f3246b0-b857-410a-c1a8-d0d3ffd9e241"
      },
      "execution_count": 52,
      "outputs": [
        {
          "output_type": "display_data",
          "data": {
            "image/png": "[encoded data removed]",
            "text/plain": [
              "<Figure size 576x288 with 1 Axes>"
            ]
          },
          "metadata": {}
        }
      ]
    },
    {
      "cell_type": "markdown",
      "source": [
        "* From the above plot, it's clear that employees having a work experience of less than 3 years are trying to switch their jobs."
      ],
      "metadata": {
        "id": "QQjrHhwcWiGq"
      }
    },
    {
      "cell_type": "markdown",
      "source": [
        "### Target vs Last_new_job"
      ],
      "metadata": {
        "id": "CTsucgczWh96"
      }
    },
    {
      "cell_type": "code",
      "source": [
        "pd.crosstab(df.Last_new_job, df.Target, normalize='index').plot(kind='bar', stacked=True, figsize=(8,4))\n",
        "plt.ylabel('Percentage Attrition %')\n",
        "plt.show()"
      ],
      "metadata": {
        "colab": {
          "base_uri": "https://localhost:8080/",
          "height": 299
        },
        "id": "-fYvzERsWnJv",
        "outputId": "e3b9a164-5eed-415b-eab1-4245b11d3982"
      },
      "execution_count": 53,
      "outputs": [
        {
          "output_type": "display_data",
          "data": {
            "image/png": "[encoded data removed]",
            "text/plain": [
              "<Figure size 576x288 with 1 Axes>"
            ]
          },
          "metadata": {}
        }
      ]
    },
    {
      "cell_type": "markdown",
      "source": [
        "* Employees who have never switched their job before are the most likely to be looking for a job change."
      ],
      "metadata": {
        "id": "tlK8uDzdWx88"
      }
    },
    {
      "cell_type": "markdown",
      "source": [
        "### Targer vs Company_size"
      ],
      "metadata": {
        "id": "TzaRZCsuXUcl"
      }
    },
    {
      "cell_type": "code",
      "source": [
        "pd.crosstab(df.Company_size, df.Target, normalize='index').plot(kind='bar', stacked=True, figsize=(8,4))\n",
        "plt.ylabel('Percentage Attrition %')\n",
        "plt.show()"
      ],
      "metadata": {
        "colab": {
          "base_uri": "https://localhost:8080/",
          "height": 324
        },
        "id": "QIoE4fzEW2f9",
        "outputId": "7a5ae278-0a90-4bc3-f1e3-2618f216a358"
      },
      "execution_count": 55,
      "outputs": [
        {
          "output_type": "display_data",
          "data": {
            "image/png": "[encoded data removed]",
            "text/plain": [
              "<Figure size 576x288 with 1 Axes>"
            ]
          },
          "metadata": {}
        }
      ]
    },
    {
      "cell_type": "markdown",
      "source": [
        "- Company size doesn't affect Attrition rate\n"
      ],
      "metadata": {
        "id": "qNOk0Ch4XYI0"
      }
    },
    {
      "cell_type": "code",
      "source": [
        "### dropping columns that doesn't give predictive performance\n",
        "df.drop(['City', 'Company_size', 'Gender'], axis=1, inplace=True)"
      ],
      "metadata": {
        "id": "6RnXyHGfXgSl"
      },
      "execution_count": 59,
      "outputs": []
    },
    {
      "cell_type": "code",
      "source": [
        "df.head()"
      ],
      "metadata": {
        "colab": {
          "base_uri": "https://localhost:8080/",
          "height": 268
        },
        "id": "Ca4ry38OX9Vw",
        "outputId": "f1047473-cc7b-4295-cf91-3b47024b94f3"
      },
      "execution_count": 60,
      "outputs": [
        {
          "output_type": "execute_result",
          "data": {
            "text/html": [
              "\n",
              "  <div id=\"df-5b45ba56-7959-447b-81c8-afebfa65a80b\">\n",
              "    <div class=\"colab-df-container\">\n",
              "      <div>\n",
              "<style scoped>\n",
              "    .dataframe tbody tr th:only-of-type {\n",
              "        vertical-align: middle;\n",
              "    }\n",
              "\n",
              "    .dataframe tbody tr th {\n",
              "        vertical-align: top;\n",
              "    }\n",
              "\n",
              "    .dataframe thead th {\n",
              "        text-align: right;\n",
              "    }\n",
              "</style>\n",
              "<table border=\"1\" class=\"dataframe\">\n",
              "  <thead>\n",
              "    <tr style=\"text-align: right;\">\n",
              "      <th></th>\n",
              "      <th>City_development_index</th>\n",
              "      <th>Relevant_experience</th>\n",
              "      <th>Enrolled_university</th>\n",
              "      <th>Education_level</th>\n",
              "      <th>Major_discipline</th>\n",
              "      <th>Experience</th>\n",
              "      <th>Company_type</th>\n",
              "      <th>Last_new_job</th>\n",
              "      <th>Training_hours</th>\n",
              "      <th>Target</th>\n",
              "    </tr>\n",
              "  </thead>\n",
              "  <tbody>\n",
              "    <tr>\n",
              "      <th>0</th>\n",
              "      <td>0.920</td>\n",
              "      <td>Has relevent experience</td>\n",
              "      <td>no_enrollment</td>\n",
              "      <td>Graduate</td>\n",
              "      <td>STEM</td>\n",
              "      <td>&gt;20</td>\n",
              "      <td>NaN</td>\n",
              "      <td>1</td>\n",
              "      <td>36</td>\n",
              "      <td>1</td>\n",
              "    </tr>\n",
              "    <tr>\n",
              "      <th>1</th>\n",
              "      <td>0.776</td>\n",
              "      <td>No relevent experience</td>\n",
              "      <td>no_enrollment</td>\n",
              "      <td>Graduate</td>\n",
              "      <td>STEM</td>\n",
              "      <td>15</td>\n",
              "      <td>Pvt Ltd</td>\n",
              "      <td>&gt;4</td>\n",
              "      <td>47</td>\n",
              "      <td>0</td>\n",
              "    </tr>\n",
              "    <tr>\n",
              "      <th>2</th>\n",
              "      <td>0.624</td>\n",
              "      <td>No relevent experience</td>\n",
              "      <td>Full time course</td>\n",
              "      <td>Graduate</td>\n",
              "      <td>STEM</td>\n",
              "      <td>5</td>\n",
              "      <td>NaN</td>\n",
              "      <td>never</td>\n",
              "      <td>83</td>\n",
              "      <td>0</td>\n",
              "    </tr>\n",
              "    <tr>\n",
              "      <th>3</th>\n",
              "      <td>0.789</td>\n",
              "      <td>No relevent experience</td>\n",
              "      <td>NaN</td>\n",
              "      <td>Graduate</td>\n",
              "      <td>Business Degree</td>\n",
              "      <td>&lt;1</td>\n",
              "      <td>Pvt Ltd</td>\n",
              "      <td>never</td>\n",
              "      <td>52</td>\n",
              "      <td>1</td>\n",
              "    </tr>\n",
              "    <tr>\n",
              "      <th>4</th>\n",
              "      <td>0.767</td>\n",
              "      <td>Has relevent experience</td>\n",
              "      <td>no_enrollment</td>\n",
              "      <td>Masters</td>\n",
              "      <td>STEM</td>\n",
              "      <td>&gt;20</td>\n",
              "      <td>Funded Startup</td>\n",
              "      <td>4</td>\n",
              "      <td>8</td>\n",
              "      <td>0</td>\n",
              "    </tr>\n",
              "  </tbody>\n",
              "</table>\n",
              "</div>\n",
              "      <button class=\"colab-df-convert\" onclick=\"convertToInteractive('df-5b45ba56-7959-447b-81c8-afebfa65a80b')\"\n",
              "              title=\"Convert this dataframe to an interactive table.\"\n",
              "              style=\"display:none;\">\n",
              "        \n",
              "  <svg xmlns=\"http://www.w3.org/2000/svg\" height=\"24px\"viewBox=\"0 0 24 24\"\n",
              "       width=\"24px\">\n",
              "    <path d=\"M0 0h24v24H0V0z\" fill=\"none\"/>\n",
              "    <path d=\"M18.56 5.44l.94 2.06.94-2.06 2.06-.94-2.06-.94-.94-2.06-.94 2.06-2.06.94zm-11 1L8.5 8.5l.94-2.06 2.06-.94-2.06-.94L8.5 2.5l-.94 2.06-2.06.94zm10 10l.94 2.06.94-2.06 2.06-.94-2.06-.94-.94-2.06-.94 2.06-2.06.94z\"/><path d=\"M17.41 7.96l-1.37-1.37c-.4-.4-.92-.59-1.43-.59-.52 0-1.04.2-1.43.59L10.3 9.45l-7.72 7.72c-.78.78-.78 2.05 0 2.83L4 21.41c.39.39.9.59 1.41.59.51 0 1.02-.2 1.41-.59l7.78-7.78 2.81-2.81c.8-.78.8-2.07 0-2.86zM5.41 20L4 18.59l7.72-7.72 1.47 1.35L5.41 20z\"/>\n",
              "  </svg>\n",
              "      </button>\n",
              "      \n",
              "  <style>\n",
              "    .colab-df-container {\n",
              "      display:flex;\n",
              "      flex-wrap:wrap;\n",
              "      gap: 12px;\n",
              "    }\n",
              "\n",
              "    .colab-df-convert {\n",
              "      background-color: #E8F0FE;\n",
              "      border: none;\n",
              "      border-radius: 50%;\n",
              "      cursor: pointer;\n",
              "      display: none;\n",
              "      fill: #1967D2;\n",
              "      height: 32px;\n",
              "      padding: 0 0 0 0;\n",
              "      width: 32px;\n",
              "    }\n",
              "\n",
              "    .colab-df-convert:hover {\n",
              "      background-color: #E2EBFA;\n",
              "      box-shadow: 0px 1px 2px rgba(60, 64, 67, 0.3), 0px 1px 3px 1px rgba(60, 64, 67, 0.15);\n",
              "      fill: #174EA6;\n",
              "    }\n",
              "\n",
              "    [theme=dark] .colab-df-convert {\n",
              "      background-color: #3B4455;\n",
              "      fill: #D2E3FC;\n",
              "    }\n",
              "\n",
              "    [theme=dark] .colab-df-convert:hover {\n",
              "      background-color: #434B5C;\n",
              "      box-shadow: 0px 1px 3px 1px rgba(0, 0, 0, 0.15);\n",
              "      filter: drop-shadow(0px 1px 2px rgba(0, 0, 0, 0.3));\n",
              "      fill: #FFFFFF;\n",
              "    }\n",
              "  </style>\n",
              "\n",
              "      <script>\n",
              "        const buttonEl =\n",
              "          document.querySelector('#df-5b45ba56-7959-447b-81c8-afebfa65a80b button.colab-df-convert');\n",
              "        buttonEl.style.display =\n",
              "          google.colab.kernel.accessAllowed ? 'block' : 'none';\n",
              "\n",
              "        async function convertToInteractive(key) {\n",
              "          const element = document.querySelector('#df-5b45ba56-7959-447b-81c8-afebfa65a80b');\n",
              "          const dataTable =\n",
              "            await google.colab.kernel.invokeFunction('convertToInteractive',\n",
              "                                                     [key], {});\n",
              "          if (!dataTable) return;\n",
              "\n",
              "          const docLinkHtml = 'Like what you see? Visit the ' +\n",
              "            '<a target=\"_blank\" href=https://colab.research.google.com/notebooks/data_table.ipynb>data table notebook</a>'\n",
              "            + ' to learn more about interactive tables.';\n",
              "          element.innerHTML = '';\n",
              "          dataTable['output_type'] = 'display_data';\n",
              "          await google.colab.output.renderOutput(dataTable, element);\n",
              "          const docLink = document.createElement('div');\n",
              "          docLink.innerHTML = docLinkHtml;\n",
              "          element.appendChild(docLink);\n",
              "        }\n",
              "      </script>\n",
              "    </div>\n",
              "  </div>\n",
              "  "
            ],
            "text/plain": [
              "   City_development_index      Relevant_experience  ... Training_hours Target\n",
              "0                   0.920  Has relevent experience  ...             36      1\n",
              "1                   0.776   No relevent experience  ...             47      0\n",
              "2                   0.624   No relevent experience  ...             83      0\n",
              "3                   0.789   No relevent experience  ...             52      1\n",
              "4                   0.767  Has relevent experience  ...              8      0\n",
              "\n",
              "[5 rows x 10 columns]"
            ]
          },
          "metadata": {},
          "execution_count": 60
        }
      ]
    },
    {
      "cell_type": "code",
      "source": [
        "# separating categorical varaibles for imputation\n",
        "cat_col_df = df.drop(['City_development_index', 'Training_hours', 'Target'], axis=1)"
      ],
      "metadata": {
        "id": "-ysgZ2QlYDTb"
      },
      "execution_count": 62,
      "outputs": []
    },
    {
      "cell_type": "markdown",
      "source": [
        "### Missing value imputation\n",
        "* We will impute the missing values in columns using their mode."
      ],
      "metadata": {
        "id": "ziTpDAEoYct2"
      }
    },
    {
      "cell_type": "code",
      "source": [
        "# Separating dependent and independent variables\n",
        "X = df.drop(['Target'], axis=1)\n",
        "Y = df['Target']"
      ],
      "metadata": {
        "id": "U45p3JLNYe46"
      },
      "execution_count": 63,
      "outputs": []
    },
    {
      "cell_type": "code",
      "source": [
        "# Spliting the dataset into train and test\n",
        "X_train, X_test, y_train, y_test = train_test_split(X, Y, test_size=0.2, random_state=42, stratify=Y)"
      ],
      "metadata": {
        "id": "v_n2xRJwY3ce"
      },
      "execution_count": 65,
      "outputs": []
    },
    {
      "cell_type": "code",
      "source": [
        "# checking null values in training set\n",
        "X_train.isnull().sum()"
      ],
      "metadata": {
        "colab": {
          "base_uri": "https://localhost:8080/"
        },
        "id": "imFhTniQZLX-",
        "outputId": "f4287ed8-157e-450e-c7b4-29e8ea9db389"
      },
      "execution_count": 66,
      "outputs": [
        {
          "output_type": "execute_result",
          "data": {
            "text/plain": [
              "City_development_index       0\n",
              "Relevant_experience          0\n",
              "Enrolled_university        317\n",
              "Education_level            362\n",
              "Major_discipline          2258\n",
              "Experience                  50\n",
              "Company_type              4881\n",
              "Last_new_job               343\n",
              "Training_hours               0\n",
              "dtype: int64"
            ]
          },
          "metadata": {},
          "execution_count": 66
        }
      ]
    },
    {
      "cell_type": "code",
      "source": [
        "# imputing null values in training and testing sets\n",
        "imputer_mode = SimpleImputer(strategy='most_frequent')\n",
        "X_train[[\"Enrolled_university\",\"Education_level\",\"Major_discipline\",\"Experience\",\"Company_type\",\"Last_new_job\"]] = imputer_mode.fit_transform(X_train[[\"Enrolled_university\",\"Education_level\",\"Major_discipline\",\"Experience\",\"Company_type\",\"Last_new_job\"]])\n",
        "X_test[[\"Enrolled_university\",\"Education_level\",\"Major_discipline\",\"Experience\",\"Company_type\",\"Last_new_job\"]] = imputer_mode.transform(X_test[[\"Enrolled_university\",\"Education_level\",\"Major_discipline\",\"Experience\",\"Company_type\",\"Last_new_job\"]])"
      ],
      "metadata": {
        "id": "hFEO2CXMZby2"
      },
      "execution_count": 68,
      "outputs": []
    },
    {
      "cell_type": "code",
      "source": [
        "print(X_train.isna().sum())\n",
        "print('-'*50)\n",
        "print(X_test.isna().sum())"
      ],
      "metadata": {
        "colab": {
          "base_uri": "https://localhost:8080/"
        },
        "id": "aej3Kf11aY65",
        "outputId": "2ede8517-80ee-40e0-beff-c068a864da74"
      },
      "execution_count": 69,
      "outputs": [
        {
          "output_type": "stream",
          "name": "stdout",
          "text": [
            "City_development_index    0\n",
            "Relevant_experience       0\n",
            "Enrolled_university       0\n",
            "Education_level           0\n",
            "Major_discipline          0\n",
            "Experience                0\n",
            "Company_type              0\n",
            "Last_new_job              0\n",
            "Training_hours            0\n",
            "dtype: int64\n",
            "--------------------------------------------------\n",
            "City_development_index    0\n",
            "Relevant_experience       0\n",
            "Enrolled_university       0\n",
            "Education_level           0\n",
            "Major_discipline          0\n",
            "Experience                0\n",
            "Company_type              0\n",
            "Last_new_job              0\n",
            "Training_hours            0\n",
            "dtype: int64\n"
          ]
        }
      ]
    },
    {
      "cell_type": "markdown",
      "source": [
        "### Encoding Categorical Columns\n",
        "* We will be using the Label Encoding technique to encode the values of the categorical columns in this dataset."
      ],
      "metadata": {
        "id": "BGw_-YPjdesN"
      }
    },
    {
      "cell_type": "code",
      "source": [
        "# create function to fit and transform the label encoder\n",
        "def label_encode_columns(df, columns):\n",
        "  encoders = {}\n",
        "  for col in columns:\n",
        "    le = LabelEncoder().fit(df[col])\n",
        "    df[col] = le.transform(df[col])\n",
        "    encoders[col] = le\n",
        "  return df, encoders\n",
        "\n",
        "# create thte function to take in the fitted encoders and transform the scoring dataset\n",
        "def label_encode_columns_w_fit_encoders(df, columns, encoders):\n",
        "  for col in columns:\n",
        "    le = encoders.get(col)\n",
        "    df[col] = le.transform(df[col])\n",
        "  return df\n",
        "\n",
        "# define the columns we want to encode\n",
        "encode_columns = ['Relevant_experience','Enrolled_university','Education_level','Major_discipline','Experience','Company_type','Last_new_job']\n",
        "\n",
        "# Fit and transform the training dataset, returning both the new training dataset and the fitted encoders to use on the scoring dataset\n",
        "X_train, encoders = label_encode_columns(df=X_train, columns=encode_columns)\n",
        "\n",
        "# Transform the scoring dataset using the encoders we fit previously\n",
        "X_test = label_encode_columns_w_fit_encoders(df=X_test, columns=encode_columns, encoders=encoders)\n"
      ],
      "metadata": {
        "id": "QrJ5polPdhuq"
      },
      "execution_count": 71,
      "outputs": []
    },
    {
      "cell_type": "code",
      "source": [
        "X_train.head()"
      ],
      "metadata": {
        "colab": {
          "base_uri": "https://localhost:8080/",
          "height": 268
        },
        "id": "oalyNqXOfqdC",
        "outputId": "767fc00c-ae92-41b8-fe47-84d71ea64c9c"
      },
      "execution_count": 72,
      "outputs": [
        {
          "output_type": "execute_result",
          "data": {
            "text/html": [
              "\n",
              "  <div id=\"df-17b9d489-6c60-476f-85ad-e305c48f3b8d\">\n",
              "    <div class=\"colab-df-container\">\n",
              "      <div>\n",
              "<style scoped>\n",
              "    .dataframe tbody tr th:only-of-type {\n",
              "        vertical-align: middle;\n",
              "    }\n",
              "\n",
              "    .dataframe tbody tr th {\n",
              "        vertical-align: top;\n",
              "    }\n",
              "\n",
              "    .dataframe thead th {\n",
              "        text-align: right;\n",
              "    }\n",
              "</style>\n",
              "<table border=\"1\" class=\"dataframe\">\n",
              "  <thead>\n",
              "    <tr style=\"text-align: right;\">\n",
              "      <th></th>\n",
              "      <th>City_development_index</th>\n",
              "      <th>Relevant_experience</th>\n",
              "      <th>Enrolled_university</th>\n",
              "      <th>Education_level</th>\n",
              "      <th>Major_discipline</th>\n",
              "      <th>Experience</th>\n",
              "      <th>Company_type</th>\n",
              "      <th>Last_new_job</th>\n",
              "      <th>Training_hours</th>\n",
              "    </tr>\n",
              "  </thead>\n",
              "  <tbody>\n",
              "    <tr>\n",
              "      <th>17855</th>\n",
              "      <td>0.624</td>\n",
              "      <td>0</td>\n",
              "      <td>2</td>\n",
              "      <td>0</td>\n",
              "      <td>5</td>\n",
              "      <td>1</td>\n",
              "      <td>5</td>\n",
              "      <td>0</td>\n",
              "      <td>90</td>\n",
              "    </tr>\n",
              "    <tr>\n",
              "      <th>17664</th>\n",
              "      <td>0.920</td>\n",
              "      <td>1</td>\n",
              "      <td>2</td>\n",
              "      <td>4</td>\n",
              "      <td>5</td>\n",
              "      <td>15</td>\n",
              "      <td>5</td>\n",
              "      <td>5</td>\n",
              "      <td>15</td>\n",
              "    </tr>\n",
              "    <tr>\n",
              "      <th>13404</th>\n",
              "      <td>0.896</td>\n",
              "      <td>0</td>\n",
              "      <td>2</td>\n",
              "      <td>0</td>\n",
              "      <td>5</td>\n",
              "      <td>3</td>\n",
              "      <td>2</td>\n",
              "      <td>4</td>\n",
              "      <td>36</td>\n",
              "    </tr>\n",
              "    <tr>\n",
              "      <th>13366</th>\n",
              "      <td>0.920</td>\n",
              "      <td>0</td>\n",
              "      <td>2</td>\n",
              "      <td>0</td>\n",
              "      <td>5</td>\n",
              "      <td>15</td>\n",
              "      <td>1</td>\n",
              "      <td>0</td>\n",
              "      <td>53</td>\n",
              "    </tr>\n",
              "    <tr>\n",
              "      <th>15670</th>\n",
              "      <td>0.855</td>\n",
              "      <td>0</td>\n",
              "      <td>0</td>\n",
              "      <td>0</td>\n",
              "      <td>5</td>\n",
              "      <td>15</td>\n",
              "      <td>5</td>\n",
              "      <td>0</td>\n",
              "      <td>158</td>\n",
              "    </tr>\n",
              "  </tbody>\n",
              "</table>\n",
              "</div>\n",
              "      <button class=\"colab-df-convert\" onclick=\"convertToInteractive('df-17b9d489-6c60-476f-85ad-e305c48f3b8d')\"\n",
              "              title=\"Convert this dataframe to an interactive table.\"\n",
              "              style=\"display:none;\">\n",
              "        \n",
              "  <svg xmlns=\"http://www.w3.org/2000/svg\" height=\"24px\"viewBox=\"0 0 24 24\"\n",
              "       width=\"24px\">\n",
              "    <path d=\"M0 0h24v24H0V0z\" fill=\"none\"/>\n",
              "    <path d=\"M18.56 5.44l.94 2.06.94-2.06 2.06-.94-2.06-.94-.94-2.06-.94 2.06-2.06.94zm-11 1L8.5 8.5l.94-2.06 2.06-.94-2.06-.94L8.5 2.5l-.94 2.06-2.06.94zm10 10l.94 2.06.94-2.06 2.06-.94-2.06-.94-.94-2.06-.94 2.06-2.06.94z\"/><path d=\"M17.41 7.96l-1.37-1.37c-.4-.4-.92-.59-1.43-.59-.52 0-1.04.2-1.43.59L10.3 9.45l-7.72 7.72c-.78.78-.78 2.05 0 2.83L4 21.41c.39.39.9.59 1.41.59.51 0 1.02-.2 1.41-.59l7.78-7.78 2.81-2.81c.8-.78.8-2.07 0-2.86zM5.41 20L4 18.59l7.72-7.72 1.47 1.35L5.41 20z\"/>\n",
              "  </svg>\n",
              "      </button>\n",
              "      \n",
              "  <style>\n",
              "    .colab-df-container {\n",
              "      display:flex;\n",
              "      flex-wrap:wrap;\n",
              "      gap: 12px;\n",
              "    }\n",
              "\n",
              "    .colab-df-convert {\n",
              "      background-color: #E8F0FE;\n",
              "      border: none;\n",
              "      border-radius: 50%;\n",
              "      cursor: pointer;\n",
              "      display: none;\n",
              "      fill: #1967D2;\n",
              "      height: 32px;\n",
              "      padding: 0 0 0 0;\n",
              "      width: 32px;\n",
              "    }\n",
              "\n",
              "    .colab-df-convert:hover {\n",
              "      background-color: #E2EBFA;\n",
              "      box-shadow: 0px 1px 2px rgba(60, 64, 67, 0.3), 0px 1px 3px 1px rgba(60, 64, 67, 0.15);\n",
              "      fill: #174EA6;\n",
              "    }\n",
              "\n",
              "    [theme=dark] .colab-df-convert {\n",
              "      background-color: #3B4455;\n",
              "      fill: #D2E3FC;\n",
              "    }\n",
              "\n",
              "    [theme=dark] .colab-df-convert:hover {\n",
              "      background-color: #434B5C;\n",
              "      box-shadow: 0px 1px 3px 1px rgba(0, 0, 0, 0.15);\n",
              "      filter: drop-shadow(0px 1px 2px rgba(0, 0, 0, 0.3));\n",
              "      fill: #FFFFFF;\n",
              "    }\n",
              "  </style>\n",
              "\n",
              "      <script>\n",
              "        const buttonEl =\n",
              "          document.querySelector('#df-17b9d489-6c60-476f-85ad-e305c48f3b8d button.colab-df-convert');\n",
              "        buttonEl.style.display =\n",
              "          google.colab.kernel.accessAllowed ? 'block' : 'none';\n",
              "\n",
              "        async function convertToInteractive(key) {\n",
              "          const element = document.querySelector('#df-17b9d489-6c60-476f-85ad-e305c48f3b8d');\n",
              "          const dataTable =\n",
              "            await google.colab.kernel.invokeFunction('convertToInteractive',\n",
              "                                                     [key], {});\n",
              "          if (!dataTable) return;\n",
              "\n",
              "          const docLinkHtml = 'Like what you see? Visit the ' +\n",
              "            '<a target=\"_blank\" href=https://colab.research.google.com/notebooks/data_table.ipynb>data table notebook</a>'\n",
              "            + ' to learn more about interactive tables.';\n",
              "          element.innerHTML = '';\n",
              "          dataTable['output_type'] = 'display_data';\n",
              "          await google.colab.output.renderOutput(dataTable, element);\n",
              "          const docLink = document.createElement('div');\n",
              "          docLink.innerHTML = docLinkHtml;\n",
              "          element.appendChild(docLink);\n",
              "        }\n",
              "      </script>\n",
              "    </div>\n",
              "  </div>\n",
              "  "
            ],
            "text/plain": [
              "       City_development_index  ...  Training_hours\n",
              "17855                   0.624  ...              90\n",
              "17664                   0.920  ...              15\n",
              "13404                   0.896  ...              36\n",
              "13366                   0.920  ...              53\n",
              "15670                   0.855  ...             158\n",
              "\n",
              "[5 rows x 9 columns]"
            ]
          },
          "metadata": {},
          "execution_count": 72
        }
      ]
    },
    {
      "cell_type": "code",
      "source": [
        "# checking the shape of train and test sets\n",
        "print(X_train.shape)\n",
        "print(X_test.shape)"
      ],
      "metadata": {
        "colab": {
          "base_uri": "https://localhost:8080/"
        },
        "id": "V6ykQcr2f077",
        "outputId": "54187597-4677-494a-94f6-28eca9a2de0d"
      },
      "execution_count": 73,
      "outputs": [
        {
          "output_type": "stream",
          "name": "stdout",
          "text": [
            "(15326, 9)\n",
            "(3832, 9)\n"
          ]
        }
      ]
    },
    {
      "cell_type": "markdown",
      "source": [
        "## **Model Building**\n",
        "#### **A model can make wrong predictions in the following ways:**\n",
        "* Predicting an employee is looking for a job, when he/she is not looking for it. \n",
        "* Predicting an employee is not looking for a job, when he/she is in fact looking for one.\n",
        "\n",
        "#### **Which case is more important?**\n",
        "\n",
        "Both cases are actually important for the purposes of this case study. Not giving a chance to a deserving employee (by wrongly classifying them as likely to attrite) might lead to decreased productivity, and the company might lose a good employee affecting the organization's growth. However, giving chances to a non-deserving employee (as they are likely to attrite) would lead to a financial loss for the company, and giving such employees an increased amount of responsibility might again affect the company's growth.\n",
        "\n",
        "#### **How to reduce this loss i.e need to reduce False Negatives as well as False Positives?**\n",
        "\n",
        "Since both errors are important for us to minimize, the company would want the F1 Score evaluation metric to be maximized/ Hence, the focus should be on increasing the F1 score rather than focusing on just one metric i.e. Recall or Precision.\n",
        "\n",
        "**Also, let's create a function to calculate and visualize the confusion matrix so that we don't have to rewrite the same code repeatedly for each model.**"
      ],
      "metadata": {
        "id": "dp88eccSf9BN"
      }
    },
    {
      "cell_type": "code",
      "source": [
        "# function to make confusion matrix\n",
        "def make_confusion_matrix(cf, \n",
        "                          group_names=None, \n",
        "                          categories='auto',\n",
        "                          count=True,\n",
        "                          percent=True,\n",
        "                          cbar=True,\n",
        "                          xyticks=True,\n",
        "                          xyplotlabels=True,\n",
        "                          sum_stats=True,\n",
        "                          figsize=None,\n",
        "                          cmap='Blues',\n",
        "                          title=None):\n",
        "  \"\"\"\n",
        "  This function will make a pretty plot of an sklearn confusion matrix\n",
        "  \"\"\"\n",
        "\n",
        "  # code to generate text inside each square\n",
        "  blanks = ['' for i in range(cf.size)]\n",
        "\n",
        "  if group_names and len(group_names) == cf.size:\n",
        "    group_labels = ['{}\\n'.format(value) for value in group_names]\n",
        "  else:\n",
        "    group_labels = blanks\n",
        "\n",
        "  if count:\n",
        "    group_counts = ['{0:0.0f}\\n'.format(value) for value in cf.flatten()]\n",
        "  else:\n",
        "    group_counts = blanks\n",
        "\n",
        "  if percent:\n",
        "    group_percentages = ['{0:.2%}'.format(value) for value in cf.flatten()/np.sum(cf)]\n",
        "  else:\n",
        "    group_percentages = blanks\n",
        "\n",
        "  box_labels = [f'{v1}{v2}{v3}'.strip() for v1, v2, v3 in zip(group_labels,group_counts,group_percentages)]\n",
        "  box_labels = np.asarray(box_labels).reshape(cf.shape[0], cf.shape[1])\n",
        "\n",
        "  # code to generate summary statistics & text for summary statistics\n",
        "  if sum_stats:\n",
        "    accuracy = np.trace(cf) / float(np.sum(cf))\n",
        "\n",
        "  # set figure parameters according to other arguments\n",
        "  if figsize == None:\n",
        "    figsize = plt.rcParams.get('figure.figsize')\n",
        "\n",
        "  if xyticks == False:\n",
        "    categories = False\n",
        "\n",
        "  # make heatmap visualization\n",
        "  plt.figure(figsize=figsize)\n",
        "  sns.heatmap(cf, annot=box_labels,fmt='',cmap=cmap,cbar=cbar,xticklabels=categories,yticklabels=categories)\n",
        "\n",
        "  if title:\n",
        "    plt.title(title)\n"
      ],
      "metadata": {
        "id": "pjH0hvr2gEsD"
      },
      "execution_count": 86,
      "outputs": []
    },
    {
      "cell_type": "markdown",
      "source": [
        "## Building Neural Network\n",
        "\n",
        "### Model 1"
      ],
      "metadata": {
        "id": "s6AwaL88ka3r"
      }
    },
    {
      "cell_type": "code",
      "source": [
        "backend.clear_session()\n",
        "np.random.seed(42)\n",
        "random.seed(42)\n",
        "tf.random.set_seed(42)"
      ],
      "metadata": {
        "id": "h-HUT2Uvk4hK"
      },
      "execution_count": 76,
      "outputs": []
    },
    {
      "cell_type": "code",
      "source": [
        "# initializing the ANN\n",
        "model = Sequential()\n",
        "\n",
        "# The amount of nodes in hidden layer should be the average of input and output and output layers, in this case 64\n",
        "# This adds the input layer (input dimension) and the first hidden layer (units)\n",
        "model.add(Dense(activation='relu', input_dim=9, units=64))\n",
        "\n",
        "# Adding hidden layer\n",
        "model.add(Dense(32, activation='relu'))\n",
        "\n",
        "# Adding the output layer\n",
        "# output of 1 node (sigmoid because of probability)\n",
        "model.add(Dense(1, activation='sigmoid'))"
      ],
      "metadata": {
        "id": "0pwiNREmlDLP"
      },
      "execution_count": 78,
      "outputs": []
    },
    {
      "cell_type": "code",
      "source": [
        "# Create optimizer with default learning rate\n",
        "# compile the model\n",
        "model.compile(optimizer='SGD', loss='binary_crossentropy', metrics=['accuracy'])\n",
        "model.summary()"
      ],
      "metadata": {
        "colab": {
          "base_uri": "https://localhost:8080/"
        },
        "id": "MR5wdDQvl8D6",
        "outputId": "144f8864-7088-484e-ed91-c65f9621c554"
      },
      "execution_count": 79,
      "outputs": [
        {
          "output_type": "stream",
          "name": "stdout",
          "text": [
            "Model: \"sequential_1\"\n",
            "_________________________________________________________________\n",
            " Layer (type)                Output Shape              Param #   \n",
            "=================================================================\n",
            " dense (Dense)               (None, 64)                640       \n",
            "                                                                 \n",
            " dense_1 (Dense)             (None, 32)                2080      \n",
            "                                                                 \n",
            " dense_2 (Dense)             (None, 1)                 33        \n",
            "                                                                 \n",
            "=================================================================\n",
            "Total params: 2,753\n",
            "Trainable params: 2,753\n",
            "Non-trainable params: 0\n",
            "_________________________________________________________________\n"
          ]
        }
      ]
    },
    {
      "cell_type": "code",
      "source": [
        "history = model.fit(X_train, y_train, validation_split=0.2, epochs=50, batch_size=32, verbose=1)"
      ],
      "metadata": {
        "colab": {
          "base_uri": "https://localhost:8080/"
        },
        "id": "StpOnbl0mPDh",
        "outputId": "1aba5fa4-9b61-46fe-d2b5-8feaf72ad411"
      },
      "execution_count": 82,
      "outputs": [
        {
          "output_type": "stream",
          "name": "stdout",
          "text": [
            "Epoch 1/50\n",
            "384/384 [==============================] - 1s 2ms/step - loss: 0.5506 - accuracy: 0.7505 - val_loss: 0.6341 - val_accuracy: 0.7515\n",
            "Epoch 2/50\n",
            "384/384 [==============================] - 1s 2ms/step - loss: 0.5503 - accuracy: 0.7504 - val_loss: 0.5461 - val_accuracy: 0.7515\n",
            "Epoch 3/50\n",
            "384/384 [==============================] - 1s 2ms/step - loss: 0.5478 - accuracy: 0.7507 - val_loss: 0.5429 - val_accuracy: 0.7518\n",
            "Epoch 4/50\n",
            "384/384 [==============================] - 1s 2ms/step - loss: 0.5499 - accuracy: 0.7502 - val_loss: 0.5456 - val_accuracy: 0.7515\n",
            "Epoch 5/50\n",
            "384/384 [==============================] - 1s 2ms/step - loss: 0.5493 - accuracy: 0.7507 - val_loss: 0.5836 - val_accuracy: 0.7479\n",
            "Epoch 6/50\n",
            "384/384 [==============================] - 1s 2ms/step - loss: 0.5493 - accuracy: 0.7502 - val_loss: 0.5873 - val_accuracy: 0.7515\n",
            "Epoch 7/50\n",
            "384/384 [==============================] - 1s 2ms/step - loss: 0.5483 - accuracy: 0.7507 - val_loss: 0.5630 - val_accuracy: 0.7518\n",
            "Epoch 8/50\n",
            "384/384 [==============================] - 1s 2ms/step - loss: 0.5482 - accuracy: 0.7507 - val_loss: 0.5512 - val_accuracy: 0.7518\n",
            "Epoch 9/50\n",
            "384/384 [==============================] - 1s 2ms/step - loss: 0.5479 - accuracy: 0.7503 - val_loss: 0.5531 - val_accuracy: 0.7518\n",
            "Epoch 10/50\n",
            "384/384 [==============================] - 1s 2ms/step - loss: 0.5487 - accuracy: 0.7505 - val_loss: 0.5421 - val_accuracy: 0.7515\n",
            "Epoch 11/50\n",
            "384/384 [==============================] - 1s 2ms/step - loss: 0.5475 - accuracy: 0.7507 - val_loss: 0.5604 - val_accuracy: 0.7524\n",
            "Epoch 12/50\n",
            "384/384 [==============================] - 1s 2ms/step - loss: 0.5472 - accuracy: 0.7505 - val_loss: 0.5659 - val_accuracy: 0.7518\n",
            "Epoch 13/50\n",
            "384/384 [==============================] - 1s 2ms/step - loss: 0.5471 - accuracy: 0.7510 - val_loss: 0.5779 - val_accuracy: 0.7518\n",
            "Epoch 14/50\n",
            "384/384 [==============================] - 1s 2ms/step - loss: 0.5483 - accuracy: 0.7505 - val_loss: 0.5424 - val_accuracy: 0.7502\n",
            "Epoch 15/50\n",
            "384/384 [==============================] - 1s 2ms/step - loss: 0.5463 - accuracy: 0.7507 - val_loss: 0.5464 - val_accuracy: 0.7515\n",
            "Epoch 16/50\n",
            "384/384 [==============================] - 1s 2ms/step - loss: 0.5467 - accuracy: 0.7509 - val_loss: 0.5552 - val_accuracy: 0.7521\n",
            "Epoch 17/50\n",
            "384/384 [==============================] - 1s 2ms/step - loss: 0.5464 - accuracy: 0.7508 - val_loss: 0.5465 - val_accuracy: 0.7515\n",
            "Epoch 18/50\n",
            "384/384 [==============================] - 1s 2ms/step - loss: 0.5454 - accuracy: 0.7506 - val_loss: 0.5405 - val_accuracy: 0.7518\n",
            "Epoch 19/50\n",
            "384/384 [==============================] - 1s 2ms/step - loss: 0.5456 - accuracy: 0.7506 - val_loss: 0.5613 - val_accuracy: 0.7528\n",
            "Epoch 20/50\n",
            "384/384 [==============================] - 1s 2ms/step - loss: 0.5459 - accuracy: 0.7512 - val_loss: 0.5399 - val_accuracy: 0.7518\n",
            "Epoch 21/50\n",
            "384/384 [==============================] - 1s 2ms/step - loss: 0.5457 - accuracy: 0.7506 - val_loss: 0.5448 - val_accuracy: 0.7521\n",
            "Epoch 22/50\n",
            "384/384 [==============================] - 1s 2ms/step - loss: 0.5459 - accuracy: 0.7513 - val_loss: 0.5402 - val_accuracy: 0.7538\n",
            "Epoch 23/50\n",
            "384/384 [==============================] - 1s 2ms/step - loss: 0.5447 - accuracy: 0.7510 - val_loss: 0.5857 - val_accuracy: 0.7515\n",
            "Epoch 24/50\n",
            "384/384 [==============================] - 1s 2ms/step - loss: 0.5445 - accuracy: 0.7511 - val_loss: 0.5528 - val_accuracy: 0.7521\n",
            "Epoch 25/50\n",
            "384/384 [==============================] - 1s 2ms/step - loss: 0.5463 - accuracy: 0.7509 - val_loss: 0.5404 - val_accuracy: 0.7541\n",
            "Epoch 26/50\n",
            "384/384 [==============================] - 1s 2ms/step - loss: 0.5457 - accuracy: 0.7504 - val_loss: 0.5764 - val_accuracy: 0.7518\n",
            "Epoch 27/50\n",
            "384/384 [==============================] - 1s 2ms/step - loss: 0.5448 - accuracy: 0.7510 - val_loss: 0.5405 - val_accuracy: 0.7528\n",
            "Epoch 28/50\n",
            "384/384 [==============================] - 1s 2ms/step - loss: 0.5446 - accuracy: 0.7505 - val_loss: 0.5411 - val_accuracy: 0.7518\n",
            "Epoch 29/50\n",
            "384/384 [==============================] - 1s 2ms/step - loss: 0.5457 - accuracy: 0.7506 - val_loss: 0.5499 - val_accuracy: 0.7560\n",
            "Epoch 30/50\n",
            "384/384 [==============================] - 1s 2ms/step - loss: 0.5451 - accuracy: 0.7520 - val_loss: 0.5398 - val_accuracy: 0.7531\n",
            "Epoch 31/50\n",
            "384/384 [==============================] - 1s 2ms/step - loss: 0.5444 - accuracy: 0.7515 - val_loss: 0.5400 - val_accuracy: 0.7547\n",
            "Epoch 32/50\n",
            "384/384 [==============================] - 1s 2ms/step - loss: 0.5438 - accuracy: 0.7511 - val_loss: 0.5437 - val_accuracy: 0.7534\n",
            "Epoch 33/50\n",
            "384/384 [==============================] - 1s 2ms/step - loss: 0.5442 - accuracy: 0.7508 - val_loss: 0.5968 - val_accuracy: 0.7329\n",
            "Epoch 34/50\n",
            "384/384 [==============================] - 1s 2ms/step - loss: 0.5450 - accuracy: 0.7505 - val_loss: 0.5537 - val_accuracy: 0.7531\n",
            "Epoch 35/50\n",
            "384/384 [==============================] - 1s 2ms/step - loss: 0.5436 - accuracy: 0.7511 - val_loss: 0.5479 - val_accuracy: 0.7521\n",
            "Epoch 36/50\n",
            "384/384 [==============================] - 1s 2ms/step - loss: 0.5434 - accuracy: 0.7513 - val_loss: 0.5447 - val_accuracy: 0.7521\n",
            "Epoch 37/50\n",
            "384/384 [==============================] - 1s 2ms/step - loss: 0.5426 - accuracy: 0.7517 - val_loss: 0.5676 - val_accuracy: 0.7534\n",
            "Epoch 38/50\n",
            "384/384 [==============================] - 1s 2ms/step - loss: 0.5444 - accuracy: 0.7526 - val_loss: 0.5380 - val_accuracy: 0.7528\n",
            "Epoch 39/50\n",
            "384/384 [==============================] - 1s 2ms/step - loss: 0.5426 - accuracy: 0.7511 - val_loss: 0.5515 - val_accuracy: 0.7518\n",
            "Epoch 40/50\n",
            "384/384 [==============================] - 1s 2ms/step - loss: 0.5432 - accuracy: 0.7520 - val_loss: 0.5384 - val_accuracy: 0.7547\n",
            "Epoch 41/50\n",
            "384/384 [==============================] - 1s 2ms/step - loss: 0.5438 - accuracy: 0.7509 - val_loss: 0.5515 - val_accuracy: 0.7524\n",
            "Epoch 42/50\n",
            "384/384 [==============================] - 1s 2ms/step - loss: 0.5423 - accuracy: 0.7515 - val_loss: 0.5860 - val_accuracy: 0.7524\n",
            "Epoch 43/50\n",
            "384/384 [==============================] - 1s 4ms/step - loss: 0.5430 - accuracy: 0.7519 - val_loss: 0.6020 - val_accuracy: 0.7521\n",
            "Epoch 44/50\n",
            "384/384 [==============================] - 1s 2ms/step - loss: 0.5423 - accuracy: 0.7523 - val_loss: 0.5398 - val_accuracy: 0.7521\n",
            "Epoch 45/50\n",
            "384/384 [==============================] - 1s 2ms/step - loss: 0.5431 - accuracy: 0.7516 - val_loss: 0.5377 - val_accuracy: 0.7528\n",
            "Epoch 46/50\n",
            "384/384 [==============================] - 1s 2ms/step - loss: 0.5430 - accuracy: 0.7509 - val_loss: 0.5475 - val_accuracy: 0.7538\n",
            "Epoch 47/50\n",
            "384/384 [==============================] - 1s 2ms/step - loss: 0.5427 - accuracy: 0.7511 - val_loss: 0.5364 - val_accuracy: 0.7531\n",
            "Epoch 48/50\n",
            "384/384 [==============================] - 1s 2ms/step - loss: 0.5414 - accuracy: 0.7514 - val_loss: 0.5418 - val_accuracy: 0.7544\n",
            "Epoch 49/50\n",
            "384/384 [==============================] - 1s 2ms/step - loss: 0.5419 - accuracy: 0.7520 - val_loss: 0.5362 - val_accuracy: 0.7534\n",
            "Epoch 50/50\n",
            "384/384 [==============================] - 1s 2ms/step - loss: 0.5416 - accuracy: 0.7511 - val_loss: 0.5390 - val_accuracy: 0.7531\n"
          ]
        }
      ]
    },
    {
      "cell_type": "code",
      "source": [
        "# capturing learning per epoch\n",
        "hist = pd.DataFrame(history.history)\n",
        "hist['epoch'] = history.epoch\n",
        "\n",
        "# plotting accuracy at different epochs\n",
        "plt.plot(hist['loss'])\n",
        "plt.plot(hist['val_loss'])\n",
        "plt.legend(('train', 'valid'), loc=0)\n",
        "\n",
        "# printing results\n",
        "results = model.evaluate(X_test, y_test)"
      ],
      "metadata": {
        "colab": {
          "base_uri": "https://localhost:8080/",
          "height": 282
        },
        "id": "qt_63UaUmafw",
        "outputId": "af1de7d8-62db-461c-9f3e-97d630b9dbe3"
      },
      "execution_count": 83,
      "outputs": [
        {
          "output_type": "stream",
          "name": "stdout",
          "text": [
            "120/120 [==============================] - 0s 1ms/step - loss: 0.5389 - accuracy: 0.7508\n"
          ]
        },
        {
          "output_type": "display_data",
          "data": {
            "image/png": "[encoded data removed]",
            "text/plain": [
              "<Figure size 432x288 with 1 Axes>"
            ]
          },
          "metadata": {}
        }
      ]
    },
    {
      "cell_type": "markdown",
      "source": [
        "There is noise in the loss behavior here. Sometimes, the loss function fluctuates a lot during training, which makes the convergence slow. These fluctuations are due to the nature of Stochastic Gradient Descent that produces noisy updates in the parameters. \n",
        "\n",
        "### Let's check the other metrics."
      ],
      "metadata": {
        "id": "hWx3wpXmnxiD"
      }
    },
    {
      "cell_type": "code",
      "source": [
        "y_pred = model.predict(X_test)\n",
        "y_pred = (y_pred > 0.5)\n",
        "y_pred"
      ],
      "metadata": {
        "colab": {
          "base_uri": "https://localhost:8080/"
        },
        "id": "MVhAktLcoA3_",
        "outputId": "3fca8e72-470d-494c-f2a6-1bef93b55845"
      },
      "execution_count": 84,
      "outputs": [
        {
          "output_type": "execute_result",
          "data": {
            "text/plain": [
              "array([[False],\n",
              "       [False],\n",
              "       [False],\n",
              "       ...,\n",
              "       [False],\n",
              "       [False],\n",
              "       [False]])"
            ]
          },
          "metadata": {},
          "execution_count": 84
        }
      ]
    },
    {
      "cell_type": "code",
      "source": [
        "# calculating the confusion matrix\n",
        "from sklearn.metrics import confusion_matrix\n",
        "cm = confusion_matrix(y_test, y_pred)\n",
        "labels = ['True positive', 'False negative', 'False positive', 'True Negative']\n",
        "categories = ['Not Changing Job', 'Changing Job']\n",
        "make_confusion_matrix(cm, group_names=labels, categories=categories, cmap='Blues')"
      ],
      "metadata": {
        "colab": {
          "base_uri": "https://localhost:8080/",
          "height": 265
        },
        "id": "tkn6t5l-oJv4",
        "outputId": "72576176-e0df-4a0a-b9b2-5277f5ceda23"
      },
      "execution_count": 87,
      "outputs": [
        {
          "output_type": "display_data",
          "data": {
            "image/png": "[encoded data removed]",
            "text/plain": [
              "<Figure size 432x288 with 2 Axes>"
            ]
          },
          "metadata": {}
        }
      ]
    },
    {
      "cell_type": "markdown",
      "source": [
        "Here, the 0.05% of False Negatives is because we gave 0.5 as the threshold to the model, and as this is an imbalanced dataset, we should calculate the threshold using the AUC-ROC curve. "
      ],
      "metadata": {
        "id": "Io6KyW84o2df"
      }
    },
    {
      "cell_type": "code",
      "source": [
        "from sklearn import metrics\n",
        "cr = metrics.classification_report(y_test, y_pred)\n",
        "print(cr)"
      ],
      "metadata": {
        "colab": {
          "base_uri": "https://localhost:8080/"
        },
        "id": "77m_o3TSo8oy",
        "outputId": "666ec715-c2ac-44ab-f8e1-5fd3c424bb53"
      },
      "execution_count": 88,
      "outputs": [
        {
          "output_type": "stream",
          "name": "stdout",
          "text": [
            "              precision    recall  f1-score   support\n",
            "\n",
            "           0       0.75      1.00      0.86      2877\n",
            "           1       0.50      0.00      0.00       955\n",
            "\n",
            "    accuracy                           0.75      3832\n",
            "   macro avg       0.63      0.50      0.43      3832\n",
            "weighted avg       0.69      0.75      0.64      3832\n",
            "\n"
          ]
        }
      ]
    },
    {
      "cell_type": "markdown",
      "source": [
        "As you can see, the above model has a good accuracy but a poor F1-score. This could be due to the imbalanced dataset. We observe that the False positive rates are also high, which should be considerably lower. \n",
        "\n",
        "1) **Imbalanced dataset**: As you have seen in the EDA, this dataset is imbalanced, and it contains more examples that belong to the **0** class.\n",
        "\n",
        "2) **Decision Threshold**: Due to the imbalanced dataset, we can use ROC-AUC to find the optimal threshold and use the same for prediction.\n",
        "\n",
        "\n",
        "### Let's try to change the optimizer, tune the decision threshold, increase the layers and configure some other hyperparameters accordingly, in order to improve the model's performance."
      ],
      "metadata": {
        "id": "x_6qr-o9pLEj"
      }
    },
    {
      "cell_type": "markdown",
      "source": [
        "### Model 2"
      ],
      "metadata": {
        "id": "vd4kgMy8pOq8"
      }
    },
    {
      "cell_type": "code",
      "source": [
        "backend.clear_session()\n",
        "np.random.seed(42)\n",
        "random.seed(42)\n",
        "tf.random.set_seed(42)"
      ],
      "metadata": {
        "id": "Q10uMKYCpQYs"
      },
      "execution_count": 89,
      "outputs": []
    },
    {
      "cell_type": "code",
      "source": [
        "model2 = Sequential()\n",
        "\n",
        "model2.add(Dense(256, activation='relu', kernel_initializer='he_uniform', input_dim=X_train.shape[1]))\n",
        "model2.add(Dense(128, activation='relu', kernel_initializer='he_uniform'))\n",
        "model2.add(Dense(64, activation='relu', kernel_initializer='he_uniform'))\n",
        "model2.add(Dense(32, activation='relu', kernel_initializer='he_uniform'))\n",
        "model2.add(Dense(1, activation='sigmoid'))\n",
        "\n",
        "optimizer = tf.keras.optimizers.Adam(0.001)\n",
        "model2.compile(loss='binary_crossentropy', optimizer=optimizer, metrics=['accuracy'])"
      ],
      "metadata": {
        "id": "weWXhaWcpaSq"
      },
      "execution_count": 90,
      "outputs": []
    },
    {
      "cell_type": "code",
      "source": [
        "model2.summary()"
      ],
      "metadata": {
        "colab": {
          "base_uri": "https://localhost:8080/"
        },
        "id": "cUy5HosdqcXX",
        "outputId": "45e76bad-343b-4ca9-ba26-84240d69d152"
      },
      "execution_count": 91,
      "outputs": [
        {
          "output_type": "stream",
          "name": "stdout",
          "text": [
            "Model: \"sequential\"\n",
            "_________________________________________________________________\n",
            " Layer (type)                Output Shape              Param #   \n",
            "=================================================================\n",
            " dense (Dense)               (None, 256)               2560      \n",
            "                                                                 \n",
            " dense_1 (Dense)             (None, 128)               32896     \n",
            "                                                                 \n",
            " dense_2 (Dense)             (None, 64)                8256      \n",
            "                                                                 \n",
            " dense_3 (Dense)             (None, 32)                2080      \n",
            "                                                                 \n",
            " dense_4 (Dense)             (None, 1)                 33        \n",
            "                                                                 \n",
            "=================================================================\n",
            "Total params: 45,825\n",
            "Trainable params: 45,825\n",
            "Non-trainable params: 0\n",
            "_________________________________________________________________\n"
          ]
        }
      ]
    },
    {
      "cell_type": "code",
      "source": [
        "history2 = model2.fit(X_train, y_train, batch_size=64, epochs=50, verbose=1, validation_split=0.2)"
      ],
      "metadata": {
        "colab": {
          "base_uri": "https://localhost:8080/"
        },
        "id": "Ymx5ooBMqgqy",
        "outputId": "f540d600-ce1c-402f-a776-f3f0157f8b52"
      },
      "execution_count": 92,
      "outputs": [
        {
          "output_type": "stream",
          "name": "stdout",
          "text": [
            "Epoch 1/50\n",
            "192/192 [==============================] - 2s 6ms/step - loss: 1.2936 - accuracy: 0.6872 - val_loss: 0.6399 - val_accuracy: 0.6279\n",
            "Epoch 2/50\n",
            "192/192 [==============================] - 1s 5ms/step - loss: 0.7389 - accuracy: 0.7110 - val_loss: 0.5787 - val_accuracy: 0.7146\n",
            "Epoch 3/50\n",
            "192/192 [==============================] - 1s 5ms/step - loss: 0.6730 - accuracy: 0.7163 - val_loss: 0.6370 - val_accuracy: 0.7511\n",
            "Epoch 4/50\n",
            "192/192 [==============================] - 1s 5ms/step - loss: 0.6079 - accuracy: 0.7294 - val_loss: 0.5534 - val_accuracy: 0.7515\n",
            "Epoch 5/50\n",
            "192/192 [==============================] - 1s 5ms/step - loss: 0.5767 - accuracy: 0.7374 - val_loss: 0.6103 - val_accuracy: 0.7498\n",
            "Epoch 6/50\n",
            "192/192 [==============================] - 1s 5ms/step - loss: 0.5856 - accuracy: 0.7362 - val_loss: 0.5581 - val_accuracy: 0.7524\n",
            "Epoch 7/50\n",
            "192/192 [==============================] - 1s 5ms/step - loss: 0.5679 - accuracy: 0.7419 - val_loss: 0.5364 - val_accuracy: 0.7518\n",
            "Epoch 8/50\n",
            "192/192 [==============================] - 1s 5ms/step - loss: 0.5524 - accuracy: 0.7469 - val_loss: 0.5855 - val_accuracy: 0.7397\n",
            "Epoch 9/50\n",
            "192/192 [==============================] - 1s 5ms/step - loss: 0.5564 - accuracy: 0.7454 - val_loss: 0.5668 - val_accuracy: 0.7505\n",
            "Epoch 10/50\n",
            "192/192 [==============================] - 1s 5ms/step - loss: 0.5524 - accuracy: 0.7460 - val_loss: 0.5452 - val_accuracy: 0.7495\n",
            "Epoch 11/50\n",
            "192/192 [==============================] - 1s 6ms/step - loss: 0.5626 - accuracy: 0.7422 - val_loss: 0.5440 - val_accuracy: 0.7511\n",
            "Epoch 12/50\n",
            "192/192 [==============================] - 1s 5ms/step - loss: 0.5502 - accuracy: 0.7464 - val_loss: 0.6253 - val_accuracy: 0.7453\n",
            "Epoch 13/50\n",
            "192/192 [==============================] - 1s 6ms/step - loss: 0.5458 - accuracy: 0.7501 - val_loss: 0.5322 - val_accuracy: 0.7502\n",
            "Epoch 14/50\n",
            "192/192 [==============================] - 1s 5ms/step - loss: 0.5404 - accuracy: 0.7506 - val_loss: 0.5362 - val_accuracy: 0.7505\n",
            "Epoch 15/50\n",
            "192/192 [==============================] - 1s 5ms/step - loss: 0.5451 - accuracy: 0.7496 - val_loss: 0.5770 - val_accuracy: 0.7508\n",
            "Epoch 16/50\n",
            "192/192 [==============================] - 1s 6ms/step - loss: 0.5468 - accuracy: 0.7498 - val_loss: 0.5472 - val_accuracy: 0.7502\n",
            "Epoch 17/50\n",
            "192/192 [==============================] - 1s 5ms/step - loss: 0.5381 - accuracy: 0.7529 - val_loss: 0.5338 - val_accuracy: 0.7518\n",
            "Epoch 18/50\n",
            "192/192 [==============================] - 1s 6ms/step - loss: 0.5429 - accuracy: 0.7504 - val_loss: 0.5311 - val_accuracy: 0.7482\n",
            "Epoch 19/50\n",
            "192/192 [==============================] - 1s 5ms/step - loss: 0.5374 - accuracy: 0.7520 - val_loss: 0.5531 - val_accuracy: 0.7515\n",
            "Epoch 20/50\n",
            "192/192 [==============================] - 1s 5ms/step - loss: 0.5417 - accuracy: 0.7516 - val_loss: 0.5390 - val_accuracy: 0.7462\n",
            "Epoch 21/50\n",
            "192/192 [==============================] - 1s 5ms/step - loss: 0.5403 - accuracy: 0.7518 - val_loss: 0.5282 - val_accuracy: 0.7485\n",
            "Epoch 22/50\n",
            "192/192 [==============================] - 1s 5ms/step - loss: 0.5430 - accuracy: 0.7509 - val_loss: 0.5353 - val_accuracy: 0.7505\n",
            "Epoch 23/50\n",
            "192/192 [==============================] - 1s 5ms/step - loss: 0.5509 - accuracy: 0.7463 - val_loss: 0.5501 - val_accuracy: 0.7508\n",
            "Epoch 24/50\n",
            "192/192 [==============================] - 1s 5ms/step - loss: 0.5368 - accuracy: 0.7504 - val_loss: 0.5294 - val_accuracy: 0.7521\n",
            "Epoch 25/50\n",
            "192/192 [==============================] - 1s 5ms/step - loss: 0.5354 - accuracy: 0.7501 - val_loss: 0.5382 - val_accuracy: 0.7492\n",
            "Epoch 26/50\n",
            "192/192 [==============================] - 1s 6ms/step - loss: 0.5330 - accuracy: 0.7524 - val_loss: 0.5412 - val_accuracy: 0.7521\n",
            "Epoch 27/50\n",
            "192/192 [==============================] - 1s 5ms/step - loss: 0.5321 - accuracy: 0.7520 - val_loss: 0.5601 - val_accuracy: 0.7508\n",
            "Epoch 28/50\n",
            "192/192 [==============================] - 1s 5ms/step - loss: 0.5321 - accuracy: 0.7525 - val_loss: 0.5382 - val_accuracy: 0.7505\n",
            "Epoch 29/50\n",
            "192/192 [==============================] - 1s 5ms/step - loss: 0.5284 - accuracy: 0.7547 - val_loss: 0.5250 - val_accuracy: 0.7505\n",
            "Epoch 30/50\n",
            "192/192 [==============================] - 1s 6ms/step - loss: 0.5276 - accuracy: 0.7555 - val_loss: 0.5276 - val_accuracy: 0.7541\n",
            "Epoch 31/50\n",
            "192/192 [==============================] - 1s 5ms/step - loss: 0.5319 - accuracy: 0.7507 - val_loss: 0.5233 - val_accuracy: 0.7560\n",
            "Epoch 32/50\n",
            "192/192 [==============================] - 1s 6ms/step - loss: 0.5272 - accuracy: 0.7527 - val_loss: 0.5274 - val_accuracy: 0.7511\n",
            "Epoch 33/50\n",
            "192/192 [==============================] - 2s 8ms/step - loss: 0.5282 - accuracy: 0.7515 - val_loss: 0.5307 - val_accuracy: 0.7414\n",
            "Epoch 34/50\n",
            "192/192 [==============================] - 1s 6ms/step - loss: 0.5367 - accuracy: 0.7504 - val_loss: 0.5239 - val_accuracy: 0.7531\n",
            "Epoch 35/50\n",
            "192/192 [==============================] - 1s 5ms/step - loss: 0.5204 - accuracy: 0.7542 - val_loss: 0.5361 - val_accuracy: 0.7528\n",
            "Epoch 36/50\n",
            "192/192 [==============================] - 1s 5ms/step - loss: 0.5195 - accuracy: 0.7545 - val_loss: 0.5176 - val_accuracy: 0.7534\n",
            "Epoch 37/50\n",
            "192/192 [==============================] - 1s 5ms/step - loss: 0.5234 - accuracy: 0.7554 - val_loss: 0.5257 - val_accuracy: 0.7524\n",
            "Epoch 38/50\n",
            "192/192 [==============================] - 1s 5ms/step - loss: 0.5183 - accuracy: 0.7563 - val_loss: 0.5211 - val_accuracy: 0.7505\n",
            "Epoch 39/50\n",
            "192/192 [==============================] - 1s 5ms/step - loss: 0.5239 - accuracy: 0.7559 - val_loss: 0.5227 - val_accuracy: 0.7534\n",
            "Epoch 40/50\n",
            "192/192 [==============================] - 1s 6ms/step - loss: 0.5208 - accuracy: 0.7566 - val_loss: 0.5225 - val_accuracy: 0.7570\n",
            "Epoch 41/50\n",
            "192/192 [==============================] - 1s 5ms/step - loss: 0.5217 - accuracy: 0.7573 - val_loss: 0.5186 - val_accuracy: 0.7511\n",
            "Epoch 42/50\n",
            "192/192 [==============================] - 1s 5ms/step - loss: 0.5233 - accuracy: 0.7556 - val_loss: 0.5335 - val_accuracy: 0.7511\n",
            "Epoch 43/50\n",
            "192/192 [==============================] - 1s 5ms/step - loss: 0.5186 - accuracy: 0.7568 - val_loss: 0.5260 - val_accuracy: 0.7534\n",
            "Epoch 44/50\n",
            "192/192 [==============================] - 1s 5ms/step - loss: 0.5178 - accuracy: 0.7563 - val_loss: 0.5372 - val_accuracy: 0.7541\n",
            "Epoch 45/50\n",
            "192/192 [==============================] - 1s 5ms/step - loss: 0.5277 - accuracy: 0.7542 - val_loss: 0.5224 - val_accuracy: 0.7521\n",
            "Epoch 46/50\n",
            "192/192 [==============================] - 1s 5ms/step - loss: 0.5182 - accuracy: 0.7535 - val_loss: 0.5256 - val_accuracy: 0.7502\n",
            "Epoch 47/50\n",
            "192/192 [==============================] - 1s 6ms/step - loss: 0.5253 - accuracy: 0.7534 - val_loss: 0.5238 - val_accuracy: 0.7511\n",
            "Epoch 48/50\n",
            "192/192 [==============================] - 1s 6ms/step - loss: 0.5154 - accuracy: 0.7562 - val_loss: 0.5225 - val_accuracy: 0.7511\n",
            "Epoch 49/50\n",
            "192/192 [==============================] - 1s 5ms/step - loss: 0.5162 - accuracy: 0.7572 - val_loss: 0.5350 - val_accuracy: 0.7515\n",
            "Epoch 50/50\n",
            "192/192 [==============================] - 1s 5ms/step - loss: 0.5108 - accuracy: 0.7600 - val_loss: 0.5308 - val_accuracy: 0.7547\n"
          ]
        }
      ]
    },
    {
      "cell_type": "code",
      "source": [
        "# plotting train loss vs validation loss\n",
        "plt.plot(history2.history['loss'])\n",
        "plt.plot(history2.history['val_loss'])\n",
        "plt.title('model loss')\n",
        "plt.ylabel('Loss')\n",
        "plt.xlabel('Epoch')\n",
        "plt.legend(['Train', 'validation'], loc='upper left')\n",
        "plt.show()"
      ],
      "metadata": {
        "colab": {
          "base_uri": "https://localhost:8080/",
          "height": 295
        },
        "id": "PmupBnJyqseF",
        "outputId": "80acf898-478f-4b1a-8682-d817a70e717f"
      },
      "execution_count": 94,
      "outputs": [
        {
          "output_type": "display_data",
          "data": {
            "image/png": "[encoded data removed]",
            "text/plain": [
              "<Figure size 432x288 with 1 Axes>"
            ]
          },
          "metadata": {}
        }
      ]
    },
    {
      "cell_type": "markdown",
      "source": [
        "As we increased the depth of the neural network and changed the optimizer to Adam, we can see smoother loss curves for both train and validation."
      ],
      "metadata": {
        "id": "KdLvzTfqrNri"
      }
    },
    {
      "cell_type": "code",
      "source": [
        "# predict probabilities\n",
        "yhat2 = model2.predict(X_test)\n",
        "# keep probabilities for the positive outcome only\n",
        "yhat2 = yhat2[:, 0]\n",
        "# calculate roc curves\n",
        "fpr, tpr, thresholds2 = roc_curve(y_test, yhat2)\n",
        "# calculate the g-mean for each threshold\n",
        "gmeans2 = np.sqrt(tpr * (1-fpr))\n",
        "# locate the index of the largest g-mean\n",
        "ix = np.argmax(gmeans2)\n",
        "print('best threshold=%f, G-Mean=%.3f' % (thresholds2[ix], gmeans2[ix]))\n",
        "# plot the roc curve for the model\n",
        "plt.plot([0,1], [0,1], linestyle='--', label='No Skill')\n",
        "plt.plot(fpr, tpr, marker='.')\n",
        "plt.scatter(fpr[ix], tpr[ix], marker='o', color='black', label='Best')\n",
        "# axis labels\n",
        "plt.xlabel('False Positive Rate')\n",
        "plt.ylabel('True Positive Rate')\n",
        "plt.legend()\n",
        "# show the plot\n",
        "plt.show()"
      ],
      "metadata": {
        "colab": {
          "base_uri": "https://localhost:8080/",
          "height": 296
        },
        "id": "4JZQ4pbirOLT",
        "outputId": "b14eeb5b-781c-4475-d223-5a4e0ab1125d"
      },
      "execution_count": 98,
      "outputs": [
        {
          "output_type": "stream",
          "name": "stdout",
          "text": [
            "best threshold=0.184945, G-Mean=0.686\n"
          ]
        },
        {
          "output_type": "display_data",
          "data": {
            "image/png": "[encoded data removed]",
            "text/plain": [
              "<Figure size 432x288 with 1 Axes>"
            ]
          },
          "metadata": {}
        }
      ]
    },
    {
      "cell_type": "markdown",
      "source": [
        "**Let's tune the threshold using ROC-AUC**\n",
        "\n",
        "There are many ways we could locate the threshold with the optimal balance between false positive and true positive rates. \n",
        "\n",
        "Firstly, the true positive rate is called the Sensitivity. The inverse of the false-positive rate is called the Specificity.\n",
        "\n",
        "**Sensitivity = True Positive / (True Positive + False Negative)**\n",
        "\n",
        "**Specificity = True Negative / (False Positive + True Negative)**\n",
        "\n",
        "Where:\n",
        "\n",
        "Sensitivity = True Positive Rate\n",
        "\n",
        "Specificity = 1 – False Positive Rate\n",
        "\n",
        "The Geometric Mean or G-Mean is a metric for imbalanced classification that, if optimized, will seek a balance between the sensitivity and the specificity.\n",
        "\n",
        "**G-Mean = sqrt(Sensitivity * Specificity)**\n",
        "\n",
        "One approach would be to test the model with each threshold returned from the call roc_auc_score(),and select the threshold with the **largest G-Mean value.**"
      ],
      "metadata": {
        "id": "mvlAYl87spDs"
      }
    },
    {
      "cell_type": "code",
      "source": [
        "y_pred_e2 = model2.predict(X_test)\n",
        "y_pred_e2 = (y_pred_e2 > thresholds2[ix])\n",
        "y_pred_e2"
      ],
      "metadata": {
        "colab": {
          "base_uri": "https://localhost:8080/"
        },
        "id": "SgJ6eUHysqxl",
        "outputId": "0a1eebd0-5a79-46f9-9b1a-3f0e6f641fac"
      },
      "execution_count": 99,
      "outputs": [
        {
          "output_type": "execute_result",
          "data": {
            "text/plain": [
              "array([[False],\n",
              "       [ True],\n",
              "       [False],\n",
              "       ...,\n",
              "       [False],\n",
              "       [False],\n",
              "       [False]])"
            ]
          },
          "metadata": {},
          "execution_count": 99
        }
      ]
    },
    {
      "cell_type": "code",
      "source": [
        "#Calculating the confusion matrix \n",
        "from sklearn.metrics import confusion_matrix\n",
        "cm1=confusion_matrix(y_test, y_pred_e2)\n",
        "labels = ['True Positive','False Negative','False Positive','True Negative']\n",
        "categories = [ 'Not Changing Job','Changing Job']\n",
        "make_confusion_matrix(cm1, \n",
        "                      group_names=labels,\n",
        "                      categories=categories, \n",
        "                      cmap='Blues')"
      ],
      "metadata": {
        "colab": {
          "base_uri": "https://localhost:8080/",
          "height": 265
        },
        "id": "wDIXKp2Vs6Lt",
        "outputId": "8594d23c-1620-4240-dd9e-0f205d012ae4"
      },
      "execution_count": 100,
      "outputs": [
        {
          "output_type": "display_data",
          "data": {
            "image/png": "[encoded data removed]",
            "text/plain": [
              "<Figure size 432x288 with 2 Axes>"
            ]
          },
          "metadata": {}
        }
      ]
    },
    {
      "cell_type": "code",
      "source": [
        "#Accuracy as per the classification report \n",
        "from sklearn import metrics\n",
        "cr=metrics.classification_report(y_test,y_pred_e2)\n",
        "print(cr)"
      ],
      "metadata": {
        "colab": {
          "base_uri": "https://localhost:8080/"
        },
        "id": "QiB7QqkLtAs4",
        "outputId": "6f295b05-1aaa-4025-bd72-b638d2e27301"
      },
      "execution_count": 101,
      "outputs": [
        {
          "output_type": "stream",
          "name": "stdout",
          "text": [
            "              precision    recall  f1-score   support\n",
            "\n",
            "           0       0.86      0.71      0.78      2877\n",
            "           1       0.43      0.66      0.52       955\n",
            "\n",
            "    accuracy                           0.70      3832\n",
            "   macro avg       0.65      0.69      0.65      3832\n",
            "weighted avg       0.76      0.70      0.71      3832\n",
            "\n"
          ]
        }
      ]
    },
    {
      "cell_type": "markdown",
      "source": [
        "As the number of layers in the neural network has increased, we can see that the macro F1 score has increased, and the False Negative percentage has decreased. \n",
        "\n",
        "### Now let's try to use the Batch Normalization technique and check to see if we can increase the F1 score. "
      ],
      "metadata": {
        "id": "sTt0OdsjtGo8"
      }
    },
    {
      "cell_type": "markdown",
      "source": [
        "### Model 3"
      ],
      "metadata": {
        "id": "CzkOLLOZtIL0"
      }
    },
    {
      "cell_type": "code",
      "source": [
        "backend.clear_session()\n",
        "np.random.seed(42)\n",
        "import random\n",
        "random.seed(42)\n",
        "tf.random.set_seed(42)"
      ],
      "metadata": {
        "id": "yAm7kfVjtM7a"
      },
      "execution_count": 102,
      "outputs": []
    },
    {
      "cell_type": "code",
      "source": [
        "model2 = Sequential()\n",
        "model2.add(Dense(128,activation='relu',input_dim = X_train.shape[1]))\n",
        "model2.add(BatchNormalization())\n",
        "model2.add(Dense(64,activation='relu',kernel_initializer='he_uniform'))\n",
        "model2.add(BatchNormalization())\n",
        "model2.add(Dense(32,activation='relu',kernel_initializer='he_uniform'))\n",
        "model2.add(Dense(1, activation = 'sigmoid'))\n",
        "model2.summary()"
      ],
      "metadata": {
        "colab": {
          "base_uri": "https://localhost:8080/"
        },
        "id": "AWCDbloWtN7Y",
        "outputId": "827b64f1-72ae-478a-bce6-db5ed04fbba0"
      },
      "execution_count": 103,
      "outputs": [
        {
          "output_type": "stream",
          "name": "stdout",
          "text": [
            "Model: \"sequential\"\n",
            "_________________________________________________________________\n",
            " Layer (type)                Output Shape              Param #   \n",
            "=================================================================\n",
            " dense (Dense)               (None, 128)               1280      \n",
            "                                                                 \n",
            " batch_normalization (BatchN  (None, 128)              512       \n",
            " ormalization)                                                   \n",
            "                                                                 \n",
            " dense_1 (Dense)             (None, 64)                8256      \n",
            "                                                                 \n",
            " batch_normalization_1 (Batc  (None, 64)               256       \n",
            " hNormalization)                                                 \n",
            "                                                                 \n",
            " dense_2 (Dense)             (None, 32)                2080      \n",
            "                                                                 \n",
            " dense_3 (Dense)             (None, 1)                 33        \n",
            "                                                                 \n",
            "=================================================================\n",
            "Total params: 12,417\n",
            "Trainable params: 12,033\n",
            "Non-trainable params: 384\n",
            "_________________________________________________________________\n"
          ]
        }
      ]
    },
    {
      "cell_type": "code",
      "source": [
        "optimizer = tf.keras.optimizers.Adam(0.001)\n",
        "model2.compile(loss='binary_crossentropy',optimizer=optimizer,metrics=['accuracy'])"
      ],
      "metadata": {
        "id": "0CXa_ooTtVpt"
      },
      "execution_count": 104,
      "outputs": []
    },
    {
      "cell_type": "code",
      "source": [
        "history_2 = model2.fit(X_train,y_train,batch_size=64,epochs=50,verbose=1,validation_split = 0.2)"
      ],
      "metadata": {
        "colab": {
          "base_uri": "https://localhost:8080/"
        },
        "id": "J_sXnnHQtYM7",
        "outputId": "7123dc73-b6e0-4b70-8ba5-e3be73a2a6ae"
      },
      "execution_count": 105,
      "outputs": [
        {
          "output_type": "stream",
          "name": "stdout",
          "text": [
            "Epoch 1/50\n",
            "192/192 [==============================] - 3s 6ms/step - loss: 0.5698 - accuracy: 0.7403 - val_loss: 0.5690 - val_accuracy: 0.7515\n",
            "Epoch 2/50\n",
            "192/192 [==============================] - 1s 5ms/step - loss: 0.5437 - accuracy: 0.7497 - val_loss: 0.5340 - val_accuracy: 0.7567\n",
            "Epoch 3/50\n",
            "192/192 [==============================] - 1s 8ms/step - loss: 0.5268 - accuracy: 0.7547 - val_loss: 0.5257 - val_accuracy: 0.7551\n",
            "Epoch 4/50\n",
            "192/192 [==============================] - 1s 3ms/step - loss: 0.5142 - accuracy: 0.7573 - val_loss: 0.5059 - val_accuracy: 0.7613\n",
            "Epoch 5/50\n",
            "192/192 [==============================] - 1s 3ms/step - loss: 0.5089 - accuracy: 0.7608 - val_loss: 0.5084 - val_accuracy: 0.7626\n",
            "Epoch 6/50\n",
            "192/192 [==============================] - 1s 3ms/step - loss: 0.5065 - accuracy: 0.7604 - val_loss: 0.5351 - val_accuracy: 0.7560\n",
            "Epoch 7/50\n",
            "192/192 [==============================] - 1s 3ms/step - loss: 0.5030 - accuracy: 0.7630 - val_loss: 0.5133 - val_accuracy: 0.7531\n",
            "Epoch 8/50\n",
            "192/192 [==============================] - 1s 3ms/step - loss: 0.5006 - accuracy: 0.7627 - val_loss: 0.5169 - val_accuracy: 0.7609\n",
            "Epoch 9/50\n",
            "192/192 [==============================] - 1s 3ms/step - loss: 0.4995 - accuracy: 0.7654 - val_loss: 0.5051 - val_accuracy: 0.7626\n",
            "Epoch 10/50\n",
            "192/192 [==============================] - 1s 3ms/step - loss: 0.4985 - accuracy: 0.7638 - val_loss: 0.5227 - val_accuracy: 0.7518\n",
            "Epoch 11/50\n",
            "192/192 [==============================] - 1s 3ms/step - loss: 0.4999 - accuracy: 0.7653 - val_loss: 0.5080 - val_accuracy: 0.7609\n",
            "Epoch 12/50\n",
            "192/192 [==============================] - 1s 3ms/step - loss: 0.4956 - accuracy: 0.7656 - val_loss: 0.5347 - val_accuracy: 0.7583\n",
            "Epoch 13/50\n",
            "192/192 [==============================] - 1s 3ms/step - loss: 0.4957 - accuracy: 0.7649 - val_loss: 0.5199 - val_accuracy: 0.7541\n",
            "Epoch 14/50\n",
            "192/192 [==============================] - 1s 3ms/step - loss: 0.4943 - accuracy: 0.7670 - val_loss: 0.4999 - val_accuracy: 0.7622\n",
            "Epoch 15/50\n",
            "192/192 [==============================] - 1s 3ms/step - loss: 0.4983 - accuracy: 0.7654 - val_loss: 0.6024 - val_accuracy: 0.6983\n",
            "Epoch 16/50\n",
            "192/192 [==============================] - 1s 3ms/step - loss: 0.4931 - accuracy: 0.7698 - val_loss: 0.5009 - val_accuracy: 0.7710\n",
            "Epoch 17/50\n",
            "192/192 [==============================] - 1s 3ms/step - loss: 0.4953 - accuracy: 0.7678 - val_loss: 0.5631 - val_accuracy: 0.7303\n",
            "Epoch 18/50\n",
            "192/192 [==============================] - 1s 3ms/step - loss: 0.4928 - accuracy: 0.7662 - val_loss: 0.5300 - val_accuracy: 0.7596\n",
            "Epoch 19/50\n",
            "192/192 [==============================] - 1s 3ms/step - loss: 0.4920 - accuracy: 0.7689 - val_loss: 0.4995 - val_accuracy: 0.7707\n",
            "Epoch 20/50\n",
            "192/192 [==============================] - 1s 3ms/step - loss: 0.4902 - accuracy: 0.7665 - val_loss: 0.5217 - val_accuracy: 0.7606\n",
            "Epoch 21/50\n",
            "192/192 [==============================] - 1s 3ms/step - loss: 0.4902 - accuracy: 0.7713 - val_loss: 0.5177 - val_accuracy: 0.7609\n",
            "Epoch 22/50\n",
            "192/192 [==============================] - 1s 3ms/step - loss: 0.4894 - accuracy: 0.7690 - val_loss: 0.5017 - val_accuracy: 0.7564\n",
            "Epoch 23/50\n",
            "192/192 [==============================] - 1s 3ms/step - loss: 0.4909 - accuracy: 0.7726 - val_loss: 0.4961 - val_accuracy: 0.7665\n",
            "Epoch 24/50\n",
            "192/192 [==============================] - 1s 3ms/step - loss: 0.4887 - accuracy: 0.7739 - val_loss: 0.4945 - val_accuracy: 0.7629\n",
            "Epoch 25/50\n",
            "192/192 [==============================] - 1s 3ms/step - loss: 0.4863 - accuracy: 0.7718 - val_loss: 0.5047 - val_accuracy: 0.7648\n",
            "Epoch 26/50\n",
            "192/192 [==============================] - 1s 3ms/step - loss: 0.4873 - accuracy: 0.7735 - val_loss: 0.5052 - val_accuracy: 0.7622\n",
            "Epoch 27/50\n",
            "192/192 [==============================] - 1s 3ms/step - loss: 0.4862 - accuracy: 0.7741 - val_loss: 0.5077 - val_accuracy: 0.7642\n",
            "Epoch 28/50\n",
            "192/192 [==============================] - 1s 4ms/step - loss: 0.4877 - accuracy: 0.7702 - val_loss: 0.4954 - val_accuracy: 0.7704\n",
            "Epoch 29/50\n",
            "192/192 [==============================] - 1s 5ms/step - loss: 0.4858 - accuracy: 0.7700 - val_loss: 0.5077 - val_accuracy: 0.7681\n",
            "Epoch 30/50\n",
            "192/192 [==============================] - 1s 5ms/step - loss: 0.4852 - accuracy: 0.7743 - val_loss: 0.5026 - val_accuracy: 0.7665\n",
            "Epoch 31/50\n",
            "192/192 [==============================] - 1s 5ms/step - loss: 0.4844 - accuracy: 0.7725 - val_loss: 0.4995 - val_accuracy: 0.7697\n",
            "Epoch 32/50\n",
            "192/192 [==============================] - 1s 5ms/step - loss: 0.4860 - accuracy: 0.7702 - val_loss: 0.5013 - val_accuracy: 0.7622\n",
            "Epoch 33/50\n",
            "192/192 [==============================] - 1s 5ms/step - loss: 0.4855 - accuracy: 0.7699 - val_loss: 0.5179 - val_accuracy: 0.7557\n",
            "Epoch 34/50\n",
            "192/192 [==============================] - 1s 5ms/step - loss: 0.4869 - accuracy: 0.7712 - val_loss: 0.5065 - val_accuracy: 0.7603\n",
            "Epoch 35/50\n",
            "192/192 [==============================] - 1s 5ms/step - loss: 0.4841 - accuracy: 0.7759 - val_loss: 0.5093 - val_accuracy: 0.7648\n",
            "Epoch 36/50\n",
            "192/192 [==============================] - 1s 5ms/step - loss: 0.4841 - accuracy: 0.7752 - val_loss: 0.4935 - val_accuracy: 0.7652\n",
            "Epoch 37/50\n",
            "192/192 [==============================] - 1s 4ms/step - loss: 0.4829 - accuracy: 0.7732 - val_loss: 0.5227 - val_accuracy: 0.7498\n",
            "Epoch 38/50\n",
            "192/192 [==============================] - 1s 4ms/step - loss: 0.4812 - accuracy: 0.7724 - val_loss: 0.5101 - val_accuracy: 0.7639\n",
            "Epoch 39/50\n",
            "192/192 [==============================] - 1s 5ms/step - loss: 0.4815 - accuracy: 0.7733 - val_loss: 0.5006 - val_accuracy: 0.7661\n",
            "Epoch 40/50\n",
            "192/192 [==============================] - 1s 5ms/step - loss: 0.4845 - accuracy: 0.7720 - val_loss: 0.5029 - val_accuracy: 0.7619\n",
            "Epoch 41/50\n",
            "192/192 [==============================] - 1s 5ms/step - loss: 0.4837 - accuracy: 0.7745 - val_loss: 0.4937 - val_accuracy: 0.7655\n",
            "Epoch 42/50\n",
            "192/192 [==============================] - 1s 5ms/step - loss: 0.4825 - accuracy: 0.7716 - val_loss: 0.5005 - val_accuracy: 0.7645\n",
            "Epoch 43/50\n",
            "192/192 [==============================] - 1s 5ms/step - loss: 0.4829 - accuracy: 0.7751 - val_loss: 0.5272 - val_accuracy: 0.7489\n",
            "Epoch 44/50\n",
            "192/192 [==============================] - 1s 5ms/step - loss: 0.4801 - accuracy: 0.7702 - val_loss: 0.5024 - val_accuracy: 0.7665\n",
            "Epoch 45/50\n",
            "192/192 [==============================] - 1s 3ms/step - loss: 0.4814 - accuracy: 0.7737 - val_loss: 0.5452 - val_accuracy: 0.7260\n",
            "Epoch 46/50\n",
            "192/192 [==============================] - 1s 3ms/step - loss: 0.4799 - accuracy: 0.7751 - val_loss: 0.5264 - val_accuracy: 0.7665\n",
            "Epoch 47/50\n",
            "192/192 [==============================] - 1s 3ms/step - loss: 0.4810 - accuracy: 0.7732 - val_loss: 0.4939 - val_accuracy: 0.7674\n",
            "Epoch 48/50\n",
            "192/192 [==============================] - 1s 3ms/step - loss: 0.4804 - accuracy: 0.7738 - val_loss: 0.4916 - val_accuracy: 0.7681\n",
            "Epoch 49/50\n",
            "192/192 [==============================] - 1s 3ms/step - loss: 0.4793 - accuracy: 0.7778 - val_loss: 0.4975 - val_accuracy: 0.7674\n",
            "Epoch 50/50\n",
            "192/192 [==============================] - 1s 3ms/step - loss: 0.4780 - accuracy: 0.7777 - val_loss: 0.4985 - val_accuracy: 0.7658\n"
          ]
        }
      ]
    },
    {
      "cell_type": "code",
      "source": [
        "#Plotting Train Loss vs Validation Loss\n",
        "plt.plot(history_2.history['loss'])\n",
        "plt.plot(history_2.history['val_loss'])\n",
        "plt.title('model loss')\n",
        "plt.ylabel('Loss')\n",
        "plt.xlabel('Epoch')\n",
        "plt.legend(['train', 'validation'], loc='upper left')\n",
        "plt.show()"
      ],
      "metadata": {
        "colab": {
          "base_uri": "https://localhost:8080/",
          "height": 295
        },
        "id": "RMnBezTktdaO",
        "outputId": "302a0ef7-b8d0-484a-fef2-a6824e2bafa5"
      },
      "execution_count": 106,
      "outputs": [
        {
          "output_type": "display_data",
          "data": {
            "image/png": "[encoded data removed]",
            "text/plain": [
              "<Figure size 432x288 with 1 Axes>"
            ]
          },
          "metadata": {}
        }
      ]
    },
    {
      "cell_type": "markdown",
      "source": [
        "Unfortunately, from the above plot we observe that there is a lot of noise in the model, and it and seems to have overfitted on the training data because there is a significant difference in performance between train and validation."
      ],
      "metadata": {
        "id": "807f2no4tfgj"
      }
    },
    {
      "cell_type": "code",
      "source": [
        "# predict probabilities\n",
        "yhat2 = model2.predict(X_test)\n",
        "# keep probabilities for the positive outcome only\n",
        "yhat2 = yhat2[:, 0]\n",
        "# calculate roc curves\n",
        "fpr, tpr, thresholds2 = roc_curve(y_test, yhat2)\n",
        "# calculate the g-mean for each threshold\n",
        "gmeans2 = np.sqrt(tpr * (1-fpr))\n",
        "# locate the index of the largest g-mean\n",
        "ix = np.argmax(gmeans2)\n",
        "print('Best Threshold=%f, G-Mean=%.3f' % (thresholds2[ix], gmeans2[ix]))\n",
        "# plot the roc curve for the model\n",
        "plt.plot([0,1], [0,1], linestyle='--', label='No Skill')\n",
        "plt.plot(fpr, tpr, marker='.')\n",
        "plt.scatter(fpr[ix], tpr[ix], marker='o', color='black', label='Best')\n",
        "# axis labels\n",
        "plt.xlabel('False Positive Rate')\n",
        "plt.ylabel('True Positive Rate')\n",
        "plt.legend()\n",
        "# show the plot\n",
        "plt.show()"
      ],
      "metadata": {
        "colab": {
          "base_uri": "https://localhost:8080/",
          "height": 296
        },
        "id": "Z3blSr_Itmzz",
        "outputId": "518c20e4-edef-4f52-a572-0c9465143c7a"
      },
      "execution_count": 108,
      "outputs": [
        {
          "output_type": "stream",
          "name": "stdout",
          "text": [
            "Best Threshold=0.218554, G-Mean=0.701\n"
          ]
        },
        {
          "output_type": "display_data",
          "data": {
            "image/png": "[encoded data removed]",
            "text/plain": [
              "<Figure size 432x288 with 1 Axes>"
            ]
          },
          "metadata": {}
        }
      ]
    },
    {
      "cell_type": "code",
      "source": [
        "y_pred_e2=model2.predict(X_test)\n",
        "y_pred_e2 = (y_pred_e2 > thresholds2[ix])\n",
        "y_pred_e2"
      ],
      "metadata": {
        "colab": {
          "base_uri": "https://localhost:8080/"
        },
        "id": "ZT0OIHX1tw31",
        "outputId": "f9d281d1-e6a2-404b-de42-6f7c62e030eb"
      },
      "execution_count": 109,
      "outputs": [
        {
          "output_type": "execute_result",
          "data": {
            "text/plain": [
              "array([[False],\n",
              "       [ True],\n",
              "       [False],\n",
              "       ...,\n",
              "       [False],\n",
              "       [False],\n",
              "       [False]])"
            ]
          },
          "metadata": {},
          "execution_count": 109
        }
      ]
    },
    {
      "cell_type": "code",
      "source": [
        "#Calculating the confusion matrix \n",
        "from sklearn.metrics import confusion_matrix\n",
        "cm2=confusion_matrix(y_test, y_pred_e2)\n",
        "labels = ['True Positive','False Negative','False Positive','True Negative']\n",
        "categories = [ 'Not Changing Job','Changing Job']\n",
        "make_confusion_matrix(cm2, \n",
        "                      group_names=labels,\n",
        "                      categories=categories, \n",
        "                      cmap='Blues')"
      ],
      "metadata": {
        "colab": {
          "base_uri": "https://localhost:8080/",
          "height": 265
        },
        "id": "ZezNqCW6t0XD",
        "outputId": "16f17474-c94d-4b53-b437-a579ea77f78f"
      },
      "execution_count": 110,
      "outputs": [
        {
          "output_type": "display_data",
          "data": {
            "image/png": "[encoded data removed]",
            "text/plain": [
              "<Figure size 432x288 with 2 Axes>"
            ]
          },
          "metadata": {}
        }
      ]
    },
    {
      "cell_type": "code",
      "source": [
        "#Accuracy as per the classification report \n",
        "from sklearn import metrics\n",
        "cr2=metrics.classification_report(y_test,y_pred_e2)\n",
        "print(cr2)"
      ],
      "metadata": {
        "colab": {
          "base_uri": "https://localhost:8080/"
        },
        "id": "wFTkr1rtt3TD",
        "outputId": "03402cf3-d62a-4f84-f2e5-69ceb2860287"
      },
      "execution_count": 111,
      "outputs": [
        {
          "output_type": "stream",
          "name": "stdout",
          "text": [
            "              precision    recall  f1-score   support\n",
            "\n",
            "           0       0.87      0.72      0.79      2877\n",
            "           1       0.45      0.68      0.54       955\n",
            "\n",
            "    accuracy                           0.71      3832\n",
            "   macro avg       0.66      0.70      0.66      3832\n",
            "weighted avg       0.77      0.71      0.73      3832\n",
            "\n"
          ]
        }
      ]
    },
    {
      "cell_type": "markdown",
      "source": [
        "The Train and Validation curves seem to show overfitting despite having a good F1 score and a low False Negative rate. \n",
        "\n",
        "### Let's try to use the Dropout technique and check to see if it can reduce the False Negative rate. "
      ],
      "metadata": {
        "id": "4j0REMFquE6w"
      }
    },
    {
      "cell_type": "markdown",
      "source": [
        "### Model 4"
      ],
      "metadata": {
        "id": "QxhazjLFuJZX"
      }
    },
    {
      "cell_type": "code",
      "source": [
        "backend.clear_session()\n",
        "np.random.seed(42)\n",
        "import random\n",
        "random.seed(42)\n",
        "tf.random.set_seed(42)"
      ],
      "metadata": {
        "id": "It47-7ADuKUu"
      },
      "execution_count": 112,
      "outputs": []
    },
    {
      "cell_type": "code",
      "source": [
        "model3 = Sequential()\n",
        "model3.add(Dense(256,activation='relu',input_dim = X_train.shape[1]))\n",
        "model3.add(Dropout(0.2))\n",
        "model3.add(Dense(128,activation='relu'))\n",
        "model3.add(Dropout(0.2))\n",
        "model3.add(Dense(64,activation='relu'))\n",
        "model3.add(Dropout(0.2))\n",
        "model3.add(Dense(32,activation='relu'))\n",
        "model3.add(Dense(1, activation = 'sigmoid'))"
      ],
      "metadata": {
        "id": "YOI8ZXpsuMQ_"
      },
      "execution_count": 113,
      "outputs": []
    },
    {
      "cell_type": "code",
      "source": [
        "model3.summary()"
      ],
      "metadata": {
        "colab": {
          "base_uri": "https://localhost:8080/"
        },
        "id": "kf7RK9KquPGe",
        "outputId": "4c4417f0-c684-4050-a5fd-9aed87dded90"
      },
      "execution_count": 114,
      "outputs": [
        {
          "output_type": "stream",
          "name": "stdout",
          "text": [
            "Model: \"sequential\"\n",
            "_________________________________________________________________\n",
            " Layer (type)                Output Shape              Param #   \n",
            "=================================================================\n",
            " dense (Dense)               (None, 256)               2560      \n",
            "                                                                 \n",
            " dropout (Dropout)           (None, 256)               0         \n",
            "                                                                 \n",
            " dense_1 (Dense)             (None, 128)               32896     \n",
            "                                                                 \n",
            " dropout_1 (Dropout)         (None, 128)               0         \n",
            "                                                                 \n",
            " dense_2 (Dense)             (None, 64)                8256      \n",
            "                                                                 \n",
            " dropout_2 (Dropout)         (None, 64)                0         \n",
            "                                                                 \n",
            " dense_3 (Dense)             (None, 32)                2080      \n",
            "                                                                 \n",
            " dense_4 (Dense)             (None, 1)                 33        \n",
            "                                                                 \n",
            "=================================================================\n",
            "Total params: 45,825\n",
            "Trainable params: 45,825\n",
            "Non-trainable params: 0\n",
            "_________________________________________________________________\n"
          ]
        }
      ]
    },
    {
      "cell_type": "code",
      "source": [
        "optimizer = tf.keras.optimizers.Adam(0.001)\n",
        "model3.compile(loss='binary_crossentropy',optimizer=optimizer,metrics=['accuracy'])"
      ],
      "metadata": {
        "id": "w5dc9vLIuSJq"
      },
      "execution_count": 115,
      "outputs": []
    },
    {
      "cell_type": "code",
      "source": [
        "history_3 = model3.fit(X_train,y_train,batch_size=64,epochs=50,verbose=1,validation_split = 0.2)"
      ],
      "metadata": {
        "colab": {
          "base_uri": "https://localhost:8080/"
        },
        "id": "5jg-BZWiuUPX",
        "outputId": "3a584283-dc47-4e64-ec47-df4583688a1d"
      },
      "execution_count": 116,
      "outputs": [
        {
          "output_type": "stream",
          "name": "stdout",
          "text": [
            "Epoch 1/50\n",
            "192/192 [==============================] - 4s 9ms/step - loss: 0.6613 - accuracy: 0.7186 - val_loss: 0.5839 - val_accuracy: 0.7515\n",
            "Epoch 2/50\n",
            "192/192 [==============================] - 2s 9ms/step - loss: 0.5803 - accuracy: 0.7481 - val_loss: 0.5713 - val_accuracy: 0.7515\n",
            "Epoch 3/50\n",
            "192/192 [==============================] - 1s 7ms/step - loss: 0.5679 - accuracy: 0.7498 - val_loss: 0.5597 - val_accuracy: 0.7515\n",
            "Epoch 4/50\n",
            "192/192 [==============================] - 1s 5ms/step - loss: 0.5632 - accuracy: 0.7502 - val_loss: 0.5584 - val_accuracy: 0.7515\n",
            "Epoch 5/50\n",
            "192/192 [==============================] - 1s 6ms/step - loss: 0.5596 - accuracy: 0.7504 - val_loss: 0.5564 - val_accuracy: 0.7515\n",
            "Epoch 6/50\n",
            "192/192 [==============================] - 1s 3ms/step - loss: 0.5605 - accuracy: 0.7504 - val_loss: 0.5569 - val_accuracy: 0.7515\n",
            "Epoch 7/50\n",
            "192/192 [==============================] - 1s 4ms/step - loss: 0.5550 - accuracy: 0.7504 - val_loss: 0.5466 - val_accuracy: 0.7515\n",
            "Epoch 8/50\n",
            "192/192 [==============================] - 1s 4ms/step - loss: 0.5543 - accuracy: 0.7499 - val_loss: 0.5553 - val_accuracy: 0.7515\n",
            "Epoch 9/50\n",
            "192/192 [==============================] - 1s 4ms/step - loss: 0.5514 - accuracy: 0.7502 - val_loss: 0.5407 - val_accuracy: 0.7515\n",
            "Epoch 10/50\n",
            "192/192 [==============================] - 1s 4ms/step - loss: 0.5496 - accuracy: 0.7500 - val_loss: 0.5415 - val_accuracy: 0.7515\n",
            "Epoch 11/50\n",
            "192/192 [==============================] - 1s 4ms/step - loss: 0.5467 - accuracy: 0.7502 - val_loss: 0.5511 - val_accuracy: 0.7515\n",
            "Epoch 12/50\n",
            "192/192 [==============================] - 1s 4ms/step - loss: 0.5454 - accuracy: 0.7501 - val_loss: 0.5411 - val_accuracy: 0.7515\n",
            "Epoch 13/50\n",
            "192/192 [==============================] - 1s 4ms/step - loss: 0.5453 - accuracy: 0.7502 - val_loss: 0.5319 - val_accuracy: 0.7515\n",
            "Epoch 14/50\n",
            "192/192 [==============================] - 1s 3ms/step - loss: 0.5419 - accuracy: 0.7504 - val_loss: 0.5406 - val_accuracy: 0.7515\n",
            "Epoch 15/50\n",
            "192/192 [==============================] - 1s 4ms/step - loss: 0.5412 - accuracy: 0.7501 - val_loss: 0.5353 - val_accuracy: 0.7515\n",
            "Epoch 16/50\n",
            "192/192 [==============================] - 1s 4ms/step - loss: 0.5401 - accuracy: 0.7507 - val_loss: 0.5328 - val_accuracy: 0.7515\n",
            "Epoch 17/50\n",
            "192/192 [==============================] - 1s 3ms/step - loss: 0.5382 - accuracy: 0.7491 - val_loss: 0.5326 - val_accuracy: 0.7515\n",
            "Epoch 18/50\n",
            "192/192 [==============================] - 1s 4ms/step - loss: 0.5367 - accuracy: 0.7509 - val_loss: 0.5290 - val_accuracy: 0.7515\n",
            "Epoch 19/50\n",
            "192/192 [==============================] - 1s 4ms/step - loss: 0.5322 - accuracy: 0.7513 - val_loss: 0.5260 - val_accuracy: 0.7547\n",
            "Epoch 20/50\n",
            "192/192 [==============================] - 1s 6ms/step - loss: 0.5311 - accuracy: 0.7511 - val_loss: 0.5236 - val_accuracy: 0.7547\n",
            "Epoch 21/50\n",
            "192/192 [==============================] - 1s 5ms/step - loss: 0.5264 - accuracy: 0.7491 - val_loss: 0.5236 - val_accuracy: 0.7560\n",
            "Epoch 22/50\n",
            "192/192 [==============================] - 1s 6ms/step - loss: 0.5256 - accuracy: 0.7507 - val_loss: 0.5164 - val_accuracy: 0.7551\n",
            "Epoch 23/50\n",
            "192/192 [==============================] - 1s 6ms/step - loss: 0.5214 - accuracy: 0.7519 - val_loss: 0.5105 - val_accuracy: 0.7531\n",
            "Epoch 24/50\n",
            "192/192 [==============================] - 1s 6ms/step - loss: 0.5214 - accuracy: 0.7549 - val_loss: 0.5050 - val_accuracy: 0.7619\n",
            "Epoch 25/50\n",
            "192/192 [==============================] - 1s 6ms/step - loss: 0.5162 - accuracy: 0.7564 - val_loss: 0.5083 - val_accuracy: 0.7678\n",
            "Epoch 26/50\n",
            "192/192 [==============================] - 1s 6ms/step - loss: 0.5127 - accuracy: 0.7573 - val_loss: 0.5077 - val_accuracy: 0.7554\n",
            "Epoch 27/50\n",
            "192/192 [==============================] - 1s 6ms/step - loss: 0.5146 - accuracy: 0.7565 - val_loss: 0.4987 - val_accuracy: 0.7658\n",
            "Epoch 28/50\n",
            "192/192 [==============================] - 1s 4ms/step - loss: 0.5150 - accuracy: 0.7586 - val_loss: 0.5004 - val_accuracy: 0.7707\n",
            "Epoch 29/50\n",
            "192/192 [==============================] - 1s 4ms/step - loss: 0.5130 - accuracy: 0.7582 - val_loss: 0.5079 - val_accuracy: 0.7642\n",
            "Epoch 30/50\n",
            "192/192 [==============================] - 1s 4ms/step - loss: 0.5068 - accuracy: 0.7595 - val_loss: 0.4961 - val_accuracy: 0.7704\n",
            "Epoch 31/50\n",
            "192/192 [==============================] - 1s 4ms/step - loss: 0.5059 - accuracy: 0.7609 - val_loss: 0.4981 - val_accuracy: 0.7691\n",
            "Epoch 32/50\n",
            "192/192 [==============================] - 1s 4ms/step - loss: 0.5063 - accuracy: 0.7613 - val_loss: 0.4969 - val_accuracy: 0.7674\n",
            "Epoch 33/50\n",
            "192/192 [==============================] - 1s 4ms/step - loss: 0.5058 - accuracy: 0.7605 - val_loss: 0.5056 - val_accuracy: 0.7668\n",
            "Epoch 34/50\n",
            "192/192 [==============================] - 1s 5ms/step - loss: 0.5065 - accuracy: 0.7600 - val_loss: 0.4972 - val_accuracy: 0.7720\n",
            "Epoch 35/50\n",
            "192/192 [==============================] - 1s 5ms/step - loss: 0.5033 - accuracy: 0.7619 - val_loss: 0.4997 - val_accuracy: 0.7701\n",
            "Epoch 36/50\n",
            "192/192 [==============================] - 1s 6ms/step - loss: 0.5021 - accuracy: 0.7660 - val_loss: 0.4959 - val_accuracy: 0.7694\n",
            "Epoch 37/50\n",
            "192/192 [==============================] - 1s 7ms/step - loss: 0.5031 - accuracy: 0.7639 - val_loss: 0.5091 - val_accuracy: 0.7642\n",
            "Epoch 38/50\n",
            "192/192 [==============================] - 1s 6ms/step - loss: 0.5021 - accuracy: 0.7636 - val_loss: 0.4967 - val_accuracy: 0.7723\n",
            "Epoch 39/50\n",
            "192/192 [==============================] - 1s 6ms/step - loss: 0.5026 - accuracy: 0.7659 - val_loss: 0.4932 - val_accuracy: 0.7710\n",
            "Epoch 40/50\n",
            "192/192 [==============================] - 1s 5ms/step - loss: 0.4984 - accuracy: 0.7648 - val_loss: 0.5036 - val_accuracy: 0.7717\n",
            "Epoch 41/50\n",
            "192/192 [==============================] - 1s 4ms/step - loss: 0.4995 - accuracy: 0.7654 - val_loss: 0.5070 - val_accuracy: 0.7609\n",
            "Epoch 42/50\n",
            "192/192 [==============================] - 1s 4ms/step - loss: 0.4998 - accuracy: 0.7657 - val_loss: 0.5031 - val_accuracy: 0.7697\n",
            "Epoch 43/50\n",
            "192/192 [==============================] - 1s 4ms/step - loss: 0.4984 - accuracy: 0.7637 - val_loss: 0.4968 - val_accuracy: 0.7694\n",
            "Epoch 44/50\n",
            "192/192 [==============================] - 1s 4ms/step - loss: 0.4984 - accuracy: 0.7630 - val_loss: 0.4983 - val_accuracy: 0.7606\n",
            "Epoch 45/50\n",
            "192/192 [==============================] - 1s 3ms/step - loss: 0.4971 - accuracy: 0.7667 - val_loss: 0.5044 - val_accuracy: 0.7668\n",
            "Epoch 46/50\n",
            "192/192 [==============================] - 1s 4ms/step - loss: 0.4980 - accuracy: 0.7676 - val_loss: 0.5005 - val_accuracy: 0.7707\n",
            "Epoch 47/50\n",
            "192/192 [==============================] - 1s 4ms/step - loss: 0.4978 - accuracy: 0.7669 - val_loss: 0.5021 - val_accuracy: 0.7655\n",
            "Epoch 48/50\n",
            "192/192 [==============================] - 1s 4ms/step - loss: 0.4963 - accuracy: 0.7659 - val_loss: 0.4919 - val_accuracy: 0.7710\n",
            "Epoch 49/50\n",
            "192/192 [==============================] - 1s 4ms/step - loss: 0.4962 - accuracy: 0.7655 - val_loss: 0.4950 - val_accuracy: 0.7661\n",
            "Epoch 50/50\n",
            "192/192 [==============================] - 1s 4ms/step - loss: 0.4963 - accuracy: 0.7668 - val_loss: 0.5005 - val_accuracy: 0.7606\n"
          ]
        }
      ]
    },
    {
      "cell_type": "code",
      "source": [
        "#Plotting Train Loss vs Validation Loss\n",
        "plt.plot(history_3.history['loss'])\n",
        "plt.plot(history_3.history['val_loss'])\n",
        "plt.title('model loss')\n",
        "plt.ylabel('Loss')\n",
        "plt.xlabel('Epoch')\n",
        "plt.legend(['train', 'validation'], loc='upper left')\n",
        "plt.show()"
      ],
      "metadata": {
        "colab": {
          "base_uri": "https://localhost:8080/",
          "height": 295
        },
        "id": "kY6qb1L0uZNS",
        "outputId": "447b03b7-3320-48c0-fbb6-71e74b92a411"
      },
      "execution_count": 118,
      "outputs": [
        {
          "output_type": "display_data",
          "data": {
            "image/png": "[encoded data removed]",
            "text/plain": [
              "<Figure size 432x288 with 1 Axes>"
            ]
          },
          "metadata": {}
        }
      ]
    },
    {
      "cell_type": "markdown",
      "source": [
        "From the above plot, we observe that both the curves - train and validation are smooth."
      ],
      "metadata": {
        "id": "WzaDXEE9ucf-"
      }
    },
    {
      "cell_type": "code",
      "source": [
        "from sklearn.metrics import roc_curve\n",
        "\n",
        "from matplotlib import pyplot\n",
        "\n",
        "\n",
        "# predict probabilities\n",
        "yhat3 = model3.predict(X_test)\n",
        "# keep probabilities for the positive outcome only\n",
        "yhat3 = yhat3[:, 0]\n",
        "# calculate roc curves\n",
        "fpr, tpr, thresholds3 = roc_curve(y_test, yhat3)\n",
        "# calculate the g-mean for each threshold\n",
        "gmeans3 = np.sqrt(tpr * (1-fpr))\n",
        "# locate the index of the largest g-mean\n",
        "ix = np.argmax(gmeans3)\n",
        "print('Best Threshold=%f, G-Mean=%.3f' % (thresholds3[ix], gmeans3[ix]))\n",
        "# plot the roc curve for the model\n",
        "pyplot.plot([0,1], [0,1], linestyle='--', label='No Skill')\n",
        "pyplot.plot(fpr, tpr, marker='.')\n",
        "pyplot.scatter(fpr[ix], tpr[ix], marker='o', color='black', label='Best')\n",
        "# axis labels\n",
        "pyplot.xlabel('False Positive Rate')\n",
        "pyplot.ylabel('True Positive Rate')\n",
        "pyplot.legend()\n",
        "# show the plot\n",
        "pyplot.show()"
      ],
      "metadata": {
        "colab": {
          "base_uri": "https://localhost:8080/",
          "height": 296
        },
        "id": "9xhfFt73ugEr",
        "outputId": "c4feebef-346c-470d-9abd-7fe95445ce42"
      },
      "execution_count": 117,
      "outputs": [
        {
          "output_type": "stream",
          "name": "stdout",
          "text": [
            "Best Threshold=0.205984, G-Mean=0.705\n"
          ]
        },
        {
          "output_type": "display_data",
          "data": {
            "image/png": "[encoded data removed]",
            "text/plain": [
              "<Figure size 432x288 with 1 Axes>"
            ]
          },
          "metadata": {}
        }
      ]
    },
    {
      "cell_type": "code",
      "source": [
        "y_pred_e3=model3.predict(X_test)\n",
        "y_pred_e3 = (y_pred_e3 > thresholds3[ix])\n",
        "y_pred_e3"
      ],
      "metadata": {
        "colab": {
          "base_uri": "https://localhost:8080/"
        },
        "id": "_5MPoCxGupAW",
        "outputId": "1f7b113a-aa74-4356-c92e-941dd5762af2"
      },
      "execution_count": 119,
      "outputs": [
        {
          "output_type": "execute_result",
          "data": {
            "text/plain": [
              "array([[False],\n",
              "       [ True],\n",
              "       [False],\n",
              "       ...,\n",
              "       [False],\n",
              "       [False],\n",
              "       [False]])"
            ]
          },
          "metadata": {},
          "execution_count": 119
        }
      ]
    },
    {
      "cell_type": "code",
      "source": [
        "#Calculating the confusion matrix \n",
        "from sklearn.metrics import confusion_matrix\n",
        "cm3=confusion_matrix(y_test, y_pred_e3)\n",
        "labels = ['True Positive','False Negative','False Positive','True Negative']\n",
        "categories = [ 'Not Changing Job','Changing Job']\n",
        "make_confusion_matrix(cm3, \n",
        "                      group_names=labels,\n",
        "                      categories=categories, \n",
        "                      cmap='Blues')"
      ],
      "metadata": {
        "colab": {
          "base_uri": "https://localhost:8080/",
          "height": 265
        },
        "id": "oQRcJR4HuuEP",
        "outputId": "231f6a27-348d-4c89-d9a8-7431d0f38185"
      },
      "execution_count": 120,
      "outputs": [
        {
          "output_type": "display_data",
          "data": {
            "image/png": "[encoded data removed]",
            "text/plain": [
              "<Figure size 432x288 with 2 Axes>"
            ]
          },
          "metadata": {}
        }
      ]
    },
    {
      "cell_type": "code",
      "source": [
        "#Accuracy as per the classification report \n",
        "from sklearn import metrics\n",
        "cr3=metrics.classification_report(y_test,y_pred_e3)\n",
        "print(cr3)"
      ],
      "metadata": {
        "colab": {
          "base_uri": "https://localhost:8080/"
        },
        "id": "yTlquA2JuzNq",
        "outputId": "1f43cf4e-a00b-435f-ac89-79af09ac8ca2"
      },
      "execution_count": 121,
      "outputs": [
        {
          "output_type": "stream",
          "name": "stdout",
          "text": [
            "              precision    recall  f1-score   support\n",
            "\n",
            "           0       0.87      0.73      0.79      2877\n",
            "           1       0.45      0.68      0.54       955\n",
            "\n",
            "    accuracy                           0.72      3832\n",
            "   macro avg       0.66      0.70      0.67      3832\n",
            "weighted avg       0.77      0.72      0.73      3832\n",
            "\n"
          ]
        }
      ]
    },
    {
      "cell_type": "markdown",
      "source": [
        "The Dropout technique helped the model reduce the loss function of both train and validation. The F1 score also seems to be fine, with a decrease in the False Negative rate.\n",
        "\n",
        "## Additional Content (Optional)\n",
        "Now, let's try to use some of the Hyperparameter Optimization techniques such as RandomizedSearchCV and Keras Tuner to increase the F1 score of the model."
      ],
      "metadata": {
        "id": "fiBfTsV5u48c"
      }
    },
    {
      "cell_type": "markdown",
      "source": [
        "### Model 5\n",
        "\n",
        "#### **Random Search CV**\n",
        "\n",
        "Some important hyperparameters to look out for while optimizing neural networks are:\n",
        "\n",
        "* Type of Architecture\n",
        "\n",
        "* Number of Layers\n",
        "\n",
        "* Number of Neurons in a layer\n",
        "\n",
        "* Regularization hyperparameters\n",
        "\n",
        "* Learning Rate\n",
        "\n",
        "* Type of Optimizer\n",
        "\n",
        "* Dropout Rate"
      ],
      "metadata": {
        "id": "FRWbXjMnu7yM"
      }
    },
    {
      "cell_type": "code",
      "source": [
        "backend.clear_session()\n",
        "np.random.seed(42)\n",
        "import random\n",
        "random.seed(42)\n",
        "tf.random.set_seed(42)"
      ],
      "metadata": {
        "id": "_qSz991Xu7hU"
      },
      "execution_count": 122,
      "outputs": []
    },
    {
      "cell_type": "code",
      "source": [
        "def create_model_v4(lr,batch_size):  \n",
        "    np.random.seed(1337)\n",
        "    model = Sequential()\n",
        "    model.add(Dense(256,activation='relu',input_dim = X_train.shape[1]))\n",
        "    model.add(Dropout(0.3))\n",
        "    model.add(Dense(128,activation='relu'))\n",
        "    model.add(Dropout(0.3))\n",
        "    model.add(Dense(64,activation='relu'))\n",
        "    model.add(Dropout(0.2))\n",
        "    model.add(Dense(32,activation='relu')) \n",
        "    model.add(Dense(1, activation='sigmoid'))\n",
        "\n",
        "    #compile model\n",
        "    optimizer = tf.keras.optimizers.Adam(learning_rate=lr)\n",
        "    model.compile(optimizer = optimizer,loss = 'binary_crossentropy', metrics = ['accuracy'])\n",
        "    return model"
      ],
      "metadata": {
        "id": "QJeRnI19vFJ8"
      },
      "execution_count": 123,
      "outputs": []
    },
    {
      "cell_type": "markdown",
      "source": [
        "We are using Random search to optimize two hyperparameters - **Batch size** & **Learning Rate**.\n",
        "\n",
        "You can also optimize other hyperparameters as mentioned above.\n",
        "\n",
        "\n"
      ],
      "metadata": {
        "id": "Os147WIzvQ1B"
      }
    },
    {
      "cell_type": "code",
      "source": [
        "keras_estimator = KerasClassifier(build_fn=create_model_v4, verbose=1)\n",
        "# define the grid search parameters\n",
        "param_random = {\n",
        "    'batch_size':[32, 64, 128],\n",
        "    \"lr\":[0.01,0.1,0.001],}\n",
        "\n",
        "kfold_splits = 3\n",
        "random= RandomizedSearchCV(estimator=keras_estimator,  \n",
        "                    verbose=1,\n",
        "                    cv=kfold_splits,  \n",
        "                    param_distributions=param_random,n_jobs=-1)"
      ],
      "metadata": {
        "id": "1NDK5mIyvUBq"
      },
      "execution_count": 124,
      "outputs": []
    },
    {
      "cell_type": "code",
      "source": [
        "random_result = random.fit(X_train, y_train,validation_split=0.2,verbose=1) \n",
        "\n",
        "# Summarize results\n",
        "print(\"Best: %f using %s\" % (random_result.best_score_, random_result.best_params_))\n",
        "means = random_result.cv_results_['mean_test_score']\n",
        "stds = random_result.cv_results_['std_test_score']\n",
        "params = random_result.cv_results_['params']"
      ],
      "metadata": {
        "colab": {
          "base_uri": "https://localhost:8080/"
        },
        "id": "wGQ2ys3LviQi",
        "outputId": "c5c8c8da-23d3-456b-a3db-f8166b3296fd"
      },
      "execution_count": 125,
      "outputs": [
        {
          "output_type": "stream",
          "name": "stdout",
          "text": [
            "Fitting 3 folds for each of 9 candidates, totalling 27 fits\n",
            "384/384 [==============================] - 3s 6ms/step - loss: 0.6440 - accuracy: 0.7415 - val_loss: 0.5613 - val_accuracy: 0.7515\n",
            "Best: 0.750620 using {'lr': 0.01, 'batch_size': 32}\n"
          ]
        }
      ]
    },
    {
      "cell_type": "markdown",
      "source": [
        "The best model is with the following configuration: \n",
        "\n",
        "( It may vary each time the code runs ) \n",
        "\n",
        "**Result of Random Search**\n",
        "\n",
        "{'batch_size': 32, 'learning_rate\": 0.01}\n",
        "\n",
        "Let's create the final model with the above mentioned configuration"
      ],
      "metadata": {
        "id": "6L7hL74FvmbR"
      }
    },
    {
      "cell_type": "code",
      "source": [
        "estimator_v4=create_model_v4(batch_size=random_result.best_params_['batch_size'],lr=random_result.best_params_['lr'])\n",
        "\n",
        "estimator_v4.summary()"
      ],
      "metadata": {
        "colab": {
          "base_uri": "https://localhost:8080/"
        },
        "id": "PNa_C9SyvrlU",
        "outputId": "4acb87cd-7b4f-4c5b-c8f1-8a12d7981435"
      },
      "execution_count": 126,
      "outputs": [
        {
          "output_type": "stream",
          "name": "stdout",
          "text": [
            "Model: \"sequential_1\"\n",
            "_________________________________________________________________\n",
            " Layer (type)                Output Shape              Param #   \n",
            "=================================================================\n",
            " dense_5 (Dense)             (None, 256)               2560      \n",
            "                                                                 \n",
            " dropout_3 (Dropout)         (None, 256)               0         \n",
            "                                                                 \n",
            " dense_6 (Dense)             (None, 128)               32896     \n",
            "                                                                 \n",
            " dropout_4 (Dropout)         (None, 128)               0         \n",
            "                                                                 \n",
            " dense_7 (Dense)             (None, 64)                8256      \n",
            "                                                                 \n",
            " dropout_5 (Dropout)         (None, 64)                0         \n",
            "                                                                 \n",
            " dense_8 (Dense)             (None, 32)                2080      \n",
            "                                                                 \n",
            " dense_9 (Dense)             (None, 1)                 33        \n",
            "                                                                 \n",
            "=================================================================\n",
            "Total params: 45,825\n",
            "Trainable params: 45,825\n",
            "Non-trainable params: 0\n",
            "_________________________________________________________________\n"
          ]
        }
      ]
    },
    {
      "cell_type": "code",
      "source": [
        "optimizer = tf.keras.optimizers.Adam(random_result.best_params_['lr'])\n",
        "estimator_v4.compile(loss='binary_crossentropy',optimizer=optimizer,metrics=['accuracy'])\n",
        "history_4=estimator_v4.fit(X_train, y_train, epochs=50, batch_size = 64, verbose=1,validation_split=0.2)"
      ],
      "metadata": {
        "colab": {
          "base_uri": "https://localhost:8080/"
        },
        "id": "hXDdPSVevxmY",
        "outputId": "87402adc-0306-4d8d-d178-efbc2ea94726"
      },
      "execution_count": 127,
      "outputs": [
        {
          "output_type": "stream",
          "name": "stdout",
          "text": [
            "Epoch 1/50\n",
            "192/192 [==============================] - 2s 4ms/step - loss: 0.6643 - accuracy: 0.7405 - val_loss: 0.5677 - val_accuracy: 0.7515\n",
            "Epoch 2/50\n",
            "192/192 [==============================] - 1s 4ms/step - loss: 0.5649 - accuracy: 0.7502 - val_loss: 0.5619 - val_accuracy: 0.7515\n",
            "Epoch 3/50\n",
            "192/192 [==============================] - 1s 4ms/step - loss: 0.5602 - accuracy: 0.7503 - val_loss: 0.5537 - val_accuracy: 0.7515\n",
            "Epoch 4/50\n",
            "192/192 [==============================] - 1s 4ms/step - loss: 0.5583 - accuracy: 0.7504 - val_loss: 0.5482 - val_accuracy: 0.7515\n",
            "Epoch 5/50\n",
            "192/192 [==============================] - 1s 3ms/step - loss: 0.5556 - accuracy: 0.7504 - val_loss: 0.5541 - val_accuracy: 0.7515\n",
            "Epoch 6/50\n",
            "192/192 [==============================] - 1s 4ms/step - loss: 0.5544 - accuracy: 0.7498 - val_loss: 0.5463 - val_accuracy: 0.7515\n",
            "Epoch 7/50\n",
            "192/192 [==============================] - 1s 4ms/step - loss: 0.5505 - accuracy: 0.7500 - val_loss: 0.5392 - val_accuracy: 0.7515\n",
            "Epoch 8/50\n",
            "192/192 [==============================] - 1s 4ms/step - loss: 0.5531 - accuracy: 0.7499 - val_loss: 0.5537 - val_accuracy: 0.7515\n",
            "Epoch 9/50\n",
            "192/192 [==============================] - 1s 4ms/step - loss: 0.5518 - accuracy: 0.7498 - val_loss: 0.5471 - val_accuracy: 0.7515\n",
            "Epoch 10/50\n",
            "192/192 [==============================] - 1s 4ms/step - loss: 0.5521 - accuracy: 0.7510 - val_loss: 0.5524 - val_accuracy: 0.7515\n",
            "Epoch 11/50\n",
            "192/192 [==============================] - 1s 5ms/step - loss: 0.5513 - accuracy: 0.7512 - val_loss: 0.5493 - val_accuracy: 0.7515\n",
            "Epoch 12/50\n",
            "192/192 [==============================] - 1s 5ms/step - loss: 0.5490 - accuracy: 0.7504 - val_loss: 0.5390 - val_accuracy: 0.7518\n",
            "Epoch 13/50\n",
            "192/192 [==============================] - 1s 6ms/step - loss: 0.5503 - accuracy: 0.7495 - val_loss: 0.5376 - val_accuracy: 0.7515\n",
            "Epoch 14/50\n",
            "192/192 [==============================] - 1s 6ms/step - loss: 0.5497 - accuracy: 0.7498 - val_loss: 0.5451 - val_accuracy: 0.7515\n",
            "Epoch 15/50\n",
            "192/192 [==============================] - 1s 5ms/step - loss: 0.5506 - accuracy: 0.7490 - val_loss: 0.5488 - val_accuracy: 0.7515\n",
            "Epoch 16/50\n",
            "192/192 [==============================] - 1s 5ms/step - loss: 0.5464 - accuracy: 0.7508 - val_loss: 0.5270 - val_accuracy: 0.7515\n",
            "Epoch 17/50\n",
            "192/192 [==============================] - 1s 6ms/step - loss: 0.5478 - accuracy: 0.7509 - val_loss: 0.5359 - val_accuracy: 0.7515\n",
            "Epoch 18/50\n",
            "192/192 [==============================] - 1s 8ms/step - loss: 0.5474 - accuracy: 0.7498 - val_loss: 0.5342 - val_accuracy: 0.7521\n",
            "Epoch 19/50\n",
            "192/192 [==============================] - 2s 9ms/step - loss: 0.5482 - accuracy: 0.7501 - val_loss: 0.5446 - val_accuracy: 0.7521\n",
            "Epoch 20/50\n",
            "192/192 [==============================] - 1s 6ms/step - loss: 0.5494 - accuracy: 0.7498 - val_loss: 0.5458 - val_accuracy: 0.7515\n",
            "Epoch 21/50\n",
            "192/192 [==============================] - 1s 6ms/step - loss: 0.5507 - accuracy: 0.7494 - val_loss: 0.5372 - val_accuracy: 0.7515\n",
            "Epoch 22/50\n",
            "192/192 [==============================] - 2s 9ms/step - loss: 0.5510 - accuracy: 0.7494 - val_loss: 0.5373 - val_accuracy: 0.7515\n",
            "Epoch 23/50\n",
            "192/192 [==============================] - 1s 7ms/step - loss: 0.5458 - accuracy: 0.7505 - val_loss: 0.5438 - val_accuracy: 0.7515\n",
            "Epoch 24/50\n",
            "192/192 [==============================] - 1s 5ms/step - loss: 0.5490 - accuracy: 0.7502 - val_loss: 0.5274 - val_accuracy: 0.7524\n",
            "Epoch 25/50\n",
            "192/192 [==============================] - 1s 7ms/step - loss: 0.5445 - accuracy: 0.7498 - val_loss: 0.5349 - val_accuracy: 0.7518\n",
            "Epoch 26/50\n",
            "192/192 [==============================] - 1s 8ms/step - loss: 0.5415 - accuracy: 0.7494 - val_loss: 0.5356 - val_accuracy: 0.7515\n",
            "Epoch 27/50\n",
            "192/192 [==============================] - 1s 7ms/step - loss: 0.5476 - accuracy: 0.7486 - val_loss: 0.5454 - val_accuracy: 0.7515\n",
            "Epoch 28/50\n",
            "192/192 [==============================] - 1s 7ms/step - loss: 0.5424 - accuracy: 0.7510 - val_loss: 0.5402 - val_accuracy: 0.7515\n",
            "Epoch 29/50\n",
            "192/192 [==============================] - 2s 8ms/step - loss: 0.5478 - accuracy: 0.7478 - val_loss: 0.5320 - val_accuracy: 0.7521\n",
            "Epoch 30/50\n",
            "192/192 [==============================] - 1s 7ms/step - loss: 0.5460 - accuracy: 0.7507 - val_loss: 0.5390 - val_accuracy: 0.7528\n",
            "Epoch 31/50\n",
            "192/192 [==============================] - 1s 6ms/step - loss: 0.5431 - accuracy: 0.7506 - val_loss: 0.5284 - val_accuracy: 0.7515\n",
            "Epoch 32/50\n",
            "192/192 [==============================] - 1s 5ms/step - loss: 0.5428 - accuracy: 0.7502 - val_loss: 0.5319 - val_accuracy: 0.7518\n",
            "Epoch 33/50\n",
            "192/192 [==============================] - 1s 6ms/step - loss: 0.5399 - accuracy: 0.7500 - val_loss: 0.5225 - val_accuracy: 0.7521\n",
            "Epoch 34/50\n",
            "192/192 [==============================] - 1s 6ms/step - loss: 0.5424 - accuracy: 0.7497 - val_loss: 0.5282 - val_accuracy: 0.7515\n",
            "Epoch 35/50\n",
            "192/192 [==============================] - 1s 7ms/step - loss: 0.5409 - accuracy: 0.7502 - val_loss: 0.5267 - val_accuracy: 0.7515\n",
            "Epoch 36/50\n",
            "192/192 [==============================] - 1s 7ms/step - loss: 0.5386 - accuracy: 0.7489 - val_loss: 0.5271 - val_accuracy: 0.7515\n",
            "Epoch 37/50\n",
            "192/192 [==============================] - 1s 7ms/step - loss: 0.5426 - accuracy: 0.7502 - val_loss: 0.5342 - val_accuracy: 0.7515\n",
            "Epoch 38/50\n",
            "192/192 [==============================] - 1s 7ms/step - loss: 0.5436 - accuracy: 0.7498 - val_loss: 0.5314 - val_accuracy: 0.7515\n",
            "Epoch 39/50\n",
            "192/192 [==============================] - 1s 7ms/step - loss: 0.5430 - accuracy: 0.7498 - val_loss: 0.5318 - val_accuracy: 0.7515\n",
            "Epoch 40/50\n",
            "192/192 [==============================] - 1s 7ms/step - loss: 0.5457 - accuracy: 0.7492 - val_loss: 0.5351 - val_accuracy: 0.7515\n",
            "Epoch 41/50\n",
            "192/192 [==============================] - 1s 7ms/step - loss: 0.5428 - accuracy: 0.7498 - val_loss: 0.5198 - val_accuracy: 0.7531\n",
            "Epoch 42/50\n",
            "192/192 [==============================] - 1s 6ms/step - loss: 0.5400 - accuracy: 0.7514 - val_loss: 0.5179 - val_accuracy: 0.7547\n",
            "Epoch 43/50\n",
            "192/192 [==============================] - 1s 6ms/step - loss: 0.5372 - accuracy: 0.7502 - val_loss: 0.5317 - val_accuracy: 0.7515\n",
            "Epoch 44/50\n",
            "192/192 [==============================] - 1s 6ms/step - loss: 0.5405 - accuracy: 0.7491 - val_loss: 0.5357 - val_accuracy: 0.7515\n",
            "Epoch 45/50\n",
            "192/192 [==============================] - 1s 4ms/step - loss: 0.5451 - accuracy: 0.7521 - val_loss: 0.5406 - val_accuracy: 0.7515\n",
            "Epoch 46/50\n",
            "192/192 [==============================] - 1s 4ms/step - loss: 0.5451 - accuracy: 0.7514 - val_loss: 0.5255 - val_accuracy: 0.7528\n",
            "Epoch 47/50\n",
            "192/192 [==============================] - 1s 6ms/step - loss: 0.5368 - accuracy: 0.7508 - val_loss: 0.5148 - val_accuracy: 0.7573\n",
            "Epoch 48/50\n",
            "192/192 [==============================] - 1s 6ms/step - loss: 0.5385 - accuracy: 0.7498 - val_loss: 0.5302 - val_accuracy: 0.7515\n",
            "Epoch 49/50\n",
            "192/192 [==============================] - 1s 6ms/step - loss: 0.5381 - accuracy: 0.7489 - val_loss: 0.5359 - val_accuracy: 0.7515\n",
            "Epoch 50/50\n",
            "192/192 [==============================] - 1s 5ms/step - loss: 0.5419 - accuracy: 0.7485 - val_loss: 0.5301 - val_accuracy: 0.7515\n"
          ]
        }
      ]
    },
    {
      "cell_type": "code",
      "source": [
        "#Plotting Train Loss vs Validation Loss\n",
        "plt.plot(history_4.history['loss'])\n",
        "plt.plot(history_4.history['val_loss'])\n",
        "plt.title('model loss')\n",
        "plt.ylabel('Loss')\n",
        "plt.xlabel('Epoch')\n",
        "plt.legend(['train', 'validation'], loc='upper left')\n",
        "plt.show()"
      ],
      "metadata": {
        "colab": {
          "base_uri": "https://localhost:8080/",
          "height": 295
        },
        "id": "jA9PwOBnv88J",
        "outputId": "018cf952-5dcf-4177-cfcd-efbc7187f89f"
      },
      "execution_count": 129,
      "outputs": [
        {
          "output_type": "display_data",
          "data": {
            "image/png": "[encoded data removed]",
            "text/plain": [
              "<Figure size 432x288 with 1 Axes>"
            ]
          },
          "metadata": {}
        }
      ]
    },
    {
      "cell_type": "markdown",
      "source": [
        "From the above plot, we observe that there is noise in the training behavior of the model."
      ],
      "metadata": {
        "id": "PCipcVRPwFbR"
      }
    },
    {
      "cell_type": "code",
      "source": [
        "from sklearn.metrics import roc_curve\n",
        "\n",
        "from matplotlib import pyplot\n",
        "\n",
        "\n",
        "# predict probabilities\n",
        "yhat4 = estimator_v4.predict(X_test)\n",
        "# keep probabilities for the positive outcome only\n",
        "yhat4 = yhat4[:, 0]\n",
        "# calculate roc curves\n",
        "fpr, tpr, thresholds4 = roc_curve(y_test, yhat4)\n",
        "# calculate the g-mean for each threshold\n",
        "gmeans4 = np.sqrt(tpr * (1-fpr))\n",
        "# locate the index of the largest g-mean\n",
        "ix = np.argmax(gmeans4)\n",
        "print('Best Threshold=%f, G-Mean=%.3f' % (thresholds4[ix], gmeans4[ix]))\n",
        "# plot the roc curve for the model\n",
        "pyplot.plot([0,1], [0,1], linestyle='--', label='No Skill')\n",
        "pyplot.plot(fpr, tpr, marker='.')\n",
        "pyplot.scatter(fpr[ix], tpr[ix], marker='o', color='black', label='Best')\n",
        "# axis labels\n",
        "pyplot.xlabel('False Positive Rate')\n",
        "pyplot.ylabel('True Positive Rate')\n",
        "pyplot.legend()\n",
        "# show the plot\n",
        "pyplot.show()"
      ],
      "metadata": {
        "colab": {
          "base_uri": "https://localhost:8080/",
          "height": 296
        },
        "id": "M9XQ4ErEwHsS",
        "outputId": "1197400f-a99f-4efb-e48f-fdaf4174c08a"
      },
      "execution_count": 131,
      "outputs": [
        {
          "output_type": "stream",
          "name": "stdout",
          "text": [
            "Best Threshold=0.283784, G-Mean=0.604\n"
          ]
        },
        {
          "output_type": "display_data",
          "data": {
            "image/png": "[encoded data removed]",
            "text/plain": [
              "<Figure size 432x288 with 1 Axes>"
            ]
          },
          "metadata": {}
        }
      ]
    },
    {
      "cell_type": "code",
      "source": [
        "y_pred_e4=estimator_v4.predict(X_test)\n",
        "y_pred_e4 = (y_pred_e4 > thresholds4[ix])\n",
        "y_pred_e4"
      ],
      "metadata": {
        "colab": {
          "base_uri": "https://localhost:8080/"
        },
        "id": "3AYGwc3hwQ8g",
        "outputId": "cae73e08-8f97-4ff4-c49d-d099cc1b2a36"
      },
      "execution_count": 132,
      "outputs": [
        {
          "output_type": "execute_result",
          "data": {
            "text/plain": [
              "array([[False],\n",
              "       [ True],\n",
              "       [False],\n",
              "       ...,\n",
              "       [ True],\n",
              "       [ True],\n",
              "       [False]])"
            ]
          },
          "metadata": {},
          "execution_count": 132
        }
      ]
    },
    {
      "cell_type": "code",
      "source": [
        "#Calculating the confusion matrix \n",
        "from sklearn.metrics import confusion_matrix\n",
        "cm4=confusion_matrix(y_test, y_pred_e4)\n",
        "labels = ['True Positive','False Negative','False Positive','True Negative']\n",
        "categories = [ 'Not Changing Job','Changing Job']\n",
        "make_confusion_matrix(cm4, \n",
        "                      group_names=labels,\n",
        "                      categories=categories, \n",
        "                      cmap='Blues')"
      ],
      "metadata": {
        "colab": {
          "base_uri": "https://localhost:8080/",
          "height": 267
        },
        "id": "OHbftnK0wRiL",
        "outputId": "340f85cf-3cb3-4a6e-e95d-16153178db84"
      },
      "execution_count": 133,
      "outputs": [
        {
          "output_type": "display_data",
          "data": {
            "image/png": "[encoded data removed]",
            "text/plain": [
              "<Figure size 432x288 with 2 Axes>"
            ]
          },
          "metadata": {}
        }
      ]
    },
    {
      "cell_type": "code",
      "source": [
        "#Accuracy as per the classification report \n",
        "from sklearn import metrics\n",
        "cr4=metrics.classification_report(y_test,y_pred_e4)\n",
        "print(cr4)"
      ],
      "metadata": {
        "colab": {
          "base_uri": "https://localhost:8080/"
        },
        "id": "7K8zQTTGwdjB",
        "outputId": "de92f350-fcd1-4ff0-82a8-e5af3a2801ee"
      },
      "execution_count": 134,
      "outputs": [
        {
          "output_type": "stream",
          "name": "stdout",
          "text": [
            "              precision    recall  f1-score   support\n",
            "\n",
            "           0       0.83      0.56      0.67      2877\n",
            "           1       0.33      0.65      0.44       955\n",
            "\n",
            "    accuracy                           0.58      3832\n",
            "   macro avg       0.58      0.60      0.55      3832\n",
            "weighted avg       0.70      0.58      0.61      3832\n",
            "\n"
          ]
        }
      ]
    },
    {
      "cell_type": "markdown",
      "source": [
        "- Hyperparameter tuning is used here to get a better F1 score, but the F1 score may differ each time. \n",
        "\n",
        "- Other hyperparameters can also be tuned to get better performance on the metrics. \n",
        "\n",
        "- Here, the F1 score of the model has decreased in comparison to the previous best performance, as Random Search CV will choose the hyperparameters randomly, and hence has a very low chance of finding a highly optimal configuration. \n",
        "\n",
        "- So, our final model here can be **Model 4**, which uses the Dropout regularization technique and works on the imbalanced dataset."
      ],
      "metadata": {
        "id": "xmnedthEwfmb"
      }
    },
    {
      "cell_type": "markdown",
      "source": [
        "### Business Recommendations\n",
        "* The HR department of the company can deploy the final model from this exercise to identify with a reasonable degree of accuracy whether an employee is likely to switch jobs or not, and this process seems to be easier and more time-efficient than other methods."
      ],
      "metadata": {
        "id": "B6d27_8Ewhi5"
      }
    }
  ]
}