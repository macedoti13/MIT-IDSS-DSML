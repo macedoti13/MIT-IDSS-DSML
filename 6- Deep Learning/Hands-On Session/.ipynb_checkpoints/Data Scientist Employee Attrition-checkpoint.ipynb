{
 "cells": [
  {
   "cell_type": "markdown",
   "id": "wdzuhZ7p2jIM",
   "metadata": {
    "id": "wdzuhZ7p2jIM"
   },
   "source": [
    "# **Data Scientist Employee Attrition - Job Change of data Scientists**\n",
    "\n",
    "### **Problem Statement**\n",
    "\n",
    "A company that is active in Big data and data Science wants to hire data scientists among people who successfully pass some courses conducted by the company. Many people sign up for their training. The company wants to know which of these candidates want to work for the company after training or looking for new employment because it helps to reduce the cost and time as well as the quality of training or planning the courses and categorization of candidates. Information related to demographics, education and experience is provided by candidates during sign-up and enrollment.\n",
    "\n",
    "This dataset is designed to understand the factors that lead a person to leave their current job, and it is hence useful for HR research. By building a model that uses the current credentials, demographics, and work experience related data, you will predict the probability that a candidate is looking for a new job, as well as interpret the main factors that affect an employee's decision whether to continue or attrite.\n",
    "\n",
    "### **Data Description**\n",
    "\n",
    "* **Enrollee_id:** Unique ID for candidate\n",
    "* **City:** City code\n",
    "* **City_development_index:** Development index of the city (scaled)\n",
    "* **Gender:** Gender of candidate\n",
    "* **Relevant_experience:** Relevant experience of candidate\n",
    "* **Enrolled_university:** Type of University course enrolled if any\n",
    "* **Education_level:** Education level of candidate\n",
    "* **Major_discipline:** Education major discipline of candidate\n",
    "* **Experience:** Candidate total experience in years\n",
    "* **Company_size:** No of employees in current employer's company\n",
    "* **Company_type:** Type of current employer\n",
    "* **Last_new_job:** Difference in years between previous job and current job\n",
    "* **Training_hours:** training hours completed\n",
    "* **Target:** 0 – Not looking for job change, 1 – Looking for a job change"
   ]
  },
  {
   "cell_type": "code",
   "execution_count": 1,
   "id": "5FMTzFwCO1Nk",
   "metadata": {
    "colab": {
     "base_uri": "https://localhost:8080/"
    },
    "id": "5FMTzFwCO1Nk",
    "outputId": "b410cd03-5aa0-491c-a551-fc99071fbd96"
   },
   "outputs": [],
   "source": [
    "# ## Mounting the Library\n",
    "# from google.colab import drive\n",
    "# drive.mount('/content/drive')"
   ]
  },
  {
   "cell_type": "markdown",
   "id": "k12UScc581uF",
   "metadata": {
    "id": "k12UScc581uF"
   },
   "source": [
    "## **Introductory Steps**"
   ]
  },
  {
   "cell_type": "markdown",
   "id": "vEUKOiz5-Qld",
   "metadata": {
    "id": "vEUKOiz5-Qld"
   },
   "source": [
    "### Importing Libraries"
   ]
  },
  {
   "cell_type": "code",
   "execution_count": 2,
   "id": "f5abb09d",
   "metadata": {
    "id": "f5abb09d"
   },
   "outputs": [],
   "source": [
    "import pandas as pd\n",
    "import numpy as np\n",
    "import matplotlib.pyplot as plt\n",
    "import seaborn as sns\n",
    "from matplotlib import pyplot\n",
    "\n",
    "\n",
    "from sklearn.metrics import roc_curve,classification_report\n",
    "from sklearn.model_selection import train_test_split\n",
    "from sklearn.preprocessing import LabelEncoder, OneHotEncoder\n",
    "from sklearn import model_selection\n",
    "from sklearn.compose import ColumnTransformer\n",
    "from sklearn.impute import SimpleImputer\n",
    "from sklearn.metrics import confusion_matrix\n",
    "from sklearn.pipeline import Pipeline\n",
    "from sklearn.model_selection import GridSearchCV\n",
    "from sklearn.model_selection import RandomizedSearchCV\n",
    "\n",
    "import tensorflow as tf\n",
    "from tensorflow.keras import backend\n",
    "from tensorflow.keras.models import Sequential\n",
    "from tensorflow.keras.layers import Dense\n",
    "from tensorflow.keras.layers import Dense, Input, Dropout,BatchNormalization\n",
    "from tensorflow.keras.wrappers.scikit_learn import KerasClassifier\n",
    "\n",
    "import random\n",
    "random.seed(1)\n",
    "np.random.seed(1) \n",
    "tf.random.set_seed(1)\n",
    "\n",
    "import warnings\n",
    "warnings.filterwarnings(\"ignore\")"
   ]
  },
  {
   "cell_type": "markdown",
   "id": "ZAEqtrQu-VzO",
   "metadata": {
    "id": "ZAEqtrQu-VzO"
   },
   "source": [
    "### Loading the data"
   ]
  },
  {
   "cell_type": "code",
   "execution_count": 3,
   "id": "f800cd8d",
   "metadata": {
    "id": "f800cd8d"
   },
   "outputs": [],
   "source": [
    "data = pd.read_csv('Data.csv')"
   ]
  },
  {
   "cell_type": "code",
   "execution_count": 4,
   "id": "BXZyb1vh-c2a",
   "metadata": {
    "colab": {
     "base_uri": "https://localhost:8080/"
    },
    "id": "BXZyb1vh-c2a",
    "outputId": "9eab9e94-5164-4744-b25d-a14d358c74f2"
   },
   "outputs": [
    {
     "data": {
      "text/plain": [
       "(19158, 14)"
      ]
     },
     "execution_count": 4,
     "metadata": {},
     "output_type": "execute_result"
    }
   ],
   "source": [
    "# Checking the number of rows and columns in the data\n",
    "data.shape"
   ]
  },
  {
   "cell_type": "markdown",
   "id": "O9rtKHxB-fy1",
   "metadata": {
    "id": "O9rtKHxB-fy1"
   },
   "source": [
    "* The dataset has 19158 rows and 14 columns"
   ]
  },
  {
   "cell_type": "markdown",
   "id": "6BoKgZyQ-nAF",
   "metadata": {
    "id": "6BoKgZyQ-nAF"
   },
   "source": [
    "### Data Overview"
   ]
  },
  {
   "cell_type": "code",
   "execution_count": 5,
   "id": "047c72cc",
   "metadata": {
    "colab": {
     "base_uri": "https://localhost:8080/",
     "height": 305
    },
    "id": "047c72cc",
    "outputId": "4261b6df-2b25-4130-cce9-2a1f8995312d"
   },
   "outputs": [
    {
     "data": {
      "text/html": [
       "<div>\n",
       "<style scoped>\n",
       "    .dataframe tbody tr th:only-of-type {\n",
       "        vertical-align: middle;\n",
       "    }\n",
       "\n",
       "    .dataframe tbody tr th {\n",
       "        vertical-align: top;\n",
       "    }\n",
       "\n",
       "    .dataframe thead th {\n",
       "        text-align: right;\n",
       "    }\n",
       "</style>\n",
       "<table border=\"1\" class=\"dataframe\">\n",
       "  <thead>\n",
       "    <tr style=\"text-align: right;\">\n",
       "      <th></th>\n",
       "      <th>Enrollee_id</th>\n",
       "      <th>City</th>\n",
       "      <th>City_development_index</th>\n",
       "      <th>Gender</th>\n",
       "      <th>Relevant_experience</th>\n",
       "      <th>Enrolled_university</th>\n",
       "      <th>Education_level</th>\n",
       "      <th>Major_discipline</th>\n",
       "      <th>Experience</th>\n",
       "      <th>Company_size</th>\n",
       "      <th>Company_type</th>\n",
       "      <th>Last_new_job</th>\n",
       "      <th>Training_hours</th>\n",
       "      <th>Target</th>\n",
       "    </tr>\n",
       "  </thead>\n",
       "  <tbody>\n",
       "    <tr>\n",
       "      <th>0</th>\n",
       "      <td>8949</td>\n",
       "      <td>city_103</td>\n",
       "      <td>0.920</td>\n",
       "      <td>Male</td>\n",
       "      <td>Has relevent experience</td>\n",
       "      <td>no_enrollment</td>\n",
       "      <td>Graduate</td>\n",
       "      <td>STEM</td>\n",
       "      <td>&gt;20</td>\n",
       "      <td>NaN</td>\n",
       "      <td>NaN</td>\n",
       "      <td>1</td>\n",
       "      <td>36</td>\n",
       "      <td>1</td>\n",
       "    </tr>\n",
       "    <tr>\n",
       "      <th>1</th>\n",
       "      <td>29725</td>\n",
       "      <td>city_40</td>\n",
       "      <td>0.776</td>\n",
       "      <td>Male</td>\n",
       "      <td>No relevent experience</td>\n",
       "      <td>no_enrollment</td>\n",
       "      <td>Graduate</td>\n",
       "      <td>STEM</td>\n",
       "      <td>15</td>\n",
       "      <td>50-99</td>\n",
       "      <td>Pvt Ltd</td>\n",
       "      <td>&gt;4</td>\n",
       "      <td>47</td>\n",
       "      <td>0</td>\n",
       "    </tr>\n",
       "    <tr>\n",
       "      <th>2</th>\n",
       "      <td>11561</td>\n",
       "      <td>city_21</td>\n",
       "      <td>0.624</td>\n",
       "      <td>NaN</td>\n",
       "      <td>No relevent experience</td>\n",
       "      <td>Full time course</td>\n",
       "      <td>Graduate</td>\n",
       "      <td>STEM</td>\n",
       "      <td>5</td>\n",
       "      <td>NaN</td>\n",
       "      <td>NaN</td>\n",
       "      <td>never</td>\n",
       "      <td>83</td>\n",
       "      <td>0</td>\n",
       "    </tr>\n",
       "    <tr>\n",
       "      <th>3</th>\n",
       "      <td>33241</td>\n",
       "      <td>city_115</td>\n",
       "      <td>0.789</td>\n",
       "      <td>NaN</td>\n",
       "      <td>No relevent experience</td>\n",
       "      <td>NaN</td>\n",
       "      <td>Graduate</td>\n",
       "      <td>Business Degree</td>\n",
       "      <td>&lt;1</td>\n",
       "      <td>NaN</td>\n",
       "      <td>Pvt Ltd</td>\n",
       "      <td>never</td>\n",
       "      <td>52</td>\n",
       "      <td>1</td>\n",
       "    </tr>\n",
       "    <tr>\n",
       "      <th>4</th>\n",
       "      <td>666</td>\n",
       "      <td>city_162</td>\n",
       "      <td>0.767</td>\n",
       "      <td>Male</td>\n",
       "      <td>Has relevent experience</td>\n",
       "      <td>no_enrollment</td>\n",
       "      <td>Masters</td>\n",
       "      <td>STEM</td>\n",
       "      <td>&gt;20</td>\n",
       "      <td>50-99</td>\n",
       "      <td>Funded Startup</td>\n",
       "      <td>4</td>\n",
       "      <td>8</td>\n",
       "      <td>0</td>\n",
       "    </tr>\n",
       "  </tbody>\n",
       "</table>\n",
       "</div>"
      ],
      "text/plain": [
       "   Enrollee_id      City  City_development_index Gender  \\\n",
       "0         8949  city_103                   0.920   Male   \n",
       "1        29725   city_40                   0.776   Male   \n",
       "2        11561   city_21                   0.624    NaN   \n",
       "3        33241  city_115                   0.789    NaN   \n",
       "4          666  city_162                   0.767   Male   \n",
       "\n",
       "       Relevant_experience Enrolled_university Education_level  \\\n",
       "0  Has relevent experience       no_enrollment        Graduate   \n",
       "1   No relevent experience       no_enrollment        Graduate   \n",
       "2   No relevent experience    Full time course        Graduate   \n",
       "3   No relevent experience                 NaN        Graduate   \n",
       "4  Has relevent experience       no_enrollment         Masters   \n",
       "\n",
       "  Major_discipline Experience Company_size    Company_type Last_new_job  \\\n",
       "0             STEM        >20          NaN             NaN            1   \n",
       "1             STEM         15        50-99         Pvt Ltd           >4   \n",
       "2             STEM          5          NaN             NaN        never   \n",
       "3  Business Degree         <1          NaN         Pvt Ltd        never   \n",
       "4             STEM        >20        50-99  Funded Startup            4   \n",
       "\n",
       "   Training_hours  Target  \n",
       "0              36       1  \n",
       "1              47       0  \n",
       "2              83       0  \n",
       "3              52       1  \n",
       "4               8       0  "
      ]
     },
     "execution_count": 5,
     "metadata": {},
     "output_type": "execute_result"
    }
   ],
   "source": [
    "# Let's view the first 5 rows of the data\n",
    "data.head()"
   ]
  },
  {
   "cell_type": "code",
   "execution_count": 6,
   "id": "kwWUUvkb-sVd",
   "metadata": {
    "colab": {
     "base_uri": "https://localhost:8080/",
     "height": 322
    },
    "id": "kwWUUvkb-sVd",
    "outputId": "84c3fe19-5990-4be3-ce0a-0380082df110"
   },
   "outputs": [
    {
     "data": {
      "text/html": [
       "<div>\n",
       "<style scoped>\n",
       "    .dataframe tbody tr th:only-of-type {\n",
       "        vertical-align: middle;\n",
       "    }\n",
       "\n",
       "    .dataframe tbody tr th {\n",
       "        vertical-align: top;\n",
       "    }\n",
       "\n",
       "    .dataframe thead th {\n",
       "        text-align: right;\n",
       "    }\n",
       "</style>\n",
       "<table border=\"1\" class=\"dataframe\">\n",
       "  <thead>\n",
       "    <tr style=\"text-align: right;\">\n",
       "      <th></th>\n",
       "      <th>Enrollee_id</th>\n",
       "      <th>City</th>\n",
       "      <th>City_development_index</th>\n",
       "      <th>Gender</th>\n",
       "      <th>Relevant_experience</th>\n",
       "      <th>Enrolled_university</th>\n",
       "      <th>Education_level</th>\n",
       "      <th>Major_discipline</th>\n",
       "      <th>Experience</th>\n",
       "      <th>Company_size</th>\n",
       "      <th>Company_type</th>\n",
       "      <th>Last_new_job</th>\n",
       "      <th>Training_hours</th>\n",
       "      <th>Target</th>\n",
       "    </tr>\n",
       "  </thead>\n",
       "  <tbody>\n",
       "    <tr>\n",
       "      <th>19153</th>\n",
       "      <td>7386</td>\n",
       "      <td>city_173</td>\n",
       "      <td>0.878</td>\n",
       "      <td>Male</td>\n",
       "      <td>No relevent experience</td>\n",
       "      <td>no_enrollment</td>\n",
       "      <td>Graduate</td>\n",
       "      <td>Humanities</td>\n",
       "      <td>14</td>\n",
       "      <td>NaN</td>\n",
       "      <td>NaN</td>\n",
       "      <td>1</td>\n",
       "      <td>42</td>\n",
       "      <td>1</td>\n",
       "    </tr>\n",
       "    <tr>\n",
       "      <th>19154</th>\n",
       "      <td>31398</td>\n",
       "      <td>city_103</td>\n",
       "      <td>0.920</td>\n",
       "      <td>Male</td>\n",
       "      <td>Has relevent experience</td>\n",
       "      <td>no_enrollment</td>\n",
       "      <td>Graduate</td>\n",
       "      <td>STEM</td>\n",
       "      <td>14</td>\n",
       "      <td>NaN</td>\n",
       "      <td>NaN</td>\n",
       "      <td>4</td>\n",
       "      <td>52</td>\n",
       "      <td>1</td>\n",
       "    </tr>\n",
       "    <tr>\n",
       "      <th>19155</th>\n",
       "      <td>24576</td>\n",
       "      <td>city_103</td>\n",
       "      <td>0.920</td>\n",
       "      <td>Male</td>\n",
       "      <td>Has relevent experience</td>\n",
       "      <td>no_enrollment</td>\n",
       "      <td>Graduate</td>\n",
       "      <td>STEM</td>\n",
       "      <td>&gt;20</td>\n",
       "      <td>50-99</td>\n",
       "      <td>Pvt Ltd</td>\n",
       "      <td>4</td>\n",
       "      <td>44</td>\n",
       "      <td>0</td>\n",
       "    </tr>\n",
       "    <tr>\n",
       "      <th>19156</th>\n",
       "      <td>5756</td>\n",
       "      <td>city_65</td>\n",
       "      <td>0.802</td>\n",
       "      <td>Male</td>\n",
       "      <td>Has relevent experience</td>\n",
       "      <td>no_enrollment</td>\n",
       "      <td>High School</td>\n",
       "      <td>NaN</td>\n",
       "      <td>&lt;1</td>\n",
       "      <td>500-999</td>\n",
       "      <td>Pvt Ltd</td>\n",
       "      <td>2</td>\n",
       "      <td>97</td>\n",
       "      <td>0</td>\n",
       "    </tr>\n",
       "    <tr>\n",
       "      <th>19157</th>\n",
       "      <td>23834</td>\n",
       "      <td>city_67</td>\n",
       "      <td>0.855</td>\n",
       "      <td>NaN</td>\n",
       "      <td>No relevent experience</td>\n",
       "      <td>no_enrollment</td>\n",
       "      <td>Primary School</td>\n",
       "      <td>NaN</td>\n",
       "      <td>2</td>\n",
       "      <td>NaN</td>\n",
       "      <td>NaN</td>\n",
       "      <td>1</td>\n",
       "      <td>127</td>\n",
       "      <td>0</td>\n",
       "    </tr>\n",
       "  </tbody>\n",
       "</table>\n",
       "</div>"
      ],
      "text/plain": [
       "       Enrollee_id      City  City_development_index Gender  \\\n",
       "19153         7386  city_173                   0.878   Male   \n",
       "19154        31398  city_103                   0.920   Male   \n",
       "19155        24576  city_103                   0.920   Male   \n",
       "19156         5756   city_65                   0.802   Male   \n",
       "19157        23834   city_67                   0.855    NaN   \n",
       "\n",
       "           Relevant_experience Enrolled_university Education_level  \\\n",
       "19153   No relevent experience       no_enrollment        Graduate   \n",
       "19154  Has relevent experience       no_enrollment        Graduate   \n",
       "19155  Has relevent experience       no_enrollment        Graduate   \n",
       "19156  Has relevent experience       no_enrollment     High School   \n",
       "19157   No relevent experience       no_enrollment  Primary School   \n",
       "\n",
       "      Major_discipline Experience Company_size Company_type Last_new_job  \\\n",
       "19153       Humanities         14          NaN          NaN            1   \n",
       "19154             STEM         14          NaN          NaN            4   \n",
       "19155             STEM        >20        50-99      Pvt Ltd            4   \n",
       "19156              NaN         <1      500-999      Pvt Ltd            2   \n",
       "19157              NaN          2          NaN          NaN            1   \n",
       "\n",
       "       Training_hours  Target  \n",
       "19153              42       1  \n",
       "19154              52       1  \n",
       "19155              44       0  \n",
       "19156              97       0  \n",
       "19157             127       0  "
      ]
     },
     "execution_count": 6,
     "metadata": {},
     "output_type": "execute_result"
    }
   ],
   "source": [
    "# Let's view the last 5 rows of the data\n",
    "data.tail()"
   ]
  },
  {
   "cell_type": "code",
   "execution_count": 7,
   "id": "x0A5qifV-vDu",
   "metadata": {
    "colab": {
     "base_uri": "https://localhost:8080/"
    },
    "id": "x0A5qifV-vDu",
    "outputId": "48daaac7-d2ec-418d-bb0f-235cc2a62b9e"
   },
   "outputs": [
    {
     "name": "stdout",
     "output_type": "stream",
     "text": [
      "<class 'pandas.core.frame.DataFrame'>\n",
      "RangeIndex: 19158 entries, 0 to 19157\n",
      "Data columns (total 14 columns):\n",
      " #   Column                  Non-Null Count  Dtype  \n",
      "---  ------                  --------------  -----  \n",
      " 0   Enrollee_id             19158 non-null  int64  \n",
      " 1   City                    19158 non-null  object \n",
      " 2   City_development_index  19158 non-null  float64\n",
      " 3   Gender                  14650 non-null  object \n",
      " 4   Relevant_experience     19158 non-null  object \n",
      " 5   Enrolled_university     18772 non-null  object \n",
      " 6   Education_level         18698 non-null  object \n",
      " 7   Major_discipline        16345 non-null  object \n",
      " 8   Experience              19093 non-null  object \n",
      " 9   Company_size            13220 non-null  object \n",
      " 10  Company_type            13018 non-null  object \n",
      " 11  Last_new_job            18735 non-null  object \n",
      " 12  Training_hours          19158 non-null  int64  \n",
      " 13  Target                  19158 non-null  int64  \n",
      "dtypes: float64(1), int64(3), object(10)\n",
      "memory usage: 2.0+ MB\n"
     ]
    }
   ],
   "source": [
    "# Let's check the datatypes of the columns in the dataset\n",
    "data.info()"
   ]
  },
  {
   "cell_type": "markdown",
   "id": "CWjFgdkn_K3b",
   "metadata": {
    "id": "CWjFgdkn_K3b"
   },
   "source": [
    "* There are 19,158  observations and 14 columns in the data.\n",
    "* 10 columns are of the object datatype and 4 columns are numerical.\n"
   ]
  },
  {
   "cell_type": "code",
   "execution_count": 8,
   "id": "C1KuMSWr-vAW",
   "metadata": {
    "colab": {
     "base_uri": "https://localhost:8080/"
    },
    "id": "C1KuMSWr-vAW",
    "outputId": "fcec3272-01c3-43ac-8f2a-4db688c8cae0"
   },
   "outputs": [
    {
     "data": {
      "text/plain": [
       "0"
      ]
     },
     "execution_count": 8,
     "metadata": {},
     "output_type": "execute_result"
    }
   ],
   "source": [
    "# Let's check for duplicate values in the data\n",
    "data.duplicated().sum()"
   ]
  },
  {
   "cell_type": "code",
   "execution_count": 9,
   "id": "hw4ER4IW-u9t",
   "metadata": {
    "colab": {
     "base_uri": "https://localhost:8080/"
    },
    "id": "hw4ER4IW-u9t",
    "outputId": "291911db-c3fe-460b-a858-e83bb4b2c4a6"
   },
   "outputs": [
    {
     "data": {
      "text/plain": [
       "Enrollee_id                0.00\n",
       "City                       0.00\n",
       "City_development_index     0.00\n",
       "Gender                    23.53\n",
       "Relevant_experience        0.00\n",
       "Enrolled_university        2.01\n",
       "Education_level            2.40\n",
       "Major_discipline          14.68\n",
       "Experience                 0.34\n",
       "Company_size              30.99\n",
       "Company_type              32.05\n",
       "Last_new_job               2.21\n",
       "Training_hours             0.00\n",
       "Target                     0.00\n",
       "dtype: float64"
      ]
     },
     "execution_count": 9,
     "metadata": {},
     "output_type": "execute_result"
    }
   ],
   "source": [
    "# Let's check for missing values in the data\n",
    "round(data.isnull().sum() / data.isnull().count() * 100, 2)"
   ]
  },
  {
   "cell_type": "code",
   "execution_count": 10,
   "id": "6FPOFMiC-u4T",
   "metadata": {
    "colab": {
     "base_uri": "https://localhost:8080/"
    },
    "id": "6FPOFMiC-u4T",
    "outputId": "74ae3377-c422-4305-a084-29ed17ef3e54"
   },
   "outputs": [
    {
     "data": {
      "text/plain": [
       "0    0.750652\n",
       "1    0.249348\n",
       "Name: Target, dtype: float64"
      ]
     },
     "execution_count": 10,
     "metadata": {},
     "output_type": "execute_result"
    }
   ],
   "source": [
    "data[\"Target\"].value_counts(1)"
   ]
  },
  {
   "cell_type": "code",
   "execution_count": 11,
   "id": "CWmq6tIC-u1V",
   "metadata": {
    "colab": {
     "base_uri": "https://localhost:8080/",
     "height": 175
    },
    "id": "CWmq6tIC-u1V",
    "outputId": "d07ff994-3401-43ff-83de-b38c8f4a0554"
   },
   "outputs": [
    {
     "data": {
      "text/html": [
       "<div>\n",
       "<style scoped>\n",
       "    .dataframe tbody tr th:only-of-type {\n",
       "        vertical-align: middle;\n",
       "    }\n",
       "\n",
       "    .dataframe tbody tr th {\n",
       "        vertical-align: top;\n",
       "    }\n",
       "\n",
       "    .dataframe thead th {\n",
       "        text-align: right;\n",
       "    }\n",
       "</style>\n",
       "<table border=\"1\" class=\"dataframe\">\n",
       "  <thead>\n",
       "    <tr style=\"text-align: right;\">\n",
       "      <th></th>\n",
       "      <th>count</th>\n",
       "      <th>mean</th>\n",
       "      <th>std</th>\n",
       "      <th>min</th>\n",
       "      <th>25%</th>\n",
       "      <th>50%</th>\n",
       "      <th>75%</th>\n",
       "      <th>max</th>\n",
       "    </tr>\n",
       "  </thead>\n",
       "  <tbody>\n",
       "    <tr>\n",
       "      <th>Enrollee_id</th>\n",
       "      <td>19158.0</td>\n",
       "      <td>16875.358179</td>\n",
       "      <td>9616.292592</td>\n",
       "      <td>1.000</td>\n",
       "      <td>8554.25</td>\n",
       "      <td>16982.500</td>\n",
       "      <td>25169.75</td>\n",
       "      <td>33380.000</td>\n",
       "    </tr>\n",
       "    <tr>\n",
       "      <th>City_development_index</th>\n",
       "      <td>19158.0</td>\n",
       "      <td>0.828848</td>\n",
       "      <td>0.123362</td>\n",
       "      <td>0.448</td>\n",
       "      <td>0.74</td>\n",
       "      <td>0.903</td>\n",
       "      <td>0.92</td>\n",
       "      <td>0.949</td>\n",
       "    </tr>\n",
       "    <tr>\n",
       "      <th>Training_hours</th>\n",
       "      <td>19158.0</td>\n",
       "      <td>65.366896</td>\n",
       "      <td>60.058462</td>\n",
       "      <td>1.000</td>\n",
       "      <td>23.00</td>\n",
       "      <td>47.000</td>\n",
       "      <td>88.00</td>\n",
       "      <td>336.000</td>\n",
       "    </tr>\n",
       "    <tr>\n",
       "      <th>Target</th>\n",
       "      <td>19158.0</td>\n",
       "      <td>0.249348</td>\n",
       "      <td>0.432647</td>\n",
       "      <td>0.000</td>\n",
       "      <td>0.00</td>\n",
       "      <td>0.000</td>\n",
       "      <td>0.00</td>\n",
       "      <td>1.000</td>\n",
       "    </tr>\n",
       "  </tbody>\n",
       "</table>\n",
       "</div>"
      ],
      "text/plain": [
       "                          count          mean          std    min      25%  \\\n",
       "Enrollee_id             19158.0  16875.358179  9616.292592  1.000  8554.25   \n",
       "City_development_index  19158.0      0.828848     0.123362  0.448     0.74   \n",
       "Training_hours          19158.0     65.366896    60.058462  1.000    23.00   \n",
       "Target                  19158.0      0.249348     0.432647  0.000     0.00   \n",
       "\n",
       "                              50%       75%        max  \n",
       "Enrollee_id             16982.500  25169.75  33380.000  \n",
       "City_development_index      0.903      0.92      0.949  \n",
       "Training_hours             47.000     88.00    336.000  \n",
       "Target                      0.000      0.00      1.000  "
      ]
     },
     "execution_count": 11,
     "metadata": {},
     "output_type": "execute_result"
    }
   ],
   "source": [
    "# Let's view the statistical summary of the numerical columns in the data\n",
    "data.describe().T"
   ]
  },
  {
   "cell_type": "markdown",
   "id": "dEFm1ojXAMrI",
   "metadata": {
    "id": "dEFm1ojXAMrI"
   },
   "source": [
    "Outside of the Enrollee_id (an ID column) and the Target variable, there are only two numerical columns in the dataset.\n",
    "\n",
    "* The maximum number of training hours is 336, but at least 75% of employees had finished their training within 88 hours.\n",
    "* 50% of the rows have a city development index between 0.903 and 0.949, so the dataset is weighted towards the higher side with respect to this column.\n"
   ]
  },
  {
   "cell_type": "code",
   "execution_count": 12,
   "id": "sfJAjYVl7H9B",
   "metadata": {
    "colab": {
     "base_uri": "https://localhost:8080/"
    },
    "id": "sfJAjYVl7H9B",
    "outputId": "eed577bd-6d02-4c6a-b405-e4c0e57405d6",
    "scrolled": true
   },
   "outputs": [
    {
     "data": {
      "text/plain": [
       "Enrollee_id               19158\n",
       "City                        123\n",
       "City_development_index       93\n",
       "Gender                        3\n",
       "Relevant_experience           2\n",
       "Enrolled_university           3\n",
       "Education_level               5\n",
       "Major_discipline              6\n",
       "Experience                   22\n",
       "Company_size                  8\n",
       "Company_type                  6\n",
       "Last_new_job                  6\n",
       "Training_hours              241\n",
       "Target                        2\n",
       "dtype: int64"
      ]
     },
     "execution_count": 12,
     "metadata": {},
     "output_type": "execute_result"
    }
   ],
   "source": [
    "# Let's check the number of unique values in each column\n",
    "data.nunique()"
   ]
  },
  {
   "cell_type": "markdown",
   "id": "vT-pGfcy7RCn",
   "metadata": {
    "id": "vT-pGfcy7RCn"
   },
   "source": [
    "* Each value of the column 'Employee_id' is a unique identifier for an employee. Hence we can drop this column as it will not add any predictive power or value to the model.\n",
    "* The 'City' column has 123 unique categories."
   ]
  },
  {
   "cell_type": "code",
   "execution_count": 13,
   "id": "cDSEGGbP7nGS",
   "metadata": {
    "colab": {
     "base_uri": "https://localhost:8080/"
    },
    "id": "cDSEGGbP7nGS",
    "outputId": "708d2628-5e85-4b60-b727-860c3dcf2d46"
   },
   "outputs": [
    {
     "name": "stdout",
     "output_type": "stream",
     "text": [
      "Unique values in City are :\n",
      "city_103    4355\n",
      "city_21     2702\n",
      "city_16     1533\n",
      "city_114    1336\n",
      "city_160     845\n",
      "            ... \n",
      "city_129       3\n",
      "city_111       3\n",
      "city_121       3\n",
      "city_140       1\n",
      "city_171       1\n",
      "Name: City, Length: 123, dtype: int64\n",
      "**************************************************\n",
      "Unique values in Gender are :\n",
      "Male      13221\n",
      "Female     1238\n",
      "Other       191\n",
      "Name: Gender, dtype: int64\n",
      "**************************************************\n",
      "Unique values in Relevant_experience are :\n",
      "Has relevent experience    13792\n",
      "No relevent experience      5366\n",
      "Name: Relevant_experience, dtype: int64\n",
      "**************************************************\n",
      "Unique values in Enrolled_university are :\n",
      "no_enrollment       13817\n",
      "Full time course     3757\n",
      "Part time course     1198\n",
      "Name: Enrolled_university, dtype: int64\n",
      "**************************************************\n",
      "Unique values in Education_level are :\n",
      "Graduate          11598\n",
      "Masters            4361\n",
      "High School        2017\n",
      "Phd                 414\n",
      "Primary School      308\n",
      "Name: Education_level, dtype: int64\n",
      "**************************************************\n",
      "Unique values in Major_discipline are :\n",
      "STEM               14492\n",
      "Humanities           669\n",
      "Other                381\n",
      "Business Degree      327\n",
      "Arts                 253\n",
      "No Major             223\n",
      "Name: Major_discipline, dtype: int64\n",
      "**************************************************\n",
      "Unique values in Experience are :\n",
      ">20    3286\n",
      "5      1430\n",
      "4      1403\n",
      "3      1354\n",
      "6      1216\n",
      "2      1127\n",
      "7      1028\n",
      "10      985\n",
      "9       980\n",
      "8       802\n",
      "15      686\n",
      "11      664\n",
      "14      586\n",
      "1       549\n",
      "<1      522\n",
      "16      508\n",
      "12      494\n",
      "13      399\n",
      "17      342\n",
      "19      304\n",
      "18      280\n",
      "20      148\n",
      "Name: Experience, dtype: int64\n",
      "**************************************************\n",
      "Unique values in Company_size are :\n",
      "50-99        3083\n",
      "100-500      2571\n",
      "10000+       2019\n",
      "Oct-49       1471\n",
      "1000-4999    1328\n",
      "<10          1308\n",
      "500-999       877\n",
      "5000-9999     563\n",
      "Name: Company_size, dtype: int64\n",
      "**************************************************\n",
      "Unique values in Company_type are :\n",
      "Pvt Ltd                9817\n",
      "Funded Startup         1001\n",
      "Public Sector           955\n",
      "Early Stage Startup     603\n",
      "NGO                     521\n",
      "Other                   121\n",
      "Name: Company_type, dtype: int64\n",
      "**************************************************\n",
      "Unique values in Last_new_job are :\n",
      "1        8040\n",
      ">4       3290\n",
      "2        2900\n",
      "never    2452\n",
      "4        1029\n",
      "3        1024\n",
      "Name: Last_new_job, dtype: int64\n",
      "**************************************************\n"
     ]
    }
   ],
   "source": [
    "for i in data.describe(include=[\"object\"]).columns:\n",
    "    print(\"Unique values in\", i, \"are :\")\n",
    "    print(data[i].value_counts())\n",
    "    print(\"*\" * 50)"
   ]
  },
  {
   "cell_type": "markdown",
   "id": "uZy9gY7HLm_J",
   "metadata": {
    "id": "uZy9gY7HLm_J"
   },
   "source": [
    "* The 'City' column has 123 unique categories, and the city with the highest number of employees is City 103.\n",
    "* Over 90% of the employees in this dataset are males, so it is highly gender-skewed.\n",
    "* Most of the employees (~70%) have relevant experience in data Science.\n",
    "* 70% of the employees did not enroll in any of the courses.\n",
    "* Most of the employees have a Bachelor's level of education (Graduation) but not more than that (~62% of the total number of employees). There are very few employees with Master's degrees and PhDs.\n",
    "* Almost all the employees have previous experience (Related and Non-Related).\n",
    "* ~75% of the employees are from private companies."
   ]
  },
  {
   "cell_type": "markdown",
   "id": "72ZJ-3-yPgA9",
   "metadata": {
    "id": "72ZJ-3-yPgA9"
   },
   "source": [
    "### data Pre-processing"
   ]
  },
  {
   "cell_type": "code",
   "execution_count": 14,
   "id": "GUPZnaH27m94",
   "metadata": {
    "id": "GUPZnaH27m94"
   },
   "outputs": [],
   "source": [
    "# ID column consists of uniques ID for clients and hence will not add value to the modeling\n",
    "data.drop(columns=\"Enrollee_id\", inplace=True)"
   ]
  },
  {
   "cell_type": "markdown",
   "id": "kY9pS6xKQkRA",
   "metadata": {
    "id": "kY9pS6xKQkRA"
   },
   "source": [
    "## **EDA**"
   ]
  },
  {
   "cell_type": "markdown",
   "id": "U8pF1VrgQnCR",
   "metadata": {
    "id": "U8pF1VrgQnCR"
   },
   "source": [
    "### Univariate Analysis"
   ]
  },
  {
   "cell_type": "code",
   "execution_count": 15,
   "id": "fdb0b49f",
   "metadata": {},
   "outputs": [],
   "source": [
    "def hist_box(col):\n",
    "    # Cut the window in 2 parts\n",
    "    f, (ax_box, ax_hist) = plt.subplots(2, sharex=True, gridspec_kw={\"height_ratios\": (.15, .85)},figsize=(10,5))\n",
    "    sns.set(style=\"darkgrid\")\n",
    "    # Add a graph in each part\n",
    "    sns.boxplot(data[col], ax=ax_box,showmeans=True)\n",
    "    sns.distplot(data[col], ax=ax_hist)\n",
    "    ax_hist.axvline(data[col].mean(), color=\"green\", linestyle=\"--\") # Green line corresponds to mean in the plot\n",
    "    ax_hist.axvline(data[col].median(), color=\"orange\", linestyle=\"-\") # Orange line corresponds to median in the plot\n",
    "    ax_box.set(xlabel='col')\n",
    "    plt.show()"
   ]
  },
  {
   "cell_type": "markdown",
   "id": "fe8ccb4c",
   "metadata": {},
   "source": [
    "### Observations on City_development_index"
   ]
  },
  {
   "cell_type": "code",
   "execution_count": 16,
   "id": "0e7d5294",
   "metadata": {},
   "outputs": [
    {
     "data": {
      "image/png": "[encoded data removed]",
      "text/plain": [
       "<Figure size 720x360 with 2 Axes>"
      ]
     },
     "metadata": {
      "needs_background": "light"
     },
     "output_type": "display_data"
    }
   ],
   "source": [
    "hist_box('City_development_index')"
   ]
  },
  {
   "cell_type": "markdown",
   "id": "o9dSL-tlmXas",
   "metadata": {
    "id": "o9dSL-tlmXas"
   },
   "source": [
    "* From the above plot, we observe that there are many people from cities having a development index more than 0.9. "
   ]
  },
  {
   "cell_type": "markdown",
   "id": "c4972fb1",
   "metadata": {},
   "source": [
    "### Observations on Training Hours"
   ]
  },
  {
   "cell_type": "code",
   "execution_count": 17,
   "id": "4gmslfoXQt-k",
   "metadata": {
    "colab": {
     "base_uri": "https://localhost:8080/",
     "height": 443
    },
    "id": "4gmslfoXQt-k",
    "outputId": "a17297ef-49c7-4eba-fe58-3364daca64db"
   },
   "outputs": [
    {
     "data": {
      "image/png": "[encoded data removed]",
      "text/plain": [
       "<Figure size 720x360 with 2 Axes>"
      ]
     },
     "metadata": {},
     "output_type": "display_data"
    }
   ],
   "source": [
    "hist_box('Training_hours')"
   ]
  },
  {
   "cell_type": "markdown",
   "id": "4H9Lkwaim6-f",
   "metadata": {
    "id": "4H9Lkwaim6-f"
   },
   "source": [
    "* From the plot, we observe that the measures of central tendency with respect to training hours seem to be 70, despite a maximum value over 300 hours. So most of the people in this dataset have undergone training for less than 100 hours."
   ]
  },
  {
   "cell_type": "code",
   "execution_count": 18,
   "id": "6061308b",
   "metadata": {
    "colab": {
     "base_uri": "https://localhost:8080/",
     "height": 539
    },
    "id": "6061308b",
    "outputId": "847bd416-773d-4763-c15e-965abce48ac3"
   },
   "outputs": [
    {
     "data": {
      "image/png": "[encoded data removed]",
      "text/plain": [
       "<Figure size 504x360 with 1 Axes>"
      ]
     },
     "metadata": {},
     "output_type": "display_data"
    }
   ],
   "source": [
    "# print(data.Target.value_counts())\n",
    "labels = 'Looking for job change', 'Not Looking for job change'\n",
    "#sizes = [ds.is_promoted[ds['is_promoted']==1].count(), ds.is_promoted[ds['is_promoted']==0].count()]\n",
    "sizes = [data.Target[data['Target']==1].count(),data.Target[data['Target']==0].count()]\n",
    "explode = (0, 0.1)\n",
    "fig1, ax1 = plt.subplots(figsize=(7, 5))\n",
    "ax1.pie(sizes, explode=explode, labels=labels, autopct='%1.1f%%',\n",
    "        shadow=True, startangle=90)\n",
    "ax1.axis('equal')\n",
    "plt.title(\"Proportion\", size = 20)\n",
    "plt.show()"
   ]
  },
  {
   "cell_type": "markdown",
   "id": "EgfD7nmiY1t9",
   "metadata": {
    "id": "EgfD7nmiY1t9"
   },
   "source": [
    "* This pie chart shows that the actual distribution of classes is itself imbalanced for the target variable.\n",
    "* Only ~25% of the employees in this dataset are actually looking for a job change.\n",
    "\n",
    "Hence, this dataset and problem statement represent an example of Imbalanced Classification, which has unique challenges in comparison to performing classification over balanced target variables."
   ]
  },
  {
   "cell_type": "markdown",
   "id": "U1PzjsuNa12g",
   "metadata": {
    "id": "U1PzjsuNa12g"
   },
   "source": [
    "### Bivariate Analysis"
   ]
  },
  {
   "cell_type": "markdown",
   "id": "c29335d6",
   "metadata": {},
   "source": [
    "### Target vs Gender"
   ]
  },
  {
   "cell_type": "code",
   "execution_count": 19,
   "id": "e7e74f54",
   "metadata": {},
   "outputs": [
    {
     "data": {
      "image/png": "[encoded data removed]",
      "text/plain": [
       "<Figure size 576x288 with 1 Axes>"
      ]
     },
     "metadata": {},
     "output_type": "display_data"
    }
   ],
   "source": [
    "(pd.crosstab(data['Gender'],data['Target'],normalize='index')*100).plot(kind='bar',figsize=(8,4),stacked=True)\n",
    "plt.ylabel('Percentage Attrition %')\n",
    "plt.show()"
   ]
  },
  {
   "cell_type": "markdown",
   "id": "oasStU8w3cj4",
   "metadata": {
    "id": "oasStU8w3cj4"
   },
   "source": [
    "* From the above plot, it is observed that the likelihood of the employee choosing a job switch does not depend on their gender."
   ]
  },
  {
   "cell_type": "markdown",
   "id": "4d2d0ea8",
   "metadata": {},
   "source": [
    "### Target vs Relevant_experience"
   ]
  },
  {
   "cell_type": "code",
   "execution_count": 20,
   "id": "pAQ5eoavZJmD",
   "metadata": {
    "colab": {
     "base_uri": "https://localhost:8080/",
     "height": 550
    },
    "id": "pAQ5eoavZJmD",
    "outputId": "a569ab15-3378-4123-9aca-33c7212486d0"
   },
   "outputs": [
    {
     "data": {
      "image/png": "[encoded data removed]",
      "text/plain": [
       "<Figure size 576x288 with 1 Axes>"
      ]
     },
     "metadata": {},
     "output_type": "display_data"
    }
   ],
   "source": [
    "(pd.crosstab(data['Relevant_experience'],data['Target'],normalize='index')*100).plot(kind='bar',figsize=(8,4),stacked=True)\n",
    "plt.ylabel('Percentage Attrition %')\n",
    "plt.show()"
   ]
  },
  {
   "cell_type": "markdown",
   "id": "dH6gaUTa36fU",
   "metadata": {
    "id": "dH6gaUTa36fU"
   },
   "source": [
    "* From the above plot, we see that employees from Non-relevant experience are more likely to be switching their job."
   ]
  },
  {
   "cell_type": "markdown",
   "id": "e7edbd07",
   "metadata": {},
   "source": [
    "### Target vs Enrolled_university"
   ]
  },
  {
   "cell_type": "code",
   "execution_count": 21,
   "id": "hVHQbvjSZJkA",
   "metadata": {
    "colab": {
     "base_uri": "https://localhost:8080/",
     "height": 527
    },
    "id": "hVHQbvjSZJkA",
    "outputId": "4e71b0a8-215e-4d59-8298-60199fb2341f"
   },
   "outputs": [
    {
     "data": {
      "image/png": "[encoded data removed]",
      "text/plain": [
       "<Figure size 576x288 with 1 Axes>"
      ]
     },
     "metadata": {},
     "output_type": "display_data"
    }
   ],
   "source": [
    "(pd.crosstab(data['Enrolled_university'],data['Target'],normalize='index')*100).plot(kind='bar',figsize=(8,4),stacked=True)\n",
    "plt.ylabel('Percentage Attrition %')\n",
    "plt.show()"
   ]
  },
  {
   "cell_type": "markdown",
   "id": "Dk2QzFmC4am6",
   "metadata": {
    "id": "Dk2QzFmC4am6"
   },
   "source": [
    "* Employees who have taken full-time courses in universities are the ones who are more likely to be trying to switch jobs."
   ]
  },
  {
   "cell_type": "markdown",
   "id": "213320b7",
   "metadata": {},
   "source": [
    "### Target vs Education_level"
   ]
  },
  {
   "cell_type": "code",
   "execution_count": 22,
   "id": "WH6UEU2JZJia",
   "metadata": {
    "colab": {
     "base_uri": "https://localhost:8080/",
     "height": 555
    },
    "id": "WH6UEU2JZJia",
    "outputId": "ae919537-8fac-4211-b487-159f58bbc592"
   },
   "outputs": [
    {
     "data": {
      "image/png": "[encoded data removed]",
      "text/plain": [
       "<Figure size 576x288 with 1 Axes>"
      ]
     },
     "metadata": {},
     "output_type": "display_data"
    }
   ],
   "source": [
    "(pd.crosstab(data['Education_level'],data['Target'],normalize='index')*100).plot(kind='bar',figsize=(8,4),stacked=True)\n",
    "plt.ylabel('Percentage Attrition %')\n",
    "plt.show()"
   ]
  },
  {
   "cell_type": "markdown",
   "id": "HDN0OsVO5GW7",
   "metadata": {
    "id": "HDN0OsVO5GW7"
   },
   "source": [
    "* Employees who completed Graduation and Master's degrees are more likely to be trying to switch their jobs. "
   ]
  },
  {
   "cell_type": "markdown",
   "id": "2aa037a0",
   "metadata": {},
   "source": [
    "### Target vs Major_discipline"
   ]
  },
  {
   "cell_type": "code",
   "execution_count": 23,
   "id": "C0arOEsaZJg_",
   "metadata": {
    "colab": {
     "base_uri": "https://localhost:8080/",
     "height": 581
    },
    "id": "C0arOEsaZJg_",
    "outputId": "6c9a7d57-ba6d-45e7-da93-29ba6e4a2d65"
   },
   "outputs": [
    {
     "data": {
      "image/png": "[encoded data removed]",
      "text/plain": [
       "<Figure size 576x288 with 1 Axes>"
      ]
     },
     "metadata": {},
     "output_type": "display_data"
    }
   ],
   "source": [
    "(pd.crosstab(data['Major_discipline'],data['Target'],normalize='index')*100).plot(kind='bar',figsize=(8,4),stacked=True)\n",
    "plt.ylabel('Percentage Attrition %')\n",
    "plt.show()"
   ]
  },
  {
   "cell_type": "markdown",
   "id": "s1HzEI19R9jC",
   "metadata": {
    "id": "s1HzEI19R9jC"
   },
   "source": [
    "* Employees who took STEM or Business Degrees as their major discipline are slightly more likely to change their job."
   ]
  },
  {
   "cell_type": "markdown",
   "id": "0dcab433",
   "metadata": {},
   "source": [
    "### Target vs Experience"
   ]
  },
  {
   "cell_type": "code",
   "execution_count": 24,
   "id": "Nvlw9xplZJeZ",
   "metadata": {
    "colab": {
     "base_uri": "https://localhost:8080/",
     "height": 796
    },
    "id": "Nvlw9xplZJeZ",
    "outputId": "60aef972-7ae4-4ab8-96c5-060fc6dc1098"
   },
   "outputs": [
    {
     "data": {
      "image/png": "[encoded data removed]",
      "text/plain": [
       "<Figure size 576x288 with 1 Axes>"
      ]
     },
     "metadata": {},
     "output_type": "display_data"
    }
   ],
   "source": [
    "(pd.crosstab(data['Experience'],data['Target'],normalize='index')*100).plot(kind='bar',figsize=(8,4),stacked=True)\n",
    "plt.ylabel('Percentage Attrition %')\n",
    "plt.show()"
   ]
  },
  {
   "cell_type": "markdown",
   "id": "0onsfr5i5o4v",
   "metadata": {
    "id": "0onsfr5i5o4v"
   },
   "source": [
    "* From the above plot, it's clear that employees having a work experience of less than 3 years are trying to switch their jobs."
   ]
  },
  {
   "cell_type": "markdown",
   "id": "1c516e93",
   "metadata": {},
   "source": [
    "### Target vs Last_new_job"
   ]
  },
  {
   "cell_type": "code",
   "execution_count": 25,
   "id": "5NRAezxuZJZF",
   "metadata": {
    "colab": {
     "base_uri": "https://localhost:8080/",
     "height": 527
    },
    "id": "5NRAezxuZJZF",
    "outputId": "e9755037-dcc8-4d43-c95a-1513062e3b3e"
   },
   "outputs": [
    {
     "data": {
      "image/png": "[encoded data removed]",
      "text/plain": [
       "<Figure size 576x288 with 1 Axes>"
      ]
     },
     "metadata": {},
     "output_type": "display_data"
    }
   ],
   "source": [
    "(pd.crosstab(data['Last_new_job'],data['Target'],normalize='index')*100).plot(kind='bar',figsize=(8,4),stacked=True)\n",
    "plt.ylabel('Percentage Attrition %')\n",
    "plt.show()"
   ]
  },
  {
   "cell_type": "markdown",
   "id": "ynkyi04c2x0Y",
   "metadata": {
    "id": "ynkyi04c2x0Y"
   },
   "source": [
    "* Employees who have never switched their job before are the most likely to be looking for a job change."
   ]
  },
  {
   "cell_type": "code",
   "execution_count": 26,
   "id": "0e681ce7",
   "metadata": {
    "id": "0e681ce7"
   },
   "outputs": [],
   "source": [
    "###Dropping these columns as they will not add value to the modeling\n",
    "data.drop(['Company_size','Gender','City'], axis=1, inplace=True)"
   ]
  },
  {
   "cell_type": "code",
   "execution_count": 27,
   "id": "537135fa",
   "metadata": {
    "id": "537135fa"
   },
   "outputs": [],
   "source": [
    "## Separating all the categorical columns for imputation\n",
    "cat_col_df = data.drop(['City_development_index','Training_hours','Target'], axis=1)"
   ]
  },
  {
   "cell_type": "markdown",
   "id": "tGILNwUMK3-7",
   "metadata": {
    "id": "tGILNwUMK3-7"
   },
   "source": [
    "### Missing Value Imputation"
   ]
  },
  {
   "cell_type": "markdown",
   "id": "gZli72JdLANY",
   "metadata": {
    "id": "gZli72JdLANY"
   },
   "source": [
    "* We will impute the missing values in columns using their mode."
   ]
  },
  {
   "cell_type": "code",
   "execution_count": 28,
   "id": "79086265",
   "metadata": {
    "id": "79086265"
   },
   "outputs": [],
   "source": [
    "## Separating Independent and Dependent Columns\n",
    "X = data.drop(['Target'],axis=1)\n",
    "Y = data[['Target']]"
   ]
  },
  {
   "cell_type": "code",
   "execution_count": 29,
   "id": "a0OTRBZ-2DN-",
   "metadata": {
    "colab": {
     "base_uri": "https://localhost:8080/",
     "height": 206
    },
    "id": "a0OTRBZ-2DN-",
    "outputId": "f8d3acff-eb2f-43e1-ad22-7bfbac1c9f05"
   },
   "outputs": [
    {
     "data": {
      "text/html": [
       "<div>\n",
       "<style scoped>\n",
       "    .dataframe tbody tr th:only-of-type {\n",
       "        vertical-align: middle;\n",
       "    }\n",
       "\n",
       "    .dataframe tbody tr th {\n",
       "        vertical-align: top;\n",
       "    }\n",
       "\n",
       "    .dataframe thead th {\n",
       "        text-align: right;\n",
       "    }\n",
       "</style>\n",
       "<table border=\"1\" class=\"dataframe\">\n",
       "  <thead>\n",
       "    <tr style=\"text-align: right;\">\n",
       "      <th></th>\n",
       "      <th>Target</th>\n",
       "    </tr>\n",
       "  </thead>\n",
       "  <tbody>\n",
       "    <tr>\n",
       "      <th>0</th>\n",
       "      <td>1</td>\n",
       "    </tr>\n",
       "    <tr>\n",
       "      <th>1</th>\n",
       "      <td>0</td>\n",
       "    </tr>\n",
       "    <tr>\n",
       "      <th>2</th>\n",
       "      <td>0</td>\n",
       "    </tr>\n",
       "    <tr>\n",
       "      <th>3</th>\n",
       "      <td>1</td>\n",
       "    </tr>\n",
       "    <tr>\n",
       "      <th>4</th>\n",
       "      <td>0</td>\n",
       "    </tr>\n",
       "  </tbody>\n",
       "</table>\n",
       "</div>"
      ],
      "text/plain": [
       "   Target\n",
       "0       1\n",
       "1       0\n",
       "2       0\n",
       "3       1\n",
       "4       0"
      ]
     },
     "execution_count": 29,
     "metadata": {},
     "output_type": "execute_result"
    }
   ],
   "source": [
    "Y.head()"
   ]
  },
  {
   "cell_type": "code",
   "execution_count": 30,
   "id": "9f929b75",
   "metadata": {
    "id": "9f929b75"
   },
   "outputs": [],
   "source": [
    "# Splitting the dataset into the Training and Testing set.\n",
    "X_train, X_test, y_train, y_test = train_test_split(X,Y, test_size = 0.2, random_state = 42,stratify = Y)"
   ]
  },
  {
   "cell_type": "code",
   "execution_count": 31,
   "id": "YSK3ENI-OlJy",
   "metadata": {
    "colab": {
     "base_uri": "https://localhost:8080/"
    },
    "id": "YSK3ENI-OlJy",
    "outputId": "41fc3d0a-5af0-44bf-e431-7013629f87a2"
   },
   "outputs": [
    {
     "data": {
      "text/plain": [
       "City_development_index       0\n",
       "Relevant_experience          0\n",
       "Enrolled_university        317\n",
       "Education_level            362\n",
       "Major_discipline          2258\n",
       "Experience                  50\n",
       "Company_type              4881\n",
       "Last_new_job               343\n",
       "Training_hours               0\n",
       "dtype: int64"
      ]
     },
     "execution_count": 31,
     "metadata": {},
     "output_type": "execute_result"
    }
   ],
   "source": [
    "X_train.isnull().sum()"
   ]
  },
  {
   "cell_type": "code",
   "execution_count": 32,
   "id": "wWwWZwvRx-Vy",
   "metadata": {
    "id": "wWwWZwvRx-Vy"
   },
   "outputs": [],
   "source": [
    "imputer_mode = SimpleImputer(strategy=\"most_frequent\")\n",
    "X_train[[\"Enrolled_university\",\"Education_level\",\"Major_discipline\",\"Experience\",\"Company_type\",\"Last_new_job\"]] = imputer_mode.fit_transform(\n",
    "    X_train[[\"Enrolled_university\",\"Education_level\",\"Major_discipline\",\"Experience\",\"Company_type\",\"Last_new_job\"]])\n",
    "\n",
    "X_test[[\"Enrolled_university\",\"Education_level\",\"Major_discipline\",\"Experience\",\"Company_type\",\"Last_new_job\"]] = imputer_mode.transform(\n",
    "    X_test[[\"Enrolled_university\",\"Education_level\",\"Major_discipline\",\"Experience\",\"Company_type\",\"Last_new_job\"]])"
   ]
  },
  {
   "cell_type": "code",
   "execution_count": 33,
   "id": "9xjGUcAZRDkB",
   "metadata": {
    "colab": {
     "base_uri": "https://localhost:8080/"
    },
    "id": "9xjGUcAZRDkB",
    "outputId": "011bdccc-7040-489d-87fd-5bf64dc72ee8"
   },
   "outputs": [
    {
     "name": "stdout",
     "output_type": "stream",
     "text": [
      "City_development_index    0\n",
      "Relevant_experience       0\n",
      "Enrolled_university       0\n",
      "Education_level           0\n",
      "Major_discipline          0\n",
      "Experience                0\n",
      "Company_type              0\n",
      "Last_new_job              0\n",
      "Training_hours            0\n",
      "dtype: int64\n",
      "------------------------------\n",
      "City_development_index    0\n",
      "Relevant_experience       0\n",
      "Enrolled_university       0\n",
      "Education_level           0\n",
      "Major_discipline          0\n",
      "Experience                0\n",
      "Company_type              0\n",
      "Last_new_job              0\n",
      "Training_hours            0\n",
      "dtype: int64\n"
     ]
    }
   ],
   "source": [
    "# Checking that no column has missing values in train and test sets\n",
    "print(X_train.isna().sum())\n",
    "print(\"-\" * 30)\n",
    "print(X_test.isna().sum())"
   ]
  },
  {
   "cell_type": "markdown",
   "id": "HCRTeLsjLJ52",
   "metadata": {
    "id": "HCRTeLsjLJ52"
   },
   "source": [
    "### Encoding Categorical Columns"
   ]
  },
  {
   "cell_type": "markdown",
   "id": "CClwkaqWD3R1",
   "metadata": {
    "id": "CClwkaqWD3R1"
   },
   "source": [
    "* We will be using the Label Encoding technique to encode the values of the categorical columns in this dataset."
   ]
  },
  {
   "cell_type": "code",
   "execution_count": 34,
   "id": "2c7447f4",
   "metadata": {},
   "outputs": [],
   "source": [
    "#Create the function to fit and transform the label encoder\n",
    "def label_encode_columns(df, columns):\n",
    "    encoders = {}\n",
    "    for col in columns:\n",
    "        le = LabelEncoder().fit(df[col])\n",
    "        df[col] = le.transform(df[col])\n",
    "        encoders[col] = le\n",
    "    return df, encoders\n",
    "\n",
    "#Create the function to take in the fitted encoders and transform the scoring dataset\n",
    "def label_encode_columns_w_fit_encoders(df, columns, encoders):\n",
    "    for col in columns:\n",
    "        le = encoders.get(col)\n",
    "        df[col] = le.transform(df[col])\n",
    "    return df\n",
    " \n",
    "#Define the columns we want to encode\n",
    "encode_columns=['Relevant_experience','Enrolled_university','Education_level','Major_discipline','Experience','Company_type','Last_new_job']\n",
    " \n",
    "#Fit and transform the training dataset, returing both the new training dataset and the fitted encoders to use on the scoring dataset\n",
    "X_train, encoders = label_encode_columns(df=X_train, columns=encode_columns)\n",
    " \n",
    "#Transform the scoring dataset using the encoders we fit previously\n",
    "X_test = label_encode_columns_w_fit_encoders(df=X_test, columns=encode_columns, encoders=encoders)"
   ]
  },
  {
   "cell_type": "code",
   "execution_count": 35,
   "id": "aa8f46f5",
   "metadata": {},
   "outputs": [
    {
     "data": {
      "text/html": [
       "<div>\n",
       "<style scoped>\n",
       "    .dataframe tbody tr th:only-of-type {\n",
       "        vertical-align: middle;\n",
       "    }\n",
       "\n",
       "    .dataframe tbody tr th {\n",
       "        vertical-align: top;\n",
       "    }\n",
       "\n",
       "    .dataframe thead th {\n",
       "        text-align: right;\n",
       "    }\n",
       "</style>\n",
       "<table border=\"1\" class=\"dataframe\">\n",
       "  <thead>\n",
       "    <tr style=\"text-align: right;\">\n",
       "      <th></th>\n",
       "      <th>City_development_index</th>\n",
       "      <th>Relevant_experience</th>\n",
       "      <th>Enrolled_university</th>\n",
       "      <th>Education_level</th>\n",
       "      <th>Major_discipline</th>\n",
       "      <th>Experience</th>\n",
       "      <th>Company_type</th>\n",
       "      <th>Last_new_job</th>\n",
       "      <th>Training_hours</th>\n",
       "    </tr>\n",
       "  </thead>\n",
       "  <tbody>\n",
       "    <tr>\n",
       "      <th>17855</th>\n",
       "      <td>0.624</td>\n",
       "      <td>0</td>\n",
       "      <td>2</td>\n",
       "      <td>0</td>\n",
       "      <td>5</td>\n",
       "      <td>1</td>\n",
       "      <td>5</td>\n",
       "      <td>0</td>\n",
       "      <td>90</td>\n",
       "    </tr>\n",
       "    <tr>\n",
       "      <th>17664</th>\n",
       "      <td>0.920</td>\n",
       "      <td>1</td>\n",
       "      <td>2</td>\n",
       "      <td>4</td>\n",
       "      <td>5</td>\n",
       "      <td>15</td>\n",
       "      <td>5</td>\n",
       "      <td>5</td>\n",
       "      <td>15</td>\n",
       "    </tr>\n",
       "    <tr>\n",
       "      <th>13404</th>\n",
       "      <td>0.896</td>\n",
       "      <td>0</td>\n",
       "      <td>2</td>\n",
       "      <td>0</td>\n",
       "      <td>5</td>\n",
       "      <td>3</td>\n",
       "      <td>2</td>\n",
       "      <td>4</td>\n",
       "      <td>36</td>\n",
       "    </tr>\n",
       "    <tr>\n",
       "      <th>13366</th>\n",
       "      <td>0.920</td>\n",
       "      <td>0</td>\n",
       "      <td>2</td>\n",
       "      <td>0</td>\n",
       "      <td>5</td>\n",
       "      <td>15</td>\n",
       "      <td>1</td>\n",
       "      <td>0</td>\n",
       "      <td>53</td>\n",
       "    </tr>\n",
       "    <tr>\n",
       "      <th>15670</th>\n",
       "      <td>0.855</td>\n",
       "      <td>0</td>\n",
       "      <td>0</td>\n",
       "      <td>0</td>\n",
       "      <td>5</td>\n",
       "      <td>15</td>\n",
       "      <td>5</td>\n",
       "      <td>0</td>\n",
       "      <td>158</td>\n",
       "    </tr>\n",
       "  </tbody>\n",
       "</table>\n",
       "</div>"
      ],
      "text/plain": [
       "       City_development_index  Relevant_experience  Enrolled_university  \\\n",
       "17855                   0.624                    0                    2   \n",
       "17664                   0.920                    1                    2   \n",
       "13404                   0.896                    0                    2   \n",
       "13366                   0.920                    0                    2   \n",
       "15670                   0.855                    0                    0   \n",
       "\n",
       "       Education_level  Major_discipline  Experience  Company_type  \\\n",
       "17855                0                 5           1             5   \n",
       "17664                4                 5          15             5   \n",
       "13404                0                 5           3             2   \n",
       "13366                0                 5          15             1   \n",
       "15670                0                 5          15             5   \n",
       "\n",
       "       Last_new_job  Training_hours  \n",
       "17855             0              90  \n",
       "17664             5              15  \n",
       "13404             4              36  \n",
       "13366             0              53  \n",
       "15670             0             158  "
      ]
     },
     "execution_count": 35,
     "metadata": {},
     "output_type": "execute_result"
    }
   ],
   "source": [
    "X_train.head()"
   ]
  },
  {
   "cell_type": "code",
   "execution_count": 36,
   "id": "CtpUT3G62nq5",
   "metadata": {
    "colab": {
     "base_uri": "https://localhost:8080/",
     "height": 206
    },
    "id": "CtpUT3G62nq5",
    "outputId": "fe44d130-babe-4eb8-80be-1549be355f74"
   },
   "outputs": [
    {
     "data": {
      "text/html": [
       "<div>\n",
       "<style scoped>\n",
       "    .dataframe tbody tr th:only-of-type {\n",
       "        vertical-align: middle;\n",
       "    }\n",
       "\n",
       "    .dataframe tbody tr th {\n",
       "        vertical-align: top;\n",
       "    }\n",
       "\n",
       "    .dataframe thead th {\n",
       "        text-align: right;\n",
       "    }\n",
       "</style>\n",
       "<table border=\"1\" class=\"dataframe\">\n",
       "  <thead>\n",
       "    <tr style=\"text-align: right;\">\n",
       "      <th></th>\n",
       "      <th>Target</th>\n",
       "    </tr>\n",
       "  </thead>\n",
       "  <tbody>\n",
       "    <tr>\n",
       "      <th>17855</th>\n",
       "      <td>0</td>\n",
       "    </tr>\n",
       "    <tr>\n",
       "      <th>17664</th>\n",
       "      <td>0</td>\n",
       "    </tr>\n",
       "    <tr>\n",
       "      <th>13404</th>\n",
       "      <td>0</td>\n",
       "    </tr>\n",
       "    <tr>\n",
       "      <th>13366</th>\n",
       "      <td>0</td>\n",
       "    </tr>\n",
       "    <tr>\n",
       "      <th>15670</th>\n",
       "      <td>1</td>\n",
       "    </tr>\n",
       "  </tbody>\n",
       "</table>\n",
       "</div>"
      ],
      "text/plain": [
       "       Target\n",
       "17855       0\n",
       "17664       0\n",
       "13404       0\n",
       "13366       0\n",
       "15670       1"
      ]
     },
     "execution_count": 36,
     "metadata": {},
     "output_type": "execute_result"
    }
   ],
   "source": [
    "y_train.head()"
   ]
  },
  {
   "cell_type": "code",
   "execution_count": 37,
   "id": "DxSiFhk9RTpL",
   "metadata": {
    "colab": {
     "base_uri": "https://localhost:8080/"
    },
    "id": "DxSiFhk9RTpL",
    "outputId": "6259ed08-6fec-488a-f486-5fe846b762b6"
   },
   "outputs": [
    {
     "name": "stdout",
     "output_type": "stream",
     "text": [
      "(15326, 9)\n",
      "(3832, 9)\n",
      "(15326, 1)\n",
      "(3832, 1)\n"
     ]
    }
   ],
   "source": [
    "###Checking the shape of train and test sets\n",
    "print(X_train.shape)\n",
    "print(X_test.shape)\n",
    "print(y_train.shape)\n",
    "print(y_test.shape)"
   ]
  },
  {
   "cell_type": "markdown",
   "id": "tWDuX-VjRoos",
   "metadata": {
    "id": "tWDuX-VjRoos"
   },
   "source": [
    "## **Model Building**"
   ]
  },
  {
   "cell_type": "markdown",
   "id": "LwW-lVlORwKn",
   "metadata": {
    "id": "LwW-lVlORwKn"
   },
   "source": [
    "#### **A model can make wrong predictions in the following ways:**\n",
    "* Predicting an employee is looking for a job, when he/she is not looking for it. \n",
    "* Predicting an employee is not looking for a job, when he/she is in fact looking for one.\n",
    "\n",
    "#### **Which case is more important?**\n",
    "\n",
    "Both cases are actually important for the purposes of this case study. Not giving a chance to a deserving employee (by wrongly classifying them as likely to attrite) might lead to decreased productivity, and the company might lose a good employee affecting the organization's growth. However, giving chances to a non-deserving employee (as they are likely to attrite) would lead to a financial loss for the company, and giving such employees an increased amount of responsibility might again affect the company's growth.\n",
    "\n",
    "#### **How to reduce this loss i.e need to reduce False Negatives as well as False Positives?**\n",
    "\n",
    "Since both errors are important for us to minimize, the company would want the F1 Score evaluation metric to be maximized/ Hence, the focus should be on increasing the F1 score rather than focusing on just one metric i.e. Recall or Precision.\n"
   ]
  },
  {
   "cell_type": "markdown",
   "id": "6b515c2c",
   "metadata": {},
   "source": [
    "**Also, let's create a function to calculate and visualize the confusion matrix so that we don't have to rewrite the same code repeatedly for each model.**"
   ]
  },
  {
   "cell_type": "code",
   "execution_count": 38,
   "id": "dc5b879c",
   "metadata": {},
   "outputs": [],
   "source": [
    "def make_confusion_matrix(cf,\n",
    "                          group_names=None,\n",
    "                          categories='auto',\n",
    "                          count=True,\n",
    "                          percent=True,\n",
    "                          cbar=True,\n",
    "                          xyticks=True,\n",
    "                          xyplotlabels=True,\n",
    "                          sum_stats=True,\n",
    "                          figsize=None,\n",
    "                          cmap='Blues',\n",
    "                          title=None):\n",
    "    '''\n",
    "    This function will make a pretty plot of an sklearn Confusion Matrix cm using a Seaborn heatmap visualization.\n",
    "    Arguments\n",
    "    '''\n",
    "\n",
    "\n",
    "    # CODE TO GENERATE TEXT INSIDE EACH SQUARE\n",
    "    blanks = ['' for i in range(cf.size)]\n",
    "\n",
    "    if group_names and len(group_names)==cf.size:\n",
    "        group_labels = [\"{}\\n\".format(value) for value in group_names]\n",
    "    else:\n",
    "        group_labels = blanks\n",
    "\n",
    "    if count:\n",
    "        group_counts = [\"{0:0.0f}\\n\".format(value) for value in cf.flatten()]\n",
    "    else:\n",
    "        group_counts = blanks\n",
    "\n",
    "    if percent:\n",
    "        group_percentages = [\"{0:.2%}\".format(value) for value in cf.flatten()/np.sum(cf)]\n",
    "    else:\n",
    "        group_percentages = blanks\n",
    "\n",
    "    box_labels = [f\"{v1}{v2}{v3}\".strip() for v1, v2, v3 in zip(group_labels,group_counts,group_percentages)]\n",
    "    box_labels = np.asarray(box_labels).reshape(cf.shape[0],cf.shape[1])\n",
    "\n",
    "\n",
    "    # CODE TO GENERATE SUMMARY STATISTICS & TEXT FOR SUMMARY STATS\n",
    "    if sum_stats:\n",
    "        #Accuracy is sum of diagonal divided by total observations\n",
    "        accuracy  = np.trace(cf) / float(np.sum(cf))\n",
    "\n",
    "\n",
    "\n",
    "    # SET FIGURE PARAMETERS ACCORDING TO OTHER ARGUMENTS\n",
    "    if figsize==None:\n",
    "        #Get default figure size if not set\n",
    "        figsize = plt.rcParams.get('figure.figsize')\n",
    "\n",
    "    if xyticks==False:\n",
    "        #Do not show categories if xyticks is False\n",
    "        categories=False\n",
    "\n",
    "\n",
    "    # MAKE THE HEATMAP VISUALIZATION\n",
    "    plt.figure(figsize=figsize)\n",
    "    sns.heatmap(cf,annot=box_labels,fmt=\"\",cmap=cmap,cbar=cbar,xticklabels=categories,yticklabels=categories)\n",
    "\n",
    "    \n",
    "    if title:\n",
    "        plt.title(title)"
   ]
  },
  {
   "cell_type": "markdown",
   "id": "16NOrzwgsLTF",
   "metadata": {
    "id": "16NOrzwgsLTF"
   },
   "source": [
    "## Building Neural Network\n",
    "\n",
    "### Model 1"
   ]
  },
  {
   "cell_type": "code",
   "execution_count": 39,
   "id": "7d438930",
   "metadata": {
    "id": "7d438930"
   },
   "outputs": [],
   "source": [
    "backend.clear_session()\n",
    "#Fixing the seed for random number generators so that we can ensure we receive the same output everytime\n",
    "np.random.seed(42)\n",
    "import random\n",
    "random.seed(42)\n",
    "tf.random.set_seed(42)"
   ]
  },
  {
   "cell_type": "code",
   "execution_count": 40,
   "id": "3add77c1",
   "metadata": {
    "id": "3add77c1"
   },
   "outputs": [],
   "source": [
    "# Initializing the ANN\n",
    "model = Sequential()\n",
    "\n",
    "# The amount of nodes (dimensions) in hidden layer should be the average of input and output layers, in this case 64.\n",
    "# This adds the input layer (by specifying input dimension) AND the first hidden layer (units)\n",
    "model.add(Dense(activation = 'relu', input_dim = 9, units=64))\n",
    "\n",
    "#Adding hidden layer\n",
    "model.add(Dense(32, activation='relu'))\n",
    "\n",
    "# Adding the output layer\n",
    "# Notice that we do not need to specify input dim. \n",
    "# we have an output of 1 node, which is the the desired dimensions of our output (stay with the bank or not)\n",
    "# We use the sigmoid because we want probability outcomes\n",
    "model.add(Dense(1, activation = 'sigmoid')) "
   ]
  },
  {
   "cell_type": "code",
   "execution_count": 41,
   "id": "1c6c97c9",
   "metadata": {
    "id": "1c6c97c9"
   },
   "outputs": [],
   "source": [
    "# Create optimizer with default learning rate\n",
    "# Compile the model\n",
    "model.compile(optimizer='SGD', loss='binary_crossentropy', metrics=['accuracy'])"
   ]
  },
  {
   "cell_type": "code",
   "execution_count": 42,
   "id": "e9b5b7b8",
   "metadata": {
    "colab": {
     "base_uri": "https://localhost:8080/"
    },
    "id": "e9b5b7b8",
    "outputId": "64ad35de-d53b-435c-8726-3af0f047fe4e"
   },
   "outputs": [
    {
     "name": "stdout",
     "output_type": "stream",
     "text": [
      "Model: \"sequential\"\n",
      "_________________________________________________________________\n",
      " Layer (type)                Output Shape              Param #   \n",
      "=================================================================\n",
      " dense (Dense)               (None, 64)                640       \n",
      "                                                                 \n",
      " dense_1 (Dense)             (None, 32)                2080      \n",
      "                                                                 \n",
      " dense_2 (Dense)             (None, 1)                 33        \n",
      "                                                                 \n",
      "=================================================================\n",
      "Total params: 2,753\n",
      "Trainable params: 2,753\n",
      "Non-trainable params: 0\n",
      "_________________________________________________________________\n"
     ]
    }
   ],
   "source": [
    "model.summary()"
   ]
  },
  {
   "cell_type": "code",
   "execution_count": 43,
   "id": "e4edcceb",
   "metadata": {
    "colab": {
     "base_uri": "https://localhost:8080/"
    },
    "id": "e4edcceb",
    "outputId": "1ab764e2-3eba-4291-95a3-6ffa8b3ff9d2",
    "scrolled": true
   },
   "outputs": [
    {
     "name": "stdout",
     "output_type": "stream",
     "text": [
      "Epoch 1/50\n",
      "384/384 [==============================] - 1s 2ms/step - loss: 0.6834 - accuracy: 0.7433 - val_loss: 0.6449 - val_accuracy: 0.7515\n",
      "Epoch 2/50\n",
      "384/384 [==============================] - 0s 1ms/step - loss: 0.5688 - accuracy: 0.7503 - val_loss: 0.5592 - val_accuracy: 0.7515\n",
      "Epoch 3/50\n",
      "384/384 [==============================] - 0s 1ms/step - loss: 0.5615 - accuracy: 0.7504 - val_loss: 0.5545 - val_accuracy: 0.7515\n",
      "Epoch 4/50\n",
      "384/384 [==============================] - 1s 1ms/step - loss: 0.5611 - accuracy: 0.7504 - val_loss: 0.5567 - val_accuracy: 0.7515\n",
      "Epoch 5/50\n",
      "384/384 [==============================] - 0s 1ms/step - loss: 0.5596 - accuracy: 0.7504 - val_loss: 0.5725 - val_accuracy: 0.7515\n",
      "Epoch 6/50\n",
      "384/384 [==============================] - 1s 1ms/step - loss: 0.5587 - accuracy: 0.7504 - val_loss: 0.6153 - val_accuracy: 0.7515\n",
      "Epoch 7/50\n",
      "384/384 [==============================] - 1s 1ms/step - loss: 0.5563 - accuracy: 0.7504 - val_loss: 0.5625 - val_accuracy: 0.7515\n",
      "Epoch 8/50\n",
      "384/384 [==============================] - 1s 1ms/step - loss: 0.5553 - accuracy: 0.7504 - val_loss: 0.5586 - val_accuracy: 0.7515\n",
      "Epoch 9/50\n",
      "384/384 [==============================] - 1s 1ms/step - loss: 0.5553 - accuracy: 0.7504 - val_loss: 0.5584 - val_accuracy: 0.7515\n",
      "Epoch 10/50\n",
      "384/384 [==============================] - 0s 969us/step - loss: 0.5561 - accuracy: 0.7504 - val_loss: 0.5483 - val_accuracy: 0.7515\n",
      "Epoch 11/50\n",
      "384/384 [==============================] - 1s 1ms/step - loss: 0.5539 - accuracy: 0.7504 - val_loss: 0.5639 - val_accuracy: 0.7515\n",
      "Epoch 12/50\n",
      "384/384 [==============================] - 0s 1ms/step - loss: 0.5533 - accuracy: 0.7506 - val_loss: 0.5835 - val_accuracy: 0.7515\n",
      "Epoch 13/50\n",
      "384/384 [==============================] - 0s 836us/step - loss: 0.5531 - accuracy: 0.7504 - val_loss: 0.5816 - val_accuracy: 0.7521\n",
      "Epoch 14/50\n",
      "384/384 [==============================] - 0s 1ms/step - loss: 0.5532 - accuracy: 0.7504 - val_loss: 0.5486 - val_accuracy: 0.7515\n",
      "Epoch 15/50\n",
      "384/384 [==============================] - 0s 1ms/step - loss: 0.5516 - accuracy: 0.7504 - val_loss: 0.5553 - val_accuracy: 0.7515\n",
      "Epoch 16/50\n",
      "384/384 [==============================] - 0s 860us/step - loss: 0.5514 - accuracy: 0.7504 - val_loss: 0.5650 - val_accuracy: 0.7518\n",
      "Epoch 17/50\n",
      "384/384 [==============================] - 0s 1ms/step - loss: 0.5507 - accuracy: 0.7506 - val_loss: 0.5680 - val_accuracy: 0.7515\n",
      "Epoch 18/50\n",
      "384/384 [==============================] - 0s 1ms/step - loss: 0.5498 - accuracy: 0.7502 - val_loss: 0.5456 - val_accuracy: 0.7515\n",
      "Epoch 19/50\n",
      "384/384 [==============================] - 0s 1ms/step - loss: 0.5495 - accuracy: 0.7503 - val_loss: 0.5508 - val_accuracy: 0.7515\n",
      "Epoch 20/50\n",
      "384/384 [==============================] - 1s 1ms/step - loss: 0.5499 - accuracy: 0.7507 - val_loss: 0.5449 - val_accuracy: 0.7515\n",
      "Epoch 21/50\n",
      "384/384 [==============================] - 0s 1ms/step - loss: 0.5491 - accuracy: 0.7505 - val_loss: 0.5511 - val_accuracy: 0.7515\n",
      "Epoch 22/50\n",
      "384/384 [==============================] - 0s 790us/step - loss: 0.5495 - accuracy: 0.7500 - val_loss: 0.5447 - val_accuracy: 0.7515\n",
      "Epoch 23/50\n",
      "384/384 [==============================] - 0s 913us/step - loss: 0.5489 - accuracy: 0.7504 - val_loss: 0.6031 - val_accuracy: 0.7462\n",
      "Epoch 24/50\n",
      "384/384 [==============================] - 0s 840us/step - loss: 0.5484 - accuracy: 0.7506 - val_loss: 0.5738 - val_accuracy: 0.7498\n",
      "Epoch 25/50\n",
      "384/384 [==============================] - 0s 816us/step - loss: 0.5500 - accuracy: 0.7505 - val_loss: 0.5451 - val_accuracy: 0.7515\n",
      "Epoch 26/50\n",
      "384/384 [==============================] - 0s 862us/step - loss: 0.5488 - accuracy: 0.7502 - val_loss: 0.6037 - val_accuracy: 0.7515\n",
      "Epoch 27/50\n",
      "384/384 [==============================] - 0s 1ms/step - loss: 0.5480 - accuracy: 0.7504 - val_loss: 0.5508 - val_accuracy: 0.7508\n",
      "Epoch 28/50\n",
      "384/384 [==============================] - 0s 813us/step - loss: 0.5465 - accuracy: 0.7506 - val_loss: 0.5420 - val_accuracy: 0.7515\n",
      "Epoch 29/50\n",
      "384/384 [==============================] - 0s 1ms/step - loss: 0.5490 - accuracy: 0.7503 - val_loss: 0.5683 - val_accuracy: 0.7528\n",
      "Epoch 30/50\n",
      "384/384 [==============================] - 1s 1ms/step - loss: 0.5477 - accuracy: 0.7506 - val_loss: 0.5441 - val_accuracy: 0.7518\n",
      "Epoch 31/50\n",
      "384/384 [==============================] - 0s 1ms/step - loss: 0.5473 - accuracy: 0.7505 - val_loss: 0.5456 - val_accuracy: 0.7534\n",
      "Epoch 32/50\n",
      "384/384 [==============================] - 0s 811us/step - loss: 0.5465 - accuracy: 0.7502 - val_loss: 0.5510 - val_accuracy: 0.7508\n",
      "Epoch 33/50\n",
      "384/384 [==============================] - 0s 768us/step - loss: 0.5461 - accuracy: 0.7507 - val_loss: 0.5870 - val_accuracy: 0.7531\n",
      "Epoch 34/50\n",
      "384/384 [==============================] - 0s 997us/step - loss: 0.5478 - accuracy: 0.7507 - val_loss: 0.5565 - val_accuracy: 0.7515\n",
      "Epoch 35/50\n",
      "384/384 [==============================] - 0s 820us/step - loss: 0.5459 - accuracy: 0.7507 - val_loss: 0.5436 - val_accuracy: 0.7515\n",
      "Epoch 36/50\n",
      "384/384 [==============================] - 0s 794us/step - loss: 0.5457 - accuracy: 0.7509 - val_loss: 0.5516 - val_accuracy: 0.7515\n",
      "Epoch 37/50\n",
      "384/384 [==============================] - 0s 794us/step - loss: 0.5453 - accuracy: 0.7502 - val_loss: 0.6215 - val_accuracy: 0.6758\n",
      "Epoch 38/50\n",
      "384/384 [==============================] - 0s 1ms/step - loss: 0.5465 - accuracy: 0.7511 - val_loss: 0.5411 - val_accuracy: 0.7515\n",
      "Epoch 39/50\n",
      "384/384 [==============================] - 0s 1ms/step - loss: 0.5454 - accuracy: 0.7507 - val_loss: 0.5517 - val_accuracy: 0.7515\n",
      "Epoch 40/50\n",
      "384/384 [==============================] - 0s 921us/step - loss: 0.5457 - accuracy: 0.7514 - val_loss: 0.5406 - val_accuracy: 0.7534\n",
      "Epoch 41/50\n",
      "384/384 [==============================] - 0s 737us/step - loss: 0.5458 - accuracy: 0.7506 - val_loss: 0.5472 - val_accuracy: 0.7515\n",
      "Epoch 42/50\n",
      "384/384 [==============================] - 0s 684us/step - loss: 0.5451 - accuracy: 0.7509 - val_loss: 0.6131 - val_accuracy: 0.7511\n",
      "Epoch 43/50\n",
      "384/384 [==============================] - 0s 846us/step - loss: 0.5453 - accuracy: 0.7509 - val_loss: 0.5571 - val_accuracy: 0.7515\n",
      "Epoch 44/50\n",
      "384/384 [==============================] - 0s 770us/step - loss: 0.5447 - accuracy: 0.7507 - val_loss: 0.5426 - val_accuracy: 0.7515\n",
      "Epoch 45/50\n",
      "384/384 [==============================] - 0s 727us/step - loss: 0.5460 - accuracy: 0.7508 - val_loss: 0.5532 - val_accuracy: 0.7518\n",
      "Epoch 46/50\n",
      "384/384 [==============================] - 0s 734us/step - loss: 0.5448 - accuracy: 0.7514 - val_loss: 0.5425 - val_accuracy: 0.7518\n",
      "Epoch 47/50\n",
      "384/384 [==============================] - 0s 898us/step - loss: 0.5443 - accuracy: 0.7509 - val_loss: 0.5572 - val_accuracy: 0.7524\n",
      "Epoch 48/50\n",
      "384/384 [==============================] - 0s 820us/step - loss: 0.5440 - accuracy: 0.7507 - val_loss: 0.5377 - val_accuracy: 0.7531\n",
      "Epoch 49/50\n",
      "384/384 [==============================] - 0s 1ms/step - loss: 0.5442 - accuracy: 0.7515 - val_loss: 0.5435 - val_accuracy: 0.7534\n",
      "Epoch 50/50\n",
      "384/384 [==============================] - 0s 1ms/step - loss: 0.5437 - accuracy: 0.7512 - val_loss: 0.5394 - val_accuracy: 0.7521\n"
     ]
    }
   ],
   "source": [
    "history=model.fit(X_train, y_train,           \n",
    "          validation_split=0.2,\n",
    "          epochs=50,\n",
    "          batch_size=32,verbose=1)"
   ]
  },
  {
   "cell_type": "code",
   "execution_count": 44,
   "id": "b5daabaf",
   "metadata": {
    "colab": {
     "base_uri": "https://localhost:8080/",
     "height": 283
    },
    "id": "b5daabaf",
    "outputId": "6c3f3eb3-7f77-49d7-b33f-8d8a533a3fa6"
   },
   "outputs": [
    {
     "name": "stdout",
     "output_type": "stream",
     "text": [
      "120/120 [==============================] - 0s 865us/step - loss: 0.5391 - accuracy: 0.7513\n"
     ]
    },
    {
     "data": {
      "image/png": "[encoded data removed]",
      "text/plain": [
       "<Figure size 432x288 with 1 Axes>"
      ]
     },
     "metadata": {},
     "output_type": "display_data"
    }
   ],
   "source": [
    "# Capturing learning history per epoch\n",
    "hist  = pd.DataFrame(history.history)\n",
    "hist['epoch'] = history.epoch\n",
    "\n",
    "# Plotting accuracy at different epochs\n",
    "plt.plot(hist['loss'])\n",
    "plt.plot(hist['val_loss'])\n",
    "plt.legend((\"train\" , \"valid\") , loc =0)\n",
    "\n",
    "#Printing results\n",
    "results = model.evaluate(X_test, y_test)"
   ]
  },
  {
   "cell_type": "markdown",
   "id": "mBPv2PDco4mm",
   "metadata": {
    "id": "mBPv2PDco4mm"
   },
   "source": [
    "There is noise in the loss behavior here. Sometimes, the loss function fluctuates a lot during training, which makes the convergence slow. These fluctuations are due to the nature of Stochastic Gradient Descent that produces noisy updates in the parameters. \n",
    "\n",
    "### Let's check the other metrics."
   ]
  },
  {
   "cell_type": "code",
   "execution_count": 45,
   "id": "736eaa29",
   "metadata": {
    "colab": {
     "base_uri": "https://localhost:8080/"
    },
    "id": "736eaa29",
    "outputId": "82c83843-13f2-4dce-943d-c01f310affe1"
   },
   "outputs": [
    {
     "data": {
      "text/plain": [
       "array([[False],\n",
       "       [False],\n",
       "       [False],\n",
       "       ...,\n",
       "       [False],\n",
       "       [False],\n",
       "       [False]])"
      ]
     },
     "execution_count": 45,
     "metadata": {},
     "output_type": "execute_result"
    }
   ],
   "source": [
    "y_pred=model.predict(X_test)\n",
    "y_pred = (y_pred > 0.5)\n",
    "y_pred"
   ]
  },
  {
   "cell_type": "code",
   "execution_count": 46,
   "id": "4bc0fa73",
   "metadata": {},
   "outputs": [
    {
     "data": {
      "image/png": "[encoded data removed]",
      "text/plain": [
       "<Figure size 432x288 with 2 Axes>"
      ]
     },
     "metadata": {},
     "output_type": "display_data"
    }
   ],
   "source": [
    "#Calculating the confusion matrix \n",
    "from sklearn.metrics import confusion_matrix\n",
    "cm=confusion_matrix(y_test, y_pred)\n",
    "labels = ['True Positive','False Negative','False Positive','True Negative']\n",
    "categories = [ 'Not Changing Job','Changing Job']\n",
    "make_confusion_matrix(cm, \n",
    "                      group_names=labels,\n",
    "                      categories=categories, \n",
    "                      cmap='Blues')"
   ]
  },
  {
   "cell_type": "markdown",
   "id": "TCdQTb13t8TR",
   "metadata": {
    "id": "TCdQTb13t8TR"
   },
   "source": [
    "Here, the 0.03% of False Negatives is because we gave 0.5 as the threshold to the model, and as this is an imbalanced dataset, we should calculate the threshold using the AUC-ROC curve. "
   ]
  },
  {
   "cell_type": "code",
   "execution_count": 47,
   "id": "db503c7c",
   "metadata": {
    "colab": {
     "base_uri": "https://localhost:8080/"
    },
    "id": "db503c7c",
    "outputId": "3142c93b-de46-4826-dc98-5128ab3d01af"
   },
   "outputs": [
    {
     "name": "stdout",
     "output_type": "stream",
     "text": [
      "              precision    recall  f1-score   support\n",
      "\n",
      "           0       0.75      1.00      0.86      2877\n",
      "           1       0.75      0.00      0.01       955\n",
      "\n",
      "    accuracy                           0.75      3832\n",
      "   macro avg       0.75      0.50      0.43      3832\n",
      "weighted avg       0.75      0.75      0.65      3832\n",
      "\n"
     ]
    }
   ],
   "source": [
    "#Accuracy as per the classification report \n",
    "from sklearn import metrics\n",
    "cr=metrics.classification_report(y_test,y_pred)\n",
    "print(cr)"
   ]
  },
  {
   "cell_type": "markdown",
   "id": "J7KMImGhp8BM",
   "metadata": {
    "id": "J7KMImGhp8BM"
   },
   "source": [
    "As you can see, the above model has a good accuracy but a poor F1-score. This could be due to the imbalanced dataset. We observe that the False positive rates are also high, which should be considerably lower. \n",
    "\n",
    "1) **Imbalanced dataset**: As you have seen in the EDA, this dataset is imbalanced, and it contains more examples that belong to the **0** class.\n",
    "\n",
    "2) **Decision Threshold**: Due to the imbalanced dataset, we can use ROC-AUC to find the optimal threshold and use the same for prediction.\n",
    "\n",
    "\n",
    "### Let's try to change the optimizer, tune the decision threshold, increase the layers and configure some other hyperparameters accordingly, in order to improve the model's performance."
   ]
  },
  {
   "cell_type": "markdown",
   "id": "OVP052ZnrGIW",
   "metadata": {
    "id": "OVP052ZnrGIW"
   },
   "source": [
    "### Model 2"
   ]
  },
  {
   "cell_type": "code",
   "execution_count": 48,
   "id": "aa6ab163",
   "metadata": {
    "id": "aa6ab163"
   },
   "outputs": [],
   "source": [
    "backend.clear_session()\n",
    "np.random.seed(42)\n",
    "import random\n",
    "random.seed(42)\n",
    "tf.random.set_seed(42)"
   ]
  },
  {
   "cell_type": "code",
   "execution_count": 49,
   "id": "f28e1ac8",
   "metadata": {
    "id": "f28e1ac8"
   },
   "outputs": [],
   "source": [
    "model1 = Sequential()\n",
    "\n",
    "#Adding the hidden and output layers\n",
    "model1.add(Dense(256,activation='relu',kernel_initializer='he_uniform',input_dim = X_train.shape[1]))\n",
    "model1.add(Dense(128,activation='relu',kernel_initializer='he_uniform'))\n",
    "model1.add(Dense(64,activation='relu',kernel_initializer='he_uniform'))\n",
    "model1.add(Dense(32,activation='relu',kernel_initializer='he_uniform'))\n",
    "model1.add(Dense(1, activation = 'sigmoid'))\n",
    "\n",
    "#Compiling the ANN with Adam optimizer and binary cross entropy loss function \n",
    "optimizer = tf.keras.optimizers.Adam(0.001)\n",
    "model1.compile(loss='binary_crossentropy',optimizer=optimizer,metrics=['accuracy'])"
   ]
  },
  {
   "cell_type": "code",
   "execution_count": 50,
   "id": "edce4bae",
   "metadata": {
    "id": "edce4bae"
   },
   "outputs": [
    {
     "name": "stdout",
     "output_type": "stream",
     "text": [
      "Model: \"sequential\"\n",
      "_________________________________________________________________\n",
      " Layer (type)                Output Shape              Param #   \n",
      "=================================================================\n",
      " dense (Dense)               (None, 256)               2560      \n",
      "                                                                 \n",
      " dense_1 (Dense)             (None, 128)               32896     \n",
      "                                                                 \n",
      " dense_2 (Dense)             (None, 64)                8256      \n",
      "                                                                 \n",
      " dense_3 (Dense)             (None, 32)                2080      \n",
      "                                                                 \n",
      " dense_4 (Dense)             (None, 1)                 33        \n",
      "                                                                 \n",
      "=================================================================\n",
      "Total params: 45,825\n",
      "Trainable params: 45,825\n",
      "Non-trainable params: 0\n",
      "_________________________________________________________________\n"
     ]
    }
   ],
   "source": [
    "model1.summary()"
   ]
  },
  {
   "cell_type": "code",
   "execution_count": 51,
   "id": "7428ed0c",
   "metadata": {
    "id": "7428ed0c",
    "scrolled": true
   },
   "outputs": [
    {
     "name": "stdout",
     "output_type": "stream",
     "text": [
      "Epoch 1/50\n",
      "192/192 [==============================] - 1s 2ms/step - loss: 1.2937 - accuracy: 0.6873 - val_loss: 0.6350 - val_accuracy: 0.6399\n",
      "Epoch 2/50\n",
      "192/192 [==============================] - 0s 2ms/step - loss: 0.7050 - accuracy: 0.7169 - val_loss: 0.5470 - val_accuracy: 0.7492\n",
      "Epoch 3/50\n",
      "192/192 [==============================] - 0s 1ms/step - loss: 0.6312 - accuracy: 0.7246 - val_loss: 0.5581 - val_accuracy: 0.7508\n",
      "Epoch 4/50\n",
      "192/192 [==============================] - 0s 1ms/step - loss: 0.6273 - accuracy: 0.7245 - val_loss: 0.5414 - val_accuracy: 0.7528\n",
      "Epoch 5/50\n",
      "192/192 [==============================] - 0s 1ms/step - loss: 0.5801 - accuracy: 0.7368 - val_loss: 0.5671 - val_accuracy: 0.7453\n",
      "Epoch 6/50\n",
      "192/192 [==============================] - 0s 1ms/step - loss: 0.5955 - accuracy: 0.7314 - val_loss: 0.5400 - val_accuracy: 0.7538\n",
      "Epoch 7/50\n",
      "192/192 [==============================] - 0s 1ms/step - loss: 0.5802 - accuracy: 0.7365 - val_loss: 0.5410 - val_accuracy: 0.7508\n",
      "Epoch 8/50\n",
      "192/192 [==============================] - 0s 1ms/step - loss: 0.5551 - accuracy: 0.7456 - val_loss: 0.5583 - val_accuracy: 0.7511\n",
      "Epoch 9/50\n",
      "192/192 [==============================] - 0s 2ms/step - loss: 0.5564 - accuracy: 0.7454 - val_loss: 0.5815 - val_accuracy: 0.7257\n",
      "Epoch 10/50\n",
      "192/192 [==============================] - 0s 1ms/step - loss: 0.5588 - accuracy: 0.7439 - val_loss: 0.5371 - val_accuracy: 0.7518\n",
      "Epoch 11/50\n",
      "192/192 [==============================] - 0s 1ms/step - loss: 0.5531 - accuracy: 0.7471 - val_loss: 0.6804 - val_accuracy: 0.6037\n",
      "Epoch 12/50\n",
      "192/192 [==============================] - 0s 1ms/step - loss: 0.5527 - accuracy: 0.7449 - val_loss: 0.5957 - val_accuracy: 0.7521\n",
      "Epoch 13/50\n",
      "192/192 [==============================] - 0s 1ms/step - loss: 0.5595 - accuracy: 0.7434 - val_loss: 0.5432 - val_accuracy: 0.7505\n",
      "Epoch 14/50\n",
      "192/192 [==============================] - 0s 1ms/step - loss: 0.5428 - accuracy: 0.7501 - val_loss: 0.5584 - val_accuracy: 0.7355\n",
      "Epoch 15/50\n",
      "192/192 [==============================] - 0s 1ms/step - loss: 0.5431 - accuracy: 0.7493 - val_loss: 0.5540 - val_accuracy: 0.7502\n",
      "Epoch 16/50\n",
      "192/192 [==============================] - 0s 2ms/step - loss: 0.5512 - accuracy: 0.7466 - val_loss: 0.5678 - val_accuracy: 0.7492\n",
      "Epoch 17/50\n",
      "192/192 [==============================] - 0s 2ms/step - loss: 0.5487 - accuracy: 0.7473 - val_loss: 0.5368 - val_accuracy: 0.7515\n",
      "Epoch 18/50\n",
      "192/192 [==============================] - 0s 1ms/step - loss: 0.5482 - accuracy: 0.7474 - val_loss: 0.5445 - val_accuracy: 0.7528\n",
      "Epoch 19/50\n",
      "192/192 [==============================] - 0s 1ms/step - loss: 0.5482 - accuracy: 0.7496 - val_loss: 0.5422 - val_accuracy: 0.7515\n",
      "Epoch 20/50\n",
      "192/192 [==============================] - 0s 2ms/step - loss: 0.5479 - accuracy: 0.7505 - val_loss: 0.5370 - val_accuracy: 0.7482\n",
      "Epoch 21/50\n",
      "192/192 [==============================] - 0s 1ms/step - loss: 0.5436 - accuracy: 0.7517 - val_loss: 0.5502 - val_accuracy: 0.7498\n",
      "Epoch 22/50\n",
      "192/192 [==============================] - 0s 1ms/step - loss: 0.5400 - accuracy: 0.7518 - val_loss: 0.5450 - val_accuracy: 0.7524\n",
      "Epoch 23/50\n",
      "192/192 [==============================] - 0s 2ms/step - loss: 0.5472 - accuracy: 0.7482 - val_loss: 0.5379 - val_accuracy: 0.7502\n",
      "Epoch 24/50\n",
      "192/192 [==============================] - 0s 1ms/step - loss: 0.5363 - accuracy: 0.7524 - val_loss: 0.5383 - val_accuracy: 0.7502\n",
      "Epoch 25/50\n",
      "192/192 [==============================] - 0s 1ms/step - loss: 0.5387 - accuracy: 0.7519 - val_loss: 0.5389 - val_accuracy: 0.7528\n",
      "Epoch 26/50\n",
      "192/192 [==============================] - 0s 1ms/step - loss: 0.5360 - accuracy: 0.7515 - val_loss: 0.5872 - val_accuracy: 0.7505\n",
      "Epoch 27/50\n",
      "192/192 [==============================] - 0s 1ms/step - loss: 0.5364 - accuracy: 0.7530 - val_loss: 0.5837 - val_accuracy: 0.7502\n",
      "Epoch 28/50\n",
      "192/192 [==============================] - 0s 1ms/step - loss: 0.5338 - accuracy: 0.7511 - val_loss: 0.5417 - val_accuracy: 0.7485\n",
      "Epoch 29/50\n",
      "192/192 [==============================] - 0s 1ms/step - loss: 0.5326 - accuracy: 0.7539 - val_loss: 0.5249 - val_accuracy: 0.7528\n",
      "Epoch 30/50\n",
      "192/192 [==============================] - 0s 2ms/step - loss: 0.5325 - accuracy: 0.7531 - val_loss: 0.5245 - val_accuracy: 0.7551\n",
      "Epoch 31/50\n",
      "192/192 [==============================] - 0s 2ms/step - loss: 0.5250 - accuracy: 0.7534 - val_loss: 0.5230 - val_accuracy: 0.7544\n",
      "Epoch 32/50\n",
      "192/192 [==============================] - 0s 2ms/step - loss: 0.5244 - accuracy: 0.7529 - val_loss: 0.5277 - val_accuracy: 0.7515\n",
      "Epoch 33/50\n",
      "192/192 [==============================] - 0s 2ms/step - loss: 0.5285 - accuracy: 0.7543 - val_loss: 0.5390 - val_accuracy: 0.7492\n",
      "Epoch 34/50\n",
      "192/192 [==============================] - 0s 2ms/step - loss: 0.5393 - accuracy: 0.7509 - val_loss: 0.5243 - val_accuracy: 0.7518\n",
      "Epoch 35/50\n",
      "192/192 [==============================] - 0s 2ms/step - loss: 0.5196 - accuracy: 0.7538 - val_loss: 0.5220 - val_accuracy: 0.7551\n",
      "Epoch 36/50\n",
      "192/192 [==============================] - 0s 2ms/step - loss: 0.5261 - accuracy: 0.7531 - val_loss: 0.5239 - val_accuracy: 0.7502\n",
      "Epoch 37/50\n",
      "192/192 [==============================] - 0s 2ms/step - loss: 0.5195 - accuracy: 0.7560 - val_loss: 0.5360 - val_accuracy: 0.7538\n",
      "Epoch 38/50\n",
      "192/192 [==============================] - 0s 2ms/step - loss: 0.5202 - accuracy: 0.7546 - val_loss: 0.5142 - val_accuracy: 0.7531\n",
      "Epoch 39/50\n",
      "192/192 [==============================] - 0s 2ms/step - loss: 0.5257 - accuracy: 0.7546 - val_loss: 0.5174 - val_accuracy: 0.7518\n",
      "Epoch 40/50\n",
      "192/192 [==============================] - 0s 2ms/step - loss: 0.5202 - accuracy: 0.7560 - val_loss: 0.5312 - val_accuracy: 0.7521\n",
      "Epoch 41/50\n",
      "192/192 [==============================] - 0s 2ms/step - loss: 0.5200 - accuracy: 0.7551 - val_loss: 0.5265 - val_accuracy: 0.7524\n",
      "Epoch 42/50\n",
      "192/192 [==============================] - 0s 2ms/step - loss: 0.5256 - accuracy: 0.7540 - val_loss: 0.5322 - val_accuracy: 0.7547\n",
      "Epoch 43/50\n",
      "192/192 [==============================] - 0s 2ms/step - loss: 0.5184 - accuracy: 0.7573 - val_loss: 0.5159 - val_accuracy: 0.7538\n",
      "Epoch 44/50\n",
      "192/192 [==============================] - 0s 1ms/step - loss: 0.5147 - accuracy: 0.7560 - val_loss: 0.5162 - val_accuracy: 0.7505\n",
      "Epoch 45/50\n",
      "192/192 [==============================] - 0s 1ms/step - loss: 0.5211 - accuracy: 0.7544 - val_loss: 0.5232 - val_accuracy: 0.7528\n",
      "Epoch 46/50\n",
      "192/192 [==============================] - 0s 2ms/step - loss: 0.5193 - accuracy: 0.7564 - val_loss: 0.5194 - val_accuracy: 0.7505\n",
      "Epoch 47/50\n",
      "192/192 [==============================] - ETA: 0s - loss: 0.5174 - accuracy: 0.75 - 0s 2ms/step - loss: 0.5176 - accuracy: 0.7569 - val_loss: 0.5142 - val_accuracy: 0.7541\n",
      "Epoch 48/50\n",
      "192/192 [==============================] - 0s 2ms/step - loss: 0.5127 - accuracy: 0.7571 - val_loss: 0.5201 - val_accuracy: 0.7551\n",
      "Epoch 49/50\n",
      "192/192 [==============================] - 0s 2ms/step - loss: 0.5164 - accuracy: 0.7568 - val_loss: 0.5422 - val_accuracy: 0.7524\n",
      "Epoch 50/50\n",
      "192/192 [==============================] - 0s 2ms/step - loss: 0.5116 - accuracy: 0.7573 - val_loss: 0.5244 - val_accuracy: 0.7521\n"
     ]
    }
   ],
   "source": [
    "history1 = model1.fit(X_train,y_train,batch_size=64,epochs=50,verbose=1,validation_split = 0.2)"
   ]
  },
  {
   "cell_type": "code",
   "execution_count": 52,
   "id": "374b3d3d",
   "metadata": {
    "id": "374b3d3d"
   },
   "outputs": [
    {
     "data": {
      "image/png": "[encoded data removed]",
      "text/plain": [
       "<Figure size 432x288 with 1 Axes>"
      ]
     },
     "metadata": {},
     "output_type": "display_data"
    }
   ],
   "source": [
    "#Plotting Train Loss vs Validation Loss\n",
    "plt.plot(history1.history['loss'])\n",
    "plt.plot(history1.history['val_loss'])\n",
    "plt.title('model loss')\n",
    "plt.ylabel('Loss')\n",
    "plt.xlabel('Epoch')\n",
    "plt.legend(['train', 'validation'], loc='upper left')\n",
    "plt.show()"
   ]
  },
  {
   "cell_type": "markdown",
   "id": "gMFr6WXnrd7a",
   "metadata": {
    "id": "gMFr6WXnrd7a"
   },
   "source": [
    "As we increased the depth of the neural network and changed the optimizer to Adam, we can see smoother loss curves for both train and validation."
   ]
  },
  {
   "cell_type": "code",
   "execution_count": 53,
   "id": "c246e539",
   "metadata": {
    "id": "c246e539"
   },
   "outputs": [
    {
     "name": "stdout",
     "output_type": "stream",
     "text": [
      "Best Threshold=0.175521, G-Mean=0.677\n"
     ]
    },
    {
     "data": {
      "image/png": "[encoded data removed]",
      "text/plain": [
       "<Figure size 432x288 with 1 Axes>"
      ]
     },
     "metadata": {},
     "output_type": "display_data"
    }
   ],
   "source": [
    "# predict probabilities\n",
    "yhat1 = model1.predict(X_test)\n",
    "# keep probabilities for the positive outcome only\n",
    "yhat1 = yhat1[:, 0]\n",
    "# calculate roc curves\n",
    "fpr, tpr, thresholds1 = roc_curve(y_test, yhat1)\n",
    "# calculate the g-mean for each threshold\n",
    "gmeans1 = np.sqrt(tpr * (1-fpr))\n",
    "# locate the index of the largest g-mean\n",
    "ix = np.argmax(gmeans1)\n",
    "print('Best Threshold=%f, G-Mean=%.3f' % (thresholds1[ix], gmeans1[ix]))\n",
    "# plot the roc curve for the model\n",
    "pyplot.plot([0,1], [0,1], linestyle='--', label='No Skill')\n",
    "pyplot.plot(fpr, tpr, marker='.')\n",
    "pyplot.scatter(fpr[ix], tpr[ix], marker='o', color='black', label='Best')\n",
    "# axis labels\n",
    "pyplot.xlabel('False Positive Rate')\n",
    "pyplot.ylabel('True Positive Rate')\n",
    "pyplot.legend()\n",
    "# show the plot\n",
    "pyplot.show()"
   ]
  },
  {
   "cell_type": "markdown",
   "id": "V3j3bdd09zQ3",
   "metadata": {
    "id": "V3j3bdd09zQ3"
   },
   "source": [
    "**Let's tune the threshold using ROC-AUC**\n",
    "\n",
    "There are many ways we could locate the threshold with the optimal balance between false positive and true positive rates. \n",
    "\n",
    "Firstly, the true positive rate is called the Sensitivity. The inverse of the false-positive rate is called the Specificity.\n",
    "\n",
    "**Sensitivity = True Positive / (True Positive + False Negative)**\n",
    "\n",
    "**Specificity = True Negative / (False Positive + True Negative)**\n",
    "\n",
    "Where:\n",
    "\n",
    "Sensitivity = True Positive Rate\n",
    "\n",
    "Specificity = 1 – False Positive Rate\n",
    "\n",
    "The Geometric Mean or G-Mean is a metric for imbalanced classification that, if optimized, will seek a balance between the sensitivity and the specificity.\n",
    "\n",
    "**G-Mean = sqrt(Sensitivity * Specificity)**\n",
    "\n",
    "One approach would be to test the model with each threshold returned from the call roc_auc_score(),and select the threshold with the **largest G-Mean value.**"
   ]
  },
  {
   "cell_type": "code",
   "execution_count": 54,
   "id": "da781510",
   "metadata": {
    "id": "da781510"
   },
   "outputs": [
    {
     "data": {
      "text/plain": [
       "array([[False],\n",
       "       [ True],\n",
       "       [False],\n",
       "       ...,\n",
       "       [False],\n",
       "       [False],\n",
       "       [False]])"
      ]
     },
     "execution_count": 54,
     "metadata": {},
     "output_type": "execute_result"
    }
   ],
   "source": [
    "#Predicting the results using best as a threshold\n",
    "y_pred_e1=model1.predict(X_test)\n",
    "y_pred_e1 = (y_pred_e1 > thresholds1[ix])\n",
    "y_pred_e1"
   ]
  },
  {
   "cell_type": "code",
   "execution_count": 55,
   "id": "b122cd40",
   "metadata": {
    "id": "b122cd40"
   },
   "outputs": [
    {
     "data": {
      "image/png": "[encoded data removed]",
      "text/plain": [
       "<Figure size 432x288 with 2 Axes>"
      ]
     },
     "metadata": {},
     "output_type": "display_data"
    }
   ],
   "source": [
    "#Calculating the confusion matrix \n",
    "from sklearn.metrics import confusion_matrix\n",
    "cm1=confusion_matrix(y_test, y_pred_e1)\n",
    "labels = ['True Positive','False Negative','False Positive','True Negative']\n",
    "categories = [ 'Not Changing Job','Changing Job']\n",
    "make_confusion_matrix(cm1, \n",
    "                      group_names=labels,\n",
    "                      categories=categories, \n",
    "                      cmap='Blues')"
   ]
  },
  {
   "cell_type": "code",
   "execution_count": 56,
   "id": "8c0f494c",
   "metadata": {
    "id": "8c0f494c"
   },
   "outputs": [
    {
     "name": "stdout",
     "output_type": "stream",
     "text": [
      "              precision    recall  f1-score   support\n",
      "\n",
      "           0       0.87      0.65      0.74      2877\n",
      "           1       0.40      0.71      0.51       955\n",
      "\n",
      "    accuracy                           0.66      3832\n",
      "   macro avg       0.63      0.68      0.63      3832\n",
      "weighted avg       0.75      0.66      0.68      3832\n",
      "\n"
     ]
    }
   ],
   "source": [
    "#Accuracy as per the classification report \n",
    "from sklearn import metrics\n",
    "cr=metrics.classification_report(y_test,y_pred_e1)\n",
    "print(cr)"
   ]
  },
  {
   "cell_type": "markdown",
   "id": "W7z7UJyNsWTT",
   "metadata": {
    "id": "W7z7UJyNsWTT"
   },
   "source": [
    "As the number of layers in the neural network has increased, we can see that the macro F1 score has increased, and the False Negative percentage has decreased. \n",
    "\n",
    "### Now let's try to use the Batch Normalization technique and check to see if we can increase the F1 score. "
   ]
  },
  {
   "cell_type": "markdown",
   "id": "qj44kS6ss1g0",
   "metadata": {
    "id": "qj44kS6ss1g0"
   },
   "source": [
    "### Model 3"
   ]
  },
  {
   "cell_type": "code",
   "execution_count": 57,
   "id": "3cbb0b11",
   "metadata": {
    "id": "3cbb0b11"
   },
   "outputs": [],
   "source": [
    "backend.clear_session()\n",
    "np.random.seed(42)\n",
    "import random\n",
    "random.seed(42)\n",
    "tf.random.set_seed(42)"
   ]
  },
  {
   "cell_type": "code",
   "execution_count": 58,
   "id": "bb444060",
   "metadata": {
    "id": "bb444060"
   },
   "outputs": [],
   "source": [
    "model2 = Sequential()\n",
    "model2.add(Dense(128,activation='relu',input_dim = X_train.shape[1]))\n",
    "model2.add(BatchNormalization())\n",
    "model2.add(Dense(64,activation='relu',kernel_initializer='he_uniform'))\n",
    "model2.add(BatchNormalization())\n",
    "model2.add(Dense(32,activation='relu',kernel_initializer='he_uniform'))\n",
    "model2.add(Dense(1, activation = 'sigmoid'))"
   ]
  },
  {
   "cell_type": "code",
   "execution_count": 59,
   "id": "4a618085",
   "metadata": {
    "id": "4a618085"
   },
   "outputs": [
    {
     "name": "stdout",
     "output_type": "stream",
     "text": [
      "Model: \"sequential\"\n",
      "_________________________________________________________________\n",
      " Layer (type)                Output Shape              Param #   \n",
      "=================================================================\n",
      " dense (Dense)               (None, 128)               1280      \n",
      "                                                                 \n",
      " batch_normalization (BatchN  (None, 128)              512       \n",
      " ormalization)                                                   \n",
      "                                                                 \n",
      " dense_1 (Dense)             (None, 64)                8256      \n",
      "                                                                 \n",
      " batch_normalization_1 (Batc  (None, 64)               256       \n",
      " hNormalization)                                                 \n",
      "                                                                 \n",
      " dense_2 (Dense)             (None, 32)                2080      \n",
      "                                                                 \n",
      " dense_3 (Dense)             (None, 1)                 33        \n",
      "                                                                 \n",
      "=================================================================\n",
      "Total params: 12,417\n",
      "Trainable params: 12,033\n",
      "Non-trainable params: 384\n",
      "_________________________________________________________________\n"
     ]
    }
   ],
   "source": [
    "model2.summary()"
   ]
  },
  {
   "cell_type": "code",
   "execution_count": 60,
   "id": "d12e4397",
   "metadata": {
    "id": "d12e4397"
   },
   "outputs": [],
   "source": [
    "optimizer = tf.keras.optimizers.Adam(0.001)\n",
    "model2.compile(loss='binary_crossentropy',optimizer=optimizer,metrics=['accuracy'])"
   ]
  },
  {
   "cell_type": "code",
   "execution_count": 61,
   "id": "b6f117d7",
   "metadata": {
    "id": "b6f117d7",
    "scrolled": true
   },
   "outputs": [
    {
     "name": "stdout",
     "output_type": "stream",
     "text": [
      "Epoch 1/50\n",
      "192/192 [==============================] - 1s 2ms/step - loss: 0.5692 - accuracy: 0.7409 - val_loss: 0.5631 - val_accuracy: 0.7521\n",
      "Epoch 2/50\n",
      "192/192 [==============================] - 0s 1ms/step - loss: 0.5454 - accuracy: 0.7468 - val_loss: 0.5360 - val_accuracy: 0.7544\n",
      "Epoch 3/50\n",
      "192/192 [==============================] - 0s 1ms/step - loss: 0.5245 - accuracy: 0.7552 - val_loss: 0.5134 - val_accuracy: 0.7573\n",
      "Epoch 4/50\n",
      "192/192 [==============================] - 0s 1ms/step - loss: 0.5176 - accuracy: 0.7549 - val_loss: 0.5069 - val_accuracy: 0.7586\n",
      "Epoch 5/50\n",
      "192/192 [==============================] - 0s 2ms/step - loss: 0.5083 - accuracy: 0.7606 - val_loss: 0.5520 - val_accuracy: 0.7554\n",
      "Epoch 6/50\n",
      "192/192 [==============================] - 0s 2ms/step - loss: 0.5054 - accuracy: 0.7584 - val_loss: 0.5509 - val_accuracy: 0.7544\n",
      "Epoch 7/50\n",
      "192/192 [==============================] - 0s 2ms/step - loss: 0.5025 - accuracy: 0.7610 - val_loss: 0.5027 - val_accuracy: 0.7642\n",
      "Epoch 8/50\n",
      "192/192 [==============================] - 0s 2ms/step - loss: 0.5033 - accuracy: 0.7627 - val_loss: 0.5036 - val_accuracy: 0.7658\n",
      "Epoch 9/50\n",
      "192/192 [==============================] - 0s 1ms/step - loss: 0.5035 - accuracy: 0.7619 - val_loss: 0.4962 - val_accuracy: 0.7740\n",
      "Epoch 10/50\n",
      "192/192 [==============================] - 0s 2ms/step - loss: 0.4994 - accuracy: 0.7626 - val_loss: 0.5705 - val_accuracy: 0.7218\n",
      "Epoch 11/50\n",
      "192/192 [==============================] - 0s 2ms/step - loss: 0.4987 - accuracy: 0.7665 - val_loss: 0.5234 - val_accuracy: 0.7482\n",
      "Epoch 12/50\n",
      "192/192 [==============================] - 0s 1ms/step - loss: 0.4973 - accuracy: 0.7644 - val_loss: 0.5041 - val_accuracy: 0.7658\n",
      "Epoch 13/50\n",
      "192/192 [==============================] - 0s 1ms/step - loss: 0.4959 - accuracy: 0.7591 - val_loss: 0.5083 - val_accuracy: 0.7629\n",
      "Epoch 14/50\n",
      "192/192 [==============================] - 0s 2ms/step - loss: 0.4962 - accuracy: 0.7701 - val_loss: 0.5224 - val_accuracy: 0.7609\n",
      "Epoch 15/50\n",
      "192/192 [==============================] - 0s 1ms/step - loss: 0.4956 - accuracy: 0.7670 - val_loss: 0.5631 - val_accuracy: 0.7326\n",
      "Epoch 16/50\n",
      "192/192 [==============================] - 0s 1ms/step - loss: 0.4928 - accuracy: 0.7682 - val_loss: 0.4926 - val_accuracy: 0.7655\n",
      "Epoch 17/50\n",
      "192/192 [==============================] - 0s 1ms/step - loss: 0.4938 - accuracy: 0.7692 - val_loss: 0.5206 - val_accuracy: 0.7583\n",
      "Epoch 18/50\n",
      "192/192 [==============================] - 0s 1ms/step - loss: 0.4928 - accuracy: 0.7683 - val_loss: 0.5074 - val_accuracy: 0.7603\n",
      "Epoch 19/50\n",
      "192/192 [==============================] - 0s 1ms/step - loss: 0.4918 - accuracy: 0.7662 - val_loss: 0.5044 - val_accuracy: 0.7599\n",
      "Epoch 20/50\n",
      "192/192 [==============================] - 0s 2ms/step - loss: 0.4914 - accuracy: 0.7689 - val_loss: 0.4939 - val_accuracy: 0.7684\n",
      "Epoch 21/50\n",
      "192/192 [==============================] - 0s 2ms/step - loss: 0.4898 - accuracy: 0.7704 - val_loss: 0.4985 - val_accuracy: 0.7688\n",
      "Epoch 22/50\n",
      "192/192 [==============================] - 0s 1ms/step - loss: 0.4897 - accuracy: 0.7711 - val_loss: 0.5236 - val_accuracy: 0.7538\n",
      "Epoch 23/50\n",
      "192/192 [==============================] - 0s 2ms/step - loss: 0.4902 - accuracy: 0.7724 - val_loss: 0.4932 - val_accuracy: 0.7658\n",
      "Epoch 24/50\n",
      "192/192 [==============================] - 0s 1ms/step - loss: 0.4890 - accuracy: 0.7722 - val_loss: 0.5011 - val_accuracy: 0.7707\n",
      "Epoch 25/50\n",
      "192/192 [==============================] - 0s 2ms/step - loss: 0.4879 - accuracy: 0.7714 - val_loss: 0.5041 - val_accuracy: 0.7668\n",
      "Epoch 26/50\n",
      "192/192 [==============================] - 0s 2ms/step - loss: 0.4881 - accuracy: 0.7697 - val_loss: 0.5250 - val_accuracy: 0.7456\n",
      "Epoch 27/50\n",
      "192/192 [==============================] - 0s 2ms/step - loss: 0.4891 - accuracy: 0.7719 - val_loss: 0.4954 - val_accuracy: 0.7652\n",
      "Epoch 28/50\n",
      "192/192 [==============================] - 0s 1ms/step - loss: 0.4850 - accuracy: 0.7725 - val_loss: 0.5133 - val_accuracy: 0.7603\n",
      "Epoch 29/50\n",
      "192/192 [==============================] - 0s 1ms/step - loss: 0.4858 - accuracy: 0.7706 - val_loss: 0.4980 - val_accuracy: 0.7577\n",
      "Epoch 30/50\n",
      "192/192 [==============================] - 0s 2ms/step - loss: 0.4867 - accuracy: 0.7721 - val_loss: 0.4959 - val_accuracy: 0.7684\n",
      "Epoch 31/50\n",
      "192/192 [==============================] - 0s 2ms/step - loss: 0.4855 - accuracy: 0.7716 - val_loss: 0.4968 - val_accuracy: 0.7661\n",
      "Epoch 32/50\n",
      "192/192 [==============================] - 0s 2ms/step - loss: 0.4860 - accuracy: 0.7726 - val_loss: 0.4938 - val_accuracy: 0.7668\n",
      "Epoch 33/50\n",
      "192/192 [==============================] - 0s 1ms/step - loss: 0.4855 - accuracy: 0.7719 - val_loss: 0.4948 - val_accuracy: 0.7603\n",
      "Epoch 34/50\n",
      "192/192 [==============================] - 0s 2ms/step - loss: 0.4854 - accuracy: 0.7707 - val_loss: 0.5651 - val_accuracy: 0.7257\n",
      "Epoch 35/50\n",
      "192/192 [==============================] - 0s 1ms/step - loss: 0.4836 - accuracy: 0.7765 - val_loss: 0.4986 - val_accuracy: 0.7720\n",
      "Epoch 36/50\n",
      "192/192 [==============================] - 0s 1ms/step - loss: 0.4851 - accuracy: 0.7723 - val_loss: 0.4931 - val_accuracy: 0.7678\n",
      "Epoch 37/50\n",
      "192/192 [==============================] - 0s 1ms/step - loss: 0.4836 - accuracy: 0.7708 - val_loss: 0.4968 - val_accuracy: 0.7674\n",
      "Epoch 38/50\n",
      "192/192 [==============================] - 0s 1ms/step - loss: 0.4826 - accuracy: 0.7744 - val_loss: 0.5117 - val_accuracy: 0.7547\n",
      "Epoch 39/50\n",
      "192/192 [==============================] - 0s 1ms/step - loss: 0.4815 - accuracy: 0.7731 - val_loss: 0.5107 - val_accuracy: 0.7642\n",
      "Epoch 40/50\n",
      "192/192 [==============================] - 0s 1ms/step - loss: 0.4829 - accuracy: 0.7723 - val_loss: 0.4988 - val_accuracy: 0.7697\n",
      "Epoch 41/50\n",
      "192/192 [==============================] - 0s 1ms/step - loss: 0.4832 - accuracy: 0.7730 - val_loss: 0.5011 - val_accuracy: 0.7606\n",
      "Epoch 42/50\n",
      "192/192 [==============================] - 0s 1ms/step - loss: 0.4802 - accuracy: 0.7730 - val_loss: 0.5287 - val_accuracy: 0.7613\n",
      "Epoch 43/50\n",
      "192/192 [==============================] - 0s 2ms/step - loss: 0.4820 - accuracy: 0.7769 - val_loss: 0.5181 - val_accuracy: 0.7567\n",
      "Epoch 44/50\n",
      "192/192 [==============================] - 0s 1ms/step - loss: 0.4812 - accuracy: 0.7711 - val_loss: 0.4976 - val_accuracy: 0.7648\n",
      "Epoch 45/50\n",
      "192/192 [==============================] - 0s 1ms/step - loss: 0.4810 - accuracy: 0.7733 - val_loss: 0.4999 - val_accuracy: 0.7626\n",
      "Epoch 46/50\n",
      "192/192 [==============================] - 0s 1ms/step - loss: 0.4796 - accuracy: 0.7754 - val_loss: 0.5182 - val_accuracy: 0.7632\n",
      "Epoch 47/50\n",
      "192/192 [==============================] - 0s 2ms/step - loss: 0.4813 - accuracy: 0.7732 - val_loss: 0.4991 - val_accuracy: 0.7606\n",
      "Epoch 48/50\n",
      "192/192 [==============================] - 0s 2ms/step - loss: 0.4806 - accuracy: 0.7754 - val_loss: 0.4982 - val_accuracy: 0.7613\n",
      "Epoch 49/50\n",
      "192/192 [==============================] - 0s 2ms/step - loss: 0.4792 - accuracy: 0.7777 - val_loss: 0.5045 - val_accuracy: 0.7619\n",
      "Epoch 50/50\n",
      "192/192 [==============================] - 0s 2ms/step - loss: 0.4786 - accuracy: 0.7757 - val_loss: 0.4985 - val_accuracy: 0.7671\n"
     ]
    }
   ],
   "source": [
    "history_2 = model2.fit(X_train,y_train,batch_size=64,epochs=50,verbose=1,validation_split = 0.2)"
   ]
  },
  {
   "cell_type": "code",
   "execution_count": 62,
   "id": "7107036f",
   "metadata": {
    "id": "7107036f"
   },
   "outputs": [
    {
     "data": {
      "image/png": "[encoded data removed]",
      "text/plain": [
       "<Figure size 432x288 with 1 Axes>"
      ]
     },
     "metadata": {},
     "output_type": "display_data"
    }
   ],
   "source": [
    "#Plotting Train Loss vs Validation Loss\n",
    "plt.plot(history_2.history['loss'])\n",
    "plt.plot(history_2.history['val_loss'])\n",
    "plt.title('model loss')\n",
    "plt.ylabel('Loss')\n",
    "plt.xlabel('Epoch')\n",
    "plt.legend(['train', 'validation'], loc='upper left')\n",
    "plt.show()"
   ]
  },
  {
   "cell_type": "markdown",
   "id": "ysG7B3Fs-1Cr",
   "metadata": {
    "id": "ysG7B3Fs-1Cr"
   },
   "source": [
    "Unfortunately, from the above plot we observe that there is a lot of noise in the model, and it and seems to have overfitted on the training data because there is a significant difference in performance between train and validation."
   ]
  },
  {
   "cell_type": "code",
   "execution_count": 63,
   "id": "38f473e3",
   "metadata": {
    "id": "38f473e3"
   },
   "outputs": [
    {
     "name": "stdout",
     "output_type": "stream",
     "text": [
      "Best Threshold=0.225318, G-Mean=0.700\n"
     ]
    },
    {
     "data": {
      "image/png": "[encoded data removed]",
      "text/plain": [
       "<Figure size 432x288 with 1 Axes>"
      ]
     },
     "metadata": {},
     "output_type": "display_data"
    }
   ],
   "source": [
    "# predict probabilities\n",
    "yhat2 = model2.predict(X_test)\n",
    "# keep probabilities for the positive outcome only\n",
    "yhat2 = yhat2[:, 0]\n",
    "# calculate roc curves\n",
    "fpr, tpr, thresholds2 = roc_curve(y_test, yhat2)\n",
    "# calculate the g-mean for each threshold\n",
    "gmeans2 = np.sqrt(tpr * (1-fpr))\n",
    "# locate the index of the largest g-mean\n",
    "ix = np.argmax(gmeans2)\n",
    "print('Best Threshold=%f, G-Mean=%.3f' % (thresholds2[ix], gmeans2[ix]))\n",
    "# plot the roc curve for the model\n",
    "pyplot.plot([0,1], [0,1], linestyle='--', label='No Skill')\n",
    "pyplot.plot(fpr, tpr, marker='.')\n",
    "pyplot.scatter(fpr[ix], tpr[ix], marker='o', color='black', label='Best')\n",
    "# axis labels\n",
    "pyplot.xlabel('False Positive Rate')\n",
    "pyplot.ylabel('True Positive Rate')\n",
    "pyplot.legend()\n",
    "# show the plot\n",
    "pyplot.show()"
   ]
  },
  {
   "cell_type": "code",
   "execution_count": 64,
   "id": "811a4523",
   "metadata": {
    "id": "811a4523"
   },
   "outputs": [
    {
     "data": {
      "text/plain": [
       "array([[False],\n",
       "       [ True],\n",
       "       [False],\n",
       "       ...,\n",
       "       [False],\n",
       "       [False],\n",
       "       [False]])"
      ]
     },
     "execution_count": 64,
     "metadata": {},
     "output_type": "execute_result"
    }
   ],
   "source": [
    "y_pred_e2=model2.predict(X_test)\n",
    "y_pred_e2 = (y_pred_e2 > thresholds2[ix])\n",
    "y_pred_e2"
   ]
  },
  {
   "cell_type": "code",
   "execution_count": 65,
   "id": "ed69bea9",
   "metadata": {
    "id": "ed69bea9"
   },
   "outputs": [
    {
     "data": {
      "image/png": "[encoded data removed]",
      "text/plain": [
       "<Figure size 432x288 with 2 Axes>"
      ]
     },
     "metadata": {},
     "output_type": "display_data"
    }
   ],
   "source": [
    "#Calculating the confusion matrix \n",
    "from sklearn.metrics import confusion_matrix\n",
    "cm2=confusion_matrix(y_test, y_pred_e2)\n",
    "labels = ['True Positive','False Negative','False Positive','True Negative']\n",
    "categories = [ 'Not Changing Job','Changing Job']\n",
    "make_confusion_matrix(cm2, \n",
    "                      group_names=labels,\n",
    "                      categories=categories, \n",
    "                      cmap='Blues')"
   ]
  },
  {
   "cell_type": "code",
   "execution_count": 66,
   "id": "2d4d7c58",
   "metadata": {
    "id": "2d4d7c58"
   },
   "outputs": [
    {
     "name": "stdout",
     "output_type": "stream",
     "text": [
      "              precision    recall  f1-score   support\n",
      "\n",
      "           0       0.87      0.71      0.78      2877\n",
      "           1       0.44      0.69      0.54       955\n",
      "\n",
      "    accuracy                           0.70      3832\n",
      "   macro avg       0.66      0.70      0.66      3832\n",
      "weighted avg       0.77      0.70      0.72      3832\n",
      "\n"
     ]
    }
   ],
   "source": [
    "#Accuracy as per the classification report \n",
    "from sklearn import metrics\n",
    "cr2=metrics.classification_report(y_test,y_pred_e2)\n",
    "print(cr2)"
   ]
  },
  {
   "cell_type": "markdown",
   "id": "W0FLVvSE73Je",
   "metadata": {
    "id": "W0FLVvSE73Je"
   },
   "source": [
    "The Train and Validation curves seem to show overfitting despite having a good F1 score and a low False Negative rate. \n",
    "\n",
    "### Let's try to use the Dropout technique and check to see if it can reduce the False Negative rate. "
   ]
  },
  {
   "cell_type": "markdown",
   "id": "uCforq1WvhMy",
   "metadata": {
    "id": "uCforq1WvhMy"
   },
   "source": [
    "### Model 4"
   ]
  },
  {
   "cell_type": "code",
   "execution_count": 67,
   "id": "98392d80",
   "metadata": {
    "id": "98392d80"
   },
   "outputs": [],
   "source": [
    "backend.clear_session()\n",
    "np.random.seed(42)\n",
    "import random\n",
    "random.seed(42)\n",
    "tf.random.set_seed(42)"
   ]
  },
  {
   "cell_type": "code",
   "execution_count": 68,
   "id": "70b0696f",
   "metadata": {
    "id": "70b0696f"
   },
   "outputs": [],
   "source": [
    "model3 = Sequential()\n",
    "model3.add(Dense(256,activation='relu',input_dim = X_train.shape[1]))\n",
    "model3.add(Dropout(0.2))\n",
    "model3.add(Dense(128,activation='relu'))\n",
    "model3.add(Dropout(0.2))\n",
    "model3.add(Dense(64,activation='relu'))\n",
    "model3.add(Dropout(0.2))\n",
    "model3.add(Dense(32,activation='relu'))\n",
    "model3.add(Dense(1, activation = 'sigmoid'))"
   ]
  },
  {
   "cell_type": "code",
   "execution_count": 69,
   "id": "3db79146",
   "metadata": {
    "id": "3db79146"
   },
   "outputs": [
    {
     "name": "stdout",
     "output_type": "stream",
     "text": [
      "Model: \"sequential\"\n",
      "_________________________________________________________________\n",
      " Layer (type)                Output Shape              Param #   \n",
      "=================================================================\n",
      " dense (Dense)               (None, 256)               2560      \n",
      "                                                                 \n",
      " dropout (Dropout)           (None, 256)               0         \n",
      "                                                                 \n",
      " dense_1 (Dense)             (None, 128)               32896     \n",
      "                                                                 \n",
      " dropout_1 (Dropout)         (None, 128)               0         \n",
      "                                                                 \n",
      " dense_2 (Dense)             (None, 64)                8256      \n",
      "                                                                 \n",
      " dropout_2 (Dropout)         (None, 64)                0         \n",
      "                                                                 \n",
      " dense_3 (Dense)             (None, 32)                2080      \n",
      "                                                                 \n",
      " dense_4 (Dense)             (None, 1)                 33        \n",
      "                                                                 \n",
      "=================================================================\n",
      "Total params: 45,825\n",
      "Trainable params: 45,825\n",
      "Non-trainable params: 0\n",
      "_________________________________________________________________\n"
     ]
    }
   ],
   "source": [
    "model3.summary()"
   ]
  },
  {
   "cell_type": "code",
   "execution_count": 70,
   "id": "618f876f",
   "metadata": {
    "id": "618f876f"
   },
   "outputs": [],
   "source": [
    "optimizer = tf.keras.optimizers.Adam(0.001)\n",
    "model3.compile(loss='binary_crossentropy',optimizer=optimizer,metrics=['accuracy'])"
   ]
  },
  {
   "cell_type": "code",
   "execution_count": 71,
   "id": "43c11511",
   "metadata": {
    "id": "43c11511",
    "scrolled": true
   },
   "outputs": [
    {
     "name": "stdout",
     "output_type": "stream",
     "text": [
      "Epoch 1/50\n",
      "192/192 [==============================] - 1s 3ms/step - loss: 0.6613 - accuracy: 0.7186 - val_loss: 0.5839 - val_accuracy: 0.7515\n",
      "Epoch 2/50\n",
      "192/192 [==============================] - 1s 3ms/step - loss: 0.5803 - accuracy: 0.7481 - val_loss: 0.5713 - val_accuracy: 0.7515\n",
      "Epoch 3/50\n",
      "192/192 [==============================] - 0s 2ms/step - loss: 0.5679 - accuracy: 0.7498 - val_loss: 0.5597 - val_accuracy: 0.7515\n",
      "Epoch 4/50\n",
      "192/192 [==============================] - 0s 2ms/step - loss: 0.5632 - accuracy: 0.7502 - val_loss: 0.5584 - val_accuracy: 0.7515\n",
      "Epoch 5/50\n",
      "192/192 [==============================] - 0s 2ms/step - loss: 0.5596 - accuracy: 0.7504 - val_loss: 0.5564 - val_accuracy: 0.7515\n",
      "Epoch 6/50\n",
      "192/192 [==============================] - 0s 2ms/step - loss: 0.5605 - accuracy: 0.7504 - val_loss: 0.5569 - val_accuracy: 0.7515\n",
      "Epoch 7/50\n",
      "192/192 [==============================] - 0s 2ms/step - loss: 0.5550 - accuracy: 0.7504 - val_loss: 0.5466 - val_accuracy: 0.7515\n",
      "Epoch 8/50\n",
      "192/192 [==============================] - 1s 3ms/step - loss: 0.5543 - accuracy: 0.7499 - val_loss: 0.5553 - val_accuracy: 0.7515\n",
      "Epoch 9/50\n",
      "192/192 [==============================] - 0s 3ms/step - loss: 0.5514 - accuracy: 0.7502 - val_loss: 0.5407 - val_accuracy: 0.7515\n",
      "Epoch 10/50\n",
      "192/192 [==============================] - 1s 3ms/step - loss: 0.5496 - accuracy: 0.7500 - val_loss: 0.5415 - val_accuracy: 0.7515\n",
      "Epoch 11/50\n",
      "192/192 [==============================] - 1s 3ms/step - loss: 0.5467 - accuracy: 0.7502 - val_loss: 0.5511 - val_accuracy: 0.7515\n",
      "Epoch 12/50\n",
      "192/192 [==============================] - 1s 3ms/step - loss: 0.5452 - accuracy: 0.7500 - val_loss: 0.5372 - val_accuracy: 0.7515\n",
      "Epoch 13/50\n",
      "192/192 [==============================] - 1s 3ms/step - loss: 0.5448 - accuracy: 0.7502 - val_loss: 0.5342 - val_accuracy: 0.7515\n",
      "Epoch 14/50\n",
      "192/192 [==============================] - 0s 2ms/step - loss: 0.5411 - accuracy: 0.7505 - val_loss: 0.5413 - val_accuracy: 0.7515\n",
      "Epoch 15/50\n",
      "192/192 [==============================] - 0s 2ms/step - loss: 0.5416 - accuracy: 0.7507 - val_loss: 0.5384 - val_accuracy: 0.7515\n",
      "Epoch 16/50\n",
      "192/192 [==============================] - 0s 2ms/step - loss: 0.5389 - accuracy: 0.7507 - val_loss: 0.5309 - val_accuracy: 0.7515\n",
      "Epoch 17/50\n",
      "192/192 [==============================] - 0s 2ms/step - loss: 0.5372 - accuracy: 0.7509 - val_loss: 0.5365 - val_accuracy: 0.7515\n",
      "Epoch 18/50\n",
      "192/192 [==============================] - 1s 3ms/step - loss: 0.5353 - accuracy: 0.7503 - val_loss: 0.5253 - val_accuracy: 0.7515\n",
      "Epoch 19/50\n",
      "192/192 [==============================] - 1s 3ms/step - loss: 0.5321 - accuracy: 0.7514 - val_loss: 0.5214 - val_accuracy: 0.7541\n",
      "Epoch 20/50\n",
      "192/192 [==============================] - 1s 3ms/step - loss: 0.5314 - accuracy: 0.7517 - val_loss: 0.5239 - val_accuracy: 0.7515\n",
      "Epoch 21/50\n",
      "192/192 [==============================] - 0s 3ms/step - loss: 0.5245 - accuracy: 0.7515 - val_loss: 0.5248 - val_accuracy: 0.7583\n",
      "Epoch 22/50\n",
      "192/192 [==============================] - 0s 2ms/step - loss: 0.5248 - accuracy: 0.7516 - val_loss: 0.5136 - val_accuracy: 0.7541\n",
      "Epoch 23/50\n",
      "192/192 [==============================] - 0s 2ms/step - loss: 0.5195 - accuracy: 0.7516 - val_loss: 0.5087 - val_accuracy: 0.7541\n",
      "Epoch 24/50\n",
      "192/192 [==============================] - 0s 2ms/step - loss: 0.5190 - accuracy: 0.7557 - val_loss: 0.5040 - val_accuracy: 0.7658\n",
      "Epoch 25/50\n",
      "192/192 [==============================] - 0s 2ms/step - loss: 0.5142 - accuracy: 0.7586 - val_loss: 0.5002 - val_accuracy: 0.7701\n",
      "Epoch 26/50\n",
      "192/192 [==============================] - 0s 2ms/step - loss: 0.5122 - accuracy: 0.7576 - val_loss: 0.5052 - val_accuracy: 0.7619\n",
      "Epoch 27/50\n",
      "192/192 [==============================] - 1s 3ms/step - loss: 0.5135 - accuracy: 0.7546 - val_loss: 0.4983 - val_accuracy: 0.7694\n",
      "Epoch 28/50\n",
      "192/192 [==============================] - 0s 2ms/step - loss: 0.5145 - accuracy: 0.7590 - val_loss: 0.5144 - val_accuracy: 0.7730\n",
      "Epoch 29/50\n",
      "192/192 [==============================] - 0s 3ms/step - loss: 0.5104 - accuracy: 0.7600 - val_loss: 0.5070 - val_accuracy: 0.7603\n",
      "Epoch 30/50\n",
      "192/192 [==============================] - 1s 3ms/step - loss: 0.5082 - accuracy: 0.7611 - val_loss: 0.5035 - val_accuracy: 0.7665\n",
      "Epoch 31/50\n",
      "192/192 [==============================] - 0s 2ms/step - loss: 0.5078 - accuracy: 0.7606 - val_loss: 0.5010 - val_accuracy: 0.7681\n",
      "Epoch 32/50\n",
      "192/192 [==============================] - 0s 2ms/step - loss: 0.5054 - accuracy: 0.7598 - val_loss: 0.4939 - val_accuracy: 0.7710\n",
      "Epoch 33/50\n",
      "192/192 [==============================] - 0s 2ms/step - loss: 0.5081 - accuracy: 0.7605 - val_loss: 0.5025 - val_accuracy: 0.7674\n",
      "Epoch 34/50\n",
      "192/192 [==============================] - 1s 3ms/step - loss: 0.5074 - accuracy: 0.7613 - val_loss: 0.5022 - val_accuracy: 0.7674\n",
      "Epoch 35/50\n",
      "192/192 [==============================] - 1s 3ms/step - loss: 0.5027 - accuracy: 0.7619 - val_loss: 0.5012 - val_accuracy: 0.7658\n",
      "Epoch 36/50\n",
      "192/192 [==============================] - 1s 3ms/step - loss: 0.5016 - accuracy: 0.7637 - val_loss: 0.4920 - val_accuracy: 0.7714\n",
      "Epoch 37/50\n",
      "192/192 [==============================] - 0s 2ms/step - loss: 0.5028 - accuracy: 0.7591 - val_loss: 0.5187 - val_accuracy: 0.7541\n",
      "Epoch 38/50\n",
      "192/192 [==============================] - 1s 3ms/step - loss: 0.5028 - accuracy: 0.7632 - val_loss: 0.4987 - val_accuracy: 0.7645\n",
      "Epoch 39/50\n",
      "192/192 [==============================] - 0s 2ms/step - loss: 0.5026 - accuracy: 0.7630 - val_loss: 0.4942 - val_accuracy: 0.7707\n",
      "Epoch 40/50\n",
      "192/192 [==============================] - 0s 2ms/step - loss: 0.5005 - accuracy: 0.7639 - val_loss: 0.5043 - val_accuracy: 0.7684\n",
      "Epoch 41/50\n",
      "192/192 [==============================] - 0s 3ms/step - loss: 0.4994 - accuracy: 0.7649 - val_loss: 0.5129 - val_accuracy: 0.7583\n",
      "Epoch 42/50\n",
      "192/192 [==============================] - 1s 3ms/step - loss: 0.4991 - accuracy: 0.7657 - val_loss: 0.4984 - val_accuracy: 0.7697\n",
      "Epoch 43/50\n",
      "192/192 [==============================] - 1s 3ms/step - loss: 0.4981 - accuracy: 0.7652 - val_loss: 0.4990 - val_accuracy: 0.7714\n",
      "Epoch 44/50\n",
      "192/192 [==============================] - 1s 3ms/step - loss: 0.5004 - accuracy: 0.7631 - val_loss: 0.5009 - val_accuracy: 0.7586\n",
      "Epoch 45/50\n",
      "192/192 [==============================] - 1s 3ms/step - loss: 0.4968 - accuracy: 0.7653 - val_loss: 0.4954 - val_accuracy: 0.7681\n",
      "Epoch 46/50\n",
      "192/192 [==============================] - 1s 3ms/step - loss: 0.4988 - accuracy: 0.7675 - val_loss: 0.5005 - val_accuracy: 0.7681\n",
      "Epoch 47/50\n",
      "192/192 [==============================] - 1s 3ms/step - loss: 0.5002 - accuracy: 0.7625 - val_loss: 0.5218 - val_accuracy: 0.7472\n",
      "Epoch 48/50\n",
      "192/192 [==============================] - 1s 3ms/step - loss: 0.4981 - accuracy: 0.7656 - val_loss: 0.4931 - val_accuracy: 0.7720\n",
      "Epoch 49/50\n",
      "192/192 [==============================] - 1s 3ms/step - loss: 0.4954 - accuracy: 0.7674 - val_loss: 0.4931 - val_accuracy: 0.7710\n",
      "Epoch 50/50\n",
      "192/192 [==============================] - 1s 3ms/step - loss: 0.4959 - accuracy: 0.7705 - val_loss: 0.4990 - val_accuracy: 0.7658\n"
     ]
    }
   ],
   "source": [
    "history_3 = model3.fit(X_train,y_train,batch_size=64,epochs=50,verbose=1,validation_split = 0.2)"
   ]
  },
  {
   "cell_type": "code",
   "execution_count": 72,
   "id": "6dce2cc2",
   "metadata": {
    "id": "6dce2cc2"
   },
   "outputs": [
    {
     "data": {
      "image/png": "[encoded data removed]",
      "text/plain": [
       "<Figure size 432x288 with 1 Axes>"
      ]
     },
     "metadata": {},
     "output_type": "display_data"
    }
   ],
   "source": [
    "#Plotting Train Loss vs Validation Loss\n",
    "plt.plot(history_3.history['loss'])\n",
    "plt.plot(history_3.history['val_loss'])\n",
    "plt.title('model loss')\n",
    "plt.ylabel('Loss')\n",
    "plt.xlabel('Epoch')\n",
    "plt.legend(['train', 'validation'], loc='upper left')\n",
    "plt.show()"
   ]
  },
  {
   "cell_type": "markdown",
   "id": "Q0E6Iua0_bG5",
   "metadata": {
    "id": "Q0E6Iua0_bG5"
   },
   "source": [
    "From the above plot, we observe that both the curves - train and validation are smooth."
   ]
  },
  {
   "cell_type": "code",
   "execution_count": 73,
   "id": "dcde0f48",
   "metadata": {
    "id": "dcde0f48"
   },
   "outputs": [
    {
     "name": "stdout",
     "output_type": "stream",
     "text": [
      "Best Threshold=0.219119, G-Mean=0.700\n"
     ]
    },
    {
     "data": {
      "image/png": "[encoded data removed]",
      "text/plain": [
       "<Figure size 432x288 with 1 Axes>"
      ]
     },
     "metadata": {},
     "output_type": "display_data"
    }
   ],
   "source": [
    "from sklearn.metrics import roc_curve\n",
    "\n",
    "from matplotlib import pyplot\n",
    "\n",
    "\n",
    "# predict probabilities\n",
    "yhat3 = model3.predict(X_test)\n",
    "# keep probabilities for the positive outcome only\n",
    "yhat3 = yhat3[:, 0]\n",
    "# calculate roc curves\n",
    "fpr, tpr, thresholds3 = roc_curve(y_test, yhat3)\n",
    "# calculate the g-mean for each threshold\n",
    "gmeans3 = np.sqrt(tpr * (1-fpr))\n",
    "# locate the index of the largest g-mean\n",
    "ix = np.argmax(gmeans3)\n",
    "print('Best Threshold=%f, G-Mean=%.3f' % (thresholds3[ix], gmeans3[ix]))\n",
    "# plot the roc curve for the model\n",
    "pyplot.plot([0,1], [0,1], linestyle='--', label='No Skill')\n",
    "pyplot.plot(fpr, tpr, marker='.')\n",
    "pyplot.scatter(fpr[ix], tpr[ix], marker='o', color='black', label='Best')\n",
    "# axis labels\n",
    "pyplot.xlabel('False Positive Rate')\n",
    "pyplot.ylabel('True Positive Rate')\n",
    "pyplot.legend()\n",
    "# show the plot\n",
    "pyplot.show()"
   ]
  },
  {
   "cell_type": "code",
   "execution_count": 74,
   "id": "a3968cc4",
   "metadata": {
    "id": "a3968cc4"
   },
   "outputs": [
    {
     "data": {
      "text/plain": [
       "array([[False],\n",
       "       [ True],\n",
       "       [False],\n",
       "       ...,\n",
       "       [False],\n",
       "       [False],\n",
       "       [False]])"
      ]
     },
     "execution_count": 74,
     "metadata": {},
     "output_type": "execute_result"
    }
   ],
   "source": [
    "y_pred_e3=model3.predict(X_test)\n",
    "y_pred_e3 = (y_pred_e3 > thresholds3[ix])\n",
    "y_pred_e3"
   ]
  },
  {
   "cell_type": "code",
   "execution_count": 75,
   "id": "bc8c9109",
   "metadata": {
    "id": "bc8c9109"
   },
   "outputs": [
    {
     "data": {
      "image/png": "[encoded data removed]",
      "text/plain": [
       "<Figure size 432x288 with 2 Axes>"
      ]
     },
     "metadata": {},
     "output_type": "display_data"
    }
   ],
   "source": [
    "#Calculating the confusion matrix \n",
    "from sklearn.metrics import confusion_matrix\n",
    "cm3=confusion_matrix(y_test, y_pred_e3)\n",
    "labels = ['True Positive','False Negative','False Positive','True Negative']\n",
    "categories = [ 'Not Changing Job','Changing Job']\n",
    "make_confusion_matrix(cm3, \n",
    "                      group_names=labels,\n",
    "                      categories=categories, \n",
    "                      cmap='Blues')"
   ]
  },
  {
   "cell_type": "code",
   "execution_count": 76,
   "id": "a29e2a3f",
   "metadata": {
    "id": "a29e2a3f"
   },
   "outputs": [
    {
     "name": "stdout",
     "output_type": "stream",
     "text": [
      "              precision    recall  f1-score   support\n",
      "\n",
      "           0       0.87      0.74      0.80      2877\n",
      "           1       0.46      0.66      0.54       955\n",
      "\n",
      "    accuracy                           0.72      3832\n",
      "   macro avg       0.66      0.70      0.67      3832\n",
      "weighted avg       0.77      0.72      0.73      3832\n",
      "\n"
     ]
    }
   ],
   "source": [
    "#Accuracy as per the classification report \n",
    "from sklearn import metrics\n",
    "cr3=metrics.classification_report(y_test,y_pred_e3)\n",
    "print(cr3)"
   ]
  },
  {
   "cell_type": "markdown",
   "id": "2YYgx4N18Zo9",
   "metadata": {
    "id": "2YYgx4N18Zo9"
   },
   "source": [
    "The Dropout technique helped the model reduce the loss function of both train and validation. The F1 score also seems to be fine, with a decrease in the False Negative rate.\n",
    "\n",
    "## Additional Content (Optional)\n",
    "Now, let's try to use some of the Hyperparameter Optimization techniques such as RandomizedSearchCV and Keras Tuner to increase the F1 score of the model."
   ]
  },
  {
   "cell_type": "markdown",
   "id": "pRlkIdsHCdfI",
   "metadata": {
    "id": "pRlkIdsHCdfI"
   },
   "source": [
    "### Model 5\n",
    "\n",
    "#### **Random Search CV**\n",
    "\n",
    "Some important hyperparameters to look out for while optimizing neural networks are:\n",
    "\n",
    "* Type of Architecture\n",
    "\n",
    "* Number of Layers\n",
    "\n",
    "* Number of Neurons in a layer\n",
    "\n",
    "* Regularization hyperparameters\n",
    "\n",
    "* Learning Rate\n",
    "\n",
    "* Type of Optimizer\n",
    "\n",
    "* Dropout Rate"
   ]
  },
  {
   "cell_type": "code",
   "execution_count": 77,
   "id": "ALblZ-lSCdJx",
   "metadata": {
    "id": "ALblZ-lSCdJx"
   },
   "outputs": [],
   "source": [
    "backend.clear_session()\n",
    "np.random.seed(42)\n",
    "import random\n",
    "random.seed(42)\n",
    "tf.random.set_seed(42)"
   ]
  },
  {
   "cell_type": "code",
   "execution_count": 78,
   "id": "iGy-pFqeCdHC",
   "metadata": {
    "id": "iGy-pFqeCdHC"
   },
   "outputs": [],
   "source": [
    "def create_model_v4(lr,batch_size):  \n",
    "    np.random.seed(1337)\n",
    "    model = Sequential()\n",
    "    model.add(Dense(256,activation='relu',input_dim = X_train.shape[1]))\n",
    "    model.add(Dropout(0.3))\n",
    "    #model.add(Dense(128,activation='relu',kernel_initializer='he_uniform'))\n",
    "    model.add(Dense(128,activation='relu'))\n",
    "    model.add(Dropout(0.3))\n",
    "    model.add(Dense(64,activation='relu'))\n",
    "    model.add(Dropout(0.2))\n",
    "    #model.add(Dense(32,activation='relu',kernel_initializer='he_uniform'))\n",
    "    #model.add(Dropout(0.3))\n",
    "    model.add(Dense(32,activation='relu')) \n",
    "    model.add(Dense(1, activation='sigmoid'))\n",
    "\n",
    "    #compile model\n",
    "    optimizer = tf.keras.optimizers.Adam(learning_rate=lr)\n",
    "    model.compile(optimizer = optimizer,loss = 'binary_crossentropy', metrics = ['accuracy'])\n",
    "    return model"
   ]
  },
  {
   "cell_type": "markdown",
   "id": "M2PPhM3QEMfm",
   "metadata": {
    "id": "M2PPhM3QEMfm"
   },
   "source": [
    "We are using Random search to optimize two hyperparameters - **Batch size** & **Learning Rate**.\n",
    "\n",
    "You can also optimize other hyperparameters as mentioned above.\n",
    "\n"
   ]
  },
  {
   "cell_type": "code",
   "execution_count": 79,
   "id": "oeOi6hHxCdEH",
   "metadata": {
    "id": "oeOi6hHxCdEH"
   },
   "outputs": [],
   "source": [
    "keras_estimator = KerasClassifier(build_fn=create_model_v4, verbose=1)\n",
    "# define the grid search parameters\n",
    "param_random = {\n",
    "    'batch_size':[32, 64, 128],\n",
    "    \"lr\":[0.01,0.1,0.001],}\n",
    "\n",
    "kfold_splits = 3\n",
    "random= RandomizedSearchCV(estimator=keras_estimator,  \n",
    "                    verbose=1,\n",
    "                    cv=kfold_splits,  \n",
    "                    param_distributions=param_random,n_jobs=-1)"
   ]
  },
  {
   "cell_type": "code",
   "execution_count": 80,
   "id": "WXsGZJUECdBI",
   "metadata": {
    "id": "WXsGZJUECdBI"
   },
   "outputs": [
    {
     "name": "stdout",
     "output_type": "stream",
     "text": [
      "Fitting 3 folds for each of 9 candidates, totalling 27 fits\n",
      "384/384 [==============================] - 1s 2ms/step - loss: 0.6416 - accuracy: 0.7421 - val_loss: 0.5706 - val_accuracy: 0.7515\n",
      "Best: 0.750620 using {'lr': 0.01, 'batch_size': 32}\n"
     ]
    }
   ],
   "source": [
    "random_result = random.fit(X_train, y_train,validation_split=0.2,verbose=1) \n",
    "\n",
    "# Summarize results\n",
    "print(\"Best: %f using %s\" % (random_result.best_score_, random_result.best_params_))\n",
    "means = random_result.cv_results_['mean_test_score']\n",
    "stds = random_result.cv_results_['std_test_score']\n",
    "params = random_result.cv_results_['params']"
   ]
  },
  {
   "cell_type": "markdown",
   "id": "yxP3bQEtKaJL",
   "metadata": {
    "id": "yxP3bQEtKaJL"
   },
   "source": [
    "The best model is with the following configuration: \n",
    "\n",
    "( It may vary each time the code runs ) \n",
    "\n",
    "**Result of Random Search**\n",
    "\n",
    "{'batch_size': 32, 'learning_rate\": 0.01}\n",
    "\n",
    "Let's create the final model with the above mentioned configuration"
   ]
  },
  {
   "cell_type": "code",
   "execution_count": 81,
   "id": "OhF3lqGWCc-A",
   "metadata": {
    "id": "OhF3lqGWCc-A"
   },
   "outputs": [
    {
     "name": "stdout",
     "output_type": "stream",
     "text": [
      "Model: \"sequential_1\"\n",
      "_________________________________________________________________\n",
      " Layer (type)                Output Shape              Param #   \n",
      "=================================================================\n",
      " dense_5 (Dense)             (None, 256)               2560      \n",
      "                                                                 \n",
      " dropout_3 (Dropout)         (None, 256)               0         \n",
      "                                                                 \n",
      " dense_6 (Dense)             (None, 128)               32896     \n",
      "                                                                 \n",
      " dropout_4 (Dropout)         (None, 128)               0         \n",
      "                                                                 \n",
      " dense_7 (Dense)             (None, 64)                8256      \n",
      "                                                                 \n",
      " dropout_5 (Dropout)         (None, 64)                0         \n",
      "                                                                 \n",
      " dense_8 (Dense)             (None, 32)                2080      \n",
      "                                                                 \n",
      " dense_9 (Dense)             (None, 1)                 33        \n",
      "                                                                 \n",
      "=================================================================\n",
      "Total params: 45,825\n",
      "Trainable params: 45,825\n",
      "Non-trainable params: 0\n",
      "_________________________________________________________________\n"
     ]
    }
   ],
   "source": [
    "estimator_v4=create_model_v4(batch_size=random_result.best_params_['batch_size'],lr=random_result.best_params_['lr'])\n",
    "\n",
    "estimator_v4.summary()"
   ]
  },
  {
   "cell_type": "code",
   "execution_count": 82,
   "id": "zXAKKF5-Cc6_",
   "metadata": {
    "id": "zXAKKF5-Cc6_"
   },
   "outputs": [
    {
     "name": "stdout",
     "output_type": "stream",
     "text": [
      "Epoch 1/50\n",
      "192/192 [==============================] - 1s 3ms/step - loss: 0.6643 - accuracy: 0.7405 - val_loss: 0.5677 - val_accuracy: 0.7515\n",
      "Epoch 2/50\n",
      "192/192 [==============================] - 0s 2ms/step - loss: 0.5649 - accuracy: 0.7502 - val_loss: 0.5619 - val_accuracy: 0.7515\n",
      "Epoch 3/50\n",
      "192/192 [==============================] - 0s 2ms/step - loss: 0.5606 - accuracy: 0.7504 - val_loss: 0.5495 - val_accuracy: 0.7515\n",
      "Epoch 4/50\n",
      "192/192 [==============================] - 0s 3ms/step - loss: 0.5597 - accuracy: 0.7499 - val_loss: 0.5552 - val_accuracy: 0.7515\n",
      "Epoch 5/50\n",
      "192/192 [==============================] - 1s 3ms/step - loss: 0.5563 - accuracy: 0.7504 - val_loss: 0.5616 - val_accuracy: 0.7515\n",
      "Epoch 6/50\n",
      "192/192 [==============================] - 1s 3ms/step - loss: 0.5584 - accuracy: 0.7491 - val_loss: 0.5560 - val_accuracy: 0.7515\n",
      "Epoch 7/50\n",
      "192/192 [==============================] - 0s 3ms/step - loss: 0.5568 - accuracy: 0.7504 - val_loss: 0.5530 - val_accuracy: 0.7515\n",
      "Epoch 8/50\n",
      "192/192 [==============================] - 0s 2ms/step - loss: 0.5601 - accuracy: 0.7499 - val_loss: 0.5526 - val_accuracy: 0.7515\n",
      "Epoch 9/50\n",
      "192/192 [==============================] - 0s 2ms/step - loss: 0.5565 - accuracy: 0.7506 - val_loss: 0.5495 - val_accuracy: 0.7515\n",
      "Epoch 10/50\n",
      "192/192 [==============================] - 0s 2ms/step - loss: 0.5527 - accuracy: 0.7496 - val_loss: 0.5519 - val_accuracy: 0.7515\n",
      "Epoch 11/50\n",
      "192/192 [==============================] - 1s 3ms/step - loss: 0.5522 - accuracy: 0.7500 - val_loss: 0.5537 - val_accuracy: 0.7515\n",
      "Epoch 12/50\n",
      "192/192 [==============================] - 1s 3ms/step - loss: 0.5533 - accuracy: 0.7501 - val_loss: 0.5548 - val_accuracy: 0.7515\n",
      "Epoch 13/50\n",
      "192/192 [==============================] - 0s 2ms/step - loss: 0.5528 - accuracy: 0.7502 - val_loss: 0.5432 - val_accuracy: 0.7515\n",
      "Epoch 14/50\n",
      "192/192 [==============================] - 0s 2ms/step - loss: 0.5492 - accuracy: 0.7494 - val_loss: 0.5376 - val_accuracy: 0.7515\n",
      "Epoch 15/50\n",
      "192/192 [==============================] - 0s 2ms/step - loss: 0.5492 - accuracy: 0.7497 - val_loss: 0.5373 - val_accuracy: 0.7515\n",
      "Epoch 16/50\n",
      "192/192 [==============================] - 0s 2ms/step - loss: 0.5480 - accuracy: 0.7515 - val_loss: 0.5321 - val_accuracy: 0.7518\n",
      "Epoch 17/50\n",
      "192/192 [==============================] - 0s 2ms/step - loss: 0.5455 - accuracy: 0.7515 - val_loss: 0.5380 - val_accuracy: 0.7515\n",
      "Epoch 18/50\n",
      "192/192 [==============================] - 0s 2ms/step - loss: 0.5448 - accuracy: 0.7488 - val_loss: 0.5382 - val_accuracy: 0.7518\n",
      "Epoch 19/50\n",
      "192/192 [==============================] - 0s 2ms/step - loss: 0.5457 - accuracy: 0.7499 - val_loss: 0.5379 - val_accuracy: 0.7515\n",
      "Epoch 20/50\n",
      "192/192 [==============================] - 0s 2ms/step - loss: 0.5444 - accuracy: 0.7493 - val_loss: 0.5304 - val_accuracy: 0.7515\n",
      "Epoch 21/50\n",
      "192/192 [==============================] - 0s 2ms/step - loss: 0.5447 - accuracy: 0.7497 - val_loss: 0.5430 - val_accuracy: 0.7560\n",
      "Epoch 22/50\n",
      "192/192 [==============================] - 0s 2ms/step - loss: 0.5443 - accuracy: 0.7493 - val_loss: 0.5270 - val_accuracy: 0.7511\n",
      "Epoch 23/50\n",
      "192/192 [==============================] - 0s 3ms/step - loss: 0.5420 - accuracy: 0.7507 - val_loss: 0.5340 - val_accuracy: 0.7524\n",
      "Epoch 24/50\n",
      "192/192 [==============================] - 0s 3ms/step - loss: 0.5425 - accuracy: 0.7508 - val_loss: 0.5314 - val_accuracy: 0.7518\n",
      "Epoch 25/50\n",
      "192/192 [==============================] - 1s 3ms/step - loss: 0.5390 - accuracy: 0.7511 - val_loss: 0.5262 - val_accuracy: 0.7518\n",
      "Epoch 26/50\n",
      "192/192 [==============================] - 1s 3ms/step - loss: 0.5378 - accuracy: 0.7519 - val_loss: 0.5201 - val_accuracy: 0.7508\n",
      "Epoch 27/50\n",
      "192/192 [==============================] - 1s 3ms/step - loss: 0.5441 - accuracy: 0.7501 - val_loss: 0.5365 - val_accuracy: 0.7511\n",
      "Epoch 28/50\n",
      "192/192 [==============================] - 1s 3ms/step - loss: 0.5475 - accuracy: 0.7513 - val_loss: 0.5294 - val_accuracy: 0.7518\n",
      "Epoch 29/50\n",
      "192/192 [==============================] - 1s 3ms/step - loss: 0.5409 - accuracy: 0.7485 - val_loss: 0.5255 - val_accuracy: 0.7518\n",
      "Epoch 30/50\n",
      "192/192 [==============================] - 0s 2ms/step - loss: 0.5424 - accuracy: 0.7493 - val_loss: 0.5246 - val_accuracy: 0.7515\n",
      "Epoch 31/50\n",
      "192/192 [==============================] - 0s 2ms/step - loss: 0.5406 - accuracy: 0.7502 - val_loss: 0.5404 - val_accuracy: 0.7515\n",
      "Epoch 32/50\n",
      "192/192 [==============================] - 1s 3ms/step - loss: 0.5433 - accuracy: 0.7494 - val_loss: 0.5296 - val_accuracy: 0.7518\n",
      "Epoch 33/50\n",
      "192/192 [==============================] - 1s 3ms/step - loss: 0.5386 - accuracy: 0.7508 - val_loss: 0.5314 - val_accuracy: 0.7570\n",
      "Epoch 34/50\n",
      "192/192 [==============================] - 1s 3ms/step - loss: 0.5360 - accuracy: 0.7518 - val_loss: 0.5245 - val_accuracy: 0.7521\n",
      "Epoch 35/50\n",
      "192/192 [==============================] - 1s 3ms/step - loss: 0.5378 - accuracy: 0.7522 - val_loss: 0.5272 - val_accuracy: 0.7515\n",
      "Epoch 36/50\n",
      "192/192 [==============================] - 1s 3ms/step - loss: 0.5348 - accuracy: 0.7509 - val_loss: 0.5173 - val_accuracy: 0.7515\n",
      "Epoch 37/50\n",
      "192/192 [==============================] - 1s 3ms/step - loss: 0.5365 - accuracy: 0.7503 - val_loss: 0.5236 - val_accuracy: 0.7518\n",
      "Epoch 38/50\n",
      "192/192 [==============================] - 1s 3ms/step - loss: 0.5381 - accuracy: 0.7504 - val_loss: 0.5211 - val_accuracy: 0.7518\n",
      "Epoch 39/50\n",
      "192/192 [==============================] - 1s 3ms/step - loss: 0.5381 - accuracy: 0.7491 - val_loss: 0.5260 - val_accuracy: 0.7515\n",
      "Epoch 40/50\n",
      "192/192 [==============================] - 1s 3ms/step - loss: 0.5417 - accuracy: 0.7496 - val_loss: 0.5470 - val_accuracy: 0.7515\n",
      "Epoch 41/50\n",
      "192/192 [==============================] - 1s 3ms/step - loss: 0.5431 - accuracy: 0.7502 - val_loss: 0.5430 - val_accuracy: 0.7518\n",
      "Epoch 42/50\n",
      "192/192 [==============================] - 1s 3ms/step - loss: 0.5371 - accuracy: 0.7527 - val_loss: 0.5160 - val_accuracy: 0.7528\n",
      "Epoch 43/50\n",
      "192/192 [==============================] - 1s 3ms/step - loss: 0.5363 - accuracy: 0.7489 - val_loss: 0.5214 - val_accuracy: 0.7524\n",
      "Epoch 44/50\n",
      "192/192 [==============================] - 1s 3ms/step - loss: 0.5331 - accuracy: 0.7512 - val_loss: 0.5355 - val_accuracy: 0.7515\n",
      "Epoch 45/50\n",
      "192/192 [==============================] - 1s 3ms/step - loss: 0.5363 - accuracy: 0.7516 - val_loss: 0.5244 - val_accuracy: 0.7515\n",
      "Epoch 46/50\n",
      "192/192 [==============================] - 1s 3ms/step - loss: 0.5427 - accuracy: 0.7507 - val_loss: 0.5280 - val_accuracy: 0.7515\n",
      "Epoch 47/50\n",
      "192/192 [==============================] - 1s 3ms/step - loss: 0.5335 - accuracy: 0.7529 - val_loss: 0.5152 - val_accuracy: 0.7577\n",
      "Epoch 48/50\n",
      "192/192 [==============================] - 1s 3ms/step - loss: 0.5346 - accuracy: 0.7527 - val_loss: 0.5367 - val_accuracy: 0.7515\n",
      "Epoch 49/50\n",
      "192/192 [==============================] - 1s 3ms/step - loss: 0.5399 - accuracy: 0.7510 - val_loss: 0.5191 - val_accuracy: 0.7515\n",
      "Epoch 50/50\n",
      "192/192 [==============================] - 1s 3ms/step - loss: 0.5318 - accuracy: 0.7509 - val_loss: 0.5308 - val_accuracy: 0.7511\n"
     ]
    }
   ],
   "source": [
    "optimizer = tf.keras.optimizers.Adam(random_result.best_params_['lr'])\n",
    "estimator_v4.compile(loss='binary_crossentropy',optimizer=optimizer,metrics=['accuracy'])\n",
    "history_4=estimator_v4.fit(X_train, y_train, epochs=50, batch_size = 64, verbose=1,validation_split=0.2)"
   ]
  },
  {
   "cell_type": "code",
   "execution_count": 83,
   "id": "HgEwoP9sCc3t",
   "metadata": {
    "id": "HgEwoP9sCc3t"
   },
   "outputs": [
    {
     "data": {
      "image/png": "[encoded data removed]",
      "text/plain": [
       "<Figure size 432x288 with 1 Axes>"
      ]
     },
     "metadata": {},
     "output_type": "display_data"
    }
   ],
   "source": [
    "#Plotting Train Loss vs Validation Loss\n",
    "plt.plot(history_4.history['loss'])\n",
    "plt.plot(history_4.history['val_loss'])\n",
    "plt.title('model loss')\n",
    "plt.ylabel('Loss')\n",
    "plt.xlabel('Epoch')\n",
    "plt.legend(['train', 'validation'], loc='upper left')\n",
    "plt.show()"
   ]
  },
  {
   "cell_type": "markdown",
   "id": "LTMrkTaiBR03",
   "metadata": {
    "id": "LTMrkTaiBR03"
   },
   "source": [
    "From the above plot, we observe that there is noise in the training behavior of the model."
   ]
  },
  {
   "cell_type": "code",
   "execution_count": 84,
   "id": "2ZNcU-P8Cc1K",
   "metadata": {
    "id": "2ZNcU-P8Cc1K"
   },
   "outputs": [
    {
     "name": "stdout",
     "output_type": "stream",
     "text": [
      "Best Threshold=0.358175, G-Mean=0.670\n"
     ]
    },
    {
     "data": {
      "image/png": "[encoded data removed]",
      "text/plain": [
       "<Figure size 432x288 with 1 Axes>"
      ]
     },
     "metadata": {},
     "output_type": "display_data"
    }
   ],
   "source": [
    "from sklearn.metrics import roc_curve\n",
    "\n",
    "from matplotlib import pyplot\n",
    "\n",
    "\n",
    "# predict probabilities\n",
    "yhat4 = estimator_v4.predict(X_test)\n",
    "# keep probabilities for the positive outcome only\n",
    "yhat4 = yhat4[:, 0]\n",
    "# calculate roc curves\n",
    "fpr, tpr, thresholds4 = roc_curve(y_test, yhat4)\n",
    "# calculate the g-mean for each threshold\n",
    "gmeans4 = np.sqrt(tpr * (1-fpr))\n",
    "# locate the index of the largest g-mean\n",
    "ix = np.argmax(gmeans4)\n",
    "print('Best Threshold=%f, G-Mean=%.3f' % (thresholds4[ix], gmeans4[ix]))\n",
    "# plot the roc curve for the model\n",
    "pyplot.plot([0,1], [0,1], linestyle='--', label='No Skill')\n",
    "pyplot.plot(fpr, tpr, marker='.')\n",
    "pyplot.scatter(fpr[ix], tpr[ix], marker='o', color='black', label='Best')\n",
    "# axis labels\n",
    "pyplot.xlabel('False Positive Rate')\n",
    "pyplot.ylabel('True Positive Rate')\n",
    "pyplot.legend()\n",
    "# show the plot\n",
    "pyplot.show()"
   ]
  },
  {
   "cell_type": "code",
   "execution_count": 85,
   "id": "QnPU-3mlCcyH",
   "metadata": {
    "id": "QnPU-3mlCcyH"
   },
   "outputs": [
    {
     "data": {
      "text/plain": [
       "array([[False],\n",
       "       [ True],\n",
       "       [False],\n",
       "       ...,\n",
       "       [ True],\n",
       "       [ True],\n",
       "       [False]])"
      ]
     },
     "execution_count": 85,
     "metadata": {},
     "output_type": "execute_result"
    }
   ],
   "source": [
    "y_pred_e4=estimator_v4.predict(X_test)\n",
    "y_pred_e4 = (y_pred_e4 > thresholds4[ix])\n",
    "y_pred_e4"
   ]
  },
  {
   "cell_type": "code",
   "execution_count": 86,
   "id": "GNEWU9sCCcvb",
   "metadata": {
    "id": "GNEWU9sCCcvb"
   },
   "outputs": [
    {
     "data": {
      "image/png": "[encoded data removed]",
      "text/plain": [
       "<Figure size 432x288 with 2 Axes>"
      ]
     },
     "metadata": {},
     "output_type": "display_data"
    }
   ],
   "source": [
    "#Calculating the confusion matrix \n",
    "from sklearn.metrics import confusion_matrix\n",
    "cm4=confusion_matrix(y_test, y_pred_e4)\n",
    "labels = ['True Positive','False Negative','False Positive','True Negative']\n",
    "categories = [ 'Not Changing Job','Changing Job']\n",
    "make_confusion_matrix(cm4, \n",
    "                      group_names=labels,\n",
    "                      categories=categories, \n",
    "                      cmap='Blues')"
   ]
  },
  {
   "cell_type": "code",
   "execution_count": 87,
   "id": "xiELRVysCcsZ",
   "metadata": {
    "id": "xiELRVysCcsZ"
   },
   "outputs": [
    {
     "name": "stdout",
     "output_type": "stream",
     "text": [
      "              precision    recall  f1-score   support\n",
      "\n",
      "           0       0.86      0.68      0.76      2877\n",
      "           1       0.41      0.65      0.50       955\n",
      "\n",
      "    accuracy                           0.68      3832\n",
      "   macro avg       0.63      0.67      0.63      3832\n",
      "weighted avg       0.74      0.68      0.70      3832\n",
      "\n"
     ]
    }
   ],
   "source": [
    "#Accuracy as per the classification report \n",
    "from sklearn import metrics\n",
    "cr4=metrics.classification_report(y_test,y_pred_e4)\n",
    "print(cr4)"
   ]
  },
  {
   "cell_type": "markdown",
   "id": "YJyvzz9zMu9D",
   "metadata": {
    "id": "YJyvzz9zMu9D"
   },
   "source": [
    "- Hyperparameter tuning is used here to get a better F1 score, but the F1 score may differ each time. \n",
    "\n",
    "- Other hyperparameters can also be tuned to get better performance on the metrics. \n",
    "\n",
    "- Here, the F1 score of the model has decreased in comparison to the previous best performance, as Random Search CV will choose the hyperparameters randomly, and hence has a very low chance of finding a highly optimal configuration. \n",
    "\n",
    "- So, our final model here can be **Model 4**, which uses the Dropout regularization technique and works on the imbalanced dataset."
   ]
  },
  {
   "cell_type": "markdown",
   "id": "w5RWDi3FJqQU",
   "metadata": {
    "id": "w5RWDi3FJqQU"
   },
   "source": [
    "### Business Recommendations"
   ]
  },
  {
   "cell_type": "markdown",
   "id": "laKrKarWJsWi",
   "metadata": {
    "id": "laKrKarWJsWi"
   },
   "source": [
    "* The HR department of the company can deploy the final model from this exercise to identify with a reasonable degree of accuracy whether an employee is likely to switch jobs or not, and this process seems to be easier and more time-efficient than other methods."
   ]
  },
  {
   "cell_type": "markdown",
   "id": "vIxGMeiPtwpU",
   "metadata": {
    "id": "vIxGMeiPtwpU"
   },
   "source": [
    "We encourage you to further look to optimize the model and come up with better results.\n",
    "\n",
    "**Happy Learning!**"
   ]
  }
 ],
 "metadata": {
  "accelerator": "GPU",
  "colab": {
   "collapsed_sections": [
    "vEUKOiz5-Qld",
    "ZAEqtrQu-VzO",
    "6BoKgZyQ-nAF",
    "72ZJ-3-yPgA9",
    "U8pF1VrgQnCR",
    "U1PzjsuNa12g",
    "tGILNwUMK3-7",
    "HCRTeLsjLJ52",
    "16NOrzwgsLTF",
    "OVP052ZnrGIW",
    "qj44kS6ss1g0",
    "uCforq1WvhMy",
    "pRlkIdsHCdfI",
    "xi5GCxr1wATA",
    "xs0gcpA9lYH4",
    "Aq9u7BgkBqhO",
    "5MfVlgfOFCJK",
    "UkAyu02DdHGa"
   ],
   "name": "Week_2_Hands_on.ipynb",
   "provenance": []
  },
  "kernelspec": {
   "display_name": "Python 3 (ipykernel)",
   "language": "python",
   "name": "python3"
  },
  "language_info": {
   "codemirror_mode": {
    "name": "ipython",
    "version": 3
   },
   "file_extension": ".py",
   "mimetype": "text/x-python",
   "name": "python",
   "nbconvert_exporter": "python",
   "pygments_lexer": "ipython3",
   "version": "3.9.7"
  }
 },
 "nbformat": 4,
 "nbformat_minor": 5
}
