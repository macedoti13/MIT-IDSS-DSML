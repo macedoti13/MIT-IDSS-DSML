{
  "nbformat": 4,
  "nbformat_minor": 0,
  "metadata": {
    "accelerator": "GPU",
    "colab": {
      "name": "CNN_Practice_Project_SVHN_.ipynb",
      "provenance": [],
      "collapsed_sections": []
    },
    "kernelspec": {
      "display_name": "Python 3",
      "language": "python",
      "name": "python3"
    },
    "language_info": {
      "codemirror_mode": {
        "name": "ipython",
        "version": 3
      },
      "file_extension": ".py",
      "mimetype": "text/x-python",
      "name": "python",
      "nbconvert_exporter": "python",
      "pygments_lexer": "ipython3",
      "version": "3.8.8"
    }
  },
  "cells": [
    {
      "cell_type": "markdown",
      "metadata": {
        "id": "Q91KqmCRu64D"
      },
      "source": [
        "# Convolutional Neural Networks: Street View Housing Number Digit Recognition**\n",
        "\n",
        "Welcome to the project on classification using Convolutional Neural Networks. We will continue to work with the Street View Housing Numbers (SVHN) image dataset for this project.\n",
        "\n",
        "--------------\n",
        "### **Context:** \n",
        "--------------\n",
        "\n",
        "One of the most interesting tasks in deep learning is to recognize objects in natural scenes. The ability to process visual information using machine learning algorithms can be very useful as demonstrated in various applications.\n",
        "\n",
        "The SVHN dataset contains over 600,000 labeled digits cropped from street-level photos. It is one of the most popular image recognition datasets. It has been used in neural networks created by Google to improve map quality by automatically transcribing the address numbers from a patch of pixels. The transcribed number with a known street address helps pinpoint the location of the building it represents. \n",
        "\n",
        "----------------\n",
        "### **Objective:**\n",
        "----------------\n",
        "\n",
        "Build a CNN model that can identify the digits in the images.\n",
        "\n",
        "-------------\n",
        "### **Dataset**\n",
        "-------------\n",
        "Here, we will use a subset of the original data to save some computation time. The dataset is provided as a .h5 file. The basic preprocessing steps have been done."
      ]
    },
    {
      "cell_type": "markdown",
      "metadata": {
        "id": "8z2Z7-OAs8QG"
      },
      "source": [
        "## **Mount the drive**\n",
        "Let us start by mounting the drive and importing the necessary libraries."
      ]
    },
    {
      "cell_type": "code",
      "metadata": {
        "colab": {
          "base_uri": "https://localhost:8080/"
        },
        "id": "03lDyQUuef7z",
        "outputId": "87586d05-fc1e-47f9-ac78-fb4c5d43c421"
      },
      "source": [
        "from google.colab import drive\n",
        "drive.mount('/content/drive')"
      ],
      "execution_count": null,
      "outputs": [
        {
          "output_type": "stream",
          "name": "stdout",
          "text": [
            "Mounted at /content/drive\n"
          ]
        }
      ]
    },
    {
      "cell_type": "markdown",
      "metadata": {
        "id": "C8U3DUa3eNsT"
      },
      "source": [
        "## **Importing libraries**"
      ]
    },
    {
      "cell_type": "code",
      "metadata": {
        "id": "-dVzeuF3eQx1"
      },
      "source": [
        "import numpy as np\n",
        "import pandas as pd\n",
        "import matplotlib.pyplot as plt\n",
        "import seaborn as sns\n",
        "\n",
        "from sklearn.model_selection import train_test_split\n",
        "from sklearn.preprocessing import MinMaxScaler\n",
        "\n",
        "import tensorflow as tf\n",
        "from tensorflow.keras.models import Sequential\n",
        "from tensorflow.keras.layers import Dense, Conv2D, MaxPool2D, BatchNormalization, Dropout, Flatten, LeakyReLU\n",
        "from tensorflow.keras.utils import to_categorical"
      ],
      "execution_count": null,
      "outputs": []
    },
    {
      "cell_type": "markdown",
      "metadata": {
        "id": "ucnevGLoyKf_"
      },
      "source": [
        "Let us check for the version of tensorflow."
      ]
    },
    {
      "cell_type": "code",
      "metadata": {
        "colab": {
          "base_uri": "https://localhost:8080/"
        },
        "id": "W5as47YxyJVk",
        "outputId": "4f0b81d1-810a-410a-f468-65834cab5508"
      },
      "source": [
        "print(tf.__version__)"
      ],
      "execution_count": null,
      "outputs": [
        {
          "output_type": "stream",
          "name": "stdout",
          "text": [
            "2.6.0\n"
          ]
        }
      ]
    },
    {
      "cell_type": "markdown",
      "metadata": {
        "id": "8lsux2ZwyTTR"
      },
      "source": [
        "## **Load the dataset**\n",
        "- Let us now load the dataset that is available as a .h5 file.\n",
        "- Split the data into train and the test dataset"
      ]
    },
    {
      "cell_type": "code",
      "metadata": {
        "id": "BApX9qgNsqV0",
        "scrolled": true
      },
      "source": [
        "import h5py\n",
        "\n",
        "# Open the file as read only\n",
        "# User can make changes in the path as required\n",
        "h5f = h5py.File('/content/drive/MyDrive/SVHN_single_grey1.h5', 'r')\n",
        "\n",
        "# Load the training and the test set\n",
        "X_train = h5f['X_train'][:]\n",
        "y_train = h5f['y_train'][:]\n",
        "X_test = h5f['X_test'][:]\n",
        "y_test = h5f['y_test'][:]\n",
        "\n",
        "\n",
        "# Close this file\n",
        "h5f.close()"
      ],
      "execution_count": null,
      "outputs": []
    },
    {
      "cell_type": "markdown",
      "metadata": {
        "id": "hVe0CYpUgj7w"
      },
      "source": [
        "Let's check the number of images in the training and testing data."
      ]
    },
    {
      "cell_type": "code",
      "metadata": {
        "colab": {
          "base_uri": "https://localhost:8080/"
        },
        "id": "y3lwKpOefkpA",
        "outputId": "59df5697-efc0-4aca-beed-2ace68fdd680"
      },
      "source": [
        "len(X_train), len(X_test)"
      ],
      "execution_count": null,
      "outputs": [
        {
          "output_type": "execute_result",
          "data": {
            "text/plain": [
              "(42000, 18000)"
            ]
          },
          "metadata": {},
          "execution_count": 5
        }
      ]
    },
    {
      "cell_type": "markdown",
      "metadata": {
        "id": "akTUOfLlgwoM"
      },
      "source": [
        "**Observations**\n",
        "- There are 42,000 images in the training data and 18,000 images in the testing data. "
      ]
    },
    {
      "cell_type": "markdown",
      "metadata": {
        "id": "kxODV6HKykuc"
      },
      "source": [
        "## **Visualizing images**\n",
        "- Use X_train to visualize the first 10 images\n",
        "- Use Y_train to print the first 10 labels"
      ]
    },
    {
      "cell_type": "code",
      "metadata": {
        "colab": {
          "base_uri": "https://localhost:8080/",
          "height": 95
        },
        "id": "Bvsc8ytHsqWD",
        "outputId": "01cba71b-fde8-4806-eaf9-25390b4ff799"
      },
      "source": [
        "# visualizing the first 10 images in the dataset and their labels\n",
        "%matplotlib inline\n",
        "import matplotlib.pyplot as plt\n",
        "plt.figure(figsize=(10, 1))\n",
        "for i in range(10):\n",
        "    plt.subplot(1, 10, i+1)\n",
        "    plt.imshow(X_train[i], cmap=\"gray\")\n",
        "    plt.axis('off')\n",
        "plt.show()\n",
        "print('label for each of the above image: %s' % (y_train[0:10]))"
      ],
      "execution_count": null,
      "outputs": [
        {
          "output_type": "display_data",
          "data": {
            "image/png": "[encoded data removed]",
            "text/plain": [
              "<Figure size 720x72 with 10 Axes>"
            ]
          },
          "metadata": {
            "needs_background": "light"
          }
        },
        {
          "output_type": "stream",
          "name": "stdout",
          "text": [
            "label for each of the above image: [2 6 7 4 4 0 3 0 7 3]\n"
          ]
        }
      ]
    },
    {
      "cell_type": "markdown",
      "metadata": {
        "id": "kzoyeXHOy80N"
      },
      "source": [
        "## **Data preparation**\n",
        "\n",
        "- Print the first image in the train image and figure out the shape of the images\n",
        "- Reshape the train and the test dataset to make them fit the first convolutional operation that we will create later. Figure out the required shape\n",
        "- Normalize the train and the test dataset by dividing by 255\n",
        "- Print the new shapes of the train and the test set\n",
        "- One-hot encode the target variable"
      ]
    },
    {
      "cell_type": "code",
      "metadata": {
        "colab": {
          "base_uri": "https://localhost:8080/"
        },
        "id": "NqndzQXng9rL",
        "outputId": "2789af54-3d4e-4b89-b315-b48e7523b74c"
      },
      "source": [
        "# Shape of the images and the first image\n",
        "\n",
        "print(\"Shape:\", X_train[0].shape)\n",
        "print()\n",
        "print(\"First image:\\n\", X_train[0])"
      ],
      "execution_count": null,
      "outputs": [
        {
          "output_type": "stream",
          "name": "stdout",
          "text": [
            "Shape: (32, 32)\n",
            "\n",
            "First image:\n",
            " [[ 33.0704  30.2601  26.852  ...  71.4471  58.2204  42.9939]\n",
            " [ 25.2283  25.5533  29.9765 ... 113.0209 103.3639  84.2949]\n",
            " [ 26.2775  22.6137  40.4763 ... 113.3028 121.775  115.4228]\n",
            " ...\n",
            " [ 28.5502  36.212   45.0801 ...  24.1359  25.0927  26.0603]\n",
            " [ 38.4352  26.4733  23.2717 ...  28.1094  29.4683  30.0661]\n",
            " [ 50.2984  26.0773  24.0389 ...  49.6682  50.853   53.0377]]\n"
          ]
        }
      ]
    },
    {
      "cell_type": "code",
      "metadata": {
        "id": "D9YPwf9ysqWU"
      },
      "source": [
        "# Reshaping the dataset to flatten them. Remember that we always have to give a 4D array as input to CNNs\n",
        "\n",
        "X_train = X_train.reshape(X_train.shape[0], 32,32,1)\n",
        "X_test = X_test.reshape(X_test.shape[0], 32,32,1)"
      ],
      "execution_count": null,
      "outputs": []
    },
    {
      "cell_type": "code",
      "metadata": {
        "id": "q_yUUTp_mUzB"
      },
      "source": [
        "# Normalize inputs from 0-255 to 0-1\n",
        "\n",
        "X_train = X_train / 255.0\n",
        "X_test = X_test / 255.0"
      ],
      "execution_count": null,
      "outputs": []
    },
    {
      "cell_type": "code",
      "metadata": {
        "colab": {
          "base_uri": "https://localhost:8080/"
        },
        "id": "t7FSqOpamWkH",
        "outputId": "5794bb88-d028-4077-90de-4e2d52228567"
      },
      "source": [
        "# New shape \n",
        "\n",
        "print('Training set:', X_train.shape, y_train.shape)\n",
        "print('Test set:', X_test.shape, y_test.shape)"
      ],
      "execution_count": null,
      "outputs": [
        {
          "output_type": "stream",
          "name": "stdout",
          "text": [
            "Training set: (42000, 32, 32, 1) (42000,)\n",
            "Test set: (18000, 32, 32, 1) (18000,)\n"
          ]
        }
      ]
    },
    {
      "cell_type": "code",
      "metadata": {
        "colab": {
          "base_uri": "https://localhost:8080/"
        },
        "id": "zL0lYER4sqWw",
        "outputId": "884c30ee-d5dc-44df-dea0-7b75ab42d373"
      },
      "source": [
        "# one-hot encode output\n",
        "y_train = to_categorical(y_train)\n",
        "y_test = to_categorical(y_test)\n",
        "\n",
        "#test labels\n",
        "y_test"
      ],
      "execution_count": null,
      "outputs": [
        {
          "output_type": "execute_result",
          "data": {
            "text/plain": [
              "array([[0., 1., 0., ..., 0., 0., 0.],\n",
              "       [0., 0., 0., ..., 1., 0., 0.],\n",
              "       [0., 0., 1., ..., 0., 0., 0.],\n",
              "       ...,\n",
              "       [0., 0., 0., ..., 1., 0., 0.],\n",
              "       [0., 0., 0., ..., 0., 0., 1.],\n",
              "       [0., 0., 1., ..., 0., 0., 0.]], dtype=float32)"
            ]
          },
          "metadata": {},
          "execution_count": 11
        }
      ]
    },
    {
      "cell_type": "markdown",
      "metadata": {
        "id": "ViqPOTquCF76"
      },
      "source": [
        "**Observations**\n",
        "- Notice that each entry of y_test is a one-hot encoded vector instead of a single label."
      ]
    },
    {
      "cell_type": "markdown",
      "metadata": {
        "id": "yH-gVrzuByNA"
      },
      "source": [
        "## **Model Building**\n",
        "\n",
        "Now, we have done data preprocessing, let's build a CNN model."
      ]
    },
    {
      "cell_type": "code",
      "metadata": {
        "id": "ZY5pyF4-KDNt"
      },
      "source": [
        "#Fixing the seed for random number generators\n",
        "np.random.seed(42)\n",
        "import random\n",
        "random.seed(42)\n",
        "tf.random.set_seed(42)"
      ],
      "execution_count": null,
      "outputs": []
    },
    {
      "cell_type": "markdown",
      "metadata": {
        "id": "UJDUoaEj1d6e"
      },
      "source": [
        "### **Model Architecture**\n",
        "- Let's build a model with the following architecture,\n",
        " - First Convolutional layer with **16 filters and kernel size of 3x3**. Use the **'same' padding** and provide an **apt input shape**\n",
        " - Add a **LeakyRelu layer** with the **slope equal to 0.1**\n",
        " - Second Convolutional layer with **32 filters and kernel size of 3x3 with 'same' padding**\n",
        " - Another **LeakyRelu** with the **slope equal to 0.1**\n",
        " - A **max-pooling layer** with a **pool size of 2x2**\n",
        " - **Flatten** the output from the previous layer\n",
        " - Add a **dense layer with 32 nodes**\n",
        " - Add a **LeakyRelu layer with slope equal to 0.1**\n",
        " - Add the final **output layer with nodes equal to the number of classes** and **softmax activation**\n",
        " - Compile the model with the **categorical_crossentropy loss, adam optimizers (learning_rate = 0.001), and accuracy metric**. \n",
        "- Print the summary of the model.\n",
        "- Fit the model on the train data with a **validation split of 0.2, batch size = 32, verbose = 1, and 20 epochs**. Store the model building history to use later for visualization."
      ]
    },
    {
      "cell_type": "code",
      "metadata": {
        "id": "Cmi81Gr5sqW-"
      },
      "source": [
        "# define model\n",
        "\n",
        "from tensorflow.keras import losses\n",
        "from tensorflow.keras import optimizers\n",
        "\n",
        "\n",
        "model1 = Sequential() \n",
        "model1.add(Conv2D(filters=16, kernel_size=(3,3), padding=\"same\", input_shape=(32, 32, 1)))\n",
        "model1.add(LeakyReLU(0.1))\n",
        "model1.add(Conv2D(filters=32, kernel_size=(3,3), padding='same'))\n",
        "model1.add(LeakyReLU(0.1))\n",
        "model1.add(MaxPool2D(pool_size=(2,2)))\n",
        "model1.add(Flatten())\n",
        "model1.add(Dense(32))\n",
        "model1.add(LeakyReLU(0.1))\n",
        "model1.add(Dense(10, activation='softmax'))\n",
        "\n",
        "adam = optimizers.Adam(learning_rate=0.001)\n",
        "model1.compile(loss=losses.categorical_crossentropy, optimizer=adam, metrics=['accuracy'])"
      ],
      "execution_count": null,
      "outputs": []
    },
    {
      "cell_type": "code",
      "metadata": {
        "colab": {
          "base_uri": "https://localhost:8080/"
        },
        "id": "ckJsLdmdQadZ",
        "outputId": "ed497a1d-4660-4435-f002-8f5bb15695e1"
      },
      "source": [
        "#Model summary\n",
        "model1.summary()"
      ],
      "execution_count": null,
      "outputs": [
        {
          "output_type": "stream",
          "name": "stdout",
          "text": [
            "Model: \"sequential_1\"\n",
            "_________________________________________________________________\n",
            "Layer (type)                 Output Shape              Param #   \n",
            "=================================================================\n",
            "conv2d_2 (Conv2D)            (None, 32, 32, 16)        160       \n",
            "_________________________________________________________________\n",
            "leaky_re_lu_3 (LeakyReLU)    (None, 32, 32, 16)        0         \n",
            "_________________________________________________________________\n",
            "conv2d_3 (Conv2D)            (None, 32, 32, 32)        4640      \n",
            "_________________________________________________________________\n",
            "leaky_re_lu_4 (LeakyReLU)    (None, 32, 32, 32)        0         \n",
            "_________________________________________________________________\n",
            "max_pooling2d_1 (MaxPooling2 (None, 16, 16, 32)        0         \n",
            "_________________________________________________________________\n",
            "flatten_1 (Flatten)          (None, 8192)              0         \n",
            "_________________________________________________________________\n",
            "dense_2 (Dense)              (None, 32)                262176    \n",
            "_________________________________________________________________\n",
            "leaky_re_lu_5 (LeakyReLU)    (None, 32)                0         \n",
            "_________________________________________________________________\n",
            "dense_3 (Dense)              (None, 10)                330       \n",
            "=================================================================\n",
            "Total params: 267,306\n",
            "Trainable params: 267,306\n",
            "Non-trainable params: 0\n",
            "_________________________________________________________________\n"
          ]
        }
      ]
    },
    {
      "cell_type": "markdown",
      "metadata": {
        "id": "FQOy-fSxDFYx"
      },
      "source": [
        "- The model has 2,67,306 parameters. The majority of parameters belong to the single dense layer with 32 nodes.\n",
        "- All the parameters are trainable."
      ]
    },
    {
      "cell_type": "code",
      "metadata": {
        "colab": {
          "base_uri": "https://localhost:8080/"
        },
        "id": "3Fy3Dif_zcCk",
        "outputId": "03945e11-d656-4271-b635-d3b805c8d7bb"
      },
      "source": [
        "# Fit the model\n",
        "history_model_1 = model1.fit(X_train, y_train, validation_split=0.2, epochs=20, batch_size=32, verbose=1)"
      ],
      "execution_count": null,
      "outputs": [
        {
          "output_type": "stream",
          "name": "stdout",
          "text": [
            "Epoch 1/20\n",
            "1050/1050 [==============================] - 40s 9ms/step - loss: 1.1700 - accuracy: 0.6113 - val_loss: 0.6573 - val_accuracy: 0.8093\n",
            "Epoch 2/20\n",
            "1050/1050 [==============================] - 9s 9ms/step - loss: 0.5348 - accuracy: 0.8471 - val_loss: 0.5266 - val_accuracy: 0.8531\n",
            "Epoch 3/20\n",
            "1050/1050 [==============================] - 10s 9ms/step - loss: 0.4495 - accuracy: 0.8706 - val_loss: 0.5021 - val_accuracy: 0.8589\n",
            "Epoch 4/20\n",
            "1050/1050 [==============================] - 9s 9ms/step - loss: 0.3971 - accuracy: 0.8861 - val_loss: 0.4473 - val_accuracy: 0.8782\n",
            "Epoch 5/20\n",
            "1050/1050 [==============================] - 9s 9ms/step - loss: 0.3527 - accuracy: 0.8945 - val_loss: 0.4634 - val_accuracy: 0.8746\n",
            "Epoch 6/20\n",
            "1050/1050 [==============================] - 9s 9ms/step - loss: 0.3142 - accuracy: 0.9068 - val_loss: 0.4638 - val_accuracy: 0.8648\n",
            "Epoch 7/20\n",
            "1050/1050 [==============================] - 10s 9ms/step - loss: 0.2859 - accuracy: 0.9139 - val_loss: 0.4582 - val_accuracy: 0.8767\n",
            "Epoch 8/20\n",
            "1050/1050 [==============================] - 10s 9ms/step - loss: 0.2561 - accuracy: 0.9216 - val_loss: 0.4748 - val_accuracy: 0.8745\n",
            "Epoch 9/20\n",
            "1050/1050 [==============================] - 9s 9ms/step - loss: 0.2321 - accuracy: 0.9295 - val_loss: 0.4995 - val_accuracy: 0.8692\n",
            "Epoch 10/20\n",
            "1050/1050 [==============================] - 9s 9ms/step - loss: 0.2096 - accuracy: 0.9360 - val_loss: 0.4883 - val_accuracy: 0.8807\n",
            "Epoch 11/20\n",
            "1050/1050 [==============================] - 10s 9ms/step - loss: 0.1912 - accuracy: 0.9392 - val_loss: 0.5505 - val_accuracy: 0.8714\n",
            "Epoch 12/20\n",
            "1050/1050 [==============================] - 10s 9ms/step - loss: 0.1670 - accuracy: 0.9475 - val_loss: 0.5659 - val_accuracy: 0.8695\n",
            "Epoch 13/20\n",
            "1050/1050 [==============================] - 10s 9ms/step - loss: 0.1507 - accuracy: 0.9541 - val_loss: 0.5919 - val_accuracy: 0.8715\n",
            "Epoch 14/20\n",
            "1050/1050 [==============================] - 9s 9ms/step - loss: 0.1396 - accuracy: 0.9551 - val_loss: 0.5971 - val_accuracy: 0.8739\n",
            "Epoch 15/20\n",
            "1050/1050 [==============================] - 10s 9ms/step - loss: 0.1223 - accuracy: 0.9614 - val_loss: 0.6505 - val_accuracy: 0.8656\n",
            "Epoch 16/20\n",
            "1050/1050 [==============================] - 9s 9ms/step - loss: 0.1154 - accuracy: 0.9618 - val_loss: 0.6728 - val_accuracy: 0.8637\n",
            "Epoch 17/20\n",
            "1050/1050 [==============================] - 9s 9ms/step - loss: 0.1006 - accuracy: 0.9676 - val_loss: 0.6956 - val_accuracy: 0.8726\n",
            "Epoch 18/20\n",
            "1050/1050 [==============================] - 10s 9ms/step - loss: 0.0919 - accuracy: 0.9704 - val_loss: 0.7236 - val_accuracy: 0.8736\n",
            "Epoch 19/20\n",
            "1050/1050 [==============================] - 9s 9ms/step - loss: 0.0856 - accuracy: 0.9713 - val_loss: 0.7579 - val_accuracy: 0.8592\n",
            "Epoch 20/20\n",
            "1050/1050 [==============================] - 9s 9ms/step - loss: 0.0746 - accuracy: 0.9757 - val_loss: 0.8618 - val_accuracy: 0.8607\n"
          ]
        }
      ]
    },
    {
      "cell_type": "markdown",
      "metadata": {
        "id": "tKOckG-KPyLg"
      },
      "source": [
        "### **Plotting the validation and training accuracies**"
      ]
    },
    {
      "cell_type": "code",
      "metadata": {
        "colab": {
          "base_uri": "https://localhost:8080/",
          "height": 497
        },
        "id": "lt77zgGMP4yw",
        "outputId": "8f0d7029-ca97-4def-f348-00b0941c6170"
      },
      "source": [
        "# plotting the accuracies\n",
        "\n",
        "dict_hist = history_model_1.history\n",
        "list_ep = [i for i in range(1,21)]\n",
        "\n",
        "plt.figure(figsize = (8,8))\n",
        "plt.plot(list_ep,dict_hist['accuracy'],ls = '--', label = 'accuracy')\n",
        "plt.plot(list_ep,dict_hist['val_accuracy'],ls = '--', label = 'val_accuracy')\n",
        "plt.ylabel('Accuracy')\n",
        "plt.xlabel('Epochs')\n",
        "plt.legend()\n",
        "plt.show()"
      ],
      "execution_count": null,
      "outputs": [
        {
          "output_type": "display_data",
          "data": {
            "image/png": "[encoded data removed]",
            "text/plain": [
              "<Figure size 576x576 with 1 Axes>"
            ]
          },
          "metadata": {
            "needs_background": "light"
          }
        }
      ]
    },
    {
      "cell_type": "markdown",
      "metadata": {
        "id": "pGBbQpLONX7k"
      },
      "source": [
        "**Observations:**\n",
        "\n",
        "- The accuracy on the train set is much better (about 12%) than the validation set. We can say that model is overfitting the training data.\n",
        "- The plot shows that training accuracy is increasing with epochs but the validation accuracy is more or less constant after 5 epochs.\n",
        "- We can try adding dropout layers to the model's architecture to avoid overfitting. Also, we can add more convolutional layers for feature extraction"
      ]
    },
    {
      "cell_type": "markdown",
      "metadata": {
        "id": "z0qgLMBZm5-K"
      },
      "source": [
        "Let's build another model and see if we can get a better model with generalized performance.\n",
        "\n",
        "First, we need to clear the previous model's history from the keras backend. Also, let's fix the seed again after clearing the backend."
      ]
    },
    {
      "cell_type": "code",
      "metadata": {
        "id": "y98BpLxsok_H"
      },
      "source": [
        "#Clearing backend\n",
        "from tensorflow.keras import backend\n",
        "backend.clear_session()"
      ],
      "execution_count": null,
      "outputs": []
    },
    {
      "cell_type": "code",
      "metadata": {
        "id": "HbKi93HTolGW"
      },
      "source": [
        "#Fixing the seed for random number generators\n",
        "np.random.seed(42)\n",
        "import random\n",
        "random.seed(42)\n",
        "tf.random.set_seed(42)"
      ],
      "execution_count": null,
      "outputs": []
    },
    {
      "cell_type": "markdown",
      "metadata": {
        "id": "lT6o3TIKuCtk"
      },
      "source": [
        "### **Second Model Architecture**\n",
        "- Let's build a second model with the following architecture,\n",
        " - First Convolutional layer with **16 filters and kernel size of 3x3**. Use the **'same' padding** and provide an **apt input shape**\n",
        " - Add a **LeakyRelu layer** with the **slope equal to 0.1**\n",
        " - Second Convolutional layer with **32 filters and kernel size of 3x3 with 'same' padding**\n",
        " - Add **LeakyRelu** with the **slope equal to 0.1**\n",
        " - Add a **max-pooling layer** with a **pool size of 2x2**\n",
        " - Add a **BatchNormalization layer**\n",
        " - Third Convolutional layer with **32 filters and kernel size of 3x3 with 'same' padding**\n",
        " - Add a **LeakyRelu layer with slope equal to 0.1**\n",
        " - Fourth Convolutional layer **64 filters and kernel size of 3x3 with 'same' padding** \n",
        " - Add a **LeakyRelu layer with slope equal to 0.1**\n",
        " - Add a **max-pooling layer** with a **pool size of 2x2**\n",
        " - Add a **BatchNormalization layer**\n",
        " - **Flatten** the output from the previous layer\n",
        " - Add a **dense layer with 32 nodes**\n",
        " - Add a **LeakyRelu layer with slope equal to 0.1**\n",
        " - Add a **dropout layer with rate equal to 0.5**\n",
        " - Add the final **output layer with nodes equal to the number of classes** and **softmax activation**\n",
        " - Compile the model with the **categorical_crossentropy loss, adam optimizers (learning_rate = 0.001), and accuracy metric**.\n",
        "- Print the summary of the model.\n",
        "- Fit the model on the train data with a **validation split of 0.2, batch size = 128, verbose = 1, and 30 epochs**. Store the model building history to use later for visualization."
      ]
    },
    {
      "cell_type": "markdown",
      "metadata": {
        "id": "y5IBLS1eKDNy"
      },
      "source": [
        "#### **Question 5: Build and train the second CNN model as per the above mentioned architecture (10 Marks)**"
      ]
    },
    {
      "cell_type": "code",
      "metadata": {
        "id": "EEPYLFIPnSDP"
      },
      "source": [
        "model2 = Sequential()\n",
        "model2.add(Conv2D(filters=16, kernel_size=(3,3), padding=\"same\", input_shape=(32, 32, 1)))\n",
        "model2.add(LeakyReLU(0.1))\n",
        "model2.add(Conv2D(filters=32, kernel_size=(3,3), padding='same'))\n",
        "model2.add(LeakyReLU(0.1))\n",
        "model2.add(MaxPool2D(pool_size=(2,2)))\n",
        "model2.add(BatchNormalization())\n",
        "model2.add(Conv2D(filters=32, kernel_size=(3,3), padding='same'))\n",
        "model2.add(LeakyReLU(0.1))\n",
        "model2.add(Conv2D(filters=64, kernel_size=(3,3), padding='same'))\n",
        "model2.add(LeakyReLU(0.1))\n",
        "model2.add(MaxPool2D(pool_size=(2,2)))\n",
        "model2.add(BatchNormalization())\n",
        "model2.add(Flatten())\n",
        "model2.add(Dense(32))\n",
        "model2.add(LeakyReLU(0.1))\n",
        "model2.add(Dropout(0.5))\n",
        "model2.add(Dense(10, activation='softmax'))\n",
        "    \n",
        "adam = optimizers.Adam(learning_rate=1e-3)\n",
        "model2.compile(loss=losses.categorical_crossentropy, optimizer=adam, metrics=['accuracy'])"
      ],
      "execution_count": null,
      "outputs": []
    },
    {
      "cell_type": "code",
      "metadata": {
        "colab": {
          "base_uri": "https://localhost:8080/"
        },
        "id": "gz_6SVrU2swZ",
        "outputId": "c46e6da3-9dbb-4f2f-ad77-15cf42fa9dc8"
      },
      "source": [
        "#Model summary\n",
        "model2.summary()"
      ],
      "execution_count": null,
      "outputs": [
        {
          "output_type": "stream",
          "name": "stdout",
          "text": [
            "Model: \"sequential\"\n",
            "_________________________________________________________________\n",
            "Layer (type)                 Output Shape              Param #   \n",
            "=================================================================\n",
            "conv2d (Conv2D)              (None, 32, 32, 16)        160       \n",
            "_________________________________________________________________\n",
            "leaky_re_lu (LeakyReLU)      (None, 32, 32, 16)        0         \n",
            "_________________________________________________________________\n",
            "conv2d_1 (Conv2D)            (None, 32, 32, 32)        4640      \n",
            "_________________________________________________________________\n",
            "leaky_re_lu_1 (LeakyReLU)    (None, 32, 32, 32)        0         \n",
            "_________________________________________________________________\n",
            "max_pooling2d (MaxPooling2D) (None, 16, 16, 32)        0         \n",
            "_________________________________________________________________\n",
            "batch_normalization (BatchNo (None, 16, 16, 32)        128       \n",
            "_________________________________________________________________\n",
            "conv2d_2 (Conv2D)            (None, 16, 16, 32)        9248      \n",
            "_________________________________________________________________\n",
            "leaky_re_lu_2 (LeakyReLU)    (None, 16, 16, 32)        0         \n",
            "_________________________________________________________________\n",
            "conv2d_3 (Conv2D)            (None, 16, 16, 64)        18496     \n",
            "_________________________________________________________________\n",
            "leaky_re_lu_3 (LeakyReLU)    (None, 16, 16, 64)        0         \n",
            "_________________________________________________________________\n",
            "max_pooling2d_1 (MaxPooling2 (None, 8, 8, 64)          0         \n",
            "_________________________________________________________________\n",
            "batch_normalization_1 (Batch (None, 8, 8, 64)          256       \n",
            "_________________________________________________________________\n",
            "flatten (Flatten)            (None, 4096)              0         \n",
            "_________________________________________________________________\n",
            "dense (Dense)                (None, 32)                131104    \n",
            "_________________________________________________________________\n",
            "leaky_re_lu_4 (LeakyReLU)    (None, 32)                0         \n",
            "_________________________________________________________________\n",
            "dropout (Dropout)            (None, 32)                0         \n",
            "_________________________________________________________________\n",
            "dense_1 (Dense)              (None, 10)                330       \n",
            "=================================================================\n",
            "Total params: 164,362\n",
            "Trainable params: 164,170\n",
            "Non-trainable params: 192\n",
            "_________________________________________________________________\n"
          ]
        }
      ]
    },
    {
      "cell_type": "markdown",
      "metadata": {
        "id": "j2abNMQJ24JR"
      },
      "source": [
        "**Observations:**\n",
        "\n",
        "- Although we have added layers to the model's architecture, the total number of parameters has decreased substantially (approx 40%) compared to the previous model.\n",
        "- This is due to the additional max-pooling layer that has further reduced the size of images before passing them to the dense layer. Also, we have added dropout layer to the model. \n",
        "- All the parameters are trainable.\n",
        "\n",
        "Let's fit the model"
      ]
    },
    {
      "cell_type": "code",
      "metadata": {
        "colab": {
          "base_uri": "https://localhost:8080/"
        },
        "id": "IQ0Sc4R-y-uu",
        "outputId": "5e4c3053-0a77-448f-f773-e44642769e57"
      },
      "source": [
        "# Fit the model\n",
        "history_model_2 = model2.fit(X_train, y_train, validation_split=0.2, epochs=30, batch_size=128, verbose=1)"
      ],
      "execution_count": null,
      "outputs": [
        {
          "output_type": "stream",
          "name": "stdout",
          "text": [
            "Epoch 1/30\n",
            "263/263 [==============================] - 7s 23ms/step - loss: 1.4640 - accuracy: 0.5010 - val_loss: 3.4496 - val_accuracy: 0.2498\n",
            "Epoch 2/30\n",
            "263/263 [==============================] - 5s 20ms/step - loss: 0.6974 - accuracy: 0.7841 - val_loss: 0.7381 - val_accuracy: 0.7627\n",
            "Epoch 3/30\n",
            "263/263 [==============================] - 5s 20ms/step - loss: 0.5637 - accuracy: 0.8284 - val_loss: 0.4286 - val_accuracy: 0.8775\n",
            "Epoch 4/30\n",
            "263/263 [==============================] - 5s 21ms/step - loss: 0.5022 - accuracy: 0.8457 - val_loss: 0.4335 - val_accuracy: 0.8731\n",
            "Epoch 5/30\n",
            "263/263 [==============================] - 5s 20ms/step - loss: 0.4529 - accuracy: 0.8627 - val_loss: 0.4218 - val_accuracy: 0.8808\n",
            "Epoch 6/30\n",
            "263/263 [==============================] - 5s 20ms/step - loss: 0.4151 - accuracy: 0.8732 - val_loss: 0.3832 - val_accuracy: 0.8918\n",
            "Epoch 7/30\n",
            "263/263 [==============================] - 5s 20ms/step - loss: 0.3887 - accuracy: 0.8812 - val_loss: 0.3722 - val_accuracy: 0.8954\n",
            "Epoch 8/30\n",
            "263/263 [==============================] - 5s 21ms/step - loss: 0.3565 - accuracy: 0.8889 - val_loss: 0.3835 - val_accuracy: 0.8933\n",
            "Epoch 9/30\n",
            "263/263 [==============================] - 5s 20ms/step - loss: 0.3333 - accuracy: 0.8976 - val_loss: 0.4040 - val_accuracy: 0.8823\n",
            "Epoch 10/30\n",
            "263/263 [==============================] - 5s 21ms/step - loss: 0.3236 - accuracy: 0.8991 - val_loss: 0.3639 - val_accuracy: 0.9005\n",
            "Epoch 11/30\n",
            "263/263 [==============================] - 5s 21ms/step - loss: 0.3011 - accuracy: 0.9049 - val_loss: 0.4075 - val_accuracy: 0.8929\n",
            "Epoch 12/30\n",
            "263/263 [==============================] - 6s 21ms/step - loss: 0.2856 - accuracy: 0.9106 - val_loss: 0.3974 - val_accuracy: 0.9013\n",
            "Epoch 13/30\n",
            "263/263 [==============================] - 5s 21ms/step - loss: 0.2715 - accuracy: 0.9144 - val_loss: 0.4057 - val_accuracy: 0.9002\n",
            "Epoch 14/30\n",
            "263/263 [==============================] - 5s 21ms/step - loss: 0.2689 - accuracy: 0.9157 - val_loss: 0.3420 - val_accuracy: 0.9079\n",
            "Epoch 15/30\n",
            "263/263 [==============================] - 5s 20ms/step - loss: 0.2500 - accuracy: 0.9209 - val_loss: 0.3691 - val_accuracy: 0.9065\n",
            "Epoch 16/30\n",
            "263/263 [==============================] - 5s 21ms/step - loss: 0.2384 - accuracy: 0.9239 - val_loss: 0.3922 - val_accuracy: 0.9018\n",
            "Epoch 17/30\n",
            "263/263 [==============================] - 5s 20ms/step - loss: 0.2306 - accuracy: 0.9251 - val_loss: 0.4385 - val_accuracy: 0.8939\n",
            "Epoch 18/30\n",
            "263/263 [==============================] - 5s 21ms/step - loss: 0.2207 - accuracy: 0.9282 - val_loss: 0.4137 - val_accuracy: 0.9079\n",
            "Epoch 19/30\n",
            "263/263 [==============================] - 5s 21ms/step - loss: 0.2177 - accuracy: 0.9293 - val_loss: 0.3959 - val_accuracy: 0.9142\n",
            "Epoch 20/30\n",
            "263/263 [==============================] - 5s 21ms/step - loss: 0.2005 - accuracy: 0.9332 - val_loss: 0.3853 - val_accuracy: 0.9052\n",
            "Epoch 21/30\n",
            "263/263 [==============================] - 5s 20ms/step - loss: 0.1979 - accuracy: 0.9350 - val_loss: 0.4024 - val_accuracy: 0.9083\n",
            "Epoch 22/30\n",
            "263/263 [==============================] - 5s 21ms/step - loss: 0.1900 - accuracy: 0.9382 - val_loss: 0.4646 - val_accuracy: 0.8994\n",
            "Epoch 23/30\n",
            "263/263 [==============================] - 5s 21ms/step - loss: 0.1885 - accuracy: 0.9401 - val_loss: 0.4492 - val_accuracy: 0.9057\n",
            "Epoch 24/30\n",
            "263/263 [==============================] - 5s 20ms/step - loss: 0.1841 - accuracy: 0.9396 - val_loss: 0.4298 - val_accuracy: 0.9048\n",
            "Epoch 25/30\n",
            "263/263 [==============================] - 5s 20ms/step - loss: 0.1711 - accuracy: 0.9433 - val_loss: 0.3839 - val_accuracy: 0.9142\n",
            "Epoch 26/30\n",
            "263/263 [==============================] - 5s 20ms/step - loss: 0.1699 - accuracy: 0.9444 - val_loss: 0.4276 - val_accuracy: 0.9090\n",
            "Epoch 27/30\n",
            "263/263 [==============================] - 5s 20ms/step - loss: 0.1692 - accuracy: 0.9440 - val_loss: 0.4855 - val_accuracy: 0.9020\n",
            "Epoch 28/30\n",
            "263/263 [==============================] - 5s 20ms/step - loss: 0.1601 - accuracy: 0.9469 - val_loss: 0.4466 - val_accuracy: 0.9082\n",
            "Epoch 29/30\n",
            "263/263 [==============================] - 5s 20ms/step - loss: 0.1631 - accuracy: 0.9457 - val_loss: 0.3999 - val_accuracy: 0.9035\n",
            "Epoch 30/30\n",
            "263/263 [==============================] - 5s 20ms/step - loss: 0.1472 - accuracy: 0.9503 - val_loss: 0.4379 - val_accuracy: 0.9117\n"
          ]
        }
      ]
    },
    {
      "cell_type": "markdown",
      "metadata": {
        "id": "zKCdy59GKDN1"
      },
      "source": [
        "### **Plotting the validation and training accuracies**"
      ]
    },
    {
      "cell_type": "code",
      "metadata": {
        "colab": {
          "base_uri": "https://localhost:8080/",
          "height": 497
        },
        "id": "01ig6BrF1KVy",
        "outputId": "b6a86006-273a-4cce-9ae0-65ecd8cbec36"
      },
      "source": [
        "# plotting the accuracies\n",
        "\n",
        "dict_hist = history_model_2.history\n",
        "list_ep = [i for i in range(1,31)]\n",
        "\n",
        "plt.figure(figsize = (8,8))\n",
        "plt.plot(list_ep,dict_hist['accuracy'],ls = '--', label = 'accuracy')\n",
        "plt.plot(list_ep,dict_hist['val_accuracy'],ls = '--', label = 'val_accuracy')\n",
        "plt.ylabel('Accuracy')\n",
        "plt.xlabel('Epochs')\n",
        "plt.legend()\n",
        "plt.show()"
      ],
      "execution_count": null,
      "outputs": [
        {
          "output_type": "display_data",
          "data": {
            "image/png": "[encoded data removed]",
            "text/plain": [
              "<Figure size 576x576 with 1 Axes>"
            ]
          },
          "metadata": {
            "needs_background": "light"
          }
        }
      ]
    },
    {
      "cell_type": "markdown",
      "metadata": {
        "id": "VPW1LlD61RDn"
      },
      "source": [
        "**Observations:**\n",
        "\n",
        "- The second model that has more convolutional layers and less complex in terms of the number of parameters is performing significantly better than the first model.\n",
        "- The overfitting has reduced significantly. The model is giving a generalized performance.  \n",
        "- As you can see in the graph, validation is almost constant after the epoch 15 which might be due to the plateau region ( saddle point or local extremum). We can try adjusting the learning rate during the plateau region. \n"
      ]
    },
    {
      "cell_type": "markdown",
      "metadata": {
        "id": "8kuXx9Bvu00f"
      },
      "source": [
        "## **Predictions on the test data**\n",
        "\n",
        "- Make predictions on the test set using the second model\n",
        "- Print the obtained results using the classification report and the confusion matrix\n",
        "- Final observations from the obtained results"
      ]
    },
    {
      "cell_type": "code",
      "metadata": {
        "id": "xbWMEtTj5Ad0"
      },
      "source": [
        "test_pred = model2.predict(X_test)\n",
        "test_pred = np.argmax(test_pred, axis=-1)"
      ],
      "execution_count": null,
      "outputs": []
    },
    {
      "cell_type": "markdown",
      "metadata": {
        "id": "i3li8Ib08yts"
      },
      "source": [
        "**Note:** Earlier, we noticed that each entry of the test data is a one-hot encoded vector but to print the classification report and confusion matrix, we must convert each entry of y_test to a single label."
      ]
    },
    {
      "cell_type": "code",
      "metadata": {
        "id": "NByu7uAQ8x9P"
      },
      "source": [
        "#Converting each entry to single label from one-hot encoded vector\n",
        "y_test = np.argmax(y_test, axis=-1)"
      ],
      "execution_count": null,
      "outputs": []
    },
    {
      "cell_type": "code",
      "metadata": {
        "colab": {
          "base_uri": "https://localhost:8080/",
          "height": 623
        },
        "id": "xRddeJ-3EHT1",
        "outputId": "99004879-2769-48ba-9ecb-bb39fe40386c"
      },
      "source": [
        "#importing required functions\n",
        "from sklearn.metrics import classification_report\n",
        "from sklearn.metrics import confusion_matrix\n",
        "\n",
        "#Printing the classification report\n",
        "print(classification_report(y_test, test_pred))\n",
        "\n",
        "#Plotting the heatmap using confusion matrix\n",
        "cm = confusion_matrix(y_test, test_pred)\n",
        "plt.figure(figsize=(8,5))\n",
        "sns.heatmap(cm, annot=True,  fmt='.0f')\n",
        "plt.ylabel('Actual')\n",
        "plt.xlabel('Predicted')\n",
        "plt.show()"
      ],
      "execution_count": null,
      "outputs": [
        {
          "output_type": "stream",
          "name": "stdout",
          "text": [
            "              precision    recall  f1-score   support\n",
            "\n",
            "           0       0.88      0.95      0.92      1814\n",
            "           1       0.90      0.91      0.90      1828\n",
            "           2       0.93      0.91      0.92      1803\n",
            "           3       0.88      0.87      0.87      1719\n",
            "           4       0.93      0.91      0.92      1812\n",
            "           5       0.91      0.89      0.90      1768\n",
            "           6       0.88      0.90      0.89      1832\n",
            "           7       0.94      0.92      0.93      1808\n",
            "           8       0.90      0.89      0.90      1812\n",
            "           9       0.91      0.90      0.90      1804\n",
            "\n",
            "    accuracy                           0.91     18000\n",
            "   macro avg       0.91      0.91      0.91     18000\n",
            "weighted avg       0.91      0.91      0.91     18000\n",
            "\n"
          ]
        },
        {
          "output_type": "display_data",
          "data": {
            "image/png": "[encoded data removed]",
            "text/plain": [
              "<Figure size 576x360 with 2 Axes>"
            ]
          },
          "metadata": {
            "needs_background": "light"
          }
        }
      ]
    },
    {
      "cell_type": "markdown",
      "metadata": {
        "id": "DjErl4GA2u9s"
      },
      "source": [
        "#### **Observations:**\n",
        "\n",
        "- The accuracy is **91% on the test set.** This is comparable with the results on the validation set which implies that the model is giving a generalized performance.\n",
        "- This performance is significantly better than the performance of the final model using simple feed-forward neural networks. This suggests that **CNNs are a better choice for this particular dataset.**\n",
        "- The recall values for all the digits are higher than or equal to 87% with 3 having the least recall. The confusion matrix shows that the model has confused 3 with digits 5 and 8 the most number of times.\n",
        "- The same can be observed for digits 1 and 8 as well. The model has confused digits 1 and 8 with 4 and 6 respectively. This implies that the model is not able to distinguish between digits with similar orientation.\n",
        "- The highest recall of about 94% is for digit 0 i.e. the model can identify 94% of images with digit 0.\n",
        "- **The precision values show that the model is also precise in its prediction, and not just sacrificing precision for recall.** All digits have precision greater than or equal to 86% with 7 having the highest precision of 94%. This indicates that it is easier for the model to identify images with digits 7.\n",
        "- The class with the least precision is digit 6. "
      ]
    },
    {
      "cell_type": "markdown",
      "metadata": {
        "id": "022vw7VnKDN3"
      },
      "source": [
        "**Note:**\n",
        "\n",
        "- We can try hyperparameter tuning to get an even better performance\n",
        "- Data Augmentation might help to make the model more robust and invariant towards different orientations\n",
        "- We can also try techniques like transfer learning and see if we can get better results"
      ]
    }
  ]
}